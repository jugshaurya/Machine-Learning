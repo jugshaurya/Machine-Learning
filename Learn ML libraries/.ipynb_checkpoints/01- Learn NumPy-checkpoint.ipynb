{
 "cells": [
  {
   "cell_type": "markdown",
   "metadata": {},
   "source": [
    "# NumPy [DOCS](https://docs.scipy.org/doc/numpy/reference/index.html#reference)\n",
    "\n",
    "\n",
    "![](images/python_numpy.jpg)"
   ]
  },
  {
   "cell_type": "markdown",
   "metadata": {},
   "source": [
    "- numpy is a fundamental package for scientific computation in Python.\n",
    "\n",
    "\n",
    "- It provides a multidimensional array object for fast operation over it\n",
    "\n",
    "\n",
    "- NumPy arrays are the main way we will be using NumPy module.\n",
    "\n",
    "\n",
    "- Numpy arrays essentailly comes as vectors and matrices.\n",
    "\n",
    "\n",
    "- vectors are 1-d arrays\n",
    "- matrices are 2-d but can have single row or col.\n"
   ]
  },
  {
   "cell_type": "code",
   "execution_count": null,
   "metadata": {},
   "outputs": [],
   "source": []
  },
  {
   "cell_type": "markdown",
   "metadata": {},
   "source": [
    "\n",
    "-  An array object in numpy is of arbitrary **homogeneous items**(that is, all of the elements must be the same type) \n",
    "\n",
    "`  Here are some of the things you’ll find in NumPy: `\n",
    "1. **ndarray**, an efficient multidimensional array providing fast array-oriented arithmetic operations and flexible broadcasting capabilities.\n",
    "2. **Mathematical functions** for fast operations on entire arrays of data without having to write loops.\n",
    "3. **Linear algebra, random number generation, and Fourier transform capabilities.**\n",
    "\n"
   ]
  },
  {
   "cell_type": "code",
   "execution_count": null,
   "metadata": {},
   "outputs": [],
   "source": []
  },
  {
   "cell_type": "markdown",
   "metadata": {},
   "source": [
    "\n",
    "### What advantages do NumPy arrays offer over (nested) Python lists?\n",
    "\n",
    "- Two of NumPy’s features which are the basis of much of its power: vectorization and broadcasting not available in list. \n",
    "- NumPy internally stores data in a contigiuous block of memory\n",
    "- NumPy arrays also use much less memory than built-in Python sequences\n",
    "- NumPy operations perform complex computations on entire arrays without the need for Python for loops(means less code).\n",
    "[more...](https://docs.scipy.org/doc/numpy/user/whatisnumpy.html)"
   ]
  },
  {
   "cell_type": "markdown",
   "metadata": {},
   "source": [
    "### list vs numpy "
   ]
  },
  {
   "cell_type": "markdown",
   "metadata": {},
   "source": [
    "#### list (data of list is stored randomly in memory hence eacj index of list contains a reference)\n",
    "```python\n",
    "import copy\n",
    "li = [[1,2]]\n",
    "li2 = li # creates a reference, changes both list if one is modified directly\n",
    "\n",
    "- slicing\n",
    "li2 = li[:] # creates shallow copy.\n",
    "\n",
    "li2 = li.copy() # creates shallow copy.\n",
    "li2 = copy.deepcopy(li) # creates deep copy, does not change anything\n",
    "```"
   ]
  },
  {
   "cell_type": "code",
   "execution_count": null,
   "metadata": {},
   "outputs": [],
   "source": []
  },
  {
   "cell_type": "markdown",
   "metadata": {},
   "source": [
    "#### numpy(data is stored continuoslly in memory hence each index contains data)\n",
    "- when  we access a data in numpy array ,numpy boxes data in python object so even if u access same element two times u got two different boxes( `id(arr[0]) is not equal to id(arr[0])` ), yes it is not a typo.  \n",
    "\n",
    "\n",
    "\n",
    "- The data of Numpy arrays is internally stored as a contiguous C array. Each entry in the array is just a number. Python objects on the other hand require some housekeeping data, e.g. the reference count and a pointer to the type object. You can't simply have a raw pointer to a number in memory. For this reason, Numpy \"boxes\" a number in a Python object if you access an individual elemtent. This happens everytime you access an element, so even A[0] and A[0] are different objects:\n",
    "```python\n",
    "A[0] is A[0]\n",
    "False\n",
    "```\n",
    "- This is at the heart of why Numpy can store arrays in a more memory-efficient way: It does not store a full Python object for each entry, and only creates these objects on the fly when needed. It is optimised for vectorised operations on the array, not for individual element access.\n",
    "\n"
   ]
  },
  {
   "cell_type": "code",
   "execution_count": null,
   "metadata": {},
   "outputs": [],
   "source": []
  },
  {
   "cell_type": "markdown",
   "metadata": {},
   "source": [
    "- When you execute C = A[:] you are creating a new view for the same data. You are not making a copy. You will then have two different wrapper objects, pointed to by A and C respectively, but they are backed by the same buffer. The base attribute of an array refers to the array object it was originally created from:\n",
    "\n",
    "```python\n",
    " A.base is None\n",
    "True\n",
    ">>> C.base is A\n",
    "True\n",
    "```\n",
    "\n",
    "- New views on the same data are particularly useful when combined with indexing, since you can get views that only include some slice of the original array, but are backed by the same memory.\n",
    "\n",
    "- To actually make a copy of an array, use the copy() method.\n",
    "\n",
    "- As a more general remark, you should not read too much into object identity in Python. In general, if x is y is true, you know that they are really the same object. However, if this returns false, they can still be two different proxies to the same object.\n",
    "\n",
    "so \n",
    "```python\n",
    "- arr = np.array([[1,2]])\n",
    "- arr1 = arr # same as list, changes directly\n",
    "- arr1 = arr[:] or arr.view() # changes directly\n",
    "- arr1 = arr.copy() # creates a deep copy, no change\n",
    "```"
   ]
  },
  {
   "cell_type": "code",
   "execution_count": null,
   "metadata": {},
   "outputs": [],
   "source": []
  },
  {
   "cell_type": "code",
   "execution_count": 10,
   "metadata": {},
   "outputs": [],
   "source": [
    "# To give you an idea of the performance difference, consider a NumPy array of one million integers, and the\n",
    "# equivalent Python list:\n",
    "import numpy as np\n",
    "my_arr = np.arange(1000000)\n",
    "my_list = list(range(1000000))\n",
    "# Now let’s multiply each sequence by 2:"
   ]
  },
  {
   "cell_type": "code",
   "execution_count": 11,
   "metadata": {},
   "outputs": [
    {
     "name": "stdout",
     "output_type": "stream",
     "text": [
      "Wall time: 2.23 s\n"
     ]
    }
   ],
   "source": [
    "%time for _ in range(10): my_list2 = [x * 2 for x in my_list]"
   ]
  },
  {
   "cell_type": "code",
   "execution_count": 12,
   "metadata": {},
   "outputs": [
    {
     "name": "stdout",
     "output_type": "stream",
     "text": [
      "Wall time: 29.6 ms\n"
     ]
    }
   ],
   "source": [
    "%time for _ in range(10): my_arr2 = my_arr * 2"
   ]
  },
  {
   "cell_type": "code",
   "execution_count": 13,
   "metadata": {},
   "outputs": [],
   "source": [
    "# see the difference above"
   ]
  },
  {
   "cell_type": "markdown",
   "metadata": {},
   "source": [
    "# `The Basics`\n",
    "\n",
    "\n",
    "\n",
    "- NumPy’s main object is the homogeneous multidimensional array. It is a table of elements (usually numbers), all of the same type, indexed by a tuple of positive integers.\n",
    "\n",
    "\n",
    "- *In NumPy dimensions are called `axes`*.\n",
    "\n",
    "        - For example, the coordinates of a point in 3D space [1, 2, 1] has one axis. That axis has 3 elements in it, so we say it has a length of 3. \n",
    "        In the example below, the array has 2 axes(Dimensions). The first axis(#rows) has a length of 2, the second axis(#col) has a length of 3.\n",
    "\n",
    "    ``` python\n",
    "    [[ 1., 0., 0.],\n",
    "     [ 0., 1., 2.]]\n",
    "    ```\n",
    "    \n",
    "- NumPy’s array class is called `ndarray`. It is also known by the alias `array`."
   ]
  },
  {
   "cell_type": "code",
   "execution_count": null,
   "metadata": {},
   "outputs": [],
   "source": []
  },
  {
   "cell_type": "markdown",
   "metadata": {},
   "source": [
    "\n",
    "# Attributes of numpy Module/class\n",
    "- `ndim`\n",
    "    - the number of axes (dimensions) of the array.\n",
    "- `shape`\n",
    "    - the dimensions of the array. This is a tuple of integers indicating the size of the array in each dimension. For a matrix with n rows and m columns, shape will be (n,m). The length of the shape tuple is therefore the number of axes, ndim.\n",
    "- `size`\n",
    "    - the total number of elements of the array. This is equal to the product of the elements of shape.\n",
    "- `dtype`\n",
    "    - an object describing the type of the elements in the array. One can create or specify dtype’s using standard Python types. Additionally NumPy provides types of its own. numpy.int32, numpy.int16, and numpy.float64 are some examples.\n",
    "- `itemsize`\n",
    "    - the size in bytes of each element of the array. For example, an array of elements of type float64 has itemsize 8 (=64/8), while one of type complex32 has itemsize 4 (=32/8). It is equivalent to ndarray.dtype.itemsize.\n",
    "\n",
    "- `flags`"
   ]
  },
  {
   "cell_type": "code",
   "execution_count": 38,
   "metadata": {},
   "outputs": [
    {
     "name": "stdout",
     "output_type": "stream",
     "text": [
      "2\n",
      "(2, 3)\n",
      "6\n",
      "int32\n",
      "4\n",
      "-------------------------\n",
      "  C_CONTIGUOUS : True\n",
      "  F_CONTIGUOUS : False\n",
      "  OWNDATA : True\n",
      "  WRITEABLE : True\n",
      "  ALIGNED : True\n",
      "  WRITEBACKIFCOPY : False\n",
      "  UPDATEIFCOPY : False\n"
     ]
    }
   ],
   "source": [
    "import numpy as np\n",
    "arr = np.array([[1,2,3],[4,5,6]])\n",
    "print(arr.ndim)\n",
    "print(arr.shape)\n",
    "print(arr.size)\n",
    "print(arr.dtype) \n",
    "print(arr.itemsize) # sizeof(dtype)/8 = #_bytes\n",
    "print('-------------------------')\n",
    "print(arr.flags)"
   ]
  },
  {
   "cell_type": "markdown",
   "metadata": {},
   "source": [
    "# Creation of ndarray\n",
    "\n",
    "- 1. passing list/tuple to `array()`\n",
    "```python\n",
    "    arr = np.array([1,2,3,4])\n",
    "    arr_2d  = np.array([[1,2,3],[4,5,6]])\n",
    "```\n",
    "- 2. using\n",
    "    - `arange()`,`zeros()`,`ones()`,`eye()`,\n",
    "    - `linspace()` -> returns number of numbers(metioned as third parameter) evenly spaced numbers b/w start and stop.\n",
    "    - arange differs form range in fact that range returns list while arange return numpy array\n",
    "\n",
    "    - `reshape()`-> reshape array from one dimension to other but numberof elements should not change or arr.size = srr_reshaped.size \n",
    "\n",
    "    - `np.empty()` => returns array with garbage values.\n",
    "    - `np.full()`  => returns array with value specified as fill_value = value"
   ]
  },
  {
   "cell_type": "code",
   "execution_count": 3,
   "metadata": {},
   "outputs": [],
   "source": [
    "# creating array using list\n",
    "l = [1,2,3]"
   ]
  },
  {
   "cell_type": "code",
   "execution_count": 15,
   "metadata": {},
   "outputs": [],
   "source": [
    "import numpy as np"
   ]
  },
  {
   "cell_type": "code",
   "execution_count": 5,
   "metadata": {},
   "outputs": [],
   "source": [
    "arr = np.array(l)"
   ]
  },
  {
   "cell_type": "code",
   "execution_count": 6,
   "metadata": {},
   "outputs": [
    {
     "data": {
      "text/plain": [
       "numpy.ndarray"
      ]
     },
     "execution_count": 6,
     "metadata": {},
     "output_type": "execute_result"
    }
   ],
   "source": [
    "type(arr)"
   ]
  },
  {
   "cell_type": "code",
   "execution_count": 7,
   "metadata": {},
   "outputs": [
    {
     "data": {
      "text/plain": [
       "array([1, 2, 3])"
      ]
     },
     "execution_count": 7,
     "metadata": {},
     "output_type": "execute_result"
    }
   ],
   "source": [
    "arr"
   ]
  },
  {
   "cell_type": "code",
   "execution_count": 8,
   "metadata": {},
   "outputs": [],
   "source": [
    "# creating 2-d arrayor matrix\n",
    "mat = [[2,2],[3,4]]"
   ]
  },
  {
   "cell_type": "code",
   "execution_count": 9,
   "metadata": {},
   "outputs": [
    {
     "data": {
      "text/plain": [
       "[[2, 2], [3, 4]]"
      ]
     },
     "execution_count": 9,
     "metadata": {},
     "output_type": "execute_result"
    }
   ],
   "source": [
    "mat"
   ]
  },
  {
   "cell_type": "code",
   "execution_count": 10,
   "metadata": {},
   "outputs": [
    {
     "data": {
      "text/plain": [
       "list"
      ]
     },
     "execution_count": 10,
     "metadata": {},
     "output_type": "execute_result"
    }
   ],
   "source": [
    "type(mat)"
   ]
  },
  {
   "cell_type": "code",
   "execution_count": 11,
   "metadata": {},
   "outputs": [
    {
     "data": {
      "text/plain": [
       "array([[2, 2],\n",
       "       [3, 4]])"
      ]
     },
     "execution_count": 11,
     "metadata": {},
     "output_type": "execute_result"
    }
   ],
   "source": [
    "np.array(mat)"
   ]
  },
  {
   "cell_type": "code",
   "execution_count": 12,
   "metadata": {},
   "outputs": [
    {
     "data": {
      "text/plain": [
       "array([[1.+0.j, 2.+0.j],\n",
       "       [3.+0.j, 4.+0.j]])"
      ]
     },
     "execution_count": 12,
     "metadata": {},
     "output_type": "execute_result"
    }
   ],
   "source": [
    "# changing datatype\n",
    "c = np.array( [ [1,2], [3,4] ], dtype=complex )\n",
    "c"
   ]
  },
  {
   "cell_type": "code",
   "execution_count": 13,
   "metadata": {},
   "outputs": [
    {
     "data": {
      "text/plain": [
       "array([0., 0., 0.])"
      ]
     },
     "execution_count": 13,
     "metadata": {},
     "output_type": "execute_result"
    }
   ],
   "source": [
    "# using np.zeros(shape, type=float)\n",
    "np.zeros(3)"
   ]
  },
  {
   "cell_type": "code",
   "execution_count": 14,
   "metadata": {},
   "outputs": [
    {
     "data": {
      "text/plain": [
       "array([0, 0, 0])"
      ]
     },
     "execution_count": 14,
     "metadata": {},
     "output_type": "execute_result"
    }
   ],
   "source": [
    "np.zeros(3,int)"
   ]
  },
  {
   "cell_type": "code",
   "execution_count": 15,
   "metadata": {},
   "outputs": [
    {
     "data": {
      "text/plain": [
       "array([[False, False, False, False],\n",
       "       [False, False, False, False],\n",
       "       [False, False, False, False],\n",
       "       [False, False, False, False]])"
      ]
     },
     "execution_count": 15,
     "metadata": {},
     "output_type": "execute_result"
    }
   ],
   "source": [
    "np.zeros((4,4), bool)"
   ]
  },
  {
   "cell_type": "code",
   "execution_count": 16,
   "metadata": {},
   "outputs": [
    {
     "data": {
      "text/plain": [
       "array([[[0.+0.j, 0.+0.j, 0.+0.j],\n",
       "        [0.+0.j, 0.+0.j, 0.+0.j],\n",
       "        [0.+0.j, 0.+0.j, 0.+0.j]],\n",
       "\n",
       "       [[0.+0.j, 0.+0.j, 0.+0.j],\n",
       "        [0.+0.j, 0.+0.j, 0.+0.j],\n",
       "        [0.+0.j, 0.+0.j, 0.+0.j]],\n",
       "\n",
       "       [[0.+0.j, 0.+0.j, 0.+0.j],\n",
       "        [0.+0.j, 0.+0.j, 0.+0.j],\n",
       "        [0.+0.j, 0.+0.j, 0.+0.j]]])"
      ]
     },
     "execution_count": 16,
     "metadata": {},
     "output_type": "execute_result"
    }
   ],
   "source": [
    "np.zeros((3,3,3), complex)"
   ]
  },
  {
   "cell_type": "code",
   "execution_count": 17,
   "metadata": {},
   "outputs": [],
   "source": [
    "# using np.arange(start=0, stop, step=1, dtype=None)"
   ]
  },
  {
   "cell_type": "code",
   "execution_count": 18,
   "metadata": {},
   "outputs": [
    {
     "data": {
      "text/plain": [
       "array([0, 1, 2, 3, 4, 5, 6, 7, 8, 9])"
      ]
     },
     "execution_count": 18,
     "metadata": {},
     "output_type": "execute_result"
    }
   ],
   "source": [
    "np.arange(10)"
   ]
  },
  {
   "cell_type": "code",
   "execution_count": 19,
   "metadata": {},
   "outputs": [
    {
     "data": {
      "text/plain": [
       "array([0.+0.j, 1.+0.j, 2.+0.j, 3.+0.j, 4.+0.j, 5.+0.j, 6.+0.j, 7.+0.j,\n",
       "       8.+0.j, 9.+0.j])"
      ]
     },
     "execution_count": 19,
     "metadata": {},
     "output_type": "execute_result"
    }
   ],
   "source": [
    "np.arange(10, dtype=complex)"
   ]
  },
  {
   "cell_type": "code",
   "execution_count": 20,
   "metadata": {},
   "outputs": [
    {
     "data": {
      "text/plain": [
       "array([ 3,  6,  9, 12])"
      ]
     },
     "execution_count": 20,
     "metadata": {},
     "output_type": "execute_result"
    }
   ],
   "source": [
    "np.arange(3,15,3)"
   ]
  },
  {
   "cell_type": "code",
   "execution_count": 21,
   "metadata": {},
   "outputs": [
    {
     "data": {
      "text/plain": [
       "array([1., 1., 1.])"
      ]
     },
     "execution_count": 21,
     "metadata": {},
     "output_type": "execute_result"
    }
   ],
   "source": [
    "# np.ones()\n",
    "np.ones(3)"
   ]
  },
  {
   "cell_type": "code",
   "execution_count": 35,
   "metadata": {},
   "outputs": [
    {
     "data": {
      "text/plain": [
       "array([[1., 1., 1., 1., 1.],\n",
       "       [1., 1., 1., 1., 1.],\n",
       "       [1., 1., 1., 1., 1.],\n",
       "       [1., 1., 1., 1., 1.]])"
      ]
     },
     "execution_count": 35,
     "metadata": {},
     "output_type": "execute_result"
    }
   ],
   "source": [
    "np.ones((4,5))"
   ]
  },
  {
   "cell_type": "code",
   "execution_count": 23,
   "metadata": {},
   "outputs": [
    {
     "data": {
      "text/plain": [
       "array([ 0., 10.])"
      ]
     },
     "execution_count": 23,
     "metadata": {},
     "output_type": "execute_result"
    }
   ],
   "source": [
    "# np.linspace()\n",
    "np.linspace(0,10,2)"
   ]
  },
  {
   "cell_type": "code",
   "execution_count": 24,
   "metadata": {},
   "outputs": [
    {
     "data": {
      "text/plain": [
       "array([ 0.        ,  1.11111111,  2.22222222,  3.33333333,  4.44444444,\n",
       "        5.55555556,  6.66666667,  7.77777778,  8.88888889, 10.        ])"
      ]
     },
     "execution_count": 24,
     "metadata": {},
     "output_type": "execute_result"
    }
   ],
   "source": [
    "np.linspace(0,10,10)"
   ]
  },
  {
   "cell_type": "code",
   "execution_count": 19,
   "metadata": {},
   "outputs": [
    {
     "data": {
      "text/plain": [
       "array([[2.67276450e+185, 1.69506143e+190, 1.75184137e+190],\n",
       "       [9.48819320e+077, 1.63730399e-306, 0.00000000e+000]])"
      ]
     },
     "execution_count": 19,
     "metadata": {},
     "output_type": "execute_result"
    }
   ],
   "source": [
    "np.empty((2,3))"
   ]
  },
  {
   "cell_type": "code",
   "execution_count": 20,
   "metadata": {},
   "outputs": [
    {
     "data": {
      "text/plain": [
       "array([[12, 12, 12],\n",
       "       [12, 12, 12]])"
      ]
     },
     "execution_count": 20,
     "metadata": {},
     "output_type": "execute_result"
    }
   ],
   "source": [
    "np.full((2,3),fill_value=12)"
   ]
  },
  {
   "cell_type": "code",
   "execution_count": null,
   "metadata": {},
   "outputs": [],
   "source": []
  },
  {
   "cell_type": "markdown",
   "metadata": {},
   "source": [
    "# random class inside numpy class (generated random data following some distribution)"
   ]
  },
  {
   "cell_type": "code",
   "execution_count": 25,
   "metadata": {},
   "outputs": [
    {
     "name": "stdout",
     "output_type": "stream",
     "text": [
      "Help on package numpy.random in numpy:\n",
      "\n",
      "NAME\n",
      "    numpy.random\n",
      "\n",
      "DESCRIPTION\n",
      "    ========================\n",
      "    Random Number Generation\n",
      "    ========================\n",
      "    \n",
      "    ==================== =========================================================\n",
      "    Utility functions\n",
      "    ==============================================================================\n",
      "    random_sample        Uniformly distributed floats over ``[0, 1)``.\n",
      "    random               Alias for `random_sample`.\n",
      "    bytes                Uniformly distributed random bytes.\n",
      "    random_integers      Uniformly distributed integers in a given range.\n",
      "    permutation          Randomly permute a sequence / generate a random sequence.\n",
      "    shuffle              Randomly permute a sequence in place.\n",
      "    seed                 Seed the random number generator.\n",
      "    choice               Random sample from 1-D array.\n",
      "    \n",
      "    ==================== =========================================================\n",
      "    \n",
      "    ==================== =========================================================\n",
      "    Compatibility functions\n",
      "    ==============================================================================\n",
      "    rand                 Uniformly distributed values.\n",
      "    randn                Normally distributed values.\n",
      "    ranf                 Uniformly distributed floating point numbers.\n",
      "    randint              Uniformly distributed integers in a given range.\n",
      "    ==================== =========================================================\n",
      "    \n",
      "    ==================== =========================================================\n",
      "    Univariate distributions\n",
      "    ==============================================================================\n",
      "    beta                 Beta distribution over ``[0, 1]``.\n",
      "    binomial             Binomial distribution.\n",
      "    chisquare            :math:`\\chi^2` distribution.\n",
      "    exponential          Exponential distribution.\n",
      "    f                    F (Fisher-Snedecor) distribution.\n",
      "    gamma                Gamma distribution.\n",
      "    geometric            Geometric distribution.\n",
      "    gumbel               Gumbel distribution.\n",
      "    hypergeometric       Hypergeometric distribution.\n",
      "    laplace              Laplace distribution.\n",
      "    logistic             Logistic distribution.\n",
      "    lognormal            Log-normal distribution.\n",
      "    logseries            Logarithmic series distribution.\n",
      "    negative_binomial    Negative binomial distribution.\n",
      "    noncentral_chisquare Non-central chi-square distribution.\n",
      "    noncentral_f         Non-central F distribution.\n",
      "    normal               Normal / Gaussian distribution.\n",
      "    pareto               Pareto distribution.\n",
      "    poisson              Poisson distribution.\n",
      "    power                Power distribution.\n",
      "    rayleigh             Rayleigh distribution.\n",
      "    triangular           Triangular distribution.\n",
      "    uniform              Uniform distribution.\n",
      "    vonmises             Von Mises circular distribution.\n",
      "    wald                 Wald (inverse Gaussian) distribution.\n",
      "    weibull              Weibull distribution.\n",
      "    zipf                 Zipf's distribution over ranked data.\n",
      "    ==================== =========================================================\n",
      "    \n",
      "    ==================== =========================================================\n",
      "    Multivariate distributions\n",
      "    ==============================================================================\n",
      "    dirichlet            Multivariate generalization of Beta distribution.\n",
      "    multinomial          Multivariate generalization of the binomial distribution.\n",
      "    multivariate_normal  Multivariate generalization of the normal distribution.\n",
      "    ==================== =========================================================\n",
      "    \n",
      "    ==================== =========================================================\n",
      "    Standard distributions\n",
      "    ==============================================================================\n",
      "    standard_cauchy      Standard Cauchy-Lorentz distribution.\n",
      "    standard_exponential Standard exponential distribution.\n",
      "    standard_gamma       Standard Gamma distribution.\n",
      "    standard_normal      Standard normal distribution.\n",
      "    standard_t           Standard Student's t-distribution.\n",
      "    ==================== =========================================================\n",
      "    \n",
      "    ==================== =========================================================\n",
      "    Internal functions\n",
      "    ==============================================================================\n",
      "    get_state            Get tuple representing internal state of generator.\n",
      "    set_state            Set state of generator.\n",
      "    ==================== =========================================================\n",
      "\n",
      "PACKAGE CONTENTS\n",
      "    info\n",
      "    mtrand\n",
      "    setup\n",
      "    tests (package)\n",
      "\n",
      "FUNCTIONS\n",
      "    beta(...) method of mtrand.RandomState instance\n",
      "        beta(a, b, size=None)\n",
      "        \n",
      "        Draw samples from a Beta distribution.\n",
      "        \n",
      "        The Beta distribution is a special case of the Dirichlet distribution,\n",
      "        and is related to the Gamma distribution.  It has the probability\n",
      "        distribution function\n",
      "        \n",
      "        .. math:: f(x; a,b) = \\frac{1}{B(\\alpha, \\beta)} x^{\\alpha - 1}\n",
      "                                                         (1 - x)^{\\beta - 1},\n",
      "        \n",
      "        where the normalisation, B, is the beta function,\n",
      "        \n",
      "        .. math:: B(\\alpha, \\beta) = \\int_0^1 t^{\\alpha - 1}\n",
      "                                     (1 - t)^{\\beta - 1} dt.\n",
      "        \n",
      "        It is often seen in Bayesian inference and order statistics.\n",
      "        \n",
      "        Parameters\n",
      "        ----------\n",
      "        a : float or array_like of floats\n",
      "            Alpha, non-negative.\n",
      "        b : float or array_like of floats\n",
      "            Beta, non-negative.\n",
      "        size : int or tuple of ints, optional\n",
      "            Output shape.  If the given shape is, e.g., ``(m, n, k)``, then\n",
      "            ``m * n * k`` samples are drawn.  If size is ``None`` (default),\n",
      "            a single value is returned if ``a`` and ``b`` are both scalars.\n",
      "            Otherwise, ``np.broadcast(a, b).size`` samples are drawn.\n",
      "        \n",
      "        Returns\n",
      "        -------\n",
      "        out : ndarray or scalar\n",
      "            Drawn samples from the parameterized beta distribution.\n",
      "    \n",
      "    binomial(...) method of mtrand.RandomState instance\n",
      "        binomial(n, p, size=None)\n",
      "        \n",
      "        Draw samples from a binomial distribution.\n",
      "        \n",
      "        Samples are drawn from a binomial distribution with specified\n",
      "        parameters, n trials and p probability of success where\n",
      "        n an integer >= 0 and p is in the interval [0,1]. (n may be\n",
      "        input as a float, but it is truncated to an integer in use)\n",
      "        \n",
      "        Parameters\n",
      "        ----------\n",
      "        n : int or array_like of ints\n",
      "            Parameter of the distribution, >= 0. Floats are also accepted,\n",
      "            but they will be truncated to integers.\n",
      "        p : float or array_like of floats\n",
      "            Parameter of the distribution, >= 0 and <=1.\n",
      "        size : int or tuple of ints, optional\n",
      "            Output shape.  If the given shape is, e.g., ``(m, n, k)``, then\n",
      "            ``m * n * k`` samples are drawn.  If size is ``None`` (default),\n",
      "            a single value is returned if ``n`` and ``p`` are both scalars.\n",
      "            Otherwise, ``np.broadcast(n, p).size`` samples are drawn.\n",
      "        \n",
      "        Returns\n",
      "        -------\n",
      "        out : ndarray or scalar\n",
      "            Drawn samples from the parameterized binomial distribution, where\n",
      "            each sample is equal to the number of successes over the n trials.\n",
      "        \n",
      "        See Also\n",
      "        --------\n",
      "        scipy.stats.binom : probability density function, distribution or\n",
      "            cumulative density function, etc.\n",
      "        \n",
      "        Notes\n",
      "        -----\n",
      "        The probability density for the binomial distribution is\n",
      "        \n",
      "        .. math:: P(N) = \\binom{n}{N}p^N(1-p)^{n-N},\n",
      "        \n",
      "        where :math:`n` is the number of trials, :math:`p` is the probability\n",
      "        of success, and :math:`N` is the number of successes.\n",
      "        \n",
      "        When estimating the standard error of a proportion in a population by\n",
      "        using a random sample, the normal distribution works well unless the\n",
      "        product p*n <=5, where p = population proportion estimate, and n =\n",
      "        number of samples, in which case the binomial distribution is used\n",
      "        instead. For example, a sample of 15 people shows 4 who are left\n",
      "        handed, and 11 who are right handed. Then p = 4/15 = 27%. 0.27*15 = 4,\n",
      "        so the binomial distribution should be used in this case.\n",
      "        \n",
      "        References\n",
      "        ----------\n",
      "        .. [1] Dalgaard, Peter, \"Introductory Statistics with R\",\n",
      "               Springer-Verlag, 2002.\n",
      "        .. [2] Glantz, Stanton A. \"Primer of Biostatistics.\", McGraw-Hill,\n",
      "               Fifth Edition, 2002.\n",
      "        .. [3] Lentner, Marvin, \"Elementary Applied Statistics\", Bogden\n",
      "               and Quigley, 1972.\n",
      "        .. [4] Weisstein, Eric W. \"Binomial Distribution.\" From MathWorld--A\n",
      "               Wolfram Web Resource.\n",
      "               http://mathworld.wolfram.com/BinomialDistribution.html\n",
      "        .. [5] Wikipedia, \"Binomial distribution\",\n",
      "               http://en.wikipedia.org/wiki/Binomial_distribution\n",
      "        \n",
      "        Examples\n",
      "        --------\n",
      "        Draw samples from the distribution:\n",
      "        \n",
      "        >>> n, p = 10, .5  # number of trials, probability of each trial\n",
      "        >>> s = np.random.binomial(n, p, 1000)\n",
      "        # result of flipping a coin 10 times, tested 1000 times.\n",
      "        \n",
      "        A real world example. A company drills 9 wild-cat oil exploration\n",
      "        wells, each with an estimated probability of success of 0.1. All nine\n",
      "        wells fail. What is the probability of that happening?\n",
      "        \n",
      "        Let's do 20,000 trials of the model, and count the number that\n",
      "        generate zero positive results.\n",
      "        \n",
      "        >>> sum(np.random.binomial(9, 0.1, 20000) == 0)/20000.\n",
      "        # answer = 0.38885, or 38%.\n",
      "    \n",
      "    bytes(...) method of mtrand.RandomState instance\n",
      "        bytes(length)\n",
      "        \n",
      "        Return random bytes.\n",
      "        \n",
      "        Parameters\n",
      "        ----------\n",
      "        length : int\n",
      "            Number of random bytes.\n",
      "        \n",
      "        Returns\n",
      "        -------\n",
      "        out : str\n",
      "            String of length `length`.\n",
      "        \n",
      "        Examples\n",
      "        --------\n",
      "        >>> np.random.bytes(10)\n",
      "        ' eh\\x85\\x022SZ\\xbf\\xa4' #random\n",
      "    \n",
      "    chisquare(...) method of mtrand.RandomState instance\n",
      "        chisquare(df, size=None)\n",
      "        \n",
      "        Draw samples from a chi-square distribution.\n",
      "        \n",
      "        When `df` independent random variables, each with standard normal\n",
      "        distributions (mean 0, variance 1), are squared and summed, the\n",
      "        resulting distribution is chi-square (see Notes).  This distribution\n",
      "        is often used in hypothesis testing.\n",
      "        \n",
      "        Parameters\n",
      "        ----------\n",
      "        df : float or array_like of floats\n",
      "             Number of degrees of freedom, should be > 0.\n",
      "        size : int or tuple of ints, optional\n",
      "            Output shape.  If the given shape is, e.g., ``(m, n, k)``, then\n",
      "            ``m * n * k`` samples are drawn.  If size is ``None`` (default),\n",
      "            a single value is returned if ``df`` is a scalar.  Otherwise,\n",
      "            ``np.array(df).size`` samples are drawn.\n",
      "        \n",
      "        Returns\n",
      "        -------\n",
      "        out : ndarray or scalar\n",
      "            Drawn samples from the parameterized chi-square distribution.\n",
      "        \n",
      "        Raises\n",
      "        ------\n",
      "        ValueError\n",
      "            When `df` <= 0 or when an inappropriate `size` (e.g. ``size=-1``)\n",
      "            is given.\n",
      "        \n",
      "        Notes\n",
      "        -----\n",
      "        The variable obtained by summing the squares of `df` independent,\n",
      "        standard normally distributed random variables:\n",
      "        \n",
      "        .. math:: Q = \\sum_{i=0}^{\\mathtt{df}} X^2_i\n",
      "        \n",
      "        is chi-square distributed, denoted\n",
      "        \n",
      "        .. math:: Q \\sim \\chi^2_k.\n",
      "        \n",
      "        The probability density function of the chi-squared distribution is\n",
      "        \n",
      "        .. math:: p(x) = \\frac{(1/2)^{k/2}}{\\Gamma(k/2)}\n",
      "                         x^{k/2 - 1} e^{-x/2},\n",
      "        \n",
      "        where :math:`\\Gamma` is the gamma function,\n",
      "        \n",
      "        .. math:: \\Gamma(x) = \\int_0^{-\\infty} t^{x - 1} e^{-t} dt.\n",
      "        \n",
      "        References\n",
      "        ----------\n",
      "        .. [1] NIST \"Engineering Statistics Handbook\"\n",
      "               http://www.itl.nist.gov/div898/handbook/eda/section3/eda3666.htm\n",
      "        \n",
      "        Examples\n",
      "        --------\n",
      "        >>> np.random.chisquare(2,4)\n",
      "        array([ 1.89920014,  9.00867716,  3.13710533,  5.62318272])\n",
      "    \n",
      "    choice(...) method of mtrand.RandomState instance\n",
      "        choice(a, size=None, replace=True, p=None)\n",
      "        \n",
      "        Generates a random sample from a given 1-D array\n",
      "        \n",
      "                .. versionadded:: 1.7.0\n",
      "        \n",
      "        Parameters\n",
      "        -----------\n",
      "        a : 1-D array-like or int\n",
      "            If an ndarray, a random sample is generated from its elements.\n",
      "            If an int, the random sample is generated as if a were np.arange(a)\n",
      "        size : int or tuple of ints, optional\n",
      "            Output shape.  If the given shape is, e.g., ``(m, n, k)``, then\n",
      "            ``m * n * k`` samples are drawn.  Default is None, in which case a\n",
      "            single value is returned.\n",
      "        replace : boolean, optional\n",
      "            Whether the sample is with or without replacement\n",
      "        p : 1-D array-like, optional\n",
      "            The probabilities associated with each entry in a.\n",
      "            If not given the sample assumes a uniform distribution over all\n",
      "            entries in a.\n",
      "        \n",
      "        Returns\n",
      "        --------\n",
      "        samples : single item or ndarray\n",
      "            The generated random samples\n",
      "        \n",
      "        Raises\n",
      "        -------\n",
      "        ValueError\n",
      "            If a is an int and less than zero, if a or p are not 1-dimensional,\n",
      "            if a is an array-like of size 0, if p is not a vector of\n",
      "            probabilities, if a and p have different lengths, or if\n",
      "            replace=False and the sample size is greater than the population\n",
      "            size\n",
      "        \n",
      "        See Also\n",
      "        ---------\n",
      "        randint, shuffle, permutation\n",
      "        \n",
      "        Examples\n",
      "        ---------\n",
      "        Generate a uniform random sample from np.arange(5) of size 3:\n",
      "        \n",
      "        >>> np.random.choice(5, 3)\n",
      "        array([0, 3, 4])\n",
      "        >>> #This is equivalent to np.random.randint(0,5,3)\n",
      "        \n",
      "        Generate a non-uniform random sample from np.arange(5) of size 3:\n",
      "        \n",
      "        >>> np.random.choice(5, 3, p=[0.1, 0, 0.3, 0.6, 0])\n",
      "        array([3, 3, 0])\n",
      "        \n",
      "        Generate a uniform random sample from np.arange(5) of size 3 without\n",
      "        replacement:\n",
      "        \n",
      "        >>> np.random.choice(5, 3, replace=False)\n",
      "        array([3,1,0])\n",
      "        >>> #This is equivalent to np.random.permutation(np.arange(5))[:3]\n",
      "        \n",
      "        Generate a non-uniform random sample from np.arange(5) of size\n",
      "        3 without replacement:\n",
      "        \n",
      "        >>> np.random.choice(5, 3, replace=False, p=[0.1, 0, 0.3, 0.6, 0])\n",
      "        array([2, 3, 0])\n",
      "        \n",
      "        Any of the above can be repeated with an arbitrary array-like\n",
      "        instead of just integers. For instance:\n",
      "        \n",
      "        >>> aa_milne_arr = ['pooh', 'rabbit', 'piglet', 'Christopher']\n",
      "        >>> np.random.choice(aa_milne_arr, 5, p=[0.5, 0.1, 0.1, 0.3])\n",
      "        array(['pooh', 'pooh', 'pooh', 'Christopher', 'piglet'],\n",
      "              dtype='|S11')\n",
      "    \n",
      "    dirichlet(...) method of mtrand.RandomState instance\n",
      "        dirichlet(alpha, size=None)\n",
      "        \n",
      "        Draw samples from the Dirichlet distribution.\n",
      "        \n",
      "        Draw `size` samples of dimension k from a Dirichlet distribution. A\n",
      "        Dirichlet-distributed random variable can be seen as a multivariate\n",
      "        generalization of a Beta distribution. Dirichlet pdf is the conjugate\n",
      "        prior of a multinomial in Bayesian inference.\n",
      "        \n",
      "        Parameters\n",
      "        ----------\n",
      "        alpha : array\n",
      "            Parameter of the distribution (k dimension for sample of\n",
      "            dimension k).\n",
      "        size : int or tuple of ints, optional\n",
      "            Output shape.  If the given shape is, e.g., ``(m, n, k)``, then\n",
      "            ``m * n * k`` samples are drawn.  Default is None, in which case a\n",
      "            single value is returned.\n",
      "        \n",
      "        Returns\n",
      "        -------\n",
      "        samples : ndarray,\n",
      "            The drawn samples, of shape (size, alpha.ndim).\n",
      "        \n",
      "        Raises\n",
      "        -------\n",
      "        ValueError\n",
      "            If any value in alpha is less than or equal to zero\n",
      "        \n",
      "        Notes\n",
      "        -----\n",
      "        .. math:: X \\approx \\prod_{i=1}^{k}{x^{\\alpha_i-1}_i}\n",
      "        \n",
      "        Uses the following property for computation: for each dimension,\n",
      "        draw a random sample y_i from a standard gamma generator of shape\n",
      "        `alpha_i`, then\n",
      "        :math:`X = \\frac{1}{\\sum_{i=1}^k{y_i}} (y_1, \\ldots, y_n)` is\n",
      "        Dirichlet distributed.\n",
      "        \n",
      "        References\n",
      "        ----------\n",
      "        .. [1] David McKay, \"Information Theory, Inference and Learning\n",
      "               Algorithms,\" chapter 23,\n",
      "               http://www.inference.phy.cam.ac.uk/mackay/\n",
      "        .. [2] Wikipedia, \"Dirichlet distribution\",\n",
      "               http://en.wikipedia.org/wiki/Dirichlet_distribution\n",
      "        \n",
      "        Examples\n",
      "        --------\n",
      "        Taking an example cited in Wikipedia, this distribution can be used if\n",
      "        one wanted to cut strings (each of initial length 1.0) into K pieces\n",
      "        with different lengths, where each piece had, on average, a designated\n",
      "        average length, but allowing some variation in the relative sizes of\n",
      "        the pieces.\n",
      "        \n",
      "        >>> s = np.random.dirichlet((10, 5, 3), 20).transpose()\n",
      "        \n",
      "        >>> plt.barh(range(20), s[0])\n",
      "        >>> plt.barh(range(20), s[1], left=s[0], color='g')\n",
      "        >>> plt.barh(range(20), s[2], left=s[0]+s[1], color='r')\n",
      "        >>> plt.title(\"Lengths of Strings\")\n",
      "    \n",
      "    exponential(...) method of mtrand.RandomState instance\n",
      "        exponential(scale=1.0, size=None)\n",
      "        \n",
      "        Draw samples from an exponential distribution.\n",
      "        \n",
      "        Its probability density function is\n",
      "        \n",
      "        .. math:: f(x; \\frac{1}{\\beta}) = \\frac{1}{\\beta} \\exp(-\\frac{x}{\\beta}),\n",
      "        \n",
      "        for ``x > 0`` and 0 elsewhere. :math:`\\beta` is the scale parameter,\n",
      "        which is the inverse of the rate parameter :math:`\\lambda = 1/\\beta`.\n",
      "        The rate parameter is an alternative, widely used parameterization\n",
      "        of the exponential distribution [3]_.\n",
      "        \n",
      "        The exponential distribution is a continuous analogue of the\n",
      "        geometric distribution.  It describes many common situations, such as\n",
      "        the size of raindrops measured over many rainstorms [1]_, or the time\n",
      "        between page requests to Wikipedia [2]_.\n",
      "        \n",
      "        Parameters\n",
      "        ----------\n",
      "        scale : float or array_like of floats\n",
      "            The scale parameter, :math:`\\beta = 1/\\lambda`.\n",
      "        size : int or tuple of ints, optional\n",
      "            Output shape.  If the given shape is, e.g., ``(m, n, k)``, then\n",
      "            ``m * n * k`` samples are drawn.  If size is ``None`` (default),\n",
      "            a single value is returned if ``scale`` is a scalar.  Otherwise,\n",
      "            ``np.array(scale).size`` samples are drawn.\n",
      "        \n",
      "        Returns\n",
      "        -------\n",
      "        out : ndarray or scalar\n",
      "            Drawn samples from the parameterized exponential distribution.\n",
      "        \n",
      "        References\n",
      "        ----------\n",
      "        .. [1] Peyton Z. Peebles Jr., \"Probability, Random Variables and\n",
      "               Random Signal Principles\", 4th ed, 2001, p. 57.\n",
      "        .. [2] Wikipedia, \"Poisson process\",\n",
      "               http://en.wikipedia.org/wiki/Poisson_process\n",
      "        .. [3] Wikipedia, \"Exponential distribution\",\n",
      "               http://en.wikipedia.org/wiki/Exponential_distribution\n",
      "    \n",
      "    f(...) method of mtrand.RandomState instance\n",
      "        f(dfnum, dfden, size=None)\n",
      "        \n",
      "        Draw samples from an F distribution.\n",
      "        \n",
      "        Samples are drawn from an F distribution with specified parameters,\n",
      "        `dfnum` (degrees of freedom in numerator) and `dfden` (degrees of\n",
      "        freedom in denominator), where both parameters should be greater than\n",
      "        zero.\n",
      "        \n",
      "        The random variate of the F distribution (also known as the\n",
      "        Fisher distribution) is a continuous probability distribution\n",
      "        that arises in ANOVA tests, and is the ratio of two chi-square\n",
      "        variates.\n",
      "        \n",
      "        Parameters\n",
      "        ----------\n",
      "        dfnum : float or array_like of floats\n",
      "            Degrees of freedom in numerator, should be > 0.\n",
      "        dfden : float or array_like of float\n",
      "            Degrees of freedom in denominator, should be > 0.\n",
      "        size : int or tuple of ints, optional\n",
      "            Output shape.  If the given shape is, e.g., ``(m, n, k)``, then\n",
      "            ``m * n * k`` samples are drawn.  If size is ``None`` (default),\n",
      "            a single value is returned if ``dfnum`` and ``dfden`` are both scalars.\n",
      "            Otherwise, ``np.broadcast(dfnum, dfden).size`` samples are drawn.\n",
      "        \n",
      "        Returns\n",
      "        -------\n",
      "        out : ndarray or scalar\n",
      "            Drawn samples from the parameterized Fisher distribution.\n",
      "        \n",
      "        See Also\n",
      "        --------\n",
      "        scipy.stats.f : probability density function, distribution or\n",
      "            cumulative density function, etc.\n",
      "        \n",
      "        Notes\n",
      "        -----\n",
      "        The F statistic is used to compare in-group variances to between-group\n",
      "        variances. Calculating the distribution depends on the sampling, and\n",
      "        so it is a function of the respective degrees of freedom in the\n",
      "        problem.  The variable `dfnum` is the number of samples minus one, the\n",
      "        between-groups degrees of freedom, while `dfden` is the within-groups\n",
      "        degrees of freedom, the sum of the number of samples in each group\n",
      "        minus the number of groups.\n",
      "        \n",
      "        References\n",
      "        ----------\n",
      "        .. [1] Glantz, Stanton A. \"Primer of Biostatistics.\", McGraw-Hill,\n",
      "               Fifth Edition, 2002.\n",
      "        .. [2] Wikipedia, \"F-distribution\",\n",
      "               http://en.wikipedia.org/wiki/F-distribution\n",
      "        \n",
      "        Examples\n",
      "        --------\n",
      "        An example from Glantz[1], pp 47-40:\n",
      "        \n",
      "        Two groups, children of diabetics (25 people) and children from people\n",
      "        without diabetes (25 controls). Fasting blood glucose was measured,\n",
      "        case group had a mean value of 86.1, controls had a mean value of\n",
      "        82.2. Standard deviations were 2.09 and 2.49 respectively. Are these\n",
      "        data consistent with the null hypothesis that the parents diabetic\n",
      "        status does not affect their children's blood glucose levels?\n",
      "        Calculating the F statistic from the data gives a value of 36.01.\n",
      "        \n",
      "        Draw samples from the distribution:\n",
      "        \n",
      "        >>> dfnum = 1. # between group degrees of freedom\n",
      "        >>> dfden = 48. # within groups degrees of freedom\n",
      "        >>> s = np.random.f(dfnum, dfden, 1000)\n",
      "        \n",
      "        The lower bound for the top 1% of the samples is :\n",
      "        \n",
      "        >>> sort(s)[-10]\n",
      "        7.61988120985\n",
      "        \n",
      "        So there is about a 1% chance that the F statistic will exceed 7.62,\n",
      "        the measured value is 36, so the null hypothesis is rejected at the 1%\n",
      "        level.\n",
      "    \n",
      "    gamma(...) method of mtrand.RandomState instance\n",
      "        gamma(shape, scale=1.0, size=None)\n",
      "        \n",
      "        Draw samples from a Gamma distribution.\n",
      "        \n",
      "        Samples are drawn from a Gamma distribution with specified parameters,\n",
      "        `shape` (sometimes designated \"k\") and `scale` (sometimes designated\n",
      "        \"theta\"), where both parameters are > 0.\n",
      "        \n",
      "        Parameters\n",
      "        ----------\n",
      "        shape : float or array_like of floats\n",
      "            The shape of the gamma distribution. Should be greater than zero.\n",
      "        scale : float or array_like of floats, optional\n",
      "            The scale of the gamma distribution. Should be greater than zero.\n",
      "            Default is equal to 1.\n",
      "        size : int or tuple of ints, optional\n",
      "            Output shape.  If the given shape is, e.g., ``(m, n, k)``, then\n",
      "            ``m * n * k`` samples are drawn.  If size is ``None`` (default),\n",
      "            a single value is returned if ``shape`` and ``scale`` are both scalars.\n",
      "            Otherwise, ``np.broadcast(shape, scale).size`` samples are drawn.\n",
      "        \n",
      "        Returns\n",
      "        -------\n",
      "        out : ndarray or scalar\n",
      "            Drawn samples from the parameterized gamma distribution.\n",
      "        \n",
      "        See Also\n",
      "        --------\n",
      "        scipy.stats.gamma : probability density function, distribution or\n",
      "            cumulative density function, etc.\n",
      "        \n",
      "        Notes\n",
      "        -----\n",
      "        The probability density for the Gamma distribution is\n",
      "        \n",
      "        .. math:: p(x) = x^{k-1}\\frac{e^{-x/\\theta}}{\\theta^k\\Gamma(k)},\n",
      "        \n",
      "        where :math:`k` is the shape and :math:`\\theta` the scale,\n",
      "        and :math:`\\Gamma` is the Gamma function.\n",
      "        \n",
      "        The Gamma distribution is often used to model the times to failure of\n",
      "        electronic components, and arises naturally in processes for which the\n",
      "        waiting times between Poisson distributed events are relevant.\n",
      "        \n",
      "        References\n",
      "        ----------\n",
      "        .. [1] Weisstein, Eric W. \"Gamma Distribution.\" From MathWorld--A\n",
      "               Wolfram Web Resource.\n",
      "               http://mathworld.wolfram.com/GammaDistribution.html\n",
      "        .. [2] Wikipedia, \"Gamma distribution\",\n",
      "               http://en.wikipedia.org/wiki/Gamma_distribution\n",
      "        \n",
      "        Examples\n",
      "        --------\n",
      "        Draw samples from the distribution:\n",
      "        \n",
      "        >>> shape, scale = 2., 2.  # mean=4, std=2*sqrt(2)\n",
      "        >>> s = np.random.gamma(shape, scale, 1000)\n",
      "        \n",
      "        Display the histogram of the samples, along with\n",
      "        the probability density function:\n",
      "        \n",
      "        >>> import matplotlib.pyplot as plt\n",
      "        >>> import scipy.special as sps\n",
      "        >>> count, bins, ignored = plt.hist(s, 50, density=True)\n",
      "        >>> y = bins**(shape-1)*(np.exp(-bins/scale) /\n",
      "        ...                      (sps.gamma(shape)*scale**shape))\n",
      "        >>> plt.plot(bins, y, linewidth=2, color='r')\n",
      "        >>> plt.show()\n",
      "    \n",
      "    geometric(...) method of mtrand.RandomState instance\n",
      "        geometric(p, size=None)\n",
      "        \n",
      "        Draw samples from the geometric distribution.\n",
      "        \n",
      "        Bernoulli trials are experiments with one of two outcomes:\n",
      "        success or failure (an example of such an experiment is flipping\n",
      "        a coin).  The geometric distribution models the number of trials\n",
      "        that must be run in order to achieve success.  It is therefore\n",
      "        supported on the positive integers, ``k = 1, 2, ...``.\n",
      "        \n",
      "        The probability mass function of the geometric distribution is\n",
      "        \n",
      "        .. math:: f(k) = (1 - p)^{k - 1} p\n",
      "        \n",
      "        where `p` is the probability of success of an individual trial.\n",
      "        \n",
      "        Parameters\n",
      "        ----------\n",
      "        p : float or array_like of floats\n",
      "            The probability of success of an individual trial.\n",
      "        size : int or tuple of ints, optional\n",
      "            Output shape.  If the given shape is, e.g., ``(m, n, k)``, then\n",
      "            ``m * n * k`` samples are drawn.  If size is ``None`` (default),\n",
      "            a single value is returned if ``p`` is a scalar.  Otherwise,\n",
      "            ``np.array(p).size`` samples are drawn.\n",
      "        \n",
      "        Returns\n",
      "        -------\n",
      "        out : ndarray or scalar\n",
      "            Drawn samples from the parameterized geometric distribution.\n",
      "        \n",
      "        Examples\n",
      "        --------\n",
      "        Draw ten thousand values from the geometric distribution,\n",
      "        with the probability of an individual success equal to 0.35:\n",
      "        \n",
      "        >>> z = np.random.geometric(p=0.35, size=10000)\n",
      "        \n",
      "        How many trials succeeded after a single run?\n",
      "        \n",
      "        >>> (z == 1).sum() / 10000.\n",
      "        0.34889999999999999 #random\n",
      "    \n",
      "    get_state(...) method of mtrand.RandomState instance\n",
      "        get_state()\n",
      "        \n",
      "        Return a tuple representing the internal state of the generator.\n",
      "        \n",
      "        For more details, see `set_state`.\n",
      "        \n",
      "        Returns\n",
      "        -------\n",
      "        out : tuple(str, ndarray of 624 uints, int, int, float)\n",
      "            The returned tuple has the following items:\n",
      "        \n",
      "            1. the string 'MT19937'.\n",
      "            2. a 1-D array of 624 unsigned integer keys.\n",
      "            3. an integer ``pos``.\n",
      "            4. an integer ``has_gauss``.\n",
      "            5. a float ``cached_gaussian``.\n",
      "        \n",
      "        See Also\n",
      "        --------\n",
      "        set_state\n",
      "        \n",
      "        Notes\n",
      "        -----\n",
      "        `set_state` and `get_state` are not needed to work with any of the\n",
      "        random distributions in NumPy. If the internal state is manually altered,\n",
      "        the user should know exactly what he/she is doing.\n",
      "    \n",
      "    gumbel(...) method of mtrand.RandomState instance\n",
      "        gumbel(loc=0.0, scale=1.0, size=None)\n",
      "        \n",
      "        Draw samples from a Gumbel distribution.\n",
      "        \n",
      "        Draw samples from a Gumbel distribution with specified location and\n",
      "        scale.  For more information on the Gumbel distribution, see\n",
      "        Notes and References below.\n",
      "        \n",
      "        Parameters\n",
      "        ----------\n",
      "        loc : float or array_like of floats, optional\n",
      "            The location of the mode of the distribution. Default is 0.\n",
      "        scale : float or array_like of floats, optional\n",
      "            The scale parameter of the distribution. Default is 1.\n",
      "        size : int or tuple of ints, optional\n",
      "            Output shape.  If the given shape is, e.g., ``(m, n, k)``, then\n",
      "            ``m * n * k`` samples are drawn.  If size is ``None`` (default),\n",
      "            a single value is returned if ``loc`` and ``scale`` are both scalars.\n",
      "            Otherwise, ``np.broadcast(loc, scale).size`` samples are drawn.\n",
      "        \n",
      "        Returns\n",
      "        -------\n",
      "        out : ndarray or scalar\n",
      "            Drawn samples from the parameterized Gumbel distribution.\n",
      "        \n",
      "        See Also\n",
      "        --------\n",
      "        scipy.stats.gumbel_l\n",
      "        scipy.stats.gumbel_r\n",
      "        scipy.stats.genextreme\n",
      "        weibull\n",
      "        \n",
      "        Notes\n",
      "        -----\n",
      "        The Gumbel (or Smallest Extreme Value (SEV) or the Smallest Extreme\n",
      "        Value Type I) distribution is one of a class of Generalized Extreme\n",
      "        Value (GEV) distributions used in modeling extreme value problems.\n",
      "        The Gumbel is a special case of the Extreme Value Type I distribution\n",
      "        for maximums from distributions with \"exponential-like\" tails.\n",
      "        \n",
      "        The probability density for the Gumbel distribution is\n",
      "        \n",
      "        .. math:: p(x) = \\frac{e^{-(x - \\mu)/ \\beta}}{\\beta} e^{ -e^{-(x - \\mu)/\n",
      "                  \\beta}},\n",
      "        \n",
      "        where :math:`\\mu` is the mode, a location parameter, and\n",
      "        :math:`\\beta` is the scale parameter.\n",
      "        \n",
      "        The Gumbel (named for German mathematician Emil Julius Gumbel) was used\n",
      "        very early in the hydrology literature, for modeling the occurrence of\n",
      "        flood events. It is also used for modeling maximum wind speed and\n",
      "        rainfall rates.  It is a \"fat-tailed\" distribution - the probability of\n",
      "        an event in the tail of the distribution is larger than if one used a\n",
      "        Gaussian, hence the surprisingly frequent occurrence of 100-year\n",
      "        floods. Floods were initially modeled as a Gaussian process, which\n",
      "        underestimated the frequency of extreme events.\n",
      "        \n",
      "        It is one of a class of extreme value distributions, the Generalized\n",
      "        Extreme Value (GEV) distributions, which also includes the Weibull and\n",
      "        Frechet.\n",
      "        \n",
      "        The function has a mean of :math:`\\mu + 0.57721\\beta` and a variance\n",
      "        of :math:`\\frac{\\pi^2}{6}\\beta^2`.\n",
      "        \n",
      "        References\n",
      "        ----------\n",
      "        .. [1] Gumbel, E. J., \"Statistics of Extremes,\"\n",
      "               New York: Columbia University Press, 1958.\n",
      "        .. [2] Reiss, R.-D. and Thomas, M., \"Statistical Analysis of Extreme\n",
      "               Values from Insurance, Finance, Hydrology and Other Fields,\"\n",
      "               Basel: Birkhauser Verlag, 2001.\n",
      "        \n",
      "        Examples\n",
      "        --------\n",
      "        Draw samples from the distribution:\n",
      "        \n",
      "        >>> mu, beta = 0, 0.1 # location and scale\n",
      "        >>> s = np.random.gumbel(mu, beta, 1000)\n",
      "        \n",
      "        Display the histogram of the samples, along with\n",
      "        the probability density function:\n",
      "        \n",
      "        >>> import matplotlib.pyplot as plt\n",
      "        >>> count, bins, ignored = plt.hist(s, 30, density=True)\n",
      "        >>> plt.plot(bins, (1/beta)*np.exp(-(bins - mu)/beta)\n",
      "        ...          * np.exp( -np.exp( -(bins - mu) /beta) ),\n",
      "        ...          linewidth=2, color='r')\n",
      "        >>> plt.show()\n",
      "        \n",
      "        Show how an extreme value distribution can arise from a Gaussian process\n",
      "        and compare to a Gaussian:\n",
      "        \n",
      "        >>> means = []\n",
      "        >>> maxima = []\n",
      "        >>> for i in range(0,1000) :\n",
      "        ...    a = np.random.normal(mu, beta, 1000)\n",
      "        ...    means.append(a.mean())\n",
      "        ...    maxima.append(a.max())\n",
      "        >>> count, bins, ignored = plt.hist(maxima, 30, density=True)\n",
      "        >>> beta = np.std(maxima) * np.sqrt(6) / np.pi\n",
      "        >>> mu = np.mean(maxima) - 0.57721*beta\n",
      "        >>> plt.plot(bins, (1/beta)*np.exp(-(bins - mu)/beta)\n",
      "        ...          * np.exp(-np.exp(-(bins - mu)/beta)),\n",
      "        ...          linewidth=2, color='r')\n",
      "        >>> plt.plot(bins, 1/(beta * np.sqrt(2 * np.pi))\n",
      "        ...          * np.exp(-(bins - mu)**2 / (2 * beta**2)),\n",
      "        ...          linewidth=2, color='g')\n",
      "        >>> plt.show()\n",
      "    \n",
      "    hypergeometric(...) method of mtrand.RandomState instance\n",
      "        hypergeometric(ngood, nbad, nsample, size=None)\n",
      "        \n",
      "        Draw samples from a Hypergeometric distribution.\n",
      "        \n",
      "        Samples are drawn from a hypergeometric distribution with specified\n",
      "        parameters, ngood (ways to make a good selection), nbad (ways to make\n",
      "        a bad selection), and nsample = number of items sampled, which is less\n",
      "        than or equal to the sum ngood + nbad.\n",
      "        \n",
      "        Parameters\n",
      "        ----------\n",
      "        ngood : int or array_like of ints\n",
      "            Number of ways to make a good selection.  Must be nonnegative.\n",
      "        nbad : int or array_like of ints\n",
      "            Number of ways to make a bad selection.  Must be nonnegative.\n",
      "        nsample : int or array_like of ints\n",
      "            Number of items sampled.  Must be at least 1 and at most\n",
      "            ``ngood + nbad``.\n",
      "        size : int or tuple of ints, optional\n",
      "            Output shape.  If the given shape is, e.g., ``(m, n, k)``, then\n",
      "            ``m * n * k`` samples are drawn.  If size is ``None`` (default),\n",
      "            a single value is returned if ``ngood``, ``nbad``, and ``nsample``\n",
      "            are all scalars.  Otherwise, ``np.broadcast(ngood, nbad, nsample).size``\n",
      "            samples are drawn.\n",
      "        \n",
      "        Returns\n",
      "        -------\n",
      "        out : ndarray or scalar\n",
      "            Drawn samples from the parameterized hypergeometric distribution.\n",
      "        \n",
      "        See Also\n",
      "        --------\n",
      "        scipy.stats.hypergeom : probability density function, distribution or\n",
      "            cumulative density function, etc.\n",
      "        \n",
      "        Notes\n",
      "        -----\n",
      "        The probability density for the Hypergeometric distribution is\n",
      "        \n",
      "        .. math:: P(x) = \\frac{\\binom{m}{n}\\binom{N-m}{n-x}}{\\binom{N}{n}},\n",
      "        \n",
      "        where :math:`0 \\le x \\le m` and :math:`n+m-N \\le x \\le n`\n",
      "        \n",
      "        for P(x) the probability of x successes, n = ngood, m = nbad, and\n",
      "        N = number of samples.\n",
      "        \n",
      "        Consider an urn with black and white marbles in it, ngood of them\n",
      "        black and nbad are white. If you draw nsample balls without\n",
      "        replacement, then the hypergeometric distribution describes the\n",
      "        distribution of black balls in the drawn sample.\n",
      "        \n",
      "        Note that this distribution is very similar to the binomial\n",
      "        distribution, except that in this case, samples are drawn without\n",
      "        replacement, whereas in the Binomial case samples are drawn with\n",
      "        replacement (or the sample space is infinite). As the sample space\n",
      "        becomes large, this distribution approaches the binomial.\n",
      "        \n",
      "        References\n",
      "        ----------\n",
      "        .. [1] Lentner, Marvin, \"Elementary Applied Statistics\", Bogden\n",
      "               and Quigley, 1972.\n",
      "        .. [2] Weisstein, Eric W. \"Hypergeometric Distribution.\" From\n",
      "               MathWorld--A Wolfram Web Resource.\n",
      "               http://mathworld.wolfram.com/HypergeometricDistribution.html\n",
      "        .. [3] Wikipedia, \"Hypergeometric distribution\",\n",
      "               http://en.wikipedia.org/wiki/Hypergeometric_distribution\n",
      "        \n",
      "        Examples\n",
      "        --------\n",
      "        Draw samples from the distribution:\n",
      "        \n",
      "        >>> ngood, nbad, nsamp = 100, 2, 10\n",
      "        # number of good, number of bad, and number of samples\n",
      "        >>> s = np.random.hypergeometric(ngood, nbad, nsamp, 1000)\n",
      "        >>> hist(s)\n",
      "        #   note that it is very unlikely to grab both bad items\n",
      "        \n",
      "        Suppose you have an urn with 15 white and 15 black marbles.\n",
      "        If you pull 15 marbles at random, how likely is it that\n",
      "        12 or more of them are one color?\n",
      "        \n",
      "        >>> s = np.random.hypergeometric(15, 15, 15, 100000)\n",
      "        >>> sum(s>=12)/100000. + sum(s<=3)/100000.\n",
      "        #   answer = 0.003 ... pretty unlikely!\n",
      "    \n",
      "    laplace(...) method of mtrand.RandomState instance\n",
      "        laplace(loc=0.0, scale=1.0, size=None)\n",
      "        \n",
      "        Draw samples from the Laplace or double exponential distribution with\n",
      "        specified location (or mean) and scale (decay).\n",
      "        \n",
      "        The Laplace distribution is similar to the Gaussian/normal distribution,\n",
      "        but is sharper at the peak and has fatter tails. It represents the\n",
      "        difference between two independent, identically distributed exponential\n",
      "        random variables.\n",
      "        \n",
      "        Parameters\n",
      "        ----------\n",
      "        loc : float or array_like of floats, optional\n",
      "            The position, :math:`\\mu`, of the distribution peak. Default is 0.\n",
      "        scale : float or array_like of floats, optional\n",
      "            :math:`\\lambda`, the exponential decay. Default is 1.\n",
      "        size : int or tuple of ints, optional\n",
      "            Output shape.  If the given shape is, e.g., ``(m, n, k)``, then\n",
      "            ``m * n * k`` samples are drawn.  If size is ``None`` (default),\n",
      "            a single value is returned if ``loc`` and ``scale`` are both scalars.\n",
      "            Otherwise, ``np.broadcast(loc, scale).size`` samples are drawn.\n",
      "        \n",
      "        Returns\n",
      "        -------\n",
      "        out : ndarray or scalar\n",
      "            Drawn samples from the parameterized Laplace distribution.\n",
      "        \n",
      "        Notes\n",
      "        -----\n",
      "        It has the probability density function\n",
      "        \n",
      "        .. math:: f(x; \\mu, \\lambda) = \\frac{1}{2\\lambda}\n",
      "                                       \\exp\\left(-\\frac{|x - \\mu|}{\\lambda}\\right).\n",
      "        \n",
      "        The first law of Laplace, from 1774, states that the frequency\n",
      "        of an error can be expressed as an exponential function of the\n",
      "        absolute magnitude of the error, which leads to the Laplace\n",
      "        distribution. For many problems in economics and health\n",
      "        sciences, this distribution seems to model the data better\n",
      "        than the standard Gaussian distribution.\n",
      "        \n",
      "        References\n",
      "        ----------\n",
      "        .. [1] Abramowitz, M. and Stegun, I. A. (Eds.). \"Handbook of\n",
      "               Mathematical Functions with Formulas, Graphs, and Mathematical\n",
      "               Tables, 9th printing,\" New York: Dover, 1972.\n",
      "        .. [2] Kotz, Samuel, et. al. \"The Laplace Distribution and\n",
      "               Generalizations, \" Birkhauser, 2001.\n",
      "        .. [3] Weisstein, Eric W. \"Laplace Distribution.\"\n",
      "               From MathWorld--A Wolfram Web Resource.\n",
      "               http://mathworld.wolfram.com/LaplaceDistribution.html\n",
      "        .. [4] Wikipedia, \"Laplace distribution\",\n",
      "               http://en.wikipedia.org/wiki/Laplace_distribution\n",
      "        \n",
      "        Examples\n",
      "        --------\n",
      "        Draw samples from the distribution\n",
      "        \n",
      "        >>> loc, scale = 0., 1.\n",
      "        >>> s = np.random.laplace(loc, scale, 1000)\n",
      "        \n",
      "        Display the histogram of the samples, along with\n",
      "        the probability density function:\n",
      "        \n",
      "        >>> import matplotlib.pyplot as plt\n",
      "        >>> count, bins, ignored = plt.hist(s, 30, density=True)\n",
      "        >>> x = np.arange(-8., 8., .01)\n",
      "        >>> pdf = np.exp(-abs(x-loc)/scale)/(2.*scale)\n",
      "        >>> plt.plot(x, pdf)\n",
      "        \n",
      "        Plot Gaussian for comparison:\n",
      "        \n",
      "        >>> g = (1/(scale * np.sqrt(2 * np.pi)) *\n",
      "        ...      np.exp(-(x - loc)**2 / (2 * scale**2)))\n",
      "        >>> plt.plot(x,g)\n",
      "    \n",
      "    logistic(...) method of mtrand.RandomState instance\n",
      "        logistic(loc=0.0, scale=1.0, size=None)\n",
      "        \n",
      "        Draw samples from a logistic distribution.\n",
      "        \n",
      "        Samples are drawn from a logistic distribution with specified\n",
      "        parameters, loc (location or mean, also median), and scale (>0).\n",
      "        \n",
      "        Parameters\n",
      "        ----------\n",
      "        loc : float or array_like of floats, optional\n",
      "            Parameter of the distribution. Default is 0.\n",
      "        scale : float or array_like of floats, optional\n",
      "            Parameter of the distribution. Should be greater than zero.\n",
      "            Default is 1.\n",
      "        size : int or tuple of ints, optional\n",
      "            Output shape.  If the given shape is, e.g., ``(m, n, k)``, then\n",
      "            ``m * n * k`` samples are drawn.  If size is ``None`` (default),\n",
      "            a single value is returned if ``loc`` and ``scale`` are both scalars.\n",
      "            Otherwise, ``np.broadcast(loc, scale).size`` samples are drawn.\n",
      "        \n",
      "        Returns\n",
      "        -------\n",
      "        out : ndarray or scalar\n",
      "            Drawn samples from the parameterized logistic distribution.\n",
      "        \n",
      "        See Also\n",
      "        --------\n",
      "        scipy.stats.logistic : probability density function, distribution or\n",
      "            cumulative density function, etc.\n",
      "        \n",
      "        Notes\n",
      "        -----\n",
      "        The probability density for the Logistic distribution is\n",
      "        \n",
      "        .. math:: P(x) = P(x) = \\frac{e^{-(x-\\mu)/s}}{s(1+e^{-(x-\\mu)/s})^2},\n",
      "        \n",
      "        where :math:`\\mu` = location and :math:`s` = scale.\n",
      "        \n",
      "        The Logistic distribution is used in Extreme Value problems where it\n",
      "        can act as a mixture of Gumbel distributions, in Epidemiology, and by\n",
      "        the World Chess Federation (FIDE) where it is used in the Elo ranking\n",
      "        system, assuming the performance of each player is a logistically\n",
      "        distributed random variable.\n",
      "        \n",
      "        References\n",
      "        ----------\n",
      "        .. [1] Reiss, R.-D. and Thomas M. (2001), \"Statistical Analysis of\n",
      "               Extreme Values, from Insurance, Finance, Hydrology and Other\n",
      "               Fields,\" Birkhauser Verlag, Basel, pp 132-133.\n",
      "        .. [2] Weisstein, Eric W. \"Logistic Distribution.\" From\n",
      "               MathWorld--A Wolfram Web Resource.\n",
      "               http://mathworld.wolfram.com/LogisticDistribution.html\n",
      "        .. [3] Wikipedia, \"Logistic-distribution\",\n",
      "               http://en.wikipedia.org/wiki/Logistic_distribution\n",
      "        \n",
      "        Examples\n",
      "        --------\n",
      "        Draw samples from the distribution:\n",
      "        \n",
      "        >>> loc, scale = 10, 1\n",
      "        >>> s = np.random.logistic(loc, scale, 10000)\n",
      "        >>> count, bins, ignored = plt.hist(s, bins=50)\n",
      "        \n",
      "        #   plot against distribution\n",
      "        \n",
      "        >>> def logist(x, loc, scale):\n",
      "        ...     return exp((loc-x)/scale)/(scale*(1+exp((loc-x)/scale))**2)\n",
      "        >>> plt.plot(bins, logist(bins, loc, scale)*count.max()/\\\n",
      "        ... logist(bins, loc, scale).max())\n",
      "        >>> plt.show()\n",
      "    \n",
      "    lognormal(...) method of mtrand.RandomState instance\n",
      "        lognormal(mean=0.0, sigma=1.0, size=None)\n",
      "        \n",
      "        Draw samples from a log-normal distribution.\n",
      "        \n",
      "        Draw samples from a log-normal distribution with specified mean,\n",
      "        standard deviation, and array shape.  Note that the mean and standard\n",
      "        deviation are not the values for the distribution itself, but of the\n",
      "        underlying normal distribution it is derived from.\n",
      "        \n",
      "        Parameters\n",
      "        ----------\n",
      "        mean : float or array_like of floats, optional\n",
      "            Mean value of the underlying normal distribution. Default is 0.\n",
      "        sigma : float or array_like of floats, optional\n",
      "            Standard deviation of the underlying normal distribution. Should\n",
      "            be greater than zero. Default is 1.\n",
      "        size : int or tuple of ints, optional\n",
      "            Output shape.  If the given shape is, e.g., ``(m, n, k)``, then\n",
      "            ``m * n * k`` samples are drawn.  If size is ``None`` (default),\n",
      "            a single value is returned if ``mean`` and ``sigma`` are both scalars.\n",
      "            Otherwise, ``np.broadcast(mean, sigma).size`` samples are drawn.\n",
      "        \n",
      "        Returns\n",
      "        -------\n",
      "        out : ndarray or scalar\n",
      "            Drawn samples from the parameterized log-normal distribution.\n",
      "        \n",
      "        See Also\n",
      "        --------\n",
      "        scipy.stats.lognorm : probability density function, distribution,\n",
      "            cumulative density function, etc.\n",
      "        \n",
      "        Notes\n",
      "        -----\n",
      "        A variable `x` has a log-normal distribution if `log(x)` is normally\n",
      "        distributed.  The probability density function for the log-normal\n",
      "        distribution is:\n",
      "        \n",
      "        .. math:: p(x) = \\frac{1}{\\sigma x \\sqrt{2\\pi}}\n",
      "                         e^{(-\\frac{(ln(x)-\\mu)^2}{2\\sigma^2})}\n",
      "        \n",
      "        where :math:`\\mu` is the mean and :math:`\\sigma` is the standard\n",
      "        deviation of the normally distributed logarithm of the variable.\n",
      "        A log-normal distribution results if a random variable is the *product*\n",
      "        of a large number of independent, identically-distributed variables in\n",
      "        the same way that a normal distribution results if the variable is the\n",
      "        *sum* of a large number of independent, identically-distributed\n",
      "        variables.\n",
      "        \n",
      "        References\n",
      "        ----------\n",
      "        .. [1] Limpert, E., Stahel, W. A., and Abbt, M., \"Log-normal\n",
      "               Distributions across the Sciences: Keys and Clues,\"\n",
      "               BioScience, Vol. 51, No. 5, May, 2001.\n",
      "               http://stat.ethz.ch/~stahel/lognormal/bioscience.pdf\n",
      "        .. [2] Reiss, R.D. and Thomas, M., \"Statistical Analysis of Extreme\n",
      "               Values,\" Basel: Birkhauser Verlag, 2001, pp. 31-32.\n",
      "        \n",
      "        Examples\n",
      "        --------\n",
      "        Draw samples from the distribution:\n",
      "        \n",
      "        >>> mu, sigma = 3., 1. # mean and standard deviation\n",
      "        >>> s = np.random.lognormal(mu, sigma, 1000)\n",
      "        \n",
      "        Display the histogram of the samples, along with\n",
      "        the probability density function:\n",
      "        \n",
      "        >>> import matplotlib.pyplot as plt\n",
      "        >>> count, bins, ignored = plt.hist(s, 100, density=True, align='mid')\n",
      "        \n",
      "        >>> x = np.linspace(min(bins), max(bins), 10000)\n",
      "        >>> pdf = (np.exp(-(np.log(x) - mu)**2 / (2 * sigma**2))\n",
      "        ...        / (x * sigma * np.sqrt(2 * np.pi)))\n",
      "        \n",
      "        >>> plt.plot(x, pdf, linewidth=2, color='r')\n",
      "        >>> plt.axis('tight')\n",
      "        >>> plt.show()\n",
      "        \n",
      "        Demonstrate that taking the products of random samples from a uniform\n",
      "        distribution can be fit well by a log-normal probability density\n",
      "        function.\n",
      "        \n",
      "        >>> # Generate a thousand samples: each is the product of 100 random\n",
      "        >>> # values, drawn from a normal distribution.\n",
      "        >>> b = []\n",
      "        >>> for i in range(1000):\n",
      "        ...    a = 10. + np.random.random(100)\n",
      "        ...    b.append(np.product(a))\n",
      "        \n",
      "        >>> b = np.array(b) / np.min(b) # scale values to be positive\n",
      "        >>> count, bins, ignored = plt.hist(b, 100, density=True, align='mid')\n",
      "        >>> sigma = np.std(np.log(b))\n",
      "        >>> mu = np.mean(np.log(b))\n",
      "        \n",
      "        >>> x = np.linspace(min(bins), max(bins), 10000)\n",
      "        >>> pdf = (np.exp(-(np.log(x) - mu)**2 / (2 * sigma**2))\n",
      "        ...        / (x * sigma * np.sqrt(2 * np.pi)))\n",
      "        \n",
      "        >>> plt.plot(x, pdf, color='r', linewidth=2)\n",
      "        >>> plt.show()\n",
      "    \n",
      "    logseries(...) method of mtrand.RandomState instance\n",
      "        logseries(p, size=None)\n",
      "        \n",
      "        Draw samples from a logarithmic series distribution.\n",
      "        \n",
      "        Samples are drawn from a log series distribution with specified\n",
      "        shape parameter, 0 < ``p`` < 1.\n",
      "        \n",
      "        Parameters\n",
      "        ----------\n",
      "        p : float or array_like of floats\n",
      "            Shape parameter for the distribution.  Must be in the range (0, 1).\n",
      "        size : int or tuple of ints, optional\n",
      "            Output shape.  If the given shape is, e.g., ``(m, n, k)``, then\n",
      "            ``m * n * k`` samples are drawn.  If size is ``None`` (default),\n",
      "            a single value is returned if ``p`` is a scalar.  Otherwise,\n",
      "            ``np.array(p).size`` samples are drawn.\n",
      "        \n",
      "        Returns\n",
      "        -------\n",
      "        out : ndarray or scalar\n",
      "            Drawn samples from the parameterized logarithmic series distribution.\n",
      "        \n",
      "        See Also\n",
      "        --------\n",
      "        scipy.stats.logser : probability density function, distribution or\n",
      "            cumulative density function, etc.\n",
      "        \n",
      "        Notes\n",
      "        -----\n",
      "        The probability density for the Log Series distribution is\n",
      "        \n",
      "        .. math:: P(k) = \\frac{-p^k}{k \\ln(1-p)},\n",
      "        \n",
      "        where p = probability.\n",
      "        \n",
      "        The log series distribution is frequently used to represent species\n",
      "        richness and occurrence, first proposed by Fisher, Corbet, and\n",
      "        Williams in 1943 [2].  It may also be used to model the numbers of\n",
      "        occupants seen in cars [3].\n",
      "        \n",
      "        References\n",
      "        ----------\n",
      "        .. [1] Buzas, Martin A.; Culver, Stephen J.,  Understanding regional\n",
      "               species diversity through the log series distribution of\n",
      "               occurrences: BIODIVERSITY RESEARCH Diversity & Distributions,\n",
      "               Volume 5, Number 5, September 1999 , pp. 187-195(9).\n",
      "        .. [2] Fisher, R.A,, A.S. Corbet, and C.B. Williams. 1943. The\n",
      "               relation between the number of species and the number of\n",
      "               individuals in a random sample of an animal population.\n",
      "               Journal of Animal Ecology, 12:42-58.\n",
      "        .. [3] D. J. Hand, F. Daly, D. Lunn, E. Ostrowski, A Handbook of Small\n",
      "               Data Sets, CRC Press, 1994.\n",
      "        .. [4] Wikipedia, \"Logarithmic distribution\",\n",
      "               http://en.wikipedia.org/wiki/Logarithmic_distribution\n",
      "        \n",
      "        Examples\n",
      "        --------\n",
      "        Draw samples from the distribution:\n",
      "        \n",
      "        >>> a = .6\n",
      "        >>> s = np.random.logseries(a, 10000)\n",
      "        >>> count, bins, ignored = plt.hist(s)\n",
      "        \n",
      "        #   plot against distribution\n",
      "        \n",
      "        >>> def logseries(k, p):\n",
      "        ...     return -p**k/(k*log(1-p))\n",
      "        >>> plt.plot(bins, logseries(bins, a)*count.max()/\n",
      "                     logseries(bins, a).max(), 'r')\n",
      "        >>> plt.show()\n",
      "    \n",
      "    multinomial(...) method of mtrand.RandomState instance\n",
      "        multinomial(n, pvals, size=None)\n",
      "        \n",
      "        Draw samples from a multinomial distribution.\n",
      "        \n",
      "        The multinomial distribution is a multivariate generalisation of the\n",
      "        binomial distribution.  Take an experiment with one of ``p``\n",
      "        possible outcomes.  An example of such an experiment is throwing a dice,\n",
      "        where the outcome can be 1 through 6.  Each sample drawn from the\n",
      "        distribution represents `n` such experiments.  Its values,\n",
      "        ``X_i = [X_0, X_1, ..., X_p]``, represent the number of times the\n",
      "        outcome was ``i``.\n",
      "        \n",
      "        Parameters\n",
      "        ----------\n",
      "        n : int\n",
      "            Number of experiments.\n",
      "        pvals : sequence of floats, length p\n",
      "            Probabilities of each of the ``p`` different outcomes.  These\n",
      "            should sum to 1 (however, the last element is always assumed to\n",
      "            account for the remaining probability, as long as\n",
      "            ``sum(pvals[:-1]) <= 1)``.\n",
      "        size : int or tuple of ints, optional\n",
      "            Output shape.  If the given shape is, e.g., ``(m, n, k)``, then\n",
      "            ``m * n * k`` samples are drawn.  Default is None, in which case a\n",
      "            single value is returned.\n",
      "        \n",
      "        Returns\n",
      "        -------\n",
      "        out : ndarray\n",
      "            The drawn samples, of shape *size*, if that was provided.  If not,\n",
      "            the shape is ``(N,)``.\n",
      "        \n",
      "            In other words, each entry ``out[i,j,...,:]`` is an N-dimensional\n",
      "            value drawn from the distribution.\n",
      "        \n",
      "        Examples\n",
      "        --------\n",
      "        Throw a dice 20 times:\n",
      "        \n",
      "        >>> np.random.multinomial(20, [1/6.]*6, size=1)\n",
      "        array([[4, 1, 7, 5, 2, 1]])\n",
      "        \n",
      "        It landed 4 times on 1, once on 2, etc.\n",
      "        \n",
      "        Now, throw the dice 20 times, and 20 times again:\n",
      "        \n",
      "        >>> np.random.multinomial(20, [1/6.]*6, size=2)\n",
      "        array([[3, 4, 3, 3, 4, 3],\n",
      "               [2, 4, 3, 4, 0, 7]])\n",
      "        \n",
      "        For the first run, we threw 3 times 1, 4 times 2, etc.  For the second,\n",
      "        we threw 2 times 1, 4 times 2, etc.\n",
      "        \n",
      "        A loaded die is more likely to land on number 6:\n",
      "        \n",
      "        >>> np.random.multinomial(100, [1/7.]*5 + [2/7.])\n",
      "        array([11, 16, 14, 17, 16, 26])\n",
      "        \n",
      "        The probability inputs should be normalized. As an implementation\n",
      "        detail, the value of the last entry is ignored and assumed to take\n",
      "        up any leftover probability mass, but this should not be relied on.\n",
      "        A biased coin which has twice as much weight on one side as on the\n",
      "        other should be sampled like so:\n",
      "        \n",
      "        >>> np.random.multinomial(100, [1.0 / 3, 2.0 / 3])  # RIGHT\n",
      "        array([38, 62])\n",
      "        \n",
      "        not like:\n",
      "        \n",
      "        >>> np.random.multinomial(100, [1.0, 2.0])  # WRONG\n",
      "        array([100,   0])\n",
      "    \n",
      "    multivariate_normal(...) method of mtrand.RandomState instance\n",
      "        multivariate_normal(mean, cov[, size, check_valid, tol])\n",
      "        \n",
      "        Draw random samples from a multivariate normal distribution.\n",
      "        \n",
      "        The multivariate normal, multinormal or Gaussian distribution is a\n",
      "        generalization of the one-dimensional normal distribution to higher\n",
      "        dimensions.  Such a distribution is specified by its mean and\n",
      "        covariance matrix.  These parameters are analogous to the mean\n",
      "        (average or \"center\") and variance (standard deviation, or \"width,\"\n",
      "        squared) of the one-dimensional normal distribution.\n",
      "        \n",
      "        Parameters\n",
      "        ----------\n",
      "        mean : 1-D array_like, of length N\n",
      "            Mean of the N-dimensional distribution.\n",
      "        cov : 2-D array_like, of shape (N, N)\n",
      "            Covariance matrix of the distribution. It must be symmetric and\n",
      "            positive-semidefinite for proper sampling.\n",
      "        size : int or tuple of ints, optional\n",
      "            Given a shape of, for example, ``(m,n,k)``, ``m*n*k`` samples are\n",
      "            generated, and packed in an `m`-by-`n`-by-`k` arrangement.  Because\n",
      "            each sample is `N`-dimensional, the output shape is ``(m,n,k,N)``.\n",
      "            If no shape is specified, a single (`N`-D) sample is returned.\n",
      "        check_valid : { 'warn', 'raise', 'ignore' }, optional\n",
      "            Behavior when the covariance matrix is not positive semidefinite.\n",
      "        tol : float, optional\n",
      "            Tolerance when checking the singular values in covariance matrix.\n",
      "        \n",
      "        Returns\n",
      "        -------\n",
      "        out : ndarray\n",
      "            The drawn samples, of shape *size*, if that was provided.  If not,\n",
      "            the shape is ``(N,)``.\n",
      "        \n",
      "            In other words, each entry ``out[i,j,...,:]`` is an N-dimensional\n",
      "            value drawn from the distribution.\n",
      "        \n",
      "        Notes\n",
      "        -----\n",
      "        The mean is a coordinate in N-dimensional space, which represents the\n",
      "        location where samples are most likely to be generated.  This is\n",
      "        analogous to the peak of the bell curve for the one-dimensional or\n",
      "        univariate normal distribution.\n",
      "        \n",
      "        Covariance indicates the level to which two variables vary together.\n",
      "        From the multivariate normal distribution, we draw N-dimensional\n",
      "        samples, :math:`X = [x_1, x_2, ... x_N]`.  The covariance matrix\n",
      "        element :math:`C_{ij}` is the covariance of :math:`x_i` and :math:`x_j`.\n",
      "        The element :math:`C_{ii}` is the variance of :math:`x_i` (i.e. its\n",
      "        \"spread\").\n",
      "        \n",
      "        Instead of specifying the full covariance matrix, popular\n",
      "        approximations include:\n",
      "        \n",
      "          - Spherical covariance (`cov` is a multiple of the identity matrix)\n",
      "          - Diagonal covariance (`cov` has non-negative elements, and only on\n",
      "            the diagonal)\n",
      "        \n",
      "        This geometrical property can be seen in two dimensions by plotting\n",
      "        generated data-points:\n",
      "        \n",
      "        >>> mean = [0, 0]\n",
      "        >>> cov = [[1, 0], [0, 100]]  # diagonal covariance\n",
      "        \n",
      "        Diagonal covariance means that points are oriented along x or y-axis:\n",
      "        \n",
      "        >>> import matplotlib.pyplot as plt\n",
      "        >>> x, y = np.random.multivariate_normal(mean, cov, 5000).T\n",
      "        >>> plt.plot(x, y, 'x')\n",
      "        >>> plt.axis('equal')\n",
      "        >>> plt.show()\n",
      "        \n",
      "        Note that the covariance matrix must be positive semidefinite (a.k.a.\n",
      "        nonnegative-definite). Otherwise, the behavior of this method is\n",
      "        undefined and backwards compatibility is not guaranteed.\n",
      "        \n",
      "        References\n",
      "        ----------\n",
      "        .. [1] Papoulis, A., \"Probability, Random Variables, and Stochastic\n",
      "               Processes,\" 3rd ed., New York: McGraw-Hill, 1991.\n",
      "        .. [2] Duda, R. O., Hart, P. E., and Stork, D. G., \"Pattern\n",
      "               Classification,\" 2nd ed., New York: Wiley, 2001.\n",
      "        \n",
      "        Examples\n",
      "        --------\n",
      "        >>> mean = (1, 2)\n",
      "        >>> cov = [[1, 0], [0, 1]]\n",
      "        >>> x = np.random.multivariate_normal(mean, cov, (3, 3))\n",
      "        >>> x.shape\n",
      "        (3, 3, 2)\n",
      "        \n",
      "        The following is probably true, given that 0.6 is roughly twice the\n",
      "        standard deviation:\n",
      "        \n",
      "        >>> list((x[0,0,:] - mean) < 0.6)\n",
      "        [True, True]\n",
      "    \n",
      "    negative_binomial(...) method of mtrand.RandomState instance\n",
      "        negative_binomial(n, p, size=None)\n",
      "        \n",
      "        Draw samples from a negative binomial distribution.\n",
      "        \n",
      "        Samples are drawn from a negative binomial distribution with specified\n",
      "        parameters, `n` successes and `p` probability of success where `n` is an\n",
      "        integer > 0 and `p` is in the interval [0, 1].\n",
      "        \n",
      "        Parameters\n",
      "        ----------\n",
      "        n : int or array_like of ints\n",
      "            Parameter of the distribution, > 0. Floats are also accepted,\n",
      "            but they will be truncated to integers.\n",
      "        p : float or array_like of floats\n",
      "            Parameter of the distribution, >= 0 and <=1.\n",
      "        size : int or tuple of ints, optional\n",
      "            Output shape.  If the given shape is, e.g., ``(m, n, k)``, then\n",
      "            ``m * n * k`` samples are drawn.  If size is ``None`` (default),\n",
      "            a single value is returned if ``n`` and ``p`` are both scalars.\n",
      "            Otherwise, ``np.broadcast(n, p).size`` samples are drawn.\n",
      "        \n",
      "        Returns\n",
      "        -------\n",
      "        out : ndarray or scalar\n",
      "            Drawn samples from the parameterized negative binomial distribution,\n",
      "            where each sample is equal to N, the number of failures that\n",
      "            occurred before a total of n successes was reached.\n",
      "        \n",
      "        Notes\n",
      "        -----\n",
      "        The probability density for the negative binomial distribution is\n",
      "        \n",
      "        .. math:: P(N;n,p) = \\binom{N+n-1}{N}p^{n}(1-p)^{N},\n",
      "        \n",
      "        where :math:`n` is the number of successes, :math:`p` is the\n",
      "        probability of success, and :math:`N+n` is the number of trials.\n",
      "        The negative binomial distribution gives the probability of N\n",
      "        failures given n successes, with a success on the last trial.\n",
      "        \n",
      "        If one throws a die repeatedly until the third time a \"1\" appears,\n",
      "        then the probability distribution of the number of non-\"1\"s that\n",
      "        appear before the third \"1\" is a negative binomial distribution.\n",
      "        \n",
      "        References\n",
      "        ----------\n",
      "        .. [1] Weisstein, Eric W. \"Negative Binomial Distribution.\" From\n",
      "               MathWorld--A Wolfram Web Resource.\n",
      "               http://mathworld.wolfram.com/NegativeBinomialDistribution.html\n",
      "        .. [2] Wikipedia, \"Negative binomial distribution\",\n",
      "               http://en.wikipedia.org/wiki/Negative_binomial_distribution\n",
      "        \n",
      "        Examples\n",
      "        --------\n",
      "        Draw samples from the distribution:\n",
      "        \n",
      "        A real world example. A company drills wild-cat oil\n",
      "        exploration wells, each with an estimated probability of\n",
      "        success of 0.1.  What is the probability of having one success\n",
      "        for each successive well, that is what is the probability of a\n",
      "        single success after drilling 5 wells, after 6 wells, etc.?\n",
      "        \n",
      "        >>> s = np.random.negative_binomial(1, 0.1, 100000)\n",
      "        >>> for i in range(1, 11):\n",
      "        ...    probability = sum(s<i) / 100000.\n",
      "        ...    print i, \"wells drilled, probability of one success =\", probability\n",
      "    \n",
      "    noncentral_chisquare(...) method of mtrand.RandomState instance\n",
      "        noncentral_chisquare(df, nonc, size=None)\n",
      "        \n",
      "        Draw samples from a noncentral chi-square distribution.\n",
      "        \n",
      "        The noncentral :math:`\\chi^2` distribution is a generalisation of\n",
      "        the :math:`\\chi^2` distribution.\n",
      "        \n",
      "        Parameters\n",
      "        ----------\n",
      "        df : float or array_like of floats\n",
      "            Degrees of freedom, should be > 0.\n",
      "        \n",
      "            .. versionchanged:: 1.10.0\n",
      "               Earlier NumPy versions required dfnum > 1.\n",
      "        nonc : float or array_like of floats\n",
      "            Non-centrality, should be non-negative.\n",
      "        size : int or tuple of ints, optional\n",
      "            Output shape.  If the given shape is, e.g., ``(m, n, k)``, then\n",
      "            ``m * n * k`` samples are drawn.  If size is ``None`` (default),\n",
      "            a single value is returned if ``df`` and ``nonc`` are both scalars.\n",
      "            Otherwise, ``np.broadcast(df, nonc).size`` samples are drawn.\n",
      "        \n",
      "        Returns\n",
      "        -------\n",
      "        out : ndarray or scalar\n",
      "            Drawn samples from the parameterized noncentral chi-square distribution.\n",
      "        \n",
      "        Notes\n",
      "        -----\n",
      "        The probability density function for the noncentral Chi-square\n",
      "        distribution is\n",
      "        \n",
      "        .. math:: P(x;df,nonc) = \\sum^{\\infty}_{i=0}\n",
      "                               \\frac{e^{-nonc/2}(nonc/2)^{i}}{i!}\n",
      "                               \\P_{Y_{df+2i}}(x),\n",
      "        \n",
      "        where :math:`Y_{q}` is the Chi-square with q degrees of freedom.\n",
      "        \n",
      "        In Delhi (2007), it is noted that the noncentral chi-square is\n",
      "        useful in bombing and coverage problems, the probability of\n",
      "        killing the point target given by the noncentral chi-squared\n",
      "        distribution.\n",
      "        \n",
      "        References\n",
      "        ----------\n",
      "        .. [1] Delhi, M.S. Holla, \"On a noncentral chi-square distribution in\n",
      "               the analysis of weapon systems effectiveness\", Metrika,\n",
      "               Volume 15, Number 1 / December, 1970.\n",
      "        .. [2] Wikipedia, \"Noncentral chi-square distribution\"\n",
      "               http://en.wikipedia.org/wiki/Noncentral_chi-square_distribution\n",
      "        \n",
      "        Examples\n",
      "        --------\n",
      "        Draw values from the distribution and plot the histogram\n",
      "        \n",
      "        >>> import matplotlib.pyplot as plt\n",
      "        >>> values = plt.hist(np.random.noncentral_chisquare(3, 20, 100000),\n",
      "        ...                   bins=200, density=True)\n",
      "        >>> plt.show()\n",
      "        \n",
      "        Draw values from a noncentral chisquare with very small noncentrality,\n",
      "        and compare to a chisquare.\n",
      "        \n",
      "        >>> plt.figure()\n",
      "        >>> values = plt.hist(np.random.noncentral_chisquare(3, .0000001, 100000),\n",
      "        ...                   bins=np.arange(0., 25, .1), density=True)\n",
      "        >>> values2 = plt.hist(np.random.chisquare(3, 100000),\n",
      "        ...                    bins=np.arange(0., 25, .1), density=True)\n",
      "        >>> plt.plot(values[1][0:-1], values[0]-values2[0], 'ob')\n",
      "        >>> plt.show()\n",
      "        \n",
      "        Demonstrate how large values of non-centrality lead to a more symmetric\n",
      "        distribution.\n",
      "        \n",
      "        >>> plt.figure()\n",
      "        >>> values = plt.hist(np.random.noncentral_chisquare(3, 20, 100000),\n",
      "        ...                   bins=200, density=True)\n",
      "        >>> plt.show()\n",
      "    \n",
      "    noncentral_f(...) method of mtrand.RandomState instance\n",
      "        noncentral_f(dfnum, dfden, nonc, size=None)\n",
      "        \n",
      "        Draw samples from the noncentral F distribution.\n",
      "        \n",
      "        Samples are drawn from an F distribution with specified parameters,\n",
      "        `dfnum` (degrees of freedom in numerator) and `dfden` (degrees of\n",
      "        freedom in denominator), where both parameters > 1.\n",
      "        `nonc` is the non-centrality parameter.\n",
      "        \n",
      "        Parameters\n",
      "        ----------\n",
      "        dfnum : float or array_like of floats\n",
      "            Numerator degrees of freedom, should be > 0.\n",
      "        \n",
      "            .. versionchanged:: 1.14.0\n",
      "               Earlier NumPy versions required dfnum > 1.\n",
      "        dfden : float or array_like of floats\n",
      "            Denominator degrees of freedom, should be > 0.\n",
      "        nonc : float or array_like of floats\n",
      "            Non-centrality parameter, the sum of the squares of the numerator\n",
      "            means, should be >= 0.\n",
      "        size : int or tuple of ints, optional\n",
      "            Output shape.  If the given shape is, e.g., ``(m, n, k)``, then\n",
      "            ``m * n * k`` samples are drawn.  If size is ``None`` (default),\n",
      "            a single value is returned if ``dfnum``, ``dfden``, and ``nonc``\n",
      "            are all scalars.  Otherwise, ``np.broadcast(dfnum, dfden, nonc).size``\n",
      "            samples are drawn.\n",
      "        \n",
      "        Returns\n",
      "        -------\n",
      "        out : ndarray or scalar\n",
      "            Drawn samples from the parameterized noncentral Fisher distribution.\n",
      "        \n",
      "        Notes\n",
      "        -----\n",
      "        When calculating the power of an experiment (power = probability of\n",
      "        rejecting the null hypothesis when a specific alternative is true) the\n",
      "        non-central F statistic becomes important.  When the null hypothesis is\n",
      "        true, the F statistic follows a central F distribution. When the null\n",
      "        hypothesis is not true, then it follows a non-central F statistic.\n",
      "        \n",
      "        References\n",
      "        ----------\n",
      "        .. [1] Weisstein, Eric W. \"Noncentral F-Distribution.\"\n",
      "               From MathWorld--A Wolfram Web Resource.\n",
      "               http://mathworld.wolfram.com/NoncentralF-Distribution.html\n",
      "        .. [2] Wikipedia, \"Noncentral F-distribution\",\n",
      "               http://en.wikipedia.org/wiki/Noncentral_F-distribution\n",
      "        \n",
      "        Examples\n",
      "        --------\n",
      "        In a study, testing for a specific alternative to the null hypothesis\n",
      "        requires use of the Noncentral F distribution. We need to calculate the\n",
      "        area in the tail of the distribution that exceeds the value of the F\n",
      "        distribution for the null hypothesis.  We'll plot the two probability\n",
      "        distributions for comparison.\n",
      "        \n",
      "        >>> dfnum = 3 # between group deg of freedom\n",
      "        >>> dfden = 20 # within groups degrees of freedom\n",
      "        >>> nonc = 3.0\n",
      "        >>> nc_vals = np.random.noncentral_f(dfnum, dfden, nonc, 1000000)\n",
      "        >>> NF = np.histogram(nc_vals, bins=50, density=True)\n",
      "        >>> c_vals = np.random.f(dfnum, dfden, 1000000)\n",
      "        >>> F = np.histogram(c_vals, bins=50, density=True)\n",
      "        >>> plt.plot(F[1][1:], F[0])\n",
      "        >>> plt.plot(NF[1][1:], NF[0])\n",
      "        >>> plt.show()\n",
      "    \n",
      "    normal(...) method of mtrand.RandomState instance\n",
      "        normal(loc=0.0, scale=1.0, size=None)\n",
      "        \n",
      "        Draw random samples from a normal (Gaussian) distribution.\n",
      "        \n",
      "        The probability density function of the normal distribution, first\n",
      "        derived by De Moivre and 200 years later by both Gauss and Laplace\n",
      "        independently [2]_, is often called the bell curve because of\n",
      "        its characteristic shape (see the example below).\n",
      "        \n",
      "        The normal distributions occurs often in nature.  For example, it\n",
      "        describes the commonly occurring distribution of samples influenced\n",
      "        by a large number of tiny, random disturbances, each with its own\n",
      "        unique distribution [2]_.\n",
      "        \n",
      "        Parameters\n",
      "        ----------\n",
      "        loc : float or array_like of floats\n",
      "            Mean (\"centre\") of the distribution.\n",
      "        scale : float or array_like of floats\n",
      "            Standard deviation (spread or \"width\") of the distribution.\n",
      "        size : int or tuple of ints, optional\n",
      "            Output shape.  If the given shape is, e.g., ``(m, n, k)``, then\n",
      "            ``m * n * k`` samples are drawn.  If size is ``None`` (default),\n",
      "            a single value is returned if ``loc`` and ``scale`` are both scalars.\n",
      "            Otherwise, ``np.broadcast(loc, scale).size`` samples are drawn.\n",
      "        \n",
      "        Returns\n",
      "        -------\n",
      "        out : ndarray or scalar\n",
      "            Drawn samples from the parameterized normal distribution.\n",
      "        \n",
      "        See Also\n",
      "        --------\n",
      "        scipy.stats.norm : probability density function, distribution or\n",
      "            cumulative density function, etc.\n",
      "        \n",
      "        Notes\n",
      "        -----\n",
      "        The probability density for the Gaussian distribution is\n",
      "        \n",
      "        .. math:: p(x) = \\frac{1}{\\sqrt{ 2 \\pi \\sigma^2 }}\n",
      "                         e^{ - \\frac{ (x - \\mu)^2 } {2 \\sigma^2} },\n",
      "        \n",
      "        where :math:`\\mu` is the mean and :math:`\\sigma` the standard\n",
      "        deviation. The square of the standard deviation, :math:`\\sigma^2`,\n",
      "        is called the variance.\n",
      "        \n",
      "        The function has its peak at the mean, and its \"spread\" increases with\n",
      "        the standard deviation (the function reaches 0.607 times its maximum at\n",
      "        :math:`x + \\sigma` and :math:`x - \\sigma` [2]_).  This implies that\n",
      "        `numpy.random.normal` is more likely to return samples lying close to\n",
      "        the mean, rather than those far away.\n",
      "        \n",
      "        References\n",
      "        ----------\n",
      "        .. [1] Wikipedia, \"Normal distribution\",\n",
      "               http://en.wikipedia.org/wiki/Normal_distribution\n",
      "        .. [2] P. R. Peebles Jr., \"Central Limit Theorem\" in \"Probability,\n",
      "               Random Variables and Random Signal Principles\", 4th ed., 2001,\n",
      "               pp. 51, 51, 125.\n",
      "        \n",
      "        Examples\n",
      "        --------\n",
      "        Draw samples from the distribution:\n",
      "        \n",
      "        >>> mu, sigma = 0, 0.1 # mean and standard deviation\n",
      "        >>> s = np.random.normal(mu, sigma, 1000)\n",
      "        \n",
      "        Verify the mean and the variance:\n",
      "        \n",
      "        >>> abs(mu - np.mean(s)) < 0.01\n",
      "        True\n",
      "        \n",
      "        >>> abs(sigma - np.std(s, ddof=1)) < 0.01\n",
      "        True\n",
      "        \n",
      "        Display the histogram of the samples, along with\n",
      "        the probability density function:\n",
      "        \n",
      "        >>> import matplotlib.pyplot as plt\n",
      "        >>> count, bins, ignored = plt.hist(s, 30, density=True)\n",
      "        >>> plt.plot(bins, 1/(sigma * np.sqrt(2 * np.pi)) *\n",
      "        ...                np.exp( - (bins - mu)**2 / (2 * sigma**2) ),\n",
      "        ...          linewidth=2, color='r')\n",
      "        >>> plt.show()\n",
      "    \n",
      "    pareto(...) method of mtrand.RandomState instance\n",
      "        pareto(a, size=None)\n",
      "        \n",
      "        Draw samples from a Pareto II or Lomax distribution with\n",
      "        specified shape.\n",
      "        \n",
      "        The Lomax or Pareto II distribution is a shifted Pareto\n",
      "        distribution. The classical Pareto distribution can be\n",
      "        obtained from the Lomax distribution by adding 1 and\n",
      "        multiplying by the scale parameter ``m`` (see Notes).  The\n",
      "        smallest value of the Lomax distribution is zero while for the\n",
      "        classical Pareto distribution it is ``mu``, where the standard\n",
      "        Pareto distribution has location ``mu = 1``.  Lomax can also\n",
      "        be considered as a simplified version of the Generalized\n",
      "        Pareto distribution (available in SciPy), with the scale set\n",
      "        to one and the location set to zero.\n",
      "        \n",
      "        The Pareto distribution must be greater than zero, and is\n",
      "        unbounded above.  It is also known as the \"80-20 rule\".  In\n",
      "        this distribution, 80 percent of the weights are in the lowest\n",
      "        20 percent of the range, while the other 20 percent fill the\n",
      "        remaining 80 percent of the range.\n",
      "        \n",
      "        Parameters\n",
      "        ----------\n",
      "        a : float or array_like of floats\n",
      "            Shape of the distribution. Should be greater than zero.\n",
      "        size : int or tuple of ints, optional\n",
      "            Output shape.  If the given shape is, e.g., ``(m, n, k)``, then\n",
      "            ``m * n * k`` samples are drawn.  If size is ``None`` (default),\n",
      "            a single value is returned if ``a`` is a scalar.  Otherwise,\n",
      "            ``np.array(a).size`` samples are drawn.\n",
      "        \n",
      "        Returns\n",
      "        -------\n",
      "        out : ndarray or scalar\n",
      "            Drawn samples from the parameterized Pareto distribution.\n",
      "        \n",
      "        See Also\n",
      "        --------\n",
      "        scipy.stats.lomax : probability density function, distribution or\n",
      "            cumulative density function, etc.\n",
      "        scipy.stats.genpareto : probability density function, distribution or\n",
      "            cumulative density function, etc.\n",
      "        \n",
      "        Notes\n",
      "        -----\n",
      "        The probability density for the Pareto distribution is\n",
      "        \n",
      "        .. math:: p(x) = \\frac{am^a}{x^{a+1}}\n",
      "        \n",
      "        where :math:`a` is the shape and :math:`m` the scale.\n",
      "        \n",
      "        The Pareto distribution, named after the Italian economist\n",
      "        Vilfredo Pareto, is a power law probability distribution\n",
      "        useful in many real world problems.  Outside the field of\n",
      "        economics it is generally referred to as the Bradford\n",
      "        distribution. Pareto developed the distribution to describe\n",
      "        the distribution of wealth in an economy.  It has also found\n",
      "        use in insurance, web page access statistics, oil field sizes,\n",
      "        and many other problems, including the download frequency for\n",
      "        projects in Sourceforge [1]_.  It is one of the so-called\n",
      "        \"fat-tailed\" distributions.\n",
      "        \n",
      "        \n",
      "        References\n",
      "        ----------\n",
      "        .. [1] Francis Hunt and Paul Johnson, On the Pareto Distribution of\n",
      "               Sourceforge projects.\n",
      "        .. [2] Pareto, V. (1896). Course of Political Economy. Lausanne.\n",
      "        .. [3] Reiss, R.D., Thomas, M.(2001), Statistical Analysis of Extreme\n",
      "               Values, Birkhauser Verlag, Basel, pp 23-30.\n",
      "        .. [4] Wikipedia, \"Pareto distribution\",\n",
      "               http://en.wikipedia.org/wiki/Pareto_distribution\n",
      "        \n",
      "        Examples\n",
      "        --------\n",
      "        Draw samples from the distribution:\n",
      "        \n",
      "        >>> a, m = 3., 2.  # shape and mode\n",
      "        >>> s = (np.random.pareto(a, 1000) + 1) * m\n",
      "        \n",
      "        Display the histogram of the samples, along with the probability\n",
      "        density function:\n",
      "        \n",
      "        >>> import matplotlib.pyplot as plt\n",
      "        >>> count, bins, _ = plt.hist(s, 100, density=True)\n",
      "        >>> fit = a*m**a / bins**(a+1)\n",
      "        >>> plt.plot(bins, max(count)*fit/max(fit), linewidth=2, color='r')\n",
      "        >>> plt.show()\n",
      "    \n",
      "    permutation(...) method of mtrand.RandomState instance\n",
      "        permutation(x)\n",
      "        \n",
      "        Randomly permute a sequence, or return a permuted range.\n",
      "        \n",
      "        If `x` is a multi-dimensional array, it is only shuffled along its\n",
      "        first index.\n",
      "        \n",
      "        Parameters\n",
      "        ----------\n",
      "        x : int or array_like\n",
      "            If `x` is an integer, randomly permute ``np.arange(x)``.\n",
      "            If `x` is an array, make a copy and shuffle the elements\n",
      "            randomly.\n",
      "        \n",
      "        Returns\n",
      "        -------\n",
      "        out : ndarray\n",
      "            Permuted sequence or array range.\n",
      "        \n",
      "        Examples\n",
      "        --------\n",
      "        >>> np.random.permutation(10)\n",
      "        array([1, 7, 4, 3, 0, 9, 2, 5, 8, 6])\n",
      "        \n",
      "        >>> np.random.permutation([1, 4, 9, 12, 15])\n",
      "        array([15,  1,  9,  4, 12])\n",
      "        \n",
      "        >>> arr = np.arange(9).reshape((3, 3))\n",
      "        >>> np.random.permutation(arr)\n",
      "        array([[6, 7, 8],\n",
      "               [0, 1, 2],\n",
      "               [3, 4, 5]])\n",
      "    \n",
      "    poisson(...) method of mtrand.RandomState instance\n",
      "        poisson(lam=1.0, size=None)\n",
      "        \n",
      "        Draw samples from a Poisson distribution.\n",
      "        \n",
      "        The Poisson distribution is the limit of the binomial distribution\n",
      "        for large N.\n",
      "        \n",
      "        Parameters\n",
      "        ----------\n",
      "        lam : float or array_like of floats\n",
      "            Expectation of interval, should be >= 0. A sequence of expectation\n",
      "            intervals must be broadcastable over the requested size.\n",
      "        size : int or tuple of ints, optional\n",
      "            Output shape.  If the given shape is, e.g., ``(m, n, k)``, then\n",
      "            ``m * n * k`` samples are drawn.  If size is ``None`` (default),\n",
      "            a single value is returned if ``lam`` is a scalar. Otherwise,\n",
      "            ``np.array(lam).size`` samples are drawn.\n",
      "        \n",
      "        Returns\n",
      "        -------\n",
      "        out : ndarray or scalar\n",
      "            Drawn samples from the parameterized Poisson distribution.\n",
      "        \n",
      "        Notes\n",
      "        -----\n",
      "        The Poisson distribution\n",
      "        \n",
      "        .. math:: f(k; \\lambda)=\\frac{\\lambda^k e^{-\\lambda}}{k!}\n",
      "        \n",
      "        For events with an expected separation :math:`\\lambda` the Poisson\n",
      "        distribution :math:`f(k; \\lambda)` describes the probability of\n",
      "        :math:`k` events occurring within the observed\n",
      "        interval :math:`\\lambda`.\n",
      "        \n",
      "        Because the output is limited to the range of the C long type, a\n",
      "        ValueError is raised when `lam` is within 10 sigma of the maximum\n",
      "        representable value.\n",
      "        \n",
      "        References\n",
      "        ----------\n",
      "        .. [1] Weisstein, Eric W. \"Poisson Distribution.\"\n",
      "               From MathWorld--A Wolfram Web Resource.\n",
      "               http://mathworld.wolfram.com/PoissonDistribution.html\n",
      "        .. [2] Wikipedia, \"Poisson distribution\",\n",
      "               http://en.wikipedia.org/wiki/Poisson_distribution\n",
      "        \n",
      "        Examples\n",
      "        --------\n",
      "        Draw samples from the distribution:\n",
      "        \n",
      "        >>> import numpy as np\n",
      "        >>> s = np.random.poisson(5, 10000)\n",
      "        \n",
      "        Display histogram of the sample:\n",
      "        \n",
      "        >>> import matplotlib.pyplot as plt\n",
      "        >>> count, bins, ignored = plt.hist(s, 14, density=True)\n",
      "        >>> plt.show()\n",
      "        \n",
      "        Draw each 100 values for lambda 100 and 500:\n",
      "        \n",
      "        >>> s = np.random.poisson(lam=(100., 500.), size=(100, 2))\n",
      "    \n",
      "    power(...) method of mtrand.RandomState instance\n",
      "        power(a, size=None)\n",
      "        \n",
      "        Draws samples in [0, 1] from a power distribution with positive\n",
      "        exponent a - 1.\n",
      "        \n",
      "        Also known as the power function distribution.\n",
      "        \n",
      "        Parameters\n",
      "        ----------\n",
      "        a : float or array_like of floats\n",
      "            Parameter of the distribution. Should be greater than zero.\n",
      "        size : int or tuple of ints, optional\n",
      "            Output shape.  If the given shape is, e.g., ``(m, n, k)``, then\n",
      "            ``m * n * k`` samples are drawn.  If size is ``None`` (default),\n",
      "            a single value is returned if ``a`` is a scalar.  Otherwise,\n",
      "            ``np.array(a).size`` samples are drawn.\n",
      "        \n",
      "        Returns\n",
      "        -------\n",
      "        out : ndarray or scalar\n",
      "            Drawn samples from the parameterized power distribution.\n",
      "        \n",
      "        Raises\n",
      "        ------\n",
      "        ValueError\n",
      "            If a < 1.\n",
      "        \n",
      "        Notes\n",
      "        -----\n",
      "        The probability density function is\n",
      "        \n",
      "        .. math:: P(x; a) = ax^{a-1}, 0 \\le x \\le 1, a>0.\n",
      "        \n",
      "        The power function distribution is just the inverse of the Pareto\n",
      "        distribution. It may also be seen as a special case of the Beta\n",
      "        distribution.\n",
      "        \n",
      "        It is used, for example, in modeling the over-reporting of insurance\n",
      "        claims.\n",
      "        \n",
      "        References\n",
      "        ----------\n",
      "        .. [1] Christian Kleiber, Samuel Kotz, \"Statistical size distributions\n",
      "               in economics and actuarial sciences\", Wiley, 2003.\n",
      "        .. [2] Heckert, N. A. and Filliben, James J. \"NIST Handbook 148:\n",
      "               Dataplot Reference Manual, Volume 2: Let Subcommands and Library\n",
      "               Functions\", National Institute of Standards and Technology\n",
      "               Handbook Series, June 2003.\n",
      "               http://www.itl.nist.gov/div898/software/dataplot/refman2/auxillar/powpdf.pdf\n",
      "        \n",
      "        Examples\n",
      "        --------\n",
      "        Draw samples from the distribution:\n",
      "        \n",
      "        >>> a = 5. # shape\n",
      "        >>> samples = 1000\n",
      "        >>> s = np.random.power(a, samples)\n",
      "        \n",
      "        Display the histogram of the samples, along with\n",
      "        the probability density function:\n",
      "        \n",
      "        >>> import matplotlib.pyplot as plt\n",
      "        >>> count, bins, ignored = plt.hist(s, bins=30)\n",
      "        >>> x = np.linspace(0, 1, 100)\n",
      "        >>> y = a*x**(a-1.)\n",
      "        >>> normed_y = samples*np.diff(bins)[0]*y\n",
      "        >>> plt.plot(x, normed_y)\n",
      "        >>> plt.show()\n",
      "        \n",
      "        Compare the power function distribution to the inverse of the Pareto.\n",
      "        \n",
      "        >>> from scipy import stats\n",
      "        >>> rvs = np.random.power(5, 1000000)\n",
      "        >>> rvsp = np.random.pareto(5, 1000000)\n",
      "        >>> xx = np.linspace(0,1,100)\n",
      "        >>> powpdf = stats.powerlaw.pdf(xx,5)\n",
      "        \n",
      "        >>> plt.figure()\n",
      "        >>> plt.hist(rvs, bins=50, density=True)\n",
      "        >>> plt.plot(xx,powpdf,'r-')\n",
      "        >>> plt.title('np.random.power(5)')\n",
      "        \n",
      "        >>> plt.figure()\n",
      "        >>> plt.hist(1./(1.+rvsp), bins=50, density=True)\n",
      "        >>> plt.plot(xx,powpdf,'r-')\n",
      "        >>> plt.title('inverse of 1 + np.random.pareto(5)')\n",
      "        \n",
      "        >>> plt.figure()\n",
      "        >>> plt.hist(1./(1.+rvsp), bins=50, density=True)\n",
      "        >>> plt.plot(xx,powpdf,'r-')\n",
      "        >>> plt.title('inverse of stats.pareto(5)')\n",
      "    \n",
      "    rand(...) method of mtrand.RandomState instance\n",
      "        rand(d0, d1, ..., dn)\n",
      "        \n",
      "        Random values in a given shape.\n",
      "        \n",
      "        Create an array of the given shape and populate it with\n",
      "        random samples from a uniform distribution\n",
      "        over ``[0, 1)``.\n",
      "        \n",
      "        Parameters\n",
      "        ----------\n",
      "        d0, d1, ..., dn : int, optional\n",
      "            The dimensions of the returned array, should all be positive.\n",
      "            If no argument is given a single Python float is returned.\n",
      "        \n",
      "        Returns\n",
      "        -------\n",
      "        out : ndarray, shape ``(d0, d1, ..., dn)``\n",
      "            Random values.\n",
      "        \n",
      "        See Also\n",
      "        --------\n",
      "        random\n",
      "        \n",
      "        Notes\n",
      "        -----\n",
      "        This is a convenience function. If you want an interface that\n",
      "        takes a shape-tuple as the first argument, refer to\n",
      "        np.random.random_sample .\n",
      "        \n",
      "        Examples\n",
      "        --------\n",
      "        >>> np.random.rand(3,2)\n",
      "        array([[ 0.14022471,  0.96360618],  #random\n",
      "               [ 0.37601032,  0.25528411],  #random\n",
      "               [ 0.49313049,  0.94909878]]) #random\n",
      "    \n",
      "    randint(...) method of mtrand.RandomState instance\n",
      "        randint(low, high=None, size=None, dtype='l')\n",
      "        \n",
      "        Return random integers from `low` (inclusive) to `high` (exclusive).\n",
      "        \n",
      "        Return random integers from the \"discrete uniform\" distribution of\n",
      "        the specified dtype in the \"half-open\" interval [`low`, `high`). If\n",
      "        `high` is None (the default), then results are from [0, `low`).\n",
      "        \n",
      "        Parameters\n",
      "        ----------\n",
      "        low : int\n",
      "            Lowest (signed) integer to be drawn from the distribution (unless\n",
      "            ``high=None``, in which case this parameter is one above the\n",
      "            *highest* such integer).\n",
      "        high : int, optional\n",
      "            If provided, one above the largest (signed) integer to be drawn\n",
      "            from the distribution (see above for behavior if ``high=None``).\n",
      "        size : int or tuple of ints, optional\n",
      "            Output shape.  If the given shape is, e.g., ``(m, n, k)``, then\n",
      "            ``m * n * k`` samples are drawn.  Default is None, in which case a\n",
      "            single value is returned.\n",
      "        dtype : dtype, optional\n",
      "            Desired dtype of the result. All dtypes are determined by their\n",
      "            name, i.e., 'int64', 'int', etc, so byteorder is not available\n",
      "            and a specific precision may have different C types depending\n",
      "            on the platform. The default value is 'np.int'.\n",
      "        \n",
      "            .. versionadded:: 1.11.0\n",
      "        \n",
      "        Returns\n",
      "        -------\n",
      "        out : int or ndarray of ints\n",
      "            `size`-shaped array of random integers from the appropriate\n",
      "            distribution, or a single such random int if `size` not provided.\n",
      "        \n",
      "        See Also\n",
      "        --------\n",
      "        random.random_integers : similar to `randint`, only for the closed\n",
      "            interval [`low`, `high`], and 1 is the lowest value if `high` is\n",
      "            omitted. In particular, this other one is the one to use to generate\n",
      "            uniformly distributed discrete non-integers.\n",
      "        \n",
      "        Examples\n",
      "        --------\n",
      "        >>> np.random.randint(2, size=10)\n",
      "        array([1, 0, 0, 0, 1, 1, 0, 0, 1, 0])\n",
      "        >>> np.random.randint(1, size=10)\n",
      "        array([0, 0, 0, 0, 0, 0, 0, 0, 0, 0])\n",
      "        \n",
      "        Generate a 2 x 4 array of ints between 0 and 4, inclusive:\n",
      "        \n",
      "        >>> np.random.randint(5, size=(2, 4))\n",
      "        array([[4, 0, 2, 1],\n",
      "               [3, 2, 2, 0]])\n",
      "    \n",
      "    randn(...) method of mtrand.RandomState instance\n",
      "        randn(d0, d1, ..., dn)\n",
      "        \n",
      "        Return a sample (or samples) from the \"standard normal\" distribution.\n",
      "        \n",
      "        If positive, int_like or int-convertible arguments are provided,\n",
      "        `randn` generates an array of shape ``(d0, d1, ..., dn)``, filled\n",
      "        with random floats sampled from a univariate \"normal\" (Gaussian)\n",
      "        distribution of mean 0 and variance 1 (if any of the :math:`d_i` are\n",
      "        floats, they are first converted to integers by truncation). A single\n",
      "        float randomly sampled from the distribution is returned if no\n",
      "        argument is provided.\n",
      "        \n",
      "        This is a convenience function.  If you want an interface that takes a\n",
      "        tuple as the first argument, use `numpy.random.standard_normal` instead.\n",
      "        \n",
      "        Parameters\n",
      "        ----------\n",
      "        d0, d1, ..., dn : int, optional\n",
      "            The dimensions of the returned array, should be all positive.\n",
      "            If no argument is given a single Python float is returned.\n",
      "        \n",
      "        Returns\n",
      "        -------\n",
      "        Z : ndarray or float\n",
      "            A ``(d0, d1, ..., dn)``-shaped array of floating-point samples from\n",
      "            the standard normal distribution, or a single such float if\n",
      "            no parameters were supplied.\n",
      "        \n",
      "        See Also\n",
      "        --------\n",
      "        standard_normal : Similar, but takes a tuple as its argument.\n",
      "        \n",
      "        Notes\n",
      "        -----\n",
      "        For random samples from :math:`N(\\mu, \\sigma^2)`, use:\n",
      "        \n",
      "        ``sigma * np.random.randn(...) + mu``\n",
      "        \n",
      "        Examples\n",
      "        --------\n",
      "        >>> np.random.randn()\n",
      "        2.1923875335537315 #random\n",
      "        \n",
      "        Two-by-four array of samples from N(3, 6.25):\n",
      "        \n",
      "        >>> 2.5 * np.random.randn(2, 4) + 3\n",
      "        array([[-4.49401501,  4.00950034, -1.81814867,  7.29718677],  #random\n",
      "               [ 0.39924804,  4.68456316,  4.99394529,  4.84057254]]) #random\n",
      "    \n",
      "    random = random_sample(...) method of mtrand.RandomState instance\n",
      "        random_sample(size=None)\n",
      "        \n",
      "        Return random floats in the half-open interval [0.0, 1.0).\n",
      "        \n",
      "        Results are from the \"continuous uniform\" distribution over the\n",
      "        stated interval.  To sample :math:`Unif[a, b), b > a` multiply\n",
      "        the output of `random_sample` by `(b-a)` and add `a`::\n",
      "        \n",
      "          (b - a) * random_sample() + a\n",
      "        \n",
      "        Parameters\n",
      "        ----------\n",
      "        size : int or tuple of ints, optional\n",
      "            Output shape.  If the given shape is, e.g., ``(m, n, k)``, then\n",
      "            ``m * n * k`` samples are drawn.  Default is None, in which case a\n",
      "            single value is returned.\n",
      "        \n",
      "        Returns\n",
      "        -------\n",
      "        out : float or ndarray of floats\n",
      "            Array of random floats of shape `size` (unless ``size=None``, in which\n",
      "            case a single float is returned).\n",
      "        \n",
      "        Examples\n",
      "        --------\n",
      "        >>> np.random.random_sample()\n",
      "        0.47108547995356098\n",
      "        >>> type(np.random.random_sample())\n",
      "        <type 'float'>\n",
      "        >>> np.random.random_sample((5,))\n",
      "        array([ 0.30220482,  0.86820401,  0.1654503 ,  0.11659149,  0.54323428])\n",
      "        \n",
      "        Three-by-two array of random numbers from [-5, 0):\n",
      "        \n",
      "        >>> 5 * np.random.random_sample((3, 2)) - 5\n",
      "        array([[-3.99149989, -0.52338984],\n",
      "               [-2.99091858, -0.79479508],\n",
      "               [-1.23204345, -1.75224494]])\n",
      "    \n",
      "    random_integers(...) method of mtrand.RandomState instance\n",
      "        random_integers(low, high=None, size=None)\n",
      "        \n",
      "        Random integers of type np.int between `low` and `high`, inclusive.\n",
      "        \n",
      "        Return random integers of type np.int from the \"discrete uniform\"\n",
      "        distribution in the closed interval [`low`, `high`].  If `high` is\n",
      "        None (the default), then results are from [1, `low`]. The np.int\n",
      "        type translates to the C long type used by Python 2 for \"short\"\n",
      "        integers and its precision is platform dependent.\n",
      "        \n",
      "        This function has been deprecated. Use randint instead.\n",
      "        \n",
      "        .. deprecated:: 1.11.0\n",
      "        \n",
      "        Parameters\n",
      "        ----------\n",
      "        low : int\n",
      "            Lowest (signed) integer to be drawn from the distribution (unless\n",
      "            ``high=None``, in which case this parameter is the *highest* such\n",
      "            integer).\n",
      "        high : int, optional\n",
      "            If provided, the largest (signed) integer to be drawn from the\n",
      "            distribution (see above for behavior if ``high=None``).\n",
      "        size : int or tuple of ints, optional\n",
      "            Output shape.  If the given shape is, e.g., ``(m, n, k)``, then\n",
      "            ``m * n * k`` samples are drawn.  Default is None, in which case a\n",
      "            single value is returned.\n",
      "        \n",
      "        Returns\n",
      "        -------\n",
      "        out : int or ndarray of ints\n",
      "            `size`-shaped array of random integers from the appropriate\n",
      "            distribution, or a single such random int if `size` not provided.\n",
      "        \n",
      "        See Also\n",
      "        --------\n",
      "        randint : Similar to `random_integers`, only for the half-open\n",
      "            interval [`low`, `high`), and 0 is the lowest value if `high` is\n",
      "            omitted.\n",
      "        \n",
      "        Notes\n",
      "        -----\n",
      "        To sample from N evenly spaced floating-point numbers between a and b,\n",
      "        use::\n",
      "        \n",
      "          a + (b - a) * (np.random.random_integers(N) - 1) / (N - 1.)\n",
      "        \n",
      "        Examples\n",
      "        --------\n",
      "        >>> np.random.random_integers(5)\n",
      "        4\n",
      "        >>> type(np.random.random_integers(5))\n",
      "        <type 'int'>\n",
      "        >>> np.random.random_integers(5, size=(3,2))\n",
      "        array([[5, 4],\n",
      "               [3, 3],\n",
      "               [4, 5]])\n",
      "        \n",
      "        Choose five random numbers from the set of five evenly-spaced\n",
      "        numbers between 0 and 2.5, inclusive (*i.e.*, from the set\n",
      "        :math:`{0, 5/8, 10/8, 15/8, 20/8}`):\n",
      "        \n",
      "        >>> 2.5 * (np.random.random_integers(5, size=(5,)) - 1) / 4.\n",
      "        array([ 0.625,  1.25 ,  0.625,  0.625,  2.5  ])\n",
      "        \n",
      "        Roll two six sided dice 1000 times and sum the results:\n",
      "        \n",
      "        >>> d1 = np.random.random_integers(1, 6, 1000)\n",
      "        >>> d2 = np.random.random_integers(1, 6, 1000)\n",
      "        >>> dsums = d1 + d2\n",
      "        \n",
      "        Display results as a histogram:\n",
      "        \n",
      "        >>> import matplotlib.pyplot as plt\n",
      "        >>> count, bins, ignored = plt.hist(dsums, 11, density=True)\n",
      "        >>> plt.show()\n",
      "    \n",
      "    random_sample(...) method of mtrand.RandomState instance\n",
      "        random_sample(size=None)\n",
      "        \n",
      "        Return random floats in the half-open interval [0.0, 1.0).\n",
      "        \n",
      "        Results are from the \"continuous uniform\" distribution over the\n",
      "        stated interval.  To sample :math:`Unif[a, b), b > a` multiply\n",
      "        the output of `random_sample` by `(b-a)` and add `a`::\n",
      "        \n",
      "          (b - a) * random_sample() + a\n",
      "        \n",
      "        Parameters\n",
      "        ----------\n",
      "        size : int or tuple of ints, optional\n",
      "            Output shape.  If the given shape is, e.g., ``(m, n, k)``, then\n",
      "            ``m * n * k`` samples are drawn.  Default is None, in which case a\n",
      "            single value is returned.\n",
      "        \n",
      "        Returns\n",
      "        -------\n",
      "        out : float or ndarray of floats\n",
      "            Array of random floats of shape `size` (unless ``size=None``, in which\n",
      "            case a single float is returned).\n",
      "        \n",
      "        Examples\n",
      "        --------\n",
      "        >>> np.random.random_sample()\n",
      "        0.47108547995356098\n",
      "        >>> type(np.random.random_sample())\n",
      "        <type 'float'>\n",
      "        >>> np.random.random_sample((5,))\n",
      "        array([ 0.30220482,  0.86820401,  0.1654503 ,  0.11659149,  0.54323428])\n",
      "        \n",
      "        Three-by-two array of random numbers from [-5, 0):\n",
      "        \n",
      "        >>> 5 * np.random.random_sample((3, 2)) - 5\n",
      "        array([[-3.99149989, -0.52338984],\n",
      "               [-2.99091858, -0.79479508],\n",
      "               [-1.23204345, -1.75224494]])\n",
      "    \n",
      "    ranf = random_sample(...) method of mtrand.RandomState instance\n",
      "        random_sample(size=None)\n",
      "        \n",
      "        Return random floats in the half-open interval [0.0, 1.0).\n",
      "        \n",
      "        Results are from the \"continuous uniform\" distribution over the\n",
      "        stated interval.  To sample :math:`Unif[a, b), b > a` multiply\n",
      "        the output of `random_sample` by `(b-a)` and add `a`::\n",
      "        \n",
      "          (b - a) * random_sample() + a\n",
      "        \n",
      "        Parameters\n",
      "        ----------\n",
      "        size : int or tuple of ints, optional\n",
      "            Output shape.  If the given shape is, e.g., ``(m, n, k)``, then\n",
      "            ``m * n * k`` samples are drawn.  Default is None, in which case a\n",
      "            single value is returned.\n",
      "        \n",
      "        Returns\n",
      "        -------\n",
      "        out : float or ndarray of floats\n",
      "            Array of random floats of shape `size` (unless ``size=None``, in which\n",
      "            case a single float is returned).\n",
      "        \n",
      "        Examples\n",
      "        --------\n",
      "        >>> np.random.random_sample()\n",
      "        0.47108547995356098\n",
      "        >>> type(np.random.random_sample())\n",
      "        <type 'float'>\n",
      "        >>> np.random.random_sample((5,))\n",
      "        array([ 0.30220482,  0.86820401,  0.1654503 ,  0.11659149,  0.54323428])\n",
      "        \n",
      "        Three-by-two array of random numbers from [-5, 0):\n",
      "        \n",
      "        >>> 5 * np.random.random_sample((3, 2)) - 5\n",
      "        array([[-3.99149989, -0.52338984],\n",
      "               [-2.99091858, -0.79479508],\n",
      "               [-1.23204345, -1.75224494]])\n",
      "    \n",
      "    rayleigh(...) method of mtrand.RandomState instance\n",
      "        rayleigh(scale=1.0, size=None)\n",
      "        \n",
      "        Draw samples from a Rayleigh distribution.\n",
      "        \n",
      "        The :math:`\\chi` and Weibull distributions are generalizations of the\n",
      "        Rayleigh.\n",
      "        \n",
      "        Parameters\n",
      "        ----------\n",
      "        scale : float or array_like of floats, optional\n",
      "            Scale, also equals the mode. Should be >= 0. Default is 1.\n",
      "        size : int or tuple of ints, optional\n",
      "            Output shape.  If the given shape is, e.g., ``(m, n, k)``, then\n",
      "            ``m * n * k`` samples are drawn.  If size is ``None`` (default),\n",
      "            a single value is returned if ``scale`` is a scalar.  Otherwise,\n",
      "            ``np.array(scale).size`` samples are drawn.\n",
      "        \n",
      "        Returns\n",
      "        -------\n",
      "        out : ndarray or scalar\n",
      "            Drawn samples from the parameterized Rayleigh distribution.\n",
      "        \n",
      "        Notes\n",
      "        -----\n",
      "        The probability density function for the Rayleigh distribution is\n",
      "        \n",
      "        .. math:: P(x;scale) = \\frac{x}{scale^2}e^{\\frac{-x^2}{2 \\cdotp scale^2}}\n",
      "        \n",
      "        The Rayleigh distribution would arise, for example, if the East\n",
      "        and North components of the wind velocity had identical zero-mean\n",
      "        Gaussian distributions.  Then the wind speed would have a Rayleigh\n",
      "        distribution.\n",
      "        \n",
      "        References\n",
      "        ----------\n",
      "        .. [1] Brighton Webs Ltd., \"Rayleigh Distribution,\"\n",
      "               http://www.brighton-webs.co.uk/distributions/rayleigh.asp\n",
      "        .. [2] Wikipedia, \"Rayleigh distribution\"\n",
      "               http://en.wikipedia.org/wiki/Rayleigh_distribution\n",
      "        \n",
      "        Examples\n",
      "        --------\n",
      "        Draw values from the distribution and plot the histogram\n",
      "        \n",
      "        >>> values = hist(np.random.rayleigh(3, 100000), bins=200, density=True)\n",
      "        \n",
      "        Wave heights tend to follow a Rayleigh distribution. If the mean wave\n",
      "        height is 1 meter, what fraction of waves are likely to be larger than 3\n",
      "        meters?\n",
      "        \n",
      "        >>> meanvalue = 1\n",
      "        >>> modevalue = np.sqrt(2 / np.pi) * meanvalue\n",
      "        >>> s = np.random.rayleigh(modevalue, 1000000)\n",
      "        \n",
      "        The percentage of waves larger than 3 meters is:\n",
      "        \n",
      "        >>> 100.*sum(s>3)/1000000.\n",
      "        0.087300000000000003\n",
      "    \n",
      "    sample = random_sample(...) method of mtrand.RandomState instance\n",
      "        random_sample(size=None)\n",
      "        \n",
      "        Return random floats in the half-open interval [0.0, 1.0).\n",
      "        \n",
      "        Results are from the \"continuous uniform\" distribution over the\n",
      "        stated interval.  To sample :math:`Unif[a, b), b > a` multiply\n",
      "        the output of `random_sample` by `(b-a)` and add `a`::\n",
      "        \n",
      "          (b - a) * random_sample() + a\n",
      "        \n",
      "        Parameters\n",
      "        ----------\n",
      "        size : int or tuple of ints, optional\n",
      "            Output shape.  If the given shape is, e.g., ``(m, n, k)``, then\n",
      "            ``m * n * k`` samples are drawn.  Default is None, in which case a\n",
      "            single value is returned.\n",
      "        \n",
      "        Returns\n",
      "        -------\n",
      "        out : float or ndarray of floats\n",
      "            Array of random floats of shape `size` (unless ``size=None``, in which\n",
      "            case a single float is returned).\n",
      "        \n",
      "        Examples\n",
      "        --------\n",
      "        >>> np.random.random_sample()\n",
      "        0.47108547995356098\n",
      "        >>> type(np.random.random_sample())\n",
      "        <type 'float'>\n",
      "        >>> np.random.random_sample((5,))\n",
      "        array([ 0.30220482,  0.86820401,  0.1654503 ,  0.11659149,  0.54323428])\n",
      "        \n",
      "        Three-by-two array of random numbers from [-5, 0):\n",
      "        \n",
      "        >>> 5 * np.random.random_sample((3, 2)) - 5\n",
      "        array([[-3.99149989, -0.52338984],\n",
      "               [-2.99091858, -0.79479508],\n",
      "               [-1.23204345, -1.75224494]])\n",
      "    \n",
      "    seed(...) method of mtrand.RandomState instance\n",
      "        seed(seed=None)\n",
      "        \n",
      "        Seed the generator.\n",
      "        \n",
      "        This method is called when `RandomState` is initialized. It can be\n",
      "        called again to re-seed the generator. For details, see `RandomState`.\n",
      "        \n",
      "        Parameters\n",
      "        ----------\n",
      "        seed : int or 1-d array_like, optional\n",
      "            Seed for `RandomState`.\n",
      "            Must be convertible to 32 bit unsigned integers.\n",
      "        \n",
      "        See Also\n",
      "        --------\n",
      "        RandomState\n",
      "    \n",
      "    set_state(...) method of mtrand.RandomState instance\n",
      "        set_state(state)\n",
      "        \n",
      "        Set the internal state of the generator from a tuple.\n",
      "        \n",
      "        For use if one has reason to manually (re-)set the internal state of the\n",
      "        \"Mersenne Twister\"[1]_ pseudo-random number generating algorithm.\n",
      "        \n",
      "        Parameters\n",
      "        ----------\n",
      "        state : tuple(str, ndarray of 624 uints, int, int, float)\n",
      "            The `state` tuple has the following items:\n",
      "        \n",
      "            1. the string 'MT19937', specifying the Mersenne Twister algorithm.\n",
      "            2. a 1-D array of 624 unsigned integers ``keys``.\n",
      "            3. an integer ``pos``.\n",
      "            4. an integer ``has_gauss``.\n",
      "            5. a float ``cached_gaussian``.\n",
      "        \n",
      "        Returns\n",
      "        -------\n",
      "        out : None\n",
      "            Returns 'None' on success.\n",
      "        \n",
      "        See Also\n",
      "        --------\n",
      "        get_state\n",
      "        \n",
      "        Notes\n",
      "        -----\n",
      "        `set_state` and `get_state` are not needed to work with any of the\n",
      "        random distributions in NumPy. If the internal state is manually altered,\n",
      "        the user should know exactly what he/she is doing.\n",
      "        \n",
      "        For backwards compatibility, the form (str, array of 624 uints, int) is\n",
      "        also accepted although it is missing some information about the cached\n",
      "        Gaussian value: ``state = ('MT19937', keys, pos)``.\n",
      "        \n",
      "        References\n",
      "        ----------\n",
      "        .. [1] M. Matsumoto and T. Nishimura, \"Mersenne Twister: A\n",
      "           623-dimensionally equidistributed uniform pseudorandom number\n",
      "           generator,\" *ACM Trans. on Modeling and Computer Simulation*,\n",
      "           Vol. 8, No. 1, pp. 3-30, Jan. 1998.\n",
      "    \n",
      "    shuffle(...) method of mtrand.RandomState instance\n",
      "        shuffle(x)\n",
      "        \n",
      "        Modify a sequence in-place by shuffling its contents.\n",
      "        \n",
      "        This function only shuffles the array along the first axis of a\n",
      "        multi-dimensional array. The order of sub-arrays is changed but\n",
      "        their contents remains the same.\n",
      "        \n",
      "        Parameters\n",
      "        ----------\n",
      "        x : array_like\n",
      "            The array or list to be shuffled.\n",
      "        \n",
      "        Returns\n",
      "        -------\n",
      "        None\n",
      "        \n",
      "        Examples\n",
      "        --------\n",
      "        >>> arr = np.arange(10)\n",
      "        >>> np.random.shuffle(arr)\n",
      "        >>> arr\n",
      "        [1 7 5 2 9 4 3 6 0 8]\n",
      "        \n",
      "        Multi-dimensional arrays are only shuffled along the first axis:\n",
      "        \n",
      "        >>> arr = np.arange(9).reshape((3, 3))\n",
      "        >>> np.random.shuffle(arr)\n",
      "        >>> arr\n",
      "        array([[3, 4, 5],\n",
      "               [6, 7, 8],\n",
      "               [0, 1, 2]])\n",
      "    \n",
      "    standard_cauchy(...) method of mtrand.RandomState instance\n",
      "        standard_cauchy(size=None)\n",
      "        \n",
      "        Draw samples from a standard Cauchy distribution with mode = 0.\n",
      "        \n",
      "        Also known as the Lorentz distribution.\n",
      "        \n",
      "        Parameters\n",
      "        ----------\n",
      "        size : int or tuple of ints, optional\n",
      "            Output shape.  If the given shape is, e.g., ``(m, n, k)``, then\n",
      "            ``m * n * k`` samples are drawn.  Default is None, in which case a\n",
      "            single value is returned.\n",
      "        \n",
      "        Returns\n",
      "        -------\n",
      "        samples : ndarray or scalar\n",
      "            The drawn samples.\n",
      "        \n",
      "        Notes\n",
      "        -----\n",
      "        The probability density function for the full Cauchy distribution is\n",
      "        \n",
      "        .. math:: P(x; x_0, \\gamma) = \\frac{1}{\\pi \\gamma \\bigl[ 1+\n",
      "                  (\\frac{x-x_0}{\\gamma})^2 \\bigr] }\n",
      "        \n",
      "        and the Standard Cauchy distribution just sets :math:`x_0=0` and\n",
      "        :math:`\\gamma=1`\n",
      "        \n",
      "        The Cauchy distribution arises in the solution to the driven harmonic\n",
      "        oscillator problem, and also describes spectral line broadening. It\n",
      "        also describes the distribution of values at which a line tilted at\n",
      "        a random angle will cut the x axis.\n",
      "        \n",
      "        When studying hypothesis tests that assume normality, seeing how the\n",
      "        tests perform on data from a Cauchy distribution is a good indicator of\n",
      "        their sensitivity to a heavy-tailed distribution, since the Cauchy looks\n",
      "        very much like a Gaussian distribution, but with heavier tails.\n",
      "        \n",
      "        References\n",
      "        ----------\n",
      "        .. [1] NIST/SEMATECH e-Handbook of Statistical Methods, \"Cauchy\n",
      "              Distribution\",\n",
      "              http://www.itl.nist.gov/div898/handbook/eda/section3/eda3663.htm\n",
      "        .. [2] Weisstein, Eric W. \"Cauchy Distribution.\" From MathWorld--A\n",
      "              Wolfram Web Resource.\n",
      "              http://mathworld.wolfram.com/CauchyDistribution.html\n",
      "        .. [3] Wikipedia, \"Cauchy distribution\"\n",
      "              http://en.wikipedia.org/wiki/Cauchy_distribution\n",
      "        \n",
      "        Examples\n",
      "        --------\n",
      "        Draw samples and plot the distribution:\n",
      "        \n",
      "        >>> s = np.random.standard_cauchy(1000000)\n",
      "        >>> s = s[(s>-25) & (s<25)]  # truncate distribution so it plots well\n",
      "        >>> plt.hist(s, bins=100)\n",
      "        >>> plt.show()\n",
      "    \n",
      "    standard_exponential(...) method of mtrand.RandomState instance\n",
      "        standard_exponential(size=None)\n",
      "        \n",
      "        Draw samples from the standard exponential distribution.\n",
      "        \n",
      "        `standard_exponential` is identical to the exponential distribution\n",
      "        with a scale parameter of 1.\n",
      "        \n",
      "        Parameters\n",
      "        ----------\n",
      "        size : int or tuple of ints, optional\n",
      "            Output shape.  If the given shape is, e.g., ``(m, n, k)``, then\n",
      "            ``m * n * k`` samples are drawn.  Default is None, in which case a\n",
      "            single value is returned.\n",
      "        \n",
      "        Returns\n",
      "        -------\n",
      "        out : float or ndarray\n",
      "            Drawn samples.\n",
      "        \n",
      "        Examples\n",
      "        --------\n",
      "        Output a 3x8000 array:\n",
      "        \n",
      "        >>> n = np.random.standard_exponential((3, 8000))\n",
      "    \n",
      "    standard_gamma(...) method of mtrand.RandomState instance\n",
      "        standard_gamma(shape, size=None)\n",
      "        \n",
      "        Draw samples from a standard Gamma distribution.\n",
      "        \n",
      "        Samples are drawn from a Gamma distribution with specified parameters,\n",
      "        shape (sometimes designated \"k\") and scale=1.\n",
      "        \n",
      "        Parameters\n",
      "        ----------\n",
      "        shape : float or array_like of floats\n",
      "            Parameter, should be > 0.\n",
      "        size : int or tuple of ints, optional\n",
      "            Output shape.  If the given shape is, e.g., ``(m, n, k)``, then\n",
      "            ``m * n * k`` samples are drawn.  If size is ``None`` (default),\n",
      "            a single value is returned if ``shape`` is a scalar.  Otherwise,\n",
      "            ``np.array(shape).size`` samples are drawn.\n",
      "        \n",
      "        Returns\n",
      "        -------\n",
      "        out : ndarray or scalar\n",
      "            Drawn samples from the parameterized standard gamma distribution.\n",
      "        \n",
      "        See Also\n",
      "        --------\n",
      "        scipy.stats.gamma : probability density function, distribution or\n",
      "            cumulative density function, etc.\n",
      "        \n",
      "        Notes\n",
      "        -----\n",
      "        The probability density for the Gamma distribution is\n",
      "        \n",
      "        .. math:: p(x) = x^{k-1}\\frac{e^{-x/\\theta}}{\\theta^k\\Gamma(k)},\n",
      "        \n",
      "        where :math:`k` is the shape and :math:`\\theta` the scale,\n",
      "        and :math:`\\Gamma` is the Gamma function.\n",
      "        \n",
      "        The Gamma distribution is often used to model the times to failure of\n",
      "        electronic components, and arises naturally in processes for which the\n",
      "        waiting times between Poisson distributed events are relevant.\n",
      "        \n",
      "        References\n",
      "        ----------\n",
      "        .. [1] Weisstein, Eric W. \"Gamma Distribution.\" From MathWorld--A\n",
      "               Wolfram Web Resource.\n",
      "               http://mathworld.wolfram.com/GammaDistribution.html\n",
      "        .. [2] Wikipedia, \"Gamma distribution\",\n",
      "               http://en.wikipedia.org/wiki/Gamma_distribution\n",
      "        \n",
      "        Examples\n",
      "        --------\n",
      "        Draw samples from the distribution:\n",
      "        \n",
      "        >>> shape, scale = 2., 1. # mean and width\n",
      "        >>> s = np.random.standard_gamma(shape, 1000000)\n",
      "        \n",
      "        Display the histogram of the samples, along with\n",
      "        the probability density function:\n",
      "        \n",
      "        >>> import matplotlib.pyplot as plt\n",
      "        >>> import scipy.special as sps\n",
      "        >>> count, bins, ignored = plt.hist(s, 50, density=True)\n",
      "        >>> y = bins**(shape-1) * ((np.exp(-bins/scale))/ \\\n",
      "        ...                       (sps.gamma(shape) * scale**shape))\n",
      "        >>> plt.plot(bins, y, linewidth=2, color='r')\n",
      "        >>> plt.show()\n",
      "    \n",
      "    standard_normal(...) method of mtrand.RandomState instance\n",
      "        standard_normal(size=None)\n",
      "        \n",
      "        Draw samples from a standard Normal distribution (mean=0, stdev=1).\n",
      "        \n",
      "        Parameters\n",
      "        ----------\n",
      "        size : int or tuple of ints, optional\n",
      "            Output shape.  If the given shape is, e.g., ``(m, n, k)``, then\n",
      "            ``m * n * k`` samples are drawn.  Default is None, in which case a\n",
      "            single value is returned.\n",
      "        \n",
      "        Returns\n",
      "        -------\n",
      "        out : float or ndarray\n",
      "            Drawn samples.\n",
      "        \n",
      "        Examples\n",
      "        --------\n",
      "        >>> s = np.random.standard_normal(8000)\n",
      "        >>> s\n",
      "        array([ 0.6888893 ,  0.78096262, -0.89086505, ...,  0.49876311, #random\n",
      "               -0.38672696, -0.4685006 ])                               #random\n",
      "        >>> s.shape\n",
      "        (8000,)\n",
      "        >>> s = np.random.standard_normal(size=(3, 4, 2))\n",
      "        >>> s.shape\n",
      "        (3, 4, 2)\n",
      "    \n",
      "    standard_t(...) method of mtrand.RandomState instance\n",
      "        standard_t(df, size=None)\n",
      "        \n",
      "        Draw samples from a standard Student's t distribution with `df` degrees\n",
      "        of freedom.\n",
      "        \n",
      "        A special case of the hyperbolic distribution.  As `df` gets\n",
      "        large, the result resembles that of the standard normal\n",
      "        distribution (`standard_normal`).\n",
      "        \n",
      "        Parameters\n",
      "        ----------\n",
      "        df : float or array_like of floats\n",
      "            Degrees of freedom, should be > 0.\n",
      "        size : int or tuple of ints, optional\n",
      "            Output shape.  If the given shape is, e.g., ``(m, n, k)``, then\n",
      "            ``m * n * k`` samples are drawn.  If size is ``None`` (default),\n",
      "            a single value is returned if ``df`` is a scalar.  Otherwise,\n",
      "            ``np.array(df).size`` samples are drawn.\n",
      "        \n",
      "        Returns\n",
      "        -------\n",
      "        out : ndarray or scalar\n",
      "            Drawn samples from the parameterized standard Student's t distribution.\n",
      "        \n",
      "        Notes\n",
      "        -----\n",
      "        The probability density function for the t distribution is\n",
      "        \n",
      "        .. math:: P(x, df) = \\frac{\\Gamma(\\frac{df+1}{2})}{\\sqrt{\\pi df}\n",
      "                  \\Gamma(\\frac{df}{2})}\\Bigl( 1+\\frac{x^2}{df} \\Bigr)^{-(df+1)/2}\n",
      "        \n",
      "        The t test is based on an assumption that the data come from a\n",
      "        Normal distribution. The t test provides a way to test whether\n",
      "        the sample mean (that is the mean calculated from the data) is\n",
      "        a good estimate of the true mean.\n",
      "        \n",
      "        The derivation of the t-distribution was first published in\n",
      "        1908 by William Gosset while working for the Guinness Brewery\n",
      "        in Dublin. Due to proprietary issues, he had to publish under\n",
      "        a pseudonym, and so he used the name Student.\n",
      "        \n",
      "        References\n",
      "        ----------\n",
      "        .. [1] Dalgaard, Peter, \"Introductory Statistics With R\",\n",
      "               Springer, 2002.\n",
      "        .. [2] Wikipedia, \"Student's t-distribution\"\n",
      "               http://en.wikipedia.org/wiki/Student's_t-distribution\n",
      "        \n",
      "        Examples\n",
      "        --------\n",
      "        From Dalgaard page 83 [1]_, suppose the daily energy intake for 11\n",
      "        women in Kj is:\n",
      "        \n",
      "        >>> intake = np.array([5260., 5470, 5640, 6180, 6390, 6515, 6805, 7515, \\\n",
      "        ...                    7515, 8230, 8770])\n",
      "        \n",
      "        Does their energy intake deviate systematically from the recommended\n",
      "        value of 7725 kJ?\n",
      "        \n",
      "        We have 10 degrees of freedom, so is the sample mean within 95% of the\n",
      "        recommended value?\n",
      "        \n",
      "        >>> s = np.random.standard_t(10, size=100000)\n",
      "        >>> np.mean(intake)\n",
      "        6753.636363636364\n",
      "        >>> intake.std(ddof=1)\n",
      "        1142.1232221373727\n",
      "        \n",
      "        Calculate the t statistic, setting the ddof parameter to the unbiased\n",
      "        value so the divisor in the standard deviation will be degrees of\n",
      "        freedom, N-1.\n",
      "        \n",
      "        >>> t = (np.mean(intake)-7725)/(intake.std(ddof=1)/np.sqrt(len(intake)))\n",
      "        >>> import matplotlib.pyplot as plt\n",
      "        >>> h = plt.hist(s, bins=100, density=True)\n",
      "        \n",
      "        For a one-sided t-test, how far out in the distribution does the t\n",
      "        statistic appear?\n",
      "        \n",
      "        >>> np.sum(s<t) / float(len(s))\n",
      "        0.0090699999999999999  #random\n",
      "        \n",
      "        So the p-value is about 0.009, which says the null hypothesis has a\n",
      "        probability of about 99% of being true.\n",
      "    \n",
      "    triangular(...) method of mtrand.RandomState instance\n",
      "        triangular(left, mode, right, size=None)\n",
      "        \n",
      "        Draw samples from the triangular distribution over the\n",
      "        interval ``[left, right]``.\n",
      "        \n",
      "        The triangular distribution is a continuous probability\n",
      "        distribution with lower limit left, peak at mode, and upper\n",
      "        limit right. Unlike the other distributions, these parameters\n",
      "        directly define the shape of the pdf.\n",
      "        \n",
      "        Parameters\n",
      "        ----------\n",
      "        left : float or array_like of floats\n",
      "            Lower limit.\n",
      "        mode : float or array_like of floats\n",
      "            The value where the peak of the distribution occurs.\n",
      "            The value should fulfill the condition ``left <= mode <= right``.\n",
      "        right : float or array_like of floats\n",
      "            Upper limit, should be larger than `left`.\n",
      "        size : int or tuple of ints, optional\n",
      "            Output shape.  If the given shape is, e.g., ``(m, n, k)``, then\n",
      "            ``m * n * k`` samples are drawn.  If size is ``None`` (default),\n",
      "            a single value is returned if ``left``, ``mode``, and ``right``\n",
      "            are all scalars.  Otherwise, ``np.broadcast(left, mode, right).size``\n",
      "            samples are drawn.\n",
      "        \n",
      "        Returns\n",
      "        -------\n",
      "        out : ndarray or scalar\n",
      "            Drawn samples from the parameterized triangular distribution.\n",
      "        \n",
      "        Notes\n",
      "        -----\n",
      "        The probability density function for the triangular distribution is\n",
      "        \n",
      "        .. math:: P(x;l, m, r) = \\begin{cases}\n",
      "                  \\frac{2(x-l)}{(r-l)(m-l)}& \\text{for $l \\leq x \\leq m$},\\\\\n",
      "                  \\frac{2(r-x)}{(r-l)(r-m)}& \\text{for $m \\leq x \\leq r$},\\\\\n",
      "                  0& \\text{otherwise}.\n",
      "                  \\end{cases}\n",
      "        \n",
      "        The triangular distribution is often used in ill-defined\n",
      "        problems where the underlying distribution is not known, but\n",
      "        some knowledge of the limits and mode exists. Often it is used\n",
      "        in simulations.\n",
      "        \n",
      "        References\n",
      "        ----------\n",
      "        .. [1] Wikipedia, \"Triangular distribution\"\n",
      "               http://en.wikipedia.org/wiki/Triangular_distribution\n",
      "        \n",
      "        Examples\n",
      "        --------\n",
      "        Draw values from the distribution and plot the histogram:\n",
      "        \n",
      "        >>> import matplotlib.pyplot as plt\n",
      "        >>> h = plt.hist(np.random.triangular(-3, 0, 8, 100000), bins=200,\n",
      "        ...              density=True)\n",
      "        >>> plt.show()\n",
      "    \n",
      "    uniform(...) method of mtrand.RandomState instance\n",
      "        uniform(low=0.0, high=1.0, size=None)\n",
      "        \n",
      "        Draw samples from a uniform distribution.\n",
      "        \n",
      "        Samples are uniformly distributed over the half-open interval\n",
      "        ``[low, high)`` (includes low, but excludes high).  In other words,\n",
      "        any value within the given interval is equally likely to be drawn\n",
      "        by `uniform`.\n",
      "        \n",
      "        Parameters\n",
      "        ----------\n",
      "        low : float or array_like of floats, optional\n",
      "            Lower boundary of the output interval.  All values generated will be\n",
      "            greater than or equal to low.  The default value is 0.\n",
      "        high : float or array_like of floats\n",
      "            Upper boundary of the output interval.  All values generated will be\n",
      "            less than high.  The default value is 1.0.\n",
      "        size : int or tuple of ints, optional\n",
      "            Output shape.  If the given shape is, e.g., ``(m, n, k)``, then\n",
      "            ``m * n * k`` samples are drawn.  If size is ``None`` (default),\n",
      "            a single value is returned if ``low`` and ``high`` are both scalars.\n",
      "            Otherwise, ``np.broadcast(low, high).size`` samples are drawn.\n",
      "        \n",
      "        Returns\n",
      "        -------\n",
      "        out : ndarray or scalar\n",
      "            Drawn samples from the parameterized uniform distribution.\n",
      "        \n",
      "        See Also\n",
      "        --------\n",
      "        randint : Discrete uniform distribution, yielding integers.\n",
      "        random_integers : Discrete uniform distribution over the closed\n",
      "                          interval ``[low, high]``.\n",
      "        random_sample : Floats uniformly distributed over ``[0, 1)``.\n",
      "        random : Alias for `random_sample`.\n",
      "        rand : Convenience function that accepts dimensions as input, e.g.,\n",
      "               ``rand(2,2)`` would generate a 2-by-2 array of floats,\n",
      "               uniformly distributed over ``[0, 1)``.\n",
      "        \n",
      "        Notes\n",
      "        -----\n",
      "        The probability density function of the uniform distribution is\n",
      "        \n",
      "        .. math:: p(x) = \\frac{1}{b - a}\n",
      "        \n",
      "        anywhere within the interval ``[a, b)``, and zero elsewhere.\n",
      "        \n",
      "        When ``high`` == ``low``, values of ``low`` will be returned.\n",
      "        If ``high`` < ``low``, the results are officially undefined\n",
      "        and may eventually raise an error, i.e. do not rely on this\n",
      "        function to behave when passed arguments satisfying that\n",
      "        inequality condition.\n",
      "        \n",
      "        Examples\n",
      "        --------\n",
      "        Draw samples from the distribution:\n",
      "        \n",
      "        >>> s = np.random.uniform(-1,0,1000)\n",
      "        \n",
      "        All values are within the given interval:\n",
      "        \n",
      "        >>> np.all(s >= -1)\n",
      "        True\n",
      "        >>> np.all(s < 0)\n",
      "        True\n",
      "        \n",
      "        Display the histogram of the samples, along with the\n",
      "        probability density function:\n",
      "        \n",
      "        >>> import matplotlib.pyplot as plt\n",
      "        >>> count, bins, ignored = plt.hist(s, 15, density=True)\n",
      "        >>> plt.plot(bins, np.ones_like(bins), linewidth=2, color='r')\n",
      "        >>> plt.show()\n",
      "    \n",
      "    vonmises(...) method of mtrand.RandomState instance\n",
      "        vonmises(mu, kappa, size=None)\n",
      "        \n",
      "        Draw samples from a von Mises distribution.\n",
      "        \n",
      "        Samples are drawn from a von Mises distribution with specified mode\n",
      "        (mu) and dispersion (kappa), on the interval [-pi, pi].\n",
      "        \n",
      "        The von Mises distribution (also known as the circular normal\n",
      "        distribution) is a continuous probability distribution on the unit\n",
      "        circle.  It may be thought of as the circular analogue of the normal\n",
      "        distribution.\n",
      "        \n",
      "        Parameters\n",
      "        ----------\n",
      "        mu : float or array_like of floats\n",
      "            Mode (\"center\") of the distribution.\n",
      "        kappa : float or array_like of floats\n",
      "            Dispersion of the distribution, has to be >=0.\n",
      "        size : int or tuple of ints, optional\n",
      "            Output shape.  If the given shape is, e.g., ``(m, n, k)``, then\n",
      "            ``m * n * k`` samples are drawn.  If size is ``None`` (default),\n",
      "            a single value is returned if ``mu`` and ``kappa`` are both scalars.\n",
      "            Otherwise, ``np.broadcast(mu, kappa).size`` samples are drawn.\n",
      "        \n",
      "        Returns\n",
      "        -------\n",
      "        out : ndarray or scalar\n",
      "            Drawn samples from the parameterized von Mises distribution.\n",
      "        \n",
      "        See Also\n",
      "        --------\n",
      "        scipy.stats.vonmises : probability density function, distribution, or\n",
      "            cumulative density function, etc.\n",
      "        \n",
      "        Notes\n",
      "        -----\n",
      "        The probability density for the von Mises distribution is\n",
      "        \n",
      "        .. math:: p(x) = \\frac{e^{\\kappa cos(x-\\mu)}}{2\\pi I_0(\\kappa)},\n",
      "        \n",
      "        where :math:`\\mu` is the mode and :math:`\\kappa` the dispersion,\n",
      "        and :math:`I_0(\\kappa)` is the modified Bessel function of order 0.\n",
      "        \n",
      "        The von Mises is named for Richard Edler von Mises, who was born in\n",
      "        Austria-Hungary, in what is now the Ukraine.  He fled to the United\n",
      "        States in 1939 and became a professor at Harvard.  He worked in\n",
      "        probability theory, aerodynamics, fluid mechanics, and philosophy of\n",
      "        science.\n",
      "        \n",
      "        References\n",
      "        ----------\n",
      "        .. [1] Abramowitz, M. and Stegun, I. A. (Eds.). \"Handbook of\n",
      "               Mathematical Functions with Formulas, Graphs, and Mathematical\n",
      "               Tables, 9th printing,\" New York: Dover, 1972.\n",
      "        .. [2] von Mises, R., \"Mathematical Theory of Probability\n",
      "               and Statistics\", New York: Academic Press, 1964.\n",
      "        \n",
      "        Examples\n",
      "        --------\n",
      "        Draw samples from the distribution:\n",
      "        \n",
      "        >>> mu, kappa = 0.0, 4.0 # mean and dispersion\n",
      "        >>> s = np.random.vonmises(mu, kappa, 1000)\n",
      "        \n",
      "        Display the histogram of the samples, along with\n",
      "        the probability density function:\n",
      "        \n",
      "        >>> import matplotlib.pyplot as plt\n",
      "        >>> from scipy.special import i0\n",
      "        >>> plt.hist(s, 50, density=True)\n",
      "        >>> x = np.linspace(-np.pi, np.pi, num=51)\n",
      "        >>> y = np.exp(kappa*np.cos(x-mu))/(2*np.pi*i0(kappa))\n",
      "        >>> plt.plot(x, y, linewidth=2, color='r')\n",
      "        >>> plt.show()\n",
      "    \n",
      "    wald(...) method of mtrand.RandomState instance\n",
      "        wald(mean, scale, size=None)\n",
      "        \n",
      "        Draw samples from a Wald, or inverse Gaussian, distribution.\n",
      "        \n",
      "        As the scale approaches infinity, the distribution becomes more like a\n",
      "        Gaussian. Some references claim that the Wald is an inverse Gaussian\n",
      "        with mean equal to 1, but this is by no means universal.\n",
      "        \n",
      "        The inverse Gaussian distribution was first studied in relationship to\n",
      "        Brownian motion. In 1956 M.C.K. Tweedie used the name inverse Gaussian\n",
      "        because there is an inverse relationship between the time to cover a\n",
      "        unit distance and distance covered in unit time.\n",
      "        \n",
      "        Parameters\n",
      "        ----------\n",
      "        mean : float or array_like of floats\n",
      "            Distribution mean, should be > 0.\n",
      "        scale : float or array_like of floats\n",
      "            Scale parameter, should be >= 0.\n",
      "        size : int or tuple of ints, optional\n",
      "            Output shape.  If the given shape is, e.g., ``(m, n, k)``, then\n",
      "            ``m * n * k`` samples are drawn.  If size is ``None`` (default),\n",
      "            a single value is returned if ``mean`` and ``scale`` are both scalars.\n",
      "            Otherwise, ``np.broadcast(mean, scale).size`` samples are drawn.\n",
      "        \n",
      "        Returns\n",
      "        -------\n",
      "        out : ndarray or scalar\n",
      "            Drawn samples from the parameterized Wald distribution.\n",
      "        \n",
      "        Notes\n",
      "        -----\n",
      "        The probability density function for the Wald distribution is\n",
      "        \n",
      "        .. math:: P(x;mean,scale) = \\sqrt{\\frac{scale}{2\\pi x^3}}e^\n",
      "                                    \\frac{-scale(x-mean)^2}{2\\cdotp mean^2x}\n",
      "        \n",
      "        As noted above the inverse Gaussian distribution first arise\n",
      "        from attempts to model Brownian motion. It is also a\n",
      "        competitor to the Weibull for use in reliability modeling and\n",
      "        modeling stock returns and interest rate processes.\n",
      "        \n",
      "        References\n",
      "        ----------\n",
      "        .. [1] Brighton Webs Ltd., Wald Distribution,\n",
      "               http://www.brighton-webs.co.uk/distributions/wald.asp\n",
      "        .. [2] Chhikara, Raj S., and Folks, J. Leroy, \"The Inverse Gaussian\n",
      "               Distribution: Theory : Methodology, and Applications\", CRC Press,\n",
      "               1988.\n",
      "        .. [3] Wikipedia, \"Wald distribution\"\n",
      "               http://en.wikipedia.org/wiki/Wald_distribution\n",
      "        \n",
      "        Examples\n",
      "        --------\n",
      "        Draw values from the distribution and plot the histogram:\n",
      "        \n",
      "        >>> import matplotlib.pyplot as plt\n",
      "        >>> h = plt.hist(np.random.wald(3, 2, 100000), bins=200, density=True)\n",
      "        >>> plt.show()\n",
      "    \n",
      "    weibull(...) method of mtrand.RandomState instance\n",
      "        weibull(a, size=None)\n",
      "        \n",
      "        Draw samples from a Weibull distribution.\n",
      "        \n",
      "        Draw samples from a 1-parameter Weibull distribution with the given\n",
      "        shape parameter `a`.\n",
      "        \n",
      "        .. math:: X = (-ln(U))^{1/a}\n",
      "        \n",
      "        Here, U is drawn from the uniform distribution over (0,1].\n",
      "        \n",
      "        The more common 2-parameter Weibull, including a scale parameter\n",
      "        :math:`\\lambda` is just :math:`X = \\lambda(-ln(U))^{1/a}`.\n",
      "        \n",
      "        Parameters\n",
      "        ----------\n",
      "        a : float or array_like of floats\n",
      "            Shape of the distribution. Should be greater than zero.\n",
      "        size : int or tuple of ints, optional\n",
      "            Output shape.  If the given shape is, e.g., ``(m, n, k)``, then\n",
      "            ``m * n * k`` samples are drawn.  If size is ``None`` (default),\n",
      "            a single value is returned if ``a`` is a scalar.  Otherwise,\n",
      "            ``np.array(a).size`` samples are drawn.\n",
      "        \n",
      "        Returns\n",
      "        -------\n",
      "        out : ndarray or scalar\n",
      "            Drawn samples from the parameterized Weibull distribution.\n",
      "        \n",
      "        See Also\n",
      "        --------\n",
      "        scipy.stats.weibull_max\n",
      "        scipy.stats.weibull_min\n",
      "        scipy.stats.genextreme\n",
      "        gumbel\n",
      "        \n",
      "        Notes\n",
      "        -----\n",
      "        The Weibull (or Type III asymptotic extreme value distribution\n",
      "        for smallest values, SEV Type III, or Rosin-Rammler\n",
      "        distribution) is one of a class of Generalized Extreme Value\n",
      "        (GEV) distributions used in modeling extreme value problems.\n",
      "        This class includes the Gumbel and Frechet distributions.\n",
      "        \n",
      "        The probability density for the Weibull distribution is\n",
      "        \n",
      "        .. math:: p(x) = \\frac{a}\n",
      "                         {\\lambda}(\\frac{x}{\\lambda})^{a-1}e^{-(x/\\lambda)^a},\n",
      "        \n",
      "        where :math:`a` is the shape and :math:`\\lambda` the scale.\n",
      "        \n",
      "        The function has its peak (the mode) at\n",
      "        :math:`\\lambda(\\frac{a-1}{a})^{1/a}`.\n",
      "        \n",
      "        When ``a = 1``, the Weibull distribution reduces to the exponential\n",
      "        distribution.\n",
      "        \n",
      "        References\n",
      "        ----------\n",
      "        .. [1] Waloddi Weibull, Royal Technical University, Stockholm,\n",
      "               1939 \"A Statistical Theory Of The Strength Of Materials\",\n",
      "               Ingeniorsvetenskapsakademiens Handlingar Nr 151, 1939,\n",
      "               Generalstabens Litografiska Anstalts Forlag, Stockholm.\n",
      "        .. [2] Waloddi Weibull, \"A Statistical Distribution Function of\n",
      "               Wide Applicability\", Journal Of Applied Mechanics ASME Paper\n",
      "               1951.\n",
      "        .. [3] Wikipedia, \"Weibull distribution\",\n",
      "               http://en.wikipedia.org/wiki/Weibull_distribution\n",
      "        \n",
      "        Examples\n",
      "        --------\n",
      "        Draw samples from the distribution:\n",
      "        \n",
      "        >>> a = 5. # shape\n",
      "        >>> s = np.random.weibull(a, 1000)\n",
      "        \n",
      "        Display the histogram of the samples, along with\n",
      "        the probability density function:\n",
      "        \n",
      "        >>> import matplotlib.pyplot as plt\n",
      "        >>> x = np.arange(1,100.)/50.\n",
      "        >>> def weib(x,n,a):\n",
      "        ...     return (a / n) * (x / n)**(a - 1) * np.exp(-(x / n)**a)\n",
      "        \n",
      "        >>> count, bins, ignored = plt.hist(np.random.weibull(5.,1000))\n",
      "        >>> x = np.arange(1,100.)/50.\n",
      "        >>> scale = count.max()/weib(x, 1., 5.).max()\n",
      "        >>> plt.plot(x, weib(x, 1., 5.)*scale)\n",
      "        >>> plt.show()\n",
      "    \n",
      "    zipf(...) method of mtrand.RandomState instance\n",
      "        zipf(a, size=None)\n",
      "        \n",
      "        Draw samples from a Zipf distribution.\n",
      "        \n",
      "        Samples are drawn from a Zipf distribution with specified parameter\n",
      "        `a` > 1.\n",
      "        \n",
      "        The Zipf distribution (also known as the zeta distribution) is a\n",
      "        continuous probability distribution that satisfies Zipf's law: the\n",
      "        frequency of an item is inversely proportional to its rank in a\n",
      "        frequency table.\n",
      "        \n",
      "        Parameters\n",
      "        ----------\n",
      "        a : float or array_like of floats\n",
      "            Distribution parameter. Should be greater than 1.\n",
      "        size : int or tuple of ints, optional\n",
      "            Output shape.  If the given shape is, e.g., ``(m, n, k)``, then\n",
      "            ``m * n * k`` samples are drawn.  If size is ``None`` (default),\n",
      "            a single value is returned if ``a`` is a scalar. Otherwise,\n",
      "            ``np.array(a).size`` samples are drawn.\n",
      "        \n",
      "        Returns\n",
      "        -------\n",
      "        out : ndarray or scalar\n",
      "            Drawn samples from the parameterized Zipf distribution.\n",
      "        \n",
      "        See Also\n",
      "        --------\n",
      "        scipy.stats.zipf : probability density function, distribution, or\n",
      "            cumulative density function, etc.\n",
      "        \n",
      "        Notes\n",
      "        -----\n",
      "        The probability density for the Zipf distribution is\n",
      "        \n",
      "        .. math:: p(x) = \\frac{x^{-a}}{\\zeta(a)},\n",
      "        \n",
      "        where :math:`\\zeta` is the Riemann Zeta function.\n",
      "        \n",
      "        It is named for the American linguist George Kingsley Zipf, who noted\n",
      "        that the frequency of any word in a sample of a language is inversely\n",
      "        proportional to its rank in the frequency table.\n",
      "        \n",
      "        References\n",
      "        ----------\n",
      "        .. [1] Zipf, G. K., \"Selected Studies of the Principle of Relative\n",
      "               Frequency in Language,\" Cambridge, MA: Harvard Univ. Press,\n",
      "               1932.\n",
      "        \n",
      "        Examples\n",
      "        --------\n",
      "        Draw samples from the distribution:\n",
      "        \n",
      "        >>> a = 2. # parameter\n",
      "        >>> s = np.random.zipf(a, 1000)\n",
      "        \n",
      "        Display the histogram of the samples, along with\n",
      "        the probability density function:\n",
      "        \n",
      "        >>> import matplotlib.pyplot as plt\n",
      "        >>> from scipy import special\n",
      "        \n",
      "        Truncate s values at 50 so plot is interesting:\n",
      "        \n",
      "        >>> count, bins, ignored = plt.hist(s[s<50], 50, density=True)\n",
      "        >>> x = np.arange(1., 50.)\n",
      "        >>> y = x**(-a) / special.zetac(a)\n",
      "        >>> plt.plot(x, y/max(y), linewidth=2, color='r')\n",
      "        >>> plt.show()\n",
      "\n",
      "DATA\n",
      "    __all__ = ['beta', 'binomial', 'bytes', 'chisquare', 'choice', 'dirich...\n",
      "\n",
      "FILE\n",
      "    c:\\users\\shaurya singhal\\appdata\\local\\programs\\python\\python37-32\\lib\\site-packages\\numpy\\random\\__init__.py\n",
      "\n",
      "\n"
     ]
    }
   ],
   "source": [
    "help(np.random)"
   ]
  },
  {
   "cell_type": "code",
   "execution_count": 39,
   "metadata": {},
   "outputs": [
    {
     "data": {
      "text/plain": [
       "array([17, 14, 18, 18, 11, 43, 24, 13,  9, 15, 26, 39])"
      ]
     },
     "execution_count": 39,
     "metadata": {},
     "output_type": "execute_result"
    }
   ],
   "source": [
    "np.random.randint(2,45,12)"
   ]
  },
  {
   "cell_type": "code",
   "execution_count": 40,
   "metadata": {},
   "outputs": [
    {
     "data": {
      "text/plain": [
       "array([0.99276065, 0.41500381, 0.25028878, 0.91046322, 0.04493408,\n",
       "       0.32149137, 0.14403006, 0.44153052, 0.32109934, 0.6895279 ,\n",
       "       0.72788751, 0.36467681])"
      ]
     },
     "execution_count": 40,
     "metadata": {},
     "output_type": "execute_result"
    }
   ],
   "source": [
    "np.random.rand(12)"
   ]
  },
  {
   "cell_type": "code",
   "execution_count": 41,
   "metadata": {},
   "outputs": [
    {
     "data": {
      "text/plain": [
       "array([-0.39758898,  1.09286962,  1.31434009,  1.03881812,  0.22472093,\n",
       "       -1.19395013, -0.59245433,  0.03993461, -0.05421944,  1.49273983,\n",
       "       -0.38237876, -0.37428445])"
      ]
     },
     "execution_count": 41,
     "metadata": {},
     "output_type": "execute_result"
    }
   ],
   "source": [
    "np.random.randn(12)"
   ]
  },
  {
   "cell_type": "code",
   "execution_count": 42,
   "metadata": {},
   "outputs": [
    {
     "data": {
      "text/plain": [
       "array([[0.75163235, 0.46451207, 0.24398095],\n",
       "       [0.8308684 , 0.4203051 , 0.97528916]])"
      ]
     },
     "execution_count": 42,
     "metadata": {},
     "output_type": "execute_result"
    }
   ],
   "source": [
    "np.random.random((2,3)) # random() inside random()"
   ]
  },
  {
   "cell_type": "code",
   "execution_count": 50,
   "metadata": {},
   "outputs": [
    {
     "data": {
      "text/plain": [
       "-0.16619521168481557"
      ]
     },
     "execution_count": 50,
     "metadata": {},
     "output_type": "execute_result"
    }
   ],
   "source": [
    "np.random.randn()"
   ]
  },
  {
   "cell_type": "markdown",
   "metadata": {},
   "source": [
    "## Note\n",
    "\n",
    "```python\n",
    ">>> print(np.arange(10000))\n",
    "[   0    1    2 ..., 9997 9998 9999]\n",
    ">>>\n",
    ">>> print(np.arange(10000).reshape(100,100))\n",
    "[[   0    1    2 ...,   97   98   99]\n",
    " [ 100  101  102 ...,  197  198  199]\n",
    " [ 200  201  202 ...,  297  298  299]\n",
    " ...,\n",
    " [9700 9701 9702 ..., 9797 9798 9799]\n",
    " [9800 9801 9802 ..., 9897 9898 9899]\n",
    " [9900 9901 9902 ..., 9997 9998 9999]]\n",
    "To disable this behaviour and force NumPy to print the entire array, you can change the printing options using set_printoptions.\n",
    "\n",
    ">>>\n",
    ">>> np.set_printoptions(threshold=np.nan)\n",
    "```"
   ]
  },
  {
   "cell_type": "code",
   "execution_count": 30,
   "metadata": {},
   "outputs": [
    {
     "name": "stdout",
     "output_type": "stream",
     "text": [
      "[   0    1    2 ... 9997 9998 9999]\n"
     ]
    }
   ],
   "source": [
    "print(np.arange(10000))"
   ]
  },
  {
   "cell_type": "code",
   "execution_count": 31,
   "metadata": {},
   "outputs": [],
   "source": [
    "np.set_printoptions(threshold=np.nan)"
   ]
  },
  {
   "cell_type": "code",
   "execution_count": 32,
   "metadata": {},
   "outputs": [
    {
     "name": "stdout",
     "output_type": "stream",
     "text": [
      "[   0    1    2    3    4    5    6    7    8    9   10   11   12   13\n",
      "   14   15   16   17   18   19   20   21   22   23   24   25   26   27\n",
      "   28   29   30   31   32   33   34   35   36   37   38   39   40   41\n",
      "   42   43   44   45   46   47   48   49   50   51   52   53   54   55\n",
      "   56   57   58   59   60   61   62   63   64   65   66   67   68   69\n",
      "   70   71   72   73   74   75   76   77   78   79   80   81   82   83\n",
      "   84   85   86   87   88   89   90   91   92   93   94   95   96   97\n",
      "   98   99  100  101  102  103  104  105  106  107  108  109  110  111\n",
      "  112  113  114  115  116  117  118  119  120  121  122  123  124  125\n",
      "  126  127  128  129  130  131  132  133  134  135  136  137  138  139\n",
      "  140  141  142  143  144  145  146  147  148  149  150  151  152  153\n",
      "  154  155  156  157  158  159  160  161  162  163  164  165  166  167\n",
      "  168  169  170  171  172  173  174  175  176  177  178  179  180  181\n",
      "  182  183  184  185  186  187  188  189  190  191  192  193  194  195\n",
      "  196  197  198  199  200  201  202  203  204  205  206  207  208  209\n",
      "  210  211  212  213  214  215  216  217  218  219  220  221  222  223\n",
      "  224  225  226  227  228  229  230  231  232  233  234  235  236  237\n",
      "  238  239  240  241  242  243  244  245  246  247  248  249  250  251\n",
      "  252  253  254  255  256  257  258  259  260  261  262  263  264  265\n",
      "  266  267  268  269  270  271  272  273  274  275  276  277  278  279\n",
      "  280  281  282  283  284  285  286  287  288  289  290  291  292  293\n",
      "  294  295  296  297  298  299  300  301  302  303  304  305  306  307\n",
      "  308  309  310  311  312  313  314  315  316  317  318  319  320  321\n",
      "  322  323  324  325  326  327  328  329  330  331  332  333  334  335\n",
      "  336  337  338  339  340  341  342  343  344  345  346  347  348  349\n",
      "  350  351  352  353  354  355  356  357  358  359  360  361  362  363\n",
      "  364  365  366  367  368  369  370  371  372  373  374  375  376  377\n",
      "  378  379  380  381  382  383  384  385  386  387  388  389  390  391\n",
      "  392  393  394  395  396  397  398  399  400  401  402  403  404  405\n",
      "  406  407  408  409  410  411  412  413  414  415  416  417  418  419\n",
      "  420  421  422  423  424  425  426  427  428  429  430  431  432  433\n",
      "  434  435  436  437  438  439  440  441  442  443  444  445  446  447\n",
      "  448  449  450  451  452  453  454  455  456  457  458  459  460  461\n",
      "  462  463  464  465  466  467  468  469  470  471  472  473  474  475\n",
      "  476  477  478  479  480  481  482  483  484  485  486  487  488  489\n",
      "  490  491  492  493  494  495  496  497  498  499  500  501  502  503\n",
      "  504  505  506  507  508  509  510  511  512  513  514  515  516  517\n",
      "  518  519  520  521  522  523  524  525  526  527  528  529  530  531\n",
      "  532  533  534  535  536  537  538  539  540  541  542  543  544  545\n",
      "  546  547  548  549  550  551  552  553  554  555  556  557  558  559\n",
      "  560  561  562  563  564  565  566  567  568  569  570  571  572  573\n",
      "  574  575  576  577  578  579  580  581  582  583  584  585  586  587\n",
      "  588  589  590  591  592  593  594  595  596  597  598  599  600  601\n",
      "  602  603  604  605  606  607  608  609  610  611  612  613  614  615\n",
      "  616  617  618  619  620  621  622  623  624  625  626  627  628  629\n",
      "  630  631  632  633  634  635  636  637  638  639  640  641  642  643\n",
      "  644  645  646  647  648  649  650  651  652  653  654  655  656  657\n",
      "  658  659  660  661  662  663  664  665  666  667  668  669  670  671\n",
      "  672  673  674  675  676  677  678  679  680  681  682  683  684  685\n",
      "  686  687  688  689  690  691  692  693  694  695  696  697  698  699\n",
      "  700  701  702  703  704  705  706  707  708  709  710  711  712  713\n",
      "  714  715  716  717  718  719  720  721  722  723  724  725  726  727\n",
      "  728  729  730  731  732  733  734  735  736  737  738  739  740  741\n",
      "  742  743  744  745  746  747  748  749  750  751  752  753  754  755\n",
      "  756  757  758  759  760  761  762  763  764  765  766  767  768  769\n",
      "  770  771  772  773  774  775  776  777  778  779  780  781  782  783\n",
      "  784  785  786  787  788  789  790  791  792  793  794  795  796  797\n",
      "  798  799  800  801  802  803  804  805  806  807  808  809  810  811\n",
      "  812  813  814  815  816  817  818  819  820  821  822  823  824  825\n",
      "  826  827  828  829  830  831  832  833  834  835  836  837  838  839\n",
      "  840  841  842  843  844  845  846  847  848  849  850  851  852  853\n",
      "  854  855  856  857  858  859  860  861  862  863  864  865  866  867\n",
      "  868  869  870  871  872  873  874  875  876  877  878  879  880  881\n",
      "  882  883  884  885  886  887  888  889  890  891  892  893  894  895\n",
      "  896  897  898  899  900  901  902  903  904  905  906  907  908  909\n",
      "  910  911  912  913  914  915  916  917  918  919  920  921  922  923\n",
      "  924  925  926  927  928  929  930  931  932  933  934  935  936  937\n",
      "  938  939  940  941  942  943  944  945  946  947  948  949  950  951\n",
      "  952  953  954  955  956  957  958  959  960  961  962  963  964  965\n",
      "  966  967  968  969  970  971  972  973  974  975  976  977  978  979\n",
      "  980  981  982  983  984  985  986  987  988  989  990  991  992  993\n",
      "  994  995  996  997  998  999 1000 1001 1002 1003 1004 1005 1006 1007\n",
      " 1008 1009 1010 1011 1012 1013 1014 1015 1016 1017 1018 1019 1020 1021\n",
      " 1022 1023 1024 1025 1026 1027 1028 1029 1030 1031 1032 1033 1034 1035\n",
      " 1036 1037 1038 1039 1040 1041 1042 1043 1044 1045 1046 1047 1048 1049\n",
      " 1050 1051 1052 1053 1054 1055 1056 1057 1058 1059 1060 1061 1062 1063\n",
      " 1064 1065 1066 1067 1068 1069 1070 1071 1072 1073 1074 1075 1076 1077\n",
      " 1078 1079 1080 1081 1082 1083 1084 1085 1086 1087 1088 1089 1090 1091\n",
      " 1092 1093 1094 1095 1096 1097 1098 1099 1100 1101 1102 1103 1104 1105\n",
      " 1106 1107 1108 1109 1110 1111 1112 1113 1114 1115 1116 1117 1118 1119\n",
      " 1120 1121 1122 1123 1124 1125 1126 1127 1128 1129 1130 1131 1132 1133\n",
      " 1134 1135 1136 1137 1138 1139 1140 1141 1142 1143 1144 1145 1146 1147\n",
      " 1148 1149 1150 1151 1152 1153 1154 1155 1156 1157 1158 1159 1160 1161\n",
      " 1162 1163 1164 1165 1166 1167 1168 1169 1170 1171 1172 1173 1174 1175\n",
      " 1176 1177 1178 1179 1180 1181 1182 1183 1184 1185 1186 1187 1188 1189\n",
      " 1190 1191 1192 1193 1194 1195 1196 1197 1198 1199 1200 1201 1202 1203\n",
      " 1204 1205 1206 1207 1208 1209 1210 1211 1212 1213 1214 1215 1216 1217\n",
      " 1218 1219 1220 1221 1222 1223 1224 1225 1226 1227 1228 1229 1230 1231\n",
      " 1232 1233 1234 1235 1236 1237 1238 1239 1240 1241 1242 1243 1244 1245\n",
      " 1246 1247 1248 1249 1250 1251 1252 1253 1254 1255 1256 1257 1258 1259\n",
      " 1260 1261 1262 1263 1264 1265 1266 1267 1268 1269 1270 1271 1272 1273\n",
      " 1274 1275 1276 1277 1278 1279 1280 1281 1282 1283 1284 1285 1286 1287\n",
      " 1288 1289 1290 1291 1292 1293 1294 1295 1296 1297 1298 1299 1300 1301\n",
      " 1302 1303 1304 1305 1306 1307 1308 1309 1310 1311 1312 1313 1314 1315\n",
      " 1316 1317 1318 1319 1320 1321 1322 1323 1324 1325 1326 1327 1328 1329\n",
      " 1330 1331 1332 1333 1334 1335 1336 1337 1338 1339 1340 1341 1342 1343\n",
      " 1344 1345 1346 1347 1348 1349 1350 1351 1352 1353 1354 1355 1356 1357\n",
      " 1358 1359 1360 1361 1362 1363 1364 1365 1366 1367 1368 1369 1370 1371\n",
      " 1372 1373 1374 1375 1376 1377 1378 1379 1380 1381 1382 1383 1384 1385\n",
      " 1386 1387 1388 1389 1390 1391 1392 1393 1394 1395 1396 1397 1398 1399\n",
      " 1400 1401 1402 1403 1404 1405 1406 1407 1408 1409 1410 1411 1412 1413\n",
      " 1414 1415 1416 1417 1418 1419 1420 1421 1422 1423 1424 1425 1426 1427\n",
      " 1428 1429 1430 1431 1432 1433 1434 1435 1436 1437 1438 1439 1440 1441\n",
      " 1442 1443 1444 1445 1446 1447 1448 1449 1450 1451 1452 1453 1454 1455\n",
      " 1456 1457 1458 1459 1460 1461 1462 1463 1464 1465 1466 1467 1468 1469\n",
      " 1470 1471 1472 1473 1474 1475 1476 1477 1478 1479 1480 1481 1482 1483\n",
      " 1484 1485 1486 1487 1488 1489 1490 1491 1492 1493 1494 1495 1496 1497\n",
      " 1498 1499 1500 1501 1502 1503 1504 1505 1506 1507 1508 1509 1510 1511\n",
      " 1512 1513 1514 1515 1516 1517 1518 1519 1520 1521 1522 1523 1524 1525\n",
      " 1526 1527 1528 1529 1530 1531 1532 1533 1534 1535 1536 1537 1538 1539\n",
      " 1540 1541 1542 1543 1544 1545 1546 1547 1548 1549 1550 1551 1552 1553\n",
      " 1554 1555 1556 1557 1558 1559 1560 1561 1562 1563 1564 1565 1566 1567\n",
      " 1568 1569 1570 1571 1572 1573 1574 1575 1576 1577 1578 1579 1580 1581\n",
      " 1582 1583 1584 1585 1586 1587 1588 1589 1590 1591 1592 1593 1594 1595\n",
      " 1596 1597 1598 1599 1600 1601 1602 1603 1604 1605 1606 1607 1608 1609\n",
      " 1610 1611 1612 1613 1614 1615 1616 1617 1618 1619 1620 1621 1622 1623\n",
      " 1624 1625 1626 1627 1628 1629 1630 1631 1632 1633 1634 1635 1636 1637\n",
      " 1638 1639 1640 1641 1642 1643 1644 1645 1646 1647 1648 1649 1650 1651\n",
      " 1652 1653 1654 1655 1656 1657 1658 1659 1660 1661 1662 1663 1664 1665\n",
      " 1666 1667 1668 1669 1670 1671 1672 1673 1674 1675 1676 1677 1678 1679\n",
      " 1680 1681 1682 1683 1684 1685 1686 1687 1688 1689 1690 1691 1692 1693\n",
      " 1694 1695 1696 1697 1698 1699 1700 1701 1702 1703 1704 1705 1706 1707\n",
      " 1708 1709 1710 1711 1712 1713 1714 1715 1716 1717 1718 1719 1720 1721\n",
      " 1722 1723 1724 1725 1726 1727 1728 1729 1730 1731 1732 1733 1734 1735\n",
      " 1736 1737 1738 1739 1740 1741 1742 1743 1744 1745 1746 1747 1748 1749\n",
      " 1750 1751 1752 1753 1754 1755 1756 1757 1758 1759 1760 1761 1762 1763\n",
      " 1764 1765 1766 1767 1768 1769 1770 1771 1772 1773 1774 1775 1776 1777\n",
      " 1778 1779 1780 1781 1782 1783 1784 1785 1786 1787 1788 1789 1790 1791\n",
      " 1792 1793 1794 1795 1796 1797 1798 1799 1800 1801 1802 1803 1804 1805\n",
      " 1806 1807 1808 1809 1810 1811 1812 1813 1814 1815 1816 1817 1818 1819\n",
      " 1820 1821 1822 1823 1824 1825 1826 1827 1828 1829 1830 1831 1832 1833\n",
      " 1834 1835 1836 1837 1838 1839 1840 1841 1842 1843 1844 1845 1846 1847\n",
      " 1848 1849 1850 1851 1852 1853 1854 1855 1856 1857 1858 1859 1860 1861\n",
      " 1862 1863 1864 1865 1866 1867 1868 1869 1870 1871 1872 1873 1874 1875\n",
      " 1876 1877 1878 1879 1880 1881 1882 1883 1884 1885 1886 1887 1888 1889\n",
      " 1890 1891 1892 1893 1894 1895 1896 1897 1898 1899 1900 1901 1902 1903\n",
      " 1904 1905 1906 1907 1908 1909 1910 1911 1912 1913 1914 1915 1916 1917\n",
      " 1918 1919 1920 1921 1922 1923 1924 1925 1926 1927 1928 1929 1930 1931\n",
      " 1932 1933 1934 1935 1936 1937 1938 1939 1940 1941 1942 1943 1944 1945\n",
      " 1946 1947 1948 1949 1950 1951 1952 1953 1954 1955 1956 1957 1958 1959\n",
      " 1960 1961 1962 1963 1964 1965 1966 1967 1968 1969 1970 1971 1972 1973\n",
      " 1974 1975 1976 1977 1978 1979 1980 1981 1982 1983 1984 1985 1986 1987\n",
      " 1988 1989 1990 1991 1992 1993 1994 1995 1996 1997 1998 1999 2000 2001\n",
      " 2002 2003 2004 2005 2006 2007 2008 2009 2010 2011 2012 2013 2014 2015\n",
      " 2016 2017 2018 2019 2020 2021 2022 2023 2024 2025 2026 2027 2028 2029\n",
      " 2030 2031 2032 2033 2034 2035 2036 2037 2038 2039 2040 2041 2042 2043\n",
      " 2044 2045 2046 2047 2048 2049 2050 2051 2052 2053 2054 2055 2056 2057\n",
      " 2058 2059 2060 2061 2062 2063 2064 2065 2066 2067 2068 2069 2070 2071\n",
      " 2072 2073 2074 2075 2076 2077 2078 2079 2080 2081 2082 2083 2084 2085\n",
      " 2086 2087 2088 2089 2090 2091 2092 2093 2094 2095 2096 2097 2098 2099\n",
      " 2100 2101 2102 2103 2104 2105 2106 2107 2108 2109 2110 2111 2112 2113\n",
      " 2114 2115 2116 2117 2118 2119 2120 2121 2122 2123 2124 2125 2126 2127\n",
      " 2128 2129 2130 2131 2132 2133 2134 2135 2136 2137 2138 2139 2140 2141\n",
      " 2142 2143 2144 2145 2146 2147 2148 2149 2150 2151 2152 2153 2154 2155\n",
      " 2156 2157 2158 2159 2160 2161 2162 2163 2164 2165 2166 2167 2168 2169\n",
      " 2170 2171 2172 2173 2174 2175 2176 2177 2178 2179 2180 2181 2182 2183\n",
      " 2184 2185 2186 2187 2188 2189 2190 2191 2192 2193 2194 2195 2196 2197\n",
      " 2198 2199 2200 2201 2202 2203 2204 2205 2206 2207 2208 2209 2210 2211\n",
      " 2212 2213 2214 2215 2216 2217 2218 2219 2220 2221 2222 2223 2224 2225\n",
      " 2226 2227 2228 2229 2230 2231 2232 2233 2234 2235 2236 2237 2238 2239\n",
      " 2240 2241 2242 2243 2244 2245 2246 2247 2248 2249 2250 2251 2252 2253\n",
      " 2254 2255 2256 2257 2258 2259 2260 2261 2262 2263 2264 2265 2266 2267\n",
      " 2268 2269 2270 2271 2272 2273 2274 2275 2276 2277 2278 2279 2280 2281\n",
      " 2282 2283 2284 2285 2286 2287 2288 2289 2290 2291 2292 2293 2294 2295\n",
      " 2296 2297 2298 2299 2300 2301 2302 2303 2304 2305 2306 2307 2308 2309\n",
      " 2310 2311 2312 2313 2314 2315 2316 2317 2318 2319 2320 2321 2322 2323\n",
      " 2324 2325 2326 2327 2328 2329 2330 2331 2332 2333 2334 2335 2336 2337\n",
      " 2338 2339 2340 2341 2342 2343 2344 2345 2346 2347 2348 2349 2350 2351\n",
      " 2352 2353 2354 2355 2356 2357 2358 2359 2360 2361 2362 2363 2364 2365\n",
      " 2366 2367 2368 2369 2370 2371 2372 2373 2374 2375 2376 2377 2378 2379\n",
      " 2380 2381 2382 2383 2384 2385 2386 2387 2388 2389 2390 2391 2392 2393\n",
      " 2394 2395 2396 2397 2398 2399 2400 2401 2402 2403 2404 2405 2406 2407\n",
      " 2408 2409 2410 2411 2412 2413 2414 2415 2416 2417 2418 2419 2420 2421\n",
      " 2422 2423 2424 2425 2426 2427 2428 2429 2430 2431 2432 2433 2434 2435\n",
      " 2436 2437 2438 2439 2440 2441 2442 2443 2444 2445 2446 2447 2448 2449\n",
      " 2450 2451 2452 2453 2454 2455 2456 2457 2458 2459 2460 2461 2462 2463\n",
      " 2464 2465 2466 2467 2468 2469 2470 2471 2472 2473 2474 2475 2476 2477\n",
      " 2478 2479 2480 2481 2482 2483 2484 2485 2486 2487 2488 2489 2490 2491\n",
      " 2492 2493 2494 2495 2496 2497 2498 2499 2500 2501 2502 2503 2504 2505\n",
      " 2506 2507 2508 2509 2510 2511 2512 2513 2514 2515 2516 2517 2518 2519\n",
      " 2520 2521 2522 2523 2524 2525 2526 2527 2528 2529 2530 2531 2532 2533\n",
      " 2534 2535 2536 2537 2538 2539 2540 2541 2542 2543 2544 2545 2546 2547\n",
      " 2548 2549 2550 2551 2552 2553 2554 2555 2556 2557 2558 2559 2560 2561\n",
      " 2562 2563 2564 2565 2566 2567 2568 2569 2570 2571 2572 2573 2574 2575\n",
      " 2576 2577 2578 2579 2580 2581 2582 2583 2584 2585 2586 2587 2588 2589\n",
      " 2590 2591 2592 2593 2594 2595 2596 2597 2598 2599 2600 2601 2602 2603\n",
      " 2604 2605 2606 2607 2608 2609 2610 2611 2612 2613 2614 2615 2616 2617\n",
      " 2618 2619 2620 2621 2622 2623 2624 2625 2626 2627 2628 2629 2630 2631\n",
      " 2632 2633 2634 2635 2636 2637 2638 2639 2640 2641 2642 2643 2644 2645\n",
      " 2646 2647 2648 2649 2650 2651 2652 2653 2654 2655 2656 2657 2658 2659\n",
      " 2660 2661 2662 2663 2664 2665 2666 2667 2668 2669 2670 2671 2672 2673\n",
      " 2674 2675 2676 2677 2678 2679 2680 2681 2682 2683 2684 2685 2686 2687\n",
      " 2688 2689 2690 2691 2692 2693 2694 2695 2696 2697 2698 2699 2700 2701\n",
      " 2702 2703 2704 2705 2706 2707 2708 2709 2710 2711 2712 2713 2714 2715\n",
      " 2716 2717 2718 2719 2720 2721 2722 2723 2724 2725 2726 2727 2728 2729\n",
      " 2730 2731 2732 2733 2734 2735 2736 2737 2738 2739 2740 2741 2742 2743\n",
      " 2744 2745 2746 2747 2748 2749 2750 2751 2752 2753 2754 2755 2756 2757\n",
      " 2758 2759 2760 2761 2762 2763 2764 2765 2766 2767 2768 2769 2770 2771\n",
      " 2772 2773 2774 2775 2776 2777 2778 2779 2780 2781 2782 2783 2784 2785\n",
      " 2786 2787 2788 2789 2790 2791 2792 2793 2794 2795 2796 2797 2798 2799\n",
      " 2800 2801 2802 2803 2804 2805 2806 2807 2808 2809 2810 2811 2812 2813\n",
      " 2814 2815 2816 2817 2818 2819 2820 2821 2822 2823 2824 2825 2826 2827\n",
      " 2828 2829 2830 2831 2832 2833 2834 2835 2836 2837 2838 2839 2840 2841\n",
      " 2842 2843 2844 2845 2846 2847 2848 2849 2850 2851 2852 2853 2854 2855\n",
      " 2856 2857 2858 2859 2860 2861 2862 2863 2864 2865 2866 2867 2868 2869\n",
      " 2870 2871 2872 2873 2874 2875 2876 2877 2878 2879 2880 2881 2882 2883\n",
      " 2884 2885 2886 2887 2888 2889 2890 2891 2892 2893 2894 2895 2896 2897\n",
      " 2898 2899 2900 2901 2902 2903 2904 2905 2906 2907 2908 2909 2910 2911\n",
      " 2912 2913 2914 2915 2916 2917 2918 2919 2920 2921 2922 2923 2924 2925\n",
      " 2926 2927 2928 2929 2930 2931 2932 2933 2934 2935 2936 2937 2938 2939\n",
      " 2940 2941 2942 2943 2944 2945 2946 2947 2948 2949 2950 2951 2952 2953\n",
      " 2954 2955 2956 2957 2958 2959 2960 2961 2962 2963 2964 2965 2966 2967\n",
      " 2968 2969 2970 2971 2972 2973 2974 2975 2976 2977 2978 2979 2980 2981\n",
      " 2982 2983 2984 2985 2986 2987 2988 2989 2990 2991 2992 2993 2994 2995\n",
      " 2996 2997 2998 2999 3000 3001 3002 3003 3004 3005 3006 3007 3008 3009\n",
      " 3010 3011 3012 3013 3014 3015 3016 3017 3018 3019 3020 3021 3022 3023\n",
      " 3024 3025 3026 3027 3028 3029 3030 3031 3032 3033 3034 3035 3036 3037\n",
      " 3038 3039 3040 3041 3042 3043 3044 3045 3046 3047 3048 3049 3050 3051\n",
      " 3052 3053 3054 3055 3056 3057 3058 3059 3060 3061 3062 3063 3064 3065\n",
      " 3066 3067 3068 3069 3070 3071 3072 3073 3074 3075 3076 3077 3078 3079\n",
      " 3080 3081 3082 3083 3084 3085 3086 3087 3088 3089 3090 3091 3092 3093\n",
      " 3094 3095 3096 3097 3098 3099 3100 3101 3102 3103 3104 3105 3106 3107\n",
      " 3108 3109 3110 3111 3112 3113 3114 3115 3116 3117 3118 3119 3120 3121\n",
      " 3122 3123 3124 3125 3126 3127 3128 3129 3130 3131 3132 3133 3134 3135\n",
      " 3136 3137 3138 3139 3140 3141 3142 3143 3144 3145 3146 3147 3148 3149\n",
      " 3150 3151 3152 3153 3154 3155 3156 3157 3158 3159 3160 3161 3162 3163\n",
      " 3164 3165 3166 3167 3168 3169 3170 3171 3172 3173 3174 3175 3176 3177\n",
      " 3178 3179 3180 3181 3182 3183 3184 3185 3186 3187 3188 3189 3190 3191\n",
      " 3192 3193 3194 3195 3196 3197 3198 3199 3200 3201 3202 3203 3204 3205\n",
      " 3206 3207 3208 3209 3210 3211 3212 3213 3214 3215 3216 3217 3218 3219\n",
      " 3220 3221 3222 3223 3224 3225 3226 3227 3228 3229 3230 3231 3232 3233\n",
      " 3234 3235 3236 3237 3238 3239 3240 3241 3242 3243 3244 3245 3246 3247\n",
      " 3248 3249 3250 3251 3252 3253 3254 3255 3256 3257 3258 3259 3260 3261\n",
      " 3262 3263 3264 3265 3266 3267 3268 3269 3270 3271 3272 3273 3274 3275\n",
      " 3276 3277 3278 3279 3280 3281 3282 3283 3284 3285 3286 3287 3288 3289\n",
      " 3290 3291 3292 3293 3294 3295 3296 3297 3298 3299 3300 3301 3302 3303\n",
      " 3304 3305 3306 3307 3308 3309 3310 3311 3312 3313 3314 3315 3316 3317\n",
      " 3318 3319 3320 3321 3322 3323 3324 3325 3326 3327 3328 3329 3330 3331\n",
      " 3332 3333 3334 3335 3336 3337 3338 3339 3340 3341 3342 3343 3344 3345\n",
      " 3346 3347 3348 3349 3350 3351 3352 3353 3354 3355 3356 3357 3358 3359\n",
      " 3360 3361 3362 3363 3364 3365 3366 3367 3368 3369 3370 3371 3372 3373\n",
      " 3374 3375 3376 3377 3378 3379 3380 3381 3382 3383 3384 3385 3386 3387\n",
      " 3388 3389 3390 3391 3392 3393 3394 3395 3396 3397 3398 3399 3400 3401\n",
      " 3402 3403 3404 3405 3406 3407 3408 3409 3410 3411 3412 3413 3414 3415\n",
      " 3416 3417 3418 3419 3420 3421 3422 3423 3424 3425 3426 3427 3428 3429\n",
      " 3430 3431 3432 3433 3434 3435 3436 3437 3438 3439 3440 3441 3442 3443\n",
      " 3444 3445 3446 3447 3448 3449 3450 3451 3452 3453 3454 3455 3456 3457\n",
      " 3458 3459 3460 3461 3462 3463 3464 3465 3466 3467 3468 3469 3470 3471\n",
      " 3472 3473 3474 3475 3476 3477 3478 3479 3480 3481 3482 3483 3484 3485\n",
      " 3486 3487 3488 3489 3490 3491 3492 3493 3494 3495 3496 3497 3498 3499\n",
      " 3500 3501 3502 3503 3504 3505 3506 3507 3508 3509 3510 3511 3512 3513\n",
      " 3514 3515 3516 3517 3518 3519 3520 3521 3522 3523 3524 3525 3526 3527\n",
      " 3528 3529 3530 3531 3532 3533 3534 3535 3536 3537 3538 3539 3540 3541\n",
      " 3542 3543 3544 3545 3546 3547 3548 3549 3550 3551 3552 3553 3554 3555\n",
      " 3556 3557 3558 3559 3560 3561 3562 3563 3564 3565 3566 3567 3568 3569\n",
      " 3570 3571 3572 3573 3574 3575 3576 3577 3578 3579 3580 3581 3582 3583\n",
      " 3584 3585 3586 3587 3588 3589 3590 3591 3592 3593 3594 3595 3596 3597\n",
      " 3598 3599 3600 3601 3602 3603 3604 3605 3606 3607 3608 3609 3610 3611\n",
      " 3612 3613 3614 3615 3616 3617 3618 3619 3620 3621 3622 3623 3624 3625\n",
      " 3626 3627 3628 3629 3630 3631 3632 3633 3634 3635 3636 3637 3638 3639\n",
      " 3640 3641 3642 3643 3644 3645 3646 3647 3648 3649 3650 3651 3652 3653\n",
      " 3654 3655 3656 3657 3658 3659 3660 3661 3662 3663 3664 3665 3666 3667\n",
      " 3668 3669 3670 3671 3672 3673 3674 3675 3676 3677 3678 3679 3680 3681\n",
      " 3682 3683 3684 3685 3686 3687 3688 3689 3690 3691 3692 3693 3694 3695\n",
      " 3696 3697 3698 3699 3700 3701 3702 3703 3704 3705 3706 3707 3708 3709\n",
      " 3710 3711 3712 3713 3714 3715 3716 3717 3718 3719 3720 3721 3722 3723\n",
      " 3724 3725 3726 3727 3728 3729 3730 3731 3732 3733 3734 3735 3736 3737\n",
      " 3738 3739 3740 3741 3742 3743 3744 3745 3746 3747 3748 3749 3750 3751\n",
      " 3752 3753 3754 3755 3756 3757 3758 3759 3760 3761 3762 3763 3764 3765\n",
      " 3766 3767 3768 3769 3770 3771 3772 3773 3774 3775 3776 3777 3778 3779\n",
      " 3780 3781 3782 3783 3784 3785 3786 3787 3788 3789 3790 3791 3792 3793\n",
      " 3794 3795 3796 3797 3798 3799 3800 3801 3802 3803 3804 3805 3806 3807\n",
      " 3808 3809 3810 3811 3812 3813 3814 3815 3816 3817 3818 3819 3820 3821\n",
      " 3822 3823 3824 3825 3826 3827 3828 3829 3830 3831 3832 3833 3834 3835\n",
      " 3836 3837 3838 3839 3840 3841 3842 3843 3844 3845 3846 3847 3848 3849\n",
      " 3850 3851 3852 3853 3854 3855 3856 3857 3858 3859 3860 3861 3862 3863\n",
      " 3864 3865 3866 3867 3868 3869 3870 3871 3872 3873 3874 3875 3876 3877\n",
      " 3878 3879 3880 3881 3882 3883 3884 3885 3886 3887 3888 3889 3890 3891\n",
      " 3892 3893 3894 3895 3896 3897 3898 3899 3900 3901 3902 3903 3904 3905\n",
      " 3906 3907 3908 3909 3910 3911 3912 3913 3914 3915 3916 3917 3918 3919\n",
      " 3920 3921 3922 3923 3924 3925 3926 3927 3928 3929 3930 3931 3932 3933\n",
      " 3934 3935 3936 3937 3938 3939 3940 3941 3942 3943 3944 3945 3946 3947\n",
      " 3948 3949 3950 3951 3952 3953 3954 3955 3956 3957 3958 3959 3960 3961\n",
      " 3962 3963 3964 3965 3966 3967 3968 3969 3970 3971 3972 3973 3974 3975\n",
      " 3976 3977 3978 3979 3980 3981 3982 3983 3984 3985 3986 3987 3988 3989\n",
      " 3990 3991 3992 3993 3994 3995 3996 3997 3998 3999 4000 4001 4002 4003\n",
      " 4004 4005 4006 4007 4008 4009 4010 4011 4012 4013 4014 4015 4016 4017\n",
      " 4018 4019 4020 4021 4022 4023 4024 4025 4026 4027 4028 4029 4030 4031\n",
      " 4032 4033 4034 4035 4036 4037 4038 4039 4040 4041 4042 4043 4044 4045\n",
      " 4046 4047 4048 4049 4050 4051 4052 4053 4054 4055 4056 4057 4058 4059\n",
      " 4060 4061 4062 4063 4064 4065 4066 4067 4068 4069 4070 4071 4072 4073\n",
      " 4074 4075 4076 4077 4078 4079 4080 4081 4082 4083 4084 4085 4086 4087\n",
      " 4088 4089 4090 4091 4092 4093 4094 4095 4096 4097 4098 4099 4100 4101\n",
      " 4102 4103 4104 4105 4106 4107 4108 4109 4110 4111 4112 4113 4114 4115\n",
      " 4116 4117 4118 4119 4120 4121 4122 4123 4124 4125 4126 4127 4128 4129\n",
      " 4130 4131 4132 4133 4134 4135 4136 4137 4138 4139 4140 4141 4142 4143\n",
      " 4144 4145 4146 4147 4148 4149 4150 4151 4152 4153 4154 4155 4156 4157\n",
      " 4158 4159 4160 4161 4162 4163 4164 4165 4166 4167 4168 4169 4170 4171\n",
      " 4172 4173 4174 4175 4176 4177 4178 4179 4180 4181 4182 4183 4184 4185\n",
      " 4186 4187 4188 4189 4190 4191 4192 4193 4194 4195 4196 4197 4198 4199\n",
      " 4200 4201 4202 4203 4204 4205 4206 4207 4208 4209 4210 4211 4212 4213\n",
      " 4214 4215 4216 4217 4218 4219 4220 4221 4222 4223 4224 4225 4226 4227\n",
      " 4228 4229 4230 4231 4232 4233 4234 4235 4236 4237 4238 4239 4240 4241\n",
      " 4242 4243 4244 4245 4246 4247 4248 4249 4250 4251 4252 4253 4254 4255\n",
      " 4256 4257 4258 4259 4260 4261 4262 4263 4264 4265 4266 4267 4268 4269\n",
      " 4270 4271 4272 4273 4274 4275 4276 4277 4278 4279 4280 4281 4282 4283\n",
      " 4284 4285 4286 4287 4288 4289 4290 4291 4292 4293 4294 4295 4296 4297\n",
      " 4298 4299 4300 4301 4302 4303 4304 4305 4306 4307 4308 4309 4310 4311\n",
      " 4312 4313 4314 4315 4316 4317 4318 4319 4320 4321 4322 4323 4324 4325\n",
      " 4326 4327 4328 4329 4330 4331 4332 4333 4334 4335 4336 4337 4338 4339\n",
      " 4340 4341 4342 4343 4344 4345 4346 4347 4348 4349 4350 4351 4352 4353\n",
      " 4354 4355 4356 4357 4358 4359 4360 4361 4362 4363 4364 4365 4366 4367\n",
      " 4368 4369 4370 4371 4372 4373 4374 4375 4376 4377 4378 4379 4380 4381\n",
      " 4382 4383 4384 4385 4386 4387 4388 4389 4390 4391 4392 4393 4394 4395\n",
      " 4396 4397 4398 4399 4400 4401 4402 4403 4404 4405 4406 4407 4408 4409\n",
      " 4410 4411 4412 4413 4414 4415 4416 4417 4418 4419 4420 4421 4422 4423\n",
      " 4424 4425 4426 4427 4428 4429 4430 4431 4432 4433 4434 4435 4436 4437\n",
      " 4438 4439 4440 4441 4442 4443 4444 4445 4446 4447 4448 4449 4450 4451\n",
      " 4452 4453 4454 4455 4456 4457 4458 4459 4460 4461 4462 4463 4464 4465\n",
      " 4466 4467 4468 4469 4470 4471 4472 4473 4474 4475 4476 4477 4478 4479\n",
      " 4480 4481 4482 4483 4484 4485 4486 4487 4488 4489 4490 4491 4492 4493\n",
      " 4494 4495 4496 4497 4498 4499 4500 4501 4502 4503 4504 4505 4506 4507\n",
      " 4508 4509 4510 4511 4512 4513 4514 4515 4516 4517 4518 4519 4520 4521\n",
      " 4522 4523 4524 4525 4526 4527 4528 4529 4530 4531 4532 4533 4534 4535\n",
      " 4536 4537 4538 4539 4540 4541 4542 4543 4544 4545 4546 4547 4548 4549\n",
      " 4550 4551 4552 4553 4554 4555 4556 4557 4558 4559 4560 4561 4562 4563\n",
      " 4564 4565 4566 4567 4568 4569 4570 4571 4572 4573 4574 4575 4576 4577\n",
      " 4578 4579 4580 4581 4582 4583 4584 4585 4586 4587 4588 4589 4590 4591\n",
      " 4592 4593 4594 4595 4596 4597 4598 4599 4600 4601 4602 4603 4604 4605\n",
      " 4606 4607 4608 4609 4610 4611 4612 4613 4614 4615 4616 4617 4618 4619\n",
      " 4620 4621 4622 4623 4624 4625 4626 4627 4628 4629 4630 4631 4632 4633\n",
      " 4634 4635 4636 4637 4638 4639 4640 4641 4642 4643 4644 4645 4646 4647\n",
      " 4648 4649 4650 4651 4652 4653 4654 4655 4656 4657 4658 4659 4660 4661\n",
      " 4662 4663 4664 4665 4666 4667 4668 4669 4670 4671 4672 4673 4674 4675\n",
      " 4676 4677 4678 4679 4680 4681 4682 4683 4684 4685 4686 4687 4688 4689\n",
      " 4690 4691 4692 4693 4694 4695 4696 4697 4698 4699 4700 4701 4702 4703\n",
      " 4704 4705 4706 4707 4708 4709 4710 4711 4712 4713 4714 4715 4716 4717\n",
      " 4718 4719 4720 4721 4722 4723 4724 4725 4726 4727 4728 4729 4730 4731\n",
      " 4732 4733 4734 4735 4736 4737 4738 4739 4740 4741 4742 4743 4744 4745\n",
      " 4746 4747 4748 4749 4750 4751 4752 4753 4754 4755 4756 4757 4758 4759\n",
      " 4760 4761 4762 4763 4764 4765 4766 4767 4768 4769 4770 4771 4772 4773\n",
      " 4774 4775 4776 4777 4778 4779 4780 4781 4782 4783 4784 4785 4786 4787\n",
      " 4788 4789 4790 4791 4792 4793 4794 4795 4796 4797 4798 4799 4800 4801\n",
      " 4802 4803 4804 4805 4806 4807 4808 4809 4810 4811 4812 4813 4814 4815\n",
      " 4816 4817 4818 4819 4820 4821 4822 4823 4824 4825 4826 4827 4828 4829\n",
      " 4830 4831 4832 4833 4834 4835 4836 4837 4838 4839 4840 4841 4842 4843\n",
      " 4844 4845 4846 4847 4848 4849 4850 4851 4852 4853 4854 4855 4856 4857\n",
      " 4858 4859 4860 4861 4862 4863 4864 4865 4866 4867 4868 4869 4870 4871\n",
      " 4872 4873 4874 4875 4876 4877 4878 4879 4880 4881 4882 4883 4884 4885\n",
      " 4886 4887 4888 4889 4890 4891 4892 4893 4894 4895 4896 4897 4898 4899\n",
      " 4900 4901 4902 4903 4904 4905 4906 4907 4908 4909 4910 4911 4912 4913\n",
      " 4914 4915 4916 4917 4918 4919 4920 4921 4922 4923 4924 4925 4926 4927\n",
      " 4928 4929 4930 4931 4932 4933 4934 4935 4936 4937 4938 4939 4940 4941\n",
      " 4942 4943 4944 4945 4946 4947 4948 4949 4950 4951 4952 4953 4954 4955\n",
      " 4956 4957 4958 4959 4960 4961 4962 4963 4964 4965 4966 4967 4968 4969\n",
      " 4970 4971 4972 4973 4974 4975 4976 4977 4978 4979 4980 4981 4982 4983\n",
      " 4984 4985 4986 4987 4988 4989 4990 4991 4992 4993 4994 4995 4996 4997\n",
      " 4998 4999 5000 5001 5002 5003 5004 5005 5006 5007 5008 5009 5010 5011\n",
      " 5012 5013 5014 5015 5016 5017 5018 5019 5020 5021 5022 5023 5024 5025\n",
      " 5026 5027 5028 5029 5030 5031 5032 5033 5034 5035 5036 5037 5038 5039\n",
      " 5040 5041 5042 5043 5044 5045 5046 5047 5048 5049 5050 5051 5052 5053\n",
      " 5054 5055 5056 5057 5058 5059 5060 5061 5062 5063 5064 5065 5066 5067\n",
      " 5068 5069 5070 5071 5072 5073 5074 5075 5076 5077 5078 5079 5080 5081\n",
      " 5082 5083 5084 5085 5086 5087 5088 5089 5090 5091 5092 5093 5094 5095\n",
      " 5096 5097 5098 5099 5100 5101 5102 5103 5104 5105 5106 5107 5108 5109\n",
      " 5110 5111 5112 5113 5114 5115 5116 5117 5118 5119 5120 5121 5122 5123\n",
      " 5124 5125 5126 5127 5128 5129 5130 5131 5132 5133 5134 5135 5136 5137\n",
      " 5138 5139 5140 5141 5142 5143 5144 5145 5146 5147 5148 5149 5150 5151\n",
      " 5152 5153 5154 5155 5156 5157 5158 5159 5160 5161 5162 5163 5164 5165\n",
      " 5166 5167 5168 5169 5170 5171 5172 5173 5174 5175 5176 5177 5178 5179\n",
      " 5180 5181 5182 5183 5184 5185 5186 5187 5188 5189 5190 5191 5192 5193\n",
      " 5194 5195 5196 5197 5198 5199 5200 5201 5202 5203 5204 5205 5206 5207\n",
      " 5208 5209 5210 5211 5212 5213 5214 5215 5216 5217 5218 5219 5220 5221\n",
      " 5222 5223 5224 5225 5226 5227 5228 5229 5230 5231 5232 5233 5234 5235\n",
      " 5236 5237 5238 5239 5240 5241 5242 5243 5244 5245 5246 5247 5248 5249\n",
      " 5250 5251 5252 5253 5254 5255 5256 5257 5258 5259 5260 5261 5262 5263\n",
      " 5264 5265 5266 5267 5268 5269 5270 5271 5272 5273 5274 5275 5276 5277\n",
      " 5278 5279 5280 5281 5282 5283 5284 5285 5286 5287 5288 5289 5290 5291\n",
      " 5292 5293 5294 5295 5296 5297 5298 5299 5300 5301 5302 5303 5304 5305\n",
      " 5306 5307 5308 5309 5310 5311 5312 5313 5314 5315 5316 5317 5318 5319\n",
      " 5320 5321 5322 5323 5324 5325 5326 5327 5328 5329 5330 5331 5332 5333\n",
      " 5334 5335 5336 5337 5338 5339 5340 5341 5342 5343 5344 5345 5346 5347\n",
      " 5348 5349 5350 5351 5352 5353 5354 5355 5356 5357 5358 5359 5360 5361\n",
      " 5362 5363 5364 5365 5366 5367 5368 5369 5370 5371 5372 5373 5374 5375\n",
      " 5376 5377 5378 5379 5380 5381 5382 5383 5384 5385 5386 5387 5388 5389\n",
      " 5390 5391 5392 5393 5394 5395 5396 5397 5398 5399 5400 5401 5402 5403\n",
      " 5404 5405 5406 5407 5408 5409 5410 5411 5412 5413 5414 5415 5416 5417\n",
      " 5418 5419 5420 5421 5422 5423 5424 5425 5426 5427 5428 5429 5430 5431\n",
      " 5432 5433 5434 5435 5436 5437 5438 5439 5440 5441 5442 5443 5444 5445\n",
      " 5446 5447 5448 5449 5450 5451 5452 5453 5454 5455 5456 5457 5458 5459\n",
      " 5460 5461 5462 5463 5464 5465 5466 5467 5468 5469 5470 5471 5472 5473\n",
      " 5474 5475 5476 5477 5478 5479 5480 5481 5482 5483 5484 5485 5486 5487\n",
      " 5488 5489 5490 5491 5492 5493 5494 5495 5496 5497 5498 5499 5500 5501\n",
      " 5502 5503 5504 5505 5506 5507 5508 5509 5510 5511 5512 5513 5514 5515\n",
      " 5516 5517 5518 5519 5520 5521 5522 5523 5524 5525 5526 5527 5528 5529\n",
      " 5530 5531 5532 5533 5534 5535 5536 5537 5538 5539 5540 5541 5542 5543\n",
      " 5544 5545 5546 5547 5548 5549 5550 5551 5552 5553 5554 5555 5556 5557\n",
      " 5558 5559 5560 5561 5562 5563 5564 5565 5566 5567 5568 5569 5570 5571\n",
      " 5572 5573 5574 5575 5576 5577 5578 5579 5580 5581 5582 5583 5584 5585\n",
      " 5586 5587 5588 5589 5590 5591 5592 5593 5594 5595 5596 5597 5598 5599\n",
      " 5600 5601 5602 5603 5604 5605 5606 5607 5608 5609 5610 5611 5612 5613\n",
      " 5614 5615 5616 5617 5618 5619 5620 5621 5622 5623 5624 5625 5626 5627\n",
      " 5628 5629 5630 5631 5632 5633 5634 5635 5636 5637 5638 5639 5640 5641\n",
      " 5642 5643 5644 5645 5646 5647 5648 5649 5650 5651 5652 5653 5654 5655\n",
      " 5656 5657 5658 5659 5660 5661 5662 5663 5664 5665 5666 5667 5668 5669\n",
      " 5670 5671 5672 5673 5674 5675 5676 5677 5678 5679 5680 5681 5682 5683\n",
      " 5684 5685 5686 5687 5688 5689 5690 5691 5692 5693 5694 5695 5696 5697\n",
      " 5698 5699 5700 5701 5702 5703 5704 5705 5706 5707 5708 5709 5710 5711\n",
      " 5712 5713 5714 5715 5716 5717 5718 5719 5720 5721 5722 5723 5724 5725\n",
      " 5726 5727 5728 5729 5730 5731 5732 5733 5734 5735 5736 5737 5738 5739\n",
      " 5740 5741 5742 5743 5744 5745 5746 5747 5748 5749 5750 5751 5752 5753\n",
      " 5754 5755 5756 5757 5758 5759 5760 5761 5762 5763 5764 5765 5766 5767\n",
      " 5768 5769 5770 5771 5772 5773 5774 5775 5776 5777 5778 5779 5780 5781\n",
      " 5782 5783 5784 5785 5786 5787 5788 5789 5790 5791 5792 5793 5794 5795\n",
      " 5796 5797 5798 5799 5800 5801 5802 5803 5804 5805 5806 5807 5808 5809\n",
      " 5810 5811 5812 5813 5814 5815 5816 5817 5818 5819 5820 5821 5822 5823\n",
      " 5824 5825 5826 5827 5828 5829 5830 5831 5832 5833 5834 5835 5836 5837\n",
      " 5838 5839 5840 5841 5842 5843 5844 5845 5846 5847 5848 5849 5850 5851\n",
      " 5852 5853 5854 5855 5856 5857 5858 5859 5860 5861 5862 5863 5864 5865\n",
      " 5866 5867 5868 5869 5870 5871 5872 5873 5874 5875 5876 5877 5878 5879\n",
      " 5880 5881 5882 5883 5884 5885 5886 5887 5888 5889 5890 5891 5892 5893\n",
      " 5894 5895 5896 5897 5898 5899 5900 5901 5902 5903 5904 5905 5906 5907\n",
      " 5908 5909 5910 5911 5912 5913 5914 5915 5916 5917 5918 5919 5920 5921\n",
      " 5922 5923 5924 5925 5926 5927 5928 5929 5930 5931 5932 5933 5934 5935\n",
      " 5936 5937 5938 5939 5940 5941 5942 5943 5944 5945 5946 5947 5948 5949\n",
      " 5950 5951 5952 5953 5954 5955 5956 5957 5958 5959 5960 5961 5962 5963\n",
      " 5964 5965 5966 5967 5968 5969 5970 5971 5972 5973 5974 5975 5976 5977\n",
      " 5978 5979 5980 5981 5982 5983 5984 5985 5986 5987 5988 5989 5990 5991\n",
      " 5992 5993 5994 5995 5996 5997 5998 5999 6000 6001 6002 6003 6004 6005\n",
      " 6006 6007 6008 6009 6010 6011 6012 6013 6014 6015 6016 6017 6018 6019\n",
      " 6020 6021 6022 6023 6024 6025 6026 6027 6028 6029 6030 6031 6032 6033\n",
      " 6034 6035 6036 6037 6038 6039 6040 6041 6042 6043 6044 6045 6046 6047\n",
      " 6048 6049 6050 6051 6052 6053 6054 6055 6056 6057 6058 6059 6060 6061\n",
      " 6062 6063 6064 6065 6066 6067 6068 6069 6070 6071 6072 6073 6074 6075\n",
      " 6076 6077 6078 6079 6080 6081 6082 6083 6084 6085 6086 6087 6088 6089\n",
      " 6090 6091 6092 6093 6094 6095 6096 6097 6098 6099 6100 6101 6102 6103\n",
      " 6104 6105 6106 6107 6108 6109 6110 6111 6112 6113 6114 6115 6116 6117\n",
      " 6118 6119 6120 6121 6122 6123 6124 6125 6126 6127 6128 6129 6130 6131\n",
      " 6132 6133 6134 6135 6136 6137 6138 6139 6140 6141 6142 6143 6144 6145\n",
      " 6146 6147 6148 6149 6150 6151 6152 6153 6154 6155 6156 6157 6158 6159\n",
      " 6160 6161 6162 6163 6164 6165 6166 6167 6168 6169 6170 6171 6172 6173\n",
      " 6174 6175 6176 6177 6178 6179 6180 6181 6182 6183 6184 6185 6186 6187\n",
      " 6188 6189 6190 6191 6192 6193 6194 6195 6196 6197 6198 6199 6200 6201\n",
      " 6202 6203 6204 6205 6206 6207 6208 6209 6210 6211 6212 6213 6214 6215\n",
      " 6216 6217 6218 6219 6220 6221 6222 6223 6224 6225 6226 6227 6228 6229\n",
      " 6230 6231 6232 6233 6234 6235 6236 6237 6238 6239 6240 6241 6242 6243\n",
      " 6244 6245 6246 6247 6248 6249 6250 6251 6252 6253 6254 6255 6256 6257\n",
      " 6258 6259 6260 6261 6262 6263 6264 6265 6266 6267 6268 6269 6270 6271\n",
      " 6272 6273 6274 6275 6276 6277 6278 6279 6280 6281 6282 6283 6284 6285\n",
      " 6286 6287 6288 6289 6290 6291 6292 6293 6294 6295 6296 6297 6298 6299\n",
      " 6300 6301 6302 6303 6304 6305 6306 6307 6308 6309 6310 6311 6312 6313\n",
      " 6314 6315 6316 6317 6318 6319 6320 6321 6322 6323 6324 6325 6326 6327\n",
      " 6328 6329 6330 6331 6332 6333 6334 6335 6336 6337 6338 6339 6340 6341\n",
      " 6342 6343 6344 6345 6346 6347 6348 6349 6350 6351 6352 6353 6354 6355\n",
      " 6356 6357 6358 6359 6360 6361 6362 6363 6364 6365 6366 6367 6368 6369\n",
      " 6370 6371 6372 6373 6374 6375 6376 6377 6378 6379 6380 6381 6382 6383\n",
      " 6384 6385 6386 6387 6388 6389 6390 6391 6392 6393 6394 6395 6396 6397\n",
      " 6398 6399 6400 6401 6402 6403 6404 6405 6406 6407 6408 6409 6410 6411\n",
      " 6412 6413 6414 6415 6416 6417 6418 6419 6420 6421 6422 6423 6424 6425\n",
      " 6426 6427 6428 6429 6430 6431 6432 6433 6434 6435 6436 6437 6438 6439\n",
      " 6440 6441 6442 6443 6444 6445 6446 6447 6448 6449 6450 6451 6452 6453\n",
      " 6454 6455 6456 6457 6458 6459 6460 6461 6462 6463 6464 6465 6466 6467\n",
      " 6468 6469 6470 6471 6472 6473 6474 6475 6476 6477 6478 6479 6480 6481\n",
      " 6482 6483 6484 6485 6486 6487 6488 6489 6490 6491 6492 6493 6494 6495\n",
      " 6496 6497 6498 6499 6500 6501 6502 6503 6504 6505 6506 6507 6508 6509\n",
      " 6510 6511 6512 6513 6514 6515 6516 6517 6518 6519 6520 6521 6522 6523\n",
      " 6524 6525 6526 6527 6528 6529 6530 6531 6532 6533 6534 6535 6536 6537\n",
      " 6538 6539 6540 6541 6542 6543 6544 6545 6546 6547 6548 6549 6550 6551\n",
      " 6552 6553 6554 6555 6556 6557 6558 6559 6560 6561 6562 6563 6564 6565\n",
      " 6566 6567 6568 6569 6570 6571 6572 6573 6574 6575 6576 6577 6578 6579\n",
      " 6580 6581 6582 6583 6584 6585 6586 6587 6588 6589 6590 6591 6592 6593\n",
      " 6594 6595 6596 6597 6598 6599 6600 6601 6602 6603 6604 6605 6606 6607\n",
      " 6608 6609 6610 6611 6612 6613 6614 6615 6616 6617 6618 6619 6620 6621\n",
      " 6622 6623 6624 6625 6626 6627 6628 6629 6630 6631 6632 6633 6634 6635\n",
      " 6636 6637 6638 6639 6640 6641 6642 6643 6644 6645 6646 6647 6648 6649\n",
      " 6650 6651 6652 6653 6654 6655 6656 6657 6658 6659 6660 6661 6662 6663\n",
      " 6664 6665 6666 6667 6668 6669 6670 6671 6672 6673 6674 6675 6676 6677\n",
      " 6678 6679 6680 6681 6682 6683 6684 6685 6686 6687 6688 6689 6690 6691\n",
      " 6692 6693 6694 6695 6696 6697 6698 6699 6700 6701 6702 6703 6704 6705\n",
      " 6706 6707 6708 6709 6710 6711 6712 6713 6714 6715 6716 6717 6718 6719\n",
      " 6720 6721 6722 6723 6724 6725 6726 6727 6728 6729 6730 6731 6732 6733\n",
      " 6734 6735 6736 6737 6738 6739 6740 6741 6742 6743 6744 6745 6746 6747\n",
      " 6748 6749 6750 6751 6752 6753 6754 6755 6756 6757 6758 6759 6760 6761\n",
      " 6762 6763 6764 6765 6766 6767 6768 6769 6770 6771 6772 6773 6774 6775\n",
      " 6776 6777 6778 6779 6780 6781 6782 6783 6784 6785 6786 6787 6788 6789\n",
      " 6790 6791 6792 6793 6794 6795 6796 6797 6798 6799 6800 6801 6802 6803\n",
      " 6804 6805 6806 6807 6808 6809 6810 6811 6812 6813 6814 6815 6816 6817\n",
      " 6818 6819 6820 6821 6822 6823 6824 6825 6826 6827 6828 6829 6830 6831\n",
      " 6832 6833 6834 6835 6836 6837 6838 6839 6840 6841 6842 6843 6844 6845\n",
      " 6846 6847 6848 6849 6850 6851 6852 6853 6854 6855 6856 6857 6858 6859\n",
      " 6860 6861 6862 6863 6864 6865 6866 6867 6868 6869 6870 6871 6872 6873\n",
      " 6874 6875 6876 6877 6878 6879 6880 6881 6882 6883 6884 6885 6886 6887\n",
      " 6888 6889 6890 6891 6892 6893 6894 6895 6896 6897 6898 6899 6900 6901\n",
      " 6902 6903 6904 6905 6906 6907 6908 6909 6910 6911 6912 6913 6914 6915\n",
      " 6916 6917 6918 6919 6920 6921 6922 6923 6924 6925 6926 6927 6928 6929\n",
      " 6930 6931 6932 6933 6934 6935 6936 6937 6938 6939 6940 6941 6942 6943\n",
      " 6944 6945 6946 6947 6948 6949 6950 6951 6952 6953 6954 6955 6956 6957\n",
      " 6958 6959 6960 6961 6962 6963 6964 6965 6966 6967 6968 6969 6970 6971\n",
      " 6972 6973 6974 6975 6976 6977 6978 6979 6980 6981 6982 6983 6984 6985\n",
      " 6986 6987 6988 6989 6990 6991 6992 6993 6994 6995 6996 6997 6998 6999\n",
      " 7000 7001 7002 7003 7004 7005 7006 7007 7008 7009 7010 7011 7012 7013\n",
      " 7014 7015 7016 7017 7018 7019 7020 7021 7022 7023 7024 7025 7026 7027\n",
      " 7028 7029 7030 7031 7032 7033 7034 7035 7036 7037 7038 7039 7040 7041\n",
      " 7042 7043 7044 7045 7046 7047 7048 7049 7050 7051 7052 7053 7054 7055\n",
      " 7056 7057 7058 7059 7060 7061 7062 7063 7064 7065 7066 7067 7068 7069\n",
      " 7070 7071 7072 7073 7074 7075 7076 7077 7078 7079 7080 7081 7082 7083\n",
      " 7084 7085 7086 7087 7088 7089 7090 7091 7092 7093 7094 7095 7096 7097\n",
      " 7098 7099 7100 7101 7102 7103 7104 7105 7106 7107 7108 7109 7110 7111\n",
      " 7112 7113 7114 7115 7116 7117 7118 7119 7120 7121 7122 7123 7124 7125\n",
      " 7126 7127 7128 7129 7130 7131 7132 7133 7134 7135 7136 7137 7138 7139\n",
      " 7140 7141 7142 7143 7144 7145 7146 7147 7148 7149 7150 7151 7152 7153\n",
      " 7154 7155 7156 7157 7158 7159 7160 7161 7162 7163 7164 7165 7166 7167\n",
      " 7168 7169 7170 7171 7172 7173 7174 7175 7176 7177 7178 7179 7180 7181\n",
      " 7182 7183 7184 7185 7186 7187 7188 7189 7190 7191 7192 7193 7194 7195\n",
      " 7196 7197 7198 7199 7200 7201 7202 7203 7204 7205 7206 7207 7208 7209\n",
      " 7210 7211 7212 7213 7214 7215 7216 7217 7218 7219 7220 7221 7222 7223\n",
      " 7224 7225 7226 7227 7228 7229 7230 7231 7232 7233 7234 7235 7236 7237\n",
      " 7238 7239 7240 7241 7242 7243 7244 7245 7246 7247 7248 7249 7250 7251\n",
      " 7252 7253 7254 7255 7256 7257 7258 7259 7260 7261 7262 7263 7264 7265\n",
      " 7266 7267 7268 7269 7270 7271 7272 7273 7274 7275 7276 7277 7278 7279\n",
      " 7280 7281 7282 7283 7284 7285 7286 7287 7288 7289 7290 7291 7292 7293\n",
      " 7294 7295 7296 7297 7298 7299 7300 7301 7302 7303 7304 7305 7306 7307\n",
      " 7308 7309 7310 7311 7312 7313 7314 7315 7316 7317 7318 7319 7320 7321\n",
      " 7322 7323 7324 7325 7326 7327 7328 7329 7330 7331 7332 7333 7334 7335\n",
      " 7336 7337 7338 7339 7340 7341 7342 7343 7344 7345 7346 7347 7348 7349\n",
      " 7350 7351 7352 7353 7354 7355 7356 7357 7358 7359 7360 7361 7362 7363\n",
      " 7364 7365 7366 7367 7368 7369 7370 7371 7372 7373 7374 7375 7376 7377\n",
      " 7378 7379 7380 7381 7382 7383 7384 7385 7386 7387 7388 7389 7390 7391\n",
      " 7392 7393 7394 7395 7396 7397 7398 7399 7400 7401 7402 7403 7404 7405\n",
      " 7406 7407 7408 7409 7410 7411 7412 7413 7414 7415 7416 7417 7418 7419\n",
      " 7420 7421 7422 7423 7424 7425 7426 7427 7428 7429 7430 7431 7432 7433\n",
      " 7434 7435 7436 7437 7438 7439 7440 7441 7442 7443 7444 7445 7446 7447\n",
      " 7448 7449 7450 7451 7452 7453 7454 7455 7456 7457 7458 7459 7460 7461\n",
      " 7462 7463 7464 7465 7466 7467 7468 7469 7470 7471 7472 7473 7474 7475\n",
      " 7476 7477 7478 7479 7480 7481 7482 7483 7484 7485 7486 7487 7488 7489\n",
      " 7490 7491 7492 7493 7494 7495 7496 7497 7498 7499 7500 7501 7502 7503\n",
      " 7504 7505 7506 7507 7508 7509 7510 7511 7512 7513 7514 7515 7516 7517\n",
      " 7518 7519 7520 7521 7522 7523 7524 7525 7526 7527 7528 7529 7530 7531\n",
      " 7532 7533 7534 7535 7536 7537 7538 7539 7540 7541 7542 7543 7544 7545\n",
      " 7546 7547 7548 7549 7550 7551 7552 7553 7554 7555 7556 7557 7558 7559\n",
      " 7560 7561 7562 7563 7564 7565 7566 7567 7568 7569 7570 7571 7572 7573\n",
      " 7574 7575 7576 7577 7578 7579 7580 7581 7582 7583 7584 7585 7586 7587\n",
      " 7588 7589 7590 7591 7592 7593 7594 7595 7596 7597 7598 7599 7600 7601\n",
      " 7602 7603 7604 7605 7606 7607 7608 7609 7610 7611 7612 7613 7614 7615\n",
      " 7616 7617 7618 7619 7620 7621 7622 7623 7624 7625 7626 7627 7628 7629\n",
      " 7630 7631 7632 7633 7634 7635 7636 7637 7638 7639 7640 7641 7642 7643\n",
      " 7644 7645 7646 7647 7648 7649 7650 7651 7652 7653 7654 7655 7656 7657\n",
      " 7658 7659 7660 7661 7662 7663 7664 7665 7666 7667 7668 7669 7670 7671\n",
      " 7672 7673 7674 7675 7676 7677 7678 7679 7680 7681 7682 7683 7684 7685\n",
      " 7686 7687 7688 7689 7690 7691 7692 7693 7694 7695 7696 7697 7698 7699\n",
      " 7700 7701 7702 7703 7704 7705 7706 7707 7708 7709 7710 7711 7712 7713\n",
      " 7714 7715 7716 7717 7718 7719 7720 7721 7722 7723 7724 7725 7726 7727\n",
      " 7728 7729 7730 7731 7732 7733 7734 7735 7736 7737 7738 7739 7740 7741\n",
      " 7742 7743 7744 7745 7746 7747 7748 7749 7750 7751 7752 7753 7754 7755\n",
      " 7756 7757 7758 7759 7760 7761 7762 7763 7764 7765 7766 7767 7768 7769\n",
      " 7770 7771 7772 7773 7774 7775 7776 7777 7778 7779 7780 7781 7782 7783\n",
      " 7784 7785 7786 7787 7788 7789 7790 7791 7792 7793 7794 7795 7796 7797\n",
      " 7798 7799 7800 7801 7802 7803 7804 7805 7806 7807 7808 7809 7810 7811\n",
      " 7812 7813 7814 7815 7816 7817 7818 7819 7820 7821 7822 7823 7824 7825\n",
      " 7826 7827 7828 7829 7830 7831 7832 7833 7834 7835 7836 7837 7838 7839\n",
      " 7840 7841 7842 7843 7844 7845 7846 7847 7848 7849 7850 7851 7852 7853\n",
      " 7854 7855 7856 7857 7858 7859 7860 7861 7862 7863 7864 7865 7866 7867\n",
      " 7868 7869 7870 7871 7872 7873 7874 7875 7876 7877 7878 7879 7880 7881\n",
      " 7882 7883 7884 7885 7886 7887 7888 7889 7890 7891 7892 7893 7894 7895\n",
      " 7896 7897 7898 7899 7900 7901 7902 7903 7904 7905 7906 7907 7908 7909\n",
      " 7910 7911 7912 7913 7914 7915 7916 7917 7918 7919 7920 7921 7922 7923\n",
      " 7924 7925 7926 7927 7928 7929 7930 7931 7932 7933 7934 7935 7936 7937\n",
      " 7938 7939 7940 7941 7942 7943 7944 7945 7946 7947 7948 7949 7950 7951\n",
      " 7952 7953 7954 7955 7956 7957 7958 7959 7960 7961 7962 7963 7964 7965\n",
      " 7966 7967 7968 7969 7970 7971 7972 7973 7974 7975 7976 7977 7978 7979\n",
      " 7980 7981 7982 7983 7984 7985 7986 7987 7988 7989 7990 7991 7992 7993\n",
      " 7994 7995 7996 7997 7998 7999 8000 8001 8002 8003 8004 8005 8006 8007\n",
      " 8008 8009 8010 8011 8012 8013 8014 8015 8016 8017 8018 8019 8020 8021\n",
      " 8022 8023 8024 8025 8026 8027 8028 8029 8030 8031 8032 8033 8034 8035\n",
      " 8036 8037 8038 8039 8040 8041 8042 8043 8044 8045 8046 8047 8048 8049\n",
      " 8050 8051 8052 8053 8054 8055 8056 8057 8058 8059 8060 8061 8062 8063\n",
      " 8064 8065 8066 8067 8068 8069 8070 8071 8072 8073 8074 8075 8076 8077\n",
      " 8078 8079 8080 8081 8082 8083 8084 8085 8086 8087 8088 8089 8090 8091\n",
      " 8092 8093 8094 8095 8096 8097 8098 8099 8100 8101 8102 8103 8104 8105\n",
      " 8106 8107 8108 8109 8110 8111 8112 8113 8114 8115 8116 8117 8118 8119\n",
      " 8120 8121 8122 8123 8124 8125 8126 8127 8128 8129 8130 8131 8132 8133\n",
      " 8134 8135 8136 8137 8138 8139 8140 8141 8142 8143 8144 8145 8146 8147\n",
      " 8148 8149 8150 8151 8152 8153 8154 8155 8156 8157 8158 8159 8160 8161\n",
      " 8162 8163 8164 8165 8166 8167 8168 8169 8170 8171 8172 8173 8174 8175\n",
      " 8176 8177 8178 8179 8180 8181 8182 8183 8184 8185 8186 8187 8188 8189\n",
      " 8190 8191 8192 8193 8194 8195 8196 8197 8198 8199 8200 8201 8202 8203\n",
      " 8204 8205 8206 8207 8208 8209 8210 8211 8212 8213 8214 8215 8216 8217\n",
      " 8218 8219 8220 8221 8222 8223 8224 8225 8226 8227 8228 8229 8230 8231\n",
      " 8232 8233 8234 8235 8236 8237 8238 8239 8240 8241 8242 8243 8244 8245\n",
      " 8246 8247 8248 8249 8250 8251 8252 8253 8254 8255 8256 8257 8258 8259\n",
      " 8260 8261 8262 8263 8264 8265 8266 8267 8268 8269 8270 8271 8272 8273\n",
      " 8274 8275 8276 8277 8278 8279 8280 8281 8282 8283 8284 8285 8286 8287\n",
      " 8288 8289 8290 8291 8292 8293 8294 8295 8296 8297 8298 8299 8300 8301\n",
      " 8302 8303 8304 8305 8306 8307 8308 8309 8310 8311 8312 8313 8314 8315\n",
      " 8316 8317 8318 8319 8320 8321 8322 8323 8324 8325 8326 8327 8328 8329\n",
      " 8330 8331 8332 8333 8334 8335 8336 8337 8338 8339 8340 8341 8342 8343\n",
      " 8344 8345 8346 8347 8348 8349 8350 8351 8352 8353 8354 8355 8356 8357\n",
      " 8358 8359 8360 8361 8362 8363 8364 8365 8366 8367 8368 8369 8370 8371\n",
      " 8372 8373 8374 8375 8376 8377 8378 8379 8380 8381 8382 8383 8384 8385\n",
      " 8386 8387 8388 8389 8390 8391 8392 8393 8394 8395 8396 8397 8398 8399\n",
      " 8400 8401 8402 8403 8404 8405 8406 8407 8408 8409 8410 8411 8412 8413\n",
      " 8414 8415 8416 8417 8418 8419 8420 8421 8422 8423 8424 8425 8426 8427\n",
      " 8428 8429 8430 8431 8432 8433 8434 8435 8436 8437 8438 8439 8440 8441\n",
      " 8442 8443 8444 8445 8446 8447 8448 8449 8450 8451 8452 8453 8454 8455\n",
      " 8456 8457 8458 8459 8460 8461 8462 8463 8464 8465 8466 8467 8468 8469\n",
      " 8470 8471 8472 8473 8474 8475 8476 8477 8478 8479 8480 8481 8482 8483\n",
      " 8484 8485 8486 8487 8488 8489 8490 8491 8492 8493 8494 8495 8496 8497\n",
      " 8498 8499 8500 8501 8502 8503 8504 8505 8506 8507 8508 8509 8510 8511\n",
      " 8512 8513 8514 8515 8516 8517 8518 8519 8520 8521 8522 8523 8524 8525\n",
      " 8526 8527 8528 8529 8530 8531 8532 8533 8534 8535 8536 8537 8538 8539\n",
      " 8540 8541 8542 8543 8544 8545 8546 8547 8548 8549 8550 8551 8552 8553\n",
      " 8554 8555 8556 8557 8558 8559 8560 8561 8562 8563 8564 8565 8566 8567\n",
      " 8568 8569 8570 8571 8572 8573 8574 8575 8576 8577 8578 8579 8580 8581\n",
      " 8582 8583 8584 8585 8586 8587 8588 8589 8590 8591 8592 8593 8594 8595\n",
      " 8596 8597 8598 8599 8600 8601 8602 8603 8604 8605 8606 8607 8608 8609\n",
      " 8610 8611 8612 8613 8614 8615 8616 8617 8618 8619 8620 8621 8622 8623\n",
      " 8624 8625 8626 8627 8628 8629 8630 8631 8632 8633 8634 8635 8636 8637\n",
      " 8638 8639 8640 8641 8642 8643 8644 8645 8646 8647 8648 8649 8650 8651\n",
      " 8652 8653 8654 8655 8656 8657 8658 8659 8660 8661 8662 8663 8664 8665\n",
      " 8666 8667 8668 8669 8670 8671 8672 8673 8674 8675 8676 8677 8678 8679\n",
      " 8680 8681 8682 8683 8684 8685 8686 8687 8688 8689 8690 8691 8692 8693\n",
      " 8694 8695 8696 8697 8698 8699 8700 8701 8702 8703 8704 8705 8706 8707\n",
      " 8708 8709 8710 8711 8712 8713 8714 8715 8716 8717 8718 8719 8720 8721\n",
      " 8722 8723 8724 8725 8726 8727 8728 8729 8730 8731 8732 8733 8734 8735\n",
      " 8736 8737 8738 8739 8740 8741 8742 8743 8744 8745 8746 8747 8748 8749\n",
      " 8750 8751 8752 8753 8754 8755 8756 8757 8758 8759 8760 8761 8762 8763\n",
      " 8764 8765 8766 8767 8768 8769 8770 8771 8772 8773 8774 8775 8776 8777\n",
      " 8778 8779 8780 8781 8782 8783 8784 8785 8786 8787 8788 8789 8790 8791\n",
      " 8792 8793 8794 8795 8796 8797 8798 8799 8800 8801 8802 8803 8804 8805\n",
      " 8806 8807 8808 8809 8810 8811 8812 8813 8814 8815 8816 8817 8818 8819\n",
      " 8820 8821 8822 8823 8824 8825 8826 8827 8828 8829 8830 8831 8832 8833\n",
      " 8834 8835 8836 8837 8838 8839 8840 8841 8842 8843 8844 8845 8846 8847\n",
      " 8848 8849 8850 8851 8852 8853 8854 8855 8856 8857 8858 8859 8860 8861\n",
      " 8862 8863 8864 8865 8866 8867 8868 8869 8870 8871 8872 8873 8874 8875\n",
      " 8876 8877 8878 8879 8880 8881 8882 8883 8884 8885 8886 8887 8888 8889\n",
      " 8890 8891 8892 8893 8894 8895 8896 8897 8898 8899 8900 8901 8902 8903\n",
      " 8904 8905 8906 8907 8908 8909 8910 8911 8912 8913 8914 8915 8916 8917\n",
      " 8918 8919 8920 8921 8922 8923 8924 8925 8926 8927 8928 8929 8930 8931\n",
      " 8932 8933 8934 8935 8936 8937 8938 8939 8940 8941 8942 8943 8944 8945\n",
      " 8946 8947 8948 8949 8950 8951 8952 8953 8954 8955 8956 8957 8958 8959\n",
      " 8960 8961 8962 8963 8964 8965 8966 8967 8968 8969 8970 8971 8972 8973\n",
      " 8974 8975 8976 8977 8978 8979 8980 8981 8982 8983 8984 8985 8986 8987\n",
      " 8988 8989 8990 8991 8992 8993 8994 8995 8996 8997 8998 8999 9000 9001\n",
      " 9002 9003 9004 9005 9006 9007 9008 9009 9010 9011 9012 9013 9014 9015\n",
      " 9016 9017 9018 9019 9020 9021 9022 9023 9024 9025 9026 9027 9028 9029\n",
      " 9030 9031 9032 9033 9034 9035 9036 9037 9038 9039 9040 9041 9042 9043\n",
      " 9044 9045 9046 9047 9048 9049 9050 9051 9052 9053 9054 9055 9056 9057\n",
      " 9058 9059 9060 9061 9062 9063 9064 9065 9066 9067 9068 9069 9070 9071\n",
      " 9072 9073 9074 9075 9076 9077 9078 9079 9080 9081 9082 9083 9084 9085\n",
      " 9086 9087 9088 9089 9090 9091 9092 9093 9094 9095 9096 9097 9098 9099\n",
      " 9100 9101 9102 9103 9104 9105 9106 9107 9108 9109 9110 9111 9112 9113\n",
      " 9114 9115 9116 9117 9118 9119 9120 9121 9122 9123 9124 9125 9126 9127\n",
      " 9128 9129 9130 9131 9132 9133 9134 9135 9136 9137 9138 9139 9140 9141\n",
      " 9142 9143 9144 9145 9146 9147 9148 9149 9150 9151 9152 9153 9154 9155\n",
      " 9156 9157 9158 9159 9160 9161 9162 9163 9164 9165 9166 9167 9168 9169\n",
      " 9170 9171 9172 9173 9174 9175 9176 9177 9178 9179 9180 9181 9182 9183\n",
      " 9184 9185 9186 9187 9188 9189 9190 9191 9192 9193 9194 9195 9196 9197\n",
      " 9198 9199 9200 9201 9202 9203 9204 9205 9206 9207 9208 9209 9210 9211\n",
      " 9212 9213 9214 9215 9216 9217 9218 9219 9220 9221 9222 9223 9224 9225\n",
      " 9226 9227 9228 9229 9230 9231 9232 9233 9234 9235 9236 9237 9238 9239\n",
      " 9240 9241 9242 9243 9244 9245 9246 9247 9248 9249 9250 9251 9252 9253\n",
      " 9254 9255 9256 9257 9258 9259 9260 9261 9262 9263 9264 9265 9266 9267\n",
      " 9268 9269 9270 9271 9272 9273 9274 9275 9276 9277 9278 9279 9280 9281\n",
      " 9282 9283 9284 9285 9286 9287 9288 9289 9290 9291 9292 9293 9294 9295\n",
      " 9296 9297 9298 9299 9300 9301 9302 9303 9304 9305 9306 9307 9308 9309\n",
      " 9310 9311 9312 9313 9314 9315 9316 9317 9318 9319 9320 9321 9322 9323\n",
      " 9324 9325 9326 9327 9328 9329 9330 9331 9332 9333 9334 9335 9336 9337\n",
      " 9338 9339 9340 9341 9342 9343 9344 9345 9346 9347 9348 9349 9350 9351\n",
      " 9352 9353 9354 9355 9356 9357 9358 9359 9360 9361 9362 9363 9364 9365\n",
      " 9366 9367 9368 9369 9370 9371 9372 9373 9374 9375 9376 9377 9378 9379\n",
      " 9380 9381 9382 9383 9384 9385 9386 9387 9388 9389 9390 9391 9392 9393\n",
      " 9394 9395 9396 9397 9398 9399 9400 9401 9402 9403 9404 9405 9406 9407\n",
      " 9408 9409 9410 9411 9412 9413 9414 9415 9416 9417 9418 9419 9420 9421\n",
      " 9422 9423 9424 9425 9426 9427 9428 9429 9430 9431 9432 9433 9434 9435\n",
      " 9436 9437 9438 9439 9440 9441 9442 9443 9444 9445 9446 9447 9448 9449\n",
      " 9450 9451 9452 9453 9454 9455 9456 9457 9458 9459 9460 9461 9462 9463\n",
      " 9464 9465 9466 9467 9468 9469 9470 9471 9472 9473 9474 9475 9476 9477\n",
      " 9478 9479 9480 9481 9482 9483 9484 9485 9486 9487 9488 9489 9490 9491\n",
      " 9492 9493 9494 9495 9496 9497 9498 9499 9500 9501 9502 9503 9504 9505\n",
      " 9506 9507 9508 9509 9510 9511 9512 9513 9514 9515 9516 9517 9518 9519\n",
      " 9520 9521 9522 9523 9524 9525 9526 9527 9528 9529 9530 9531 9532 9533\n",
      " 9534 9535 9536 9537 9538 9539 9540 9541 9542 9543 9544 9545 9546 9547\n",
      " 9548 9549 9550 9551 9552 9553 9554 9555 9556 9557 9558 9559 9560 9561\n",
      " 9562 9563 9564 9565 9566 9567 9568 9569 9570 9571 9572 9573 9574 9575\n",
      " 9576 9577 9578 9579 9580 9581 9582 9583 9584 9585 9586 9587 9588 9589\n",
      " 9590 9591 9592 9593 9594 9595 9596 9597 9598 9599 9600 9601 9602 9603\n",
      " 9604 9605 9606 9607 9608 9609 9610 9611 9612 9613 9614 9615 9616 9617\n",
      " 9618 9619 9620 9621 9622 9623 9624 9625 9626 9627 9628 9629 9630 9631\n",
      " 9632 9633 9634 9635 9636 9637 9638 9639 9640 9641 9642 9643 9644 9645\n",
      " 9646 9647 9648 9649 9650 9651 9652 9653 9654 9655 9656 9657 9658 9659\n",
      " 9660 9661 9662 9663 9664 9665 9666 9667 9668 9669 9670 9671 9672 9673\n",
      " 9674 9675 9676 9677 9678 9679 9680 9681 9682 9683 9684 9685 9686 9687\n",
      " 9688 9689 9690 9691 9692 9693 9694 9695 9696 9697 9698 9699 9700 9701\n",
      " 9702 9703 9704 9705 9706 9707 9708 9709 9710 9711 9712 9713 9714 9715\n",
      " 9716 9717 9718 9719 9720 9721 9722 9723 9724 9725 9726 9727 9728 9729\n",
      " 9730 9731 9732 9733 9734 9735 9736 9737 9738 9739 9740 9741 9742 9743\n",
      " 9744 9745 9746 9747 9748 9749 9750 9751 9752 9753 9754 9755 9756 9757\n",
      " 9758 9759 9760 9761 9762 9763 9764 9765 9766 9767 9768 9769 9770 9771\n",
      " 9772 9773 9774 9775 9776 9777 9778 9779 9780 9781 9782 9783 9784 9785\n",
      " 9786 9787 9788 9789 9790 9791 9792 9793 9794 9795 9796 9797 9798 9799\n",
      " 9800 9801 9802 9803 9804 9805 9806 9807 9808 9809 9810 9811 9812 9813\n",
      " 9814 9815 9816 9817 9818 9819 9820 9821 9822 9823 9824 9825 9826 9827\n",
      " 9828 9829 9830 9831 9832 9833 9834 9835 9836 9837 9838 9839 9840 9841\n",
      " 9842 9843 9844 9845 9846 9847 9848 9849 9850 9851 9852 9853 9854 9855\n",
      " 9856 9857 9858 9859 9860 9861 9862 9863 9864 9865 9866 9867 9868 9869\n",
      " 9870 9871 9872 9873 9874 9875 9876 9877 9878 9879 9880 9881 9882 9883\n",
      " 9884 9885 9886 9887 9888 9889 9890 9891 9892 9893 9894 9895 9896 9897\n",
      " 9898 9899 9900 9901 9902 9903 9904 9905 9906 9907 9908 9909 9910 9911\n",
      " 9912 9913 9914 9915 9916 9917 9918 9919 9920 9921 9922 9923 9924 9925\n",
      " 9926 9927 9928 9929 9930 9931 9932 9933 9934 9935 9936 9937 9938 9939\n",
      " 9940 9941 9942 9943 9944 9945 9946 9947 9948 9949 9950 9951 9952 9953\n",
      " 9954 9955 9956 9957 9958 9959 9960 9961 9962 9963 9964 9965 9966 9967\n",
      " 9968 9969 9970 9971 9972 9973 9974 9975 9976 9977 9978 9979 9980 9981\n",
      " 9982 9983 9984 9985 9986 9987 9988 9989 9990 9991 9992 9993 9994 9995\n",
      " 9996 9997 9998 9999]\n"
     ]
    }
   ],
   "source": [
    "print(np.arange(10000))"
   ]
  },
  {
   "cell_type": "code",
   "execution_count": null,
   "metadata": {},
   "outputs": [],
   "source": []
  },
  {
   "cell_type": "markdown",
   "metadata": {},
   "source": [
    "## Broadcasting(Basically applying some operation over various elements at once)\n",
    "\n",
    "Numpy arrays differ from a normal Python list because of their ability to broadcast:"
   ]
  },
  {
   "cell_type": "code",
   "execution_count": 22,
   "metadata": {},
   "outputs": [
    {
     "data": {
      "text/plain": [
       "array([ 0,  1,  2,  3,  4,  5,  6,  7,  8,  9, 10, 11, 12, 13, 14])"
      ]
     },
     "execution_count": 22,
     "metadata": {},
     "output_type": "execute_result"
    }
   ],
   "source": [
    "arr = np.arange(15)\n",
    "arr"
   ]
  },
  {
   "cell_type": "code",
   "execution_count": 23,
   "metadata": {},
   "outputs": [
    {
     "data": {
      "text/plain": [
       "array([100, 100, 100, 100, 100,   5,   6,   7,   8,   9,  10,  11,  12,\n",
       "        13,  14])"
      ]
     },
     "execution_count": 23,
     "metadata": {},
     "output_type": "execute_result"
    }
   ],
   "source": [
    "#Setting a value with index range (Broadcasting)\n",
    "arr[0:5]=100\n",
    "\n",
    "#Show\n",
    "arr"
   ]
  },
  {
   "cell_type": "code",
   "execution_count": 24,
   "metadata": {},
   "outputs": [
    {
     "data": {
      "text/plain": [
       "array([ 0,  1,  2,  3,  4,  5,  6,  7,  8,  9, 10])"
      ]
     },
     "execution_count": 24,
     "metadata": {},
     "output_type": "execute_result"
    }
   ],
   "source": [
    "# Reset array, we'll see why I had to reset in  a moment\n",
    "arr = np.arange(0,11)\n",
    "\n",
    "#Show\n",
    "arr"
   ]
  },
  {
   "cell_type": "code",
   "execution_count": 25,
   "metadata": {},
   "outputs": [
    {
     "data": {
      "text/plain": [
       "array([0, 1, 2, 3, 4, 5])"
      ]
     },
     "execution_count": 25,
     "metadata": {},
     "output_type": "execute_result"
    }
   ],
   "source": [
    "#Important notes on Slices\n",
    "slice_of_arr = arr[0:6]\n",
    "\n",
    "#Show slice\n",
    "slice_of_arr"
   ]
  },
  {
   "cell_type": "code",
   "execution_count": 26,
   "metadata": {},
   "outputs": [
    {
     "data": {
      "text/plain": [
       "array([99, 99, 99, 99, 99, 99])"
      ]
     },
     "execution_count": 26,
     "metadata": {},
     "output_type": "execute_result"
    }
   ],
   "source": [
    "#Change Slice\n",
    "slice_of_arr[:]=99\n",
    "\n",
    "#Show Slice again\n",
    "slice_of_arr"
   ]
  },
  {
   "cell_type": "markdown",
   "metadata": {},
   "source": [
    "Now note the changes also occur in our original array!"
   ]
  },
  {
   "cell_type": "code",
   "execution_count": 27,
   "metadata": {},
   "outputs": [
    {
     "data": {
      "text/plain": [
       "array([99, 99, 99, 99, 99, 99,  6,  7,  8,  9, 10])"
      ]
     },
     "execution_count": 27,
     "metadata": {},
     "output_type": "execute_result"
    }
   ],
   "source": [
    "arr # this is bacuse sequence slicing in numpy gives a view to array only not copy the elements"
   ]
  },
  {
   "cell_type": "markdown",
   "metadata": {},
   "source": [
    "#### Note that in all of cases where subsections of the array have been selected, the returned arrays are views.\n",
    "#### arrays generated by basic slicing are always views of the original array.\n",
    "\n",
    "#### Data is not copied, it's a view of the original array! This avoids memory problems!"
   ]
  },
  {
   "cell_type": "code",
   "execution_count": 41,
   "metadata": {},
   "outputs": [
    {
     "data": {
      "text/plain": [
       "array([99, 99, 99, 99, 99, 99,  6,  7,  8,  9, 10])"
      ]
     },
     "execution_count": 41,
     "metadata": {},
     "output_type": "execute_result"
    }
   ],
   "source": [
    "#To get a copy, need to be explicit\n",
    "arr_copy = arr.copy()\n",
    "\n",
    "arr_copy"
   ]
  },
  {
   "cell_type": "code",
   "execution_count": null,
   "metadata": {},
   "outputs": [],
   "source": []
  },
  {
   "cell_type": "markdown",
   "metadata": {},
   "source": [
    "# Operation on numpy arrays(cann't be done on list )-\n",
    "- Vectorization means applying operations element wise\n",
    "- arrays are Broadcasted if arrays are of Different sizes if mismatched dimesion is 1."
   ]
  },
  {
   "cell_type": "code",
   "execution_count": 72,
   "metadata": {},
   "outputs": [],
   "source": [
    "arr = np.arange(10) "
   ]
  },
  {
   "cell_type": "code",
   "execution_count": 73,
   "metadata": {},
   "outputs": [
    {
     "data": {
      "text/plain": [
       "array([0, 1, 2, 3, 4, 5, 6, 7, 8, 9])"
      ]
     },
     "execution_count": 73,
     "metadata": {},
     "output_type": "execute_result"
    }
   ],
   "source": [
    "arr"
   ]
  },
  {
   "cell_type": "code",
   "execution_count": 74,
   "metadata": {},
   "outputs": [
    {
     "data": {
      "text/plain": [
       "array([ 0,  2,  4,  6,  8, 10, 12, 14, 16, 18])"
      ]
     },
     "execution_count": 74,
     "metadata": {},
     "output_type": "execute_result"
    }
   ],
   "source": [
    "arr+arr"
   ]
  },
  {
   "cell_type": "code",
   "execution_count": 75,
   "metadata": {},
   "outputs": [
    {
     "data": {
      "text/plain": [
       "array([0, 0, 0, 0, 0, 0, 0, 0, 0, 0])"
      ]
     },
     "execution_count": 75,
     "metadata": {},
     "output_type": "execute_result"
    }
   ],
   "source": [
    "arr-arr"
   ]
  },
  {
   "cell_type": "code",
   "execution_count": 76,
   "metadata": {},
   "outputs": [
    {
     "name": "stderr",
     "output_type": "stream",
     "text": [
      "c:\\users\\shaurya singhal\\appdata\\local\\programs\\python\\python37-32\\lib\\site-packages\\ipykernel_launcher.py:1: RuntimeWarning: invalid value encountered in true_divide\n",
      "  \"\"\"Entry point for launching an IPython kernel.\n"
     ]
    },
    {
     "data": {
      "text/plain": [
       "array([nan,  1.,  1.,  1.,  1.,  1.,  1.,  1.,  1.,  1.])"
      ]
     },
     "execution_count": 76,
     "metadata": {},
     "output_type": "execute_result"
    }
   ],
   "source": [
    "arr/arr"
   ]
  },
  {
   "cell_type": "code",
   "execution_count": 77,
   "metadata": {},
   "outputs": [
    {
     "data": {
      "text/plain": [
       "array([ 0,  1,  4,  9, 16, 25, 36, 49, 64, 81])"
      ]
     },
     "execution_count": 77,
     "metadata": {},
     "output_type": "execute_result"
    }
   ],
   "source": [
    "arr*arr"
   ]
  },
  {
   "cell_type": "code",
   "execution_count": 78,
   "metadata": {},
   "outputs": [
    {
     "name": "stderr",
     "output_type": "stream",
     "text": [
      "c:\\users\\shaurya singhal\\appdata\\local\\programs\\python\\python37-32\\lib\\site-packages\\ipykernel_launcher.py:1: RuntimeWarning: divide by zero encountered in true_divide\n",
      "  \"\"\"Entry point for launching an IPython kernel.\n"
     ]
    },
    {
     "data": {
      "text/plain": [
       "array([       inf, 1.        , 0.5       , 0.33333333, 0.25      ,\n",
       "       0.2       , 0.16666667, 0.14285714, 0.125     , 0.11111111])"
      ]
     },
     "execution_count": 78,
     "metadata": {},
     "output_type": "execute_result"
    }
   ],
   "source": [
    "1/arr"
   ]
  },
  {
   "cell_type": "code",
   "execution_count": 79,
   "metadata": {},
   "outputs": [
    {
     "data": {
      "text/plain": [
       "array([        1,         1,         4,        27,       256,      3125,\n",
       "           46656,    823543,  16777216, 387420489], dtype=int32)"
      ]
     },
     "execution_count": 79,
     "metadata": {},
     "output_type": "execute_result"
    }
   ],
   "source": [
    "arr**arr"
   ]
  },
  {
   "cell_type": "code",
   "execution_count": 81,
   "metadata": {},
   "outputs": [
    {
     "data": {
      "text/plain": [
       "array([0, 1, 2, 3, 4, 5, 6, 7, 8, 9])"
      ]
     },
     "execution_count": 81,
     "metadata": {},
     "output_type": "execute_result"
    }
   ],
   "source": [
    "arr"
   ]
  },
  {
   "cell_type": "code",
   "execution_count": 80,
   "metadata": {},
   "outputs": [
    {
     "data": {
      "text/plain": [
       "array([ True,  True,  True,  True,  True, False, False, False, False,\n",
       "       False])"
      ]
     },
     "execution_count": 80,
     "metadata": {},
     "output_type": "execute_result"
    }
   ],
   "source": [
    "arr<5"
   ]
  },
  {
   "cell_type": "code",
   "execution_count": 85,
   "metadata": {},
   "outputs": [
    {
     "data": {
      "text/plain": [
       "array([0, 1, 2, 3])"
      ]
     },
     "execution_count": 85,
     "metadata": {},
     "output_type": "execute_result"
    }
   ],
   "source": [
    "arr[arr<4]"
   ]
  },
  {
   "cell_type": "markdown",
   "metadata": {},
   "source": [
    "#### The Python keywords and and or do not work with boolean arrays.  Use & (and) and | (or) instead."
   ]
  },
  {
   "cell_type": "code",
   "execution_count": 86,
   "metadata": {},
   "outputs": [
    {
     "data": {
      "text/plain": [
       "array([5, 6, 7, 8, 9])"
      ]
     },
     "execution_count": 86,
     "metadata": {},
     "output_type": "execute_result"
    }
   ],
   "source": [
    "arr[arr>4]"
   ]
  },
  {
   "cell_type": "code",
   "execution_count": 100,
   "metadata": {},
   "outputs": [],
   "source": [
    "# Product of matrices\n",
    "a=np.array([[1,2],[4,5]])\n"
   ]
  },
  {
   "cell_type": "code",
   "execution_count": 101,
   "metadata": {},
   "outputs": [
    {
     "data": {
      "text/plain": [
       "array([[1, 2],\n",
       "       [4, 5]])"
      ]
     },
     "execution_count": 101,
     "metadata": {},
     "output_type": "execute_result"
    }
   ],
   "source": [
    "a"
   ]
  },
  {
   "cell_type": "code",
   "execution_count": 102,
   "metadata": {},
   "outputs": [
    {
     "data": {
      "text/plain": [
       "array([[ 1,  4],\n",
       "       [16, 25]])"
      ]
     },
     "execution_count": 102,
     "metadata": {},
     "output_type": "execute_result"
    }
   ],
   "source": [
    "a*a # element product"
   ]
  },
  {
   "cell_type": "code",
   "execution_count": 105,
   "metadata": {},
   "outputs": [
    {
     "data": {
      "text/plain": [
       "array([[ 9, 12],\n",
       "       [24, 33]])"
      ]
     },
     "execution_count": 105,
     "metadata": {},
     "output_type": "execute_result"
    }
   ],
   "source": [
    "a @ a  # matrix product (a and b must be compatible matrix i.e a-cols == b-rows)"
   ]
  },
  {
   "cell_type": "code",
   "execution_count": 107,
   "metadata": {},
   "outputs": [
    {
     "data": {
      "text/plain": [
       "array([[ 9, 12],\n",
       "       [24, 33]])"
      ]
     },
     "execution_count": 107,
     "metadata": {},
     "output_type": "execute_result"
    }
   ],
   "source": [
    "a.dot(a) # matrix product"
   ]
  },
  {
   "cell_type": "code",
   "execution_count": 111,
   "metadata": {},
   "outputs": [],
   "source": [
    "# max ,min\n",
    "\n",
    "arr = np.random.random((2,3))"
   ]
  },
  {
   "cell_type": "code",
   "execution_count": 150,
   "metadata": {},
   "outputs": [
    {
     "data": {
      "text/plain": [
       "array([[0.82548126, 0.33824021, 0.1205504 ],\n",
       "       [0.6991525 , 0.88811133, 0.64167258]])"
      ]
     },
     "execution_count": 150,
     "metadata": {},
     "output_type": "execute_result"
    }
   ],
   "source": [
    "arr"
   ]
  },
  {
   "cell_type": "code",
   "execution_count": 151,
   "metadata": {},
   "outputs": [
    {
     "data": {
      "text/plain": [
       "0.8881113349325174"
      ]
     },
     "execution_count": 151,
     "metadata": {},
     "output_type": "execute_result"
    }
   ],
   "source": [
    "arr.max()"
   ]
  },
  {
   "cell_type": "code",
   "execution_count": 152,
   "metadata": {},
   "outputs": [
    {
     "data": {
      "text/plain": [
       "0.12055039839690174"
      ]
     },
     "execution_count": 152,
     "metadata": {},
     "output_type": "execute_result"
    }
   ],
   "source": [
    "arr.min()"
   ]
  },
  {
   "cell_type": "code",
   "execution_count": 155,
   "metadata": {},
   "outputs": [
    {
     "name": "stdout",
     "output_type": "stream",
     "text": [
      "[1 0 0]\n"
     ]
    }
   ],
   "source": [
    "print(arr.argmin(axis=0))\n"
   ]
  },
  {
   "cell_type": "code",
   "execution_count": 115,
   "metadata": {},
   "outputs": [
    {
     "data": {
      "text/plain": [
       "0.12055039839690174"
      ]
     },
     "execution_count": 115,
     "metadata": {},
     "output_type": "execute_result"
    }
   ],
   "source": [
    "np.min(arr)"
   ]
  },
  {
   "cell_type": "code",
   "execution_count": 116,
   "metadata": {},
   "outputs": [
    {
     "data": {
      "text/plain": [
       "3.5132082811098466"
      ]
     },
     "execution_count": 116,
     "metadata": {},
     "output_type": "execute_result"
    }
   ],
   "source": [
    "np.sum(arr)"
   ]
  },
  {
   "cell_type": "code",
   "execution_count": 145,
   "metadata": {},
   "outputs": [
    {
     "data": {
      "text/plain": [
       "array([[0.82548126, 0.33824021, 0.1205504 ],\n",
       "       [0.6991525 , 0.88811133, 0.64167258]])"
      ]
     },
     "execution_count": 145,
     "metadata": {},
     "output_type": "execute_result"
    }
   ],
   "source": [
    "arr"
   ]
  },
  {
   "cell_type": "code",
   "execution_count": 146,
   "metadata": {},
   "outputs": [
    {
     "data": {
      "text/plain": [
       "array([0.82548126, 0.88811133, 0.64167258])"
      ]
     },
     "execution_count": 146,
     "metadata": {},
     "output_type": "execute_result"
    }
   ],
   "source": [
    "# find max in particular axis\n",
    "arr.max(axis = 0) # find max in cols"
   ]
  },
  {
   "cell_type": "code",
   "execution_count": 147,
   "metadata": {},
   "outputs": [
    {
     "data": {
      "text/plain": [
       "array([0.82548126, 0.88811133])"
      ]
     },
     "execution_count": 147,
     "metadata": {},
     "output_type": "execute_result"
    }
   ],
   "source": [
    "arr.max(axis=1) # max in rows"
   ]
  },
  {
   "cell_type": "markdown",
   "metadata": {},
   "source": [
    "# Universal Functions of NumPy(or mathematical functions)\n",
    "    \n",
    "        A universal function (or ufunc for short) is a function that operates on ndarrays in an element-by-element fashion, supporting array broadcasting, type casting, and several other standard features. That is, a ufunc is a “vectorized” wrapper for a function that takes a fixed number of specific inputs and produces a fixed number of specific outputs."
   ]
  },
  {
   "cell_type": "code",
   "execution_count": 137,
   "metadata": {},
   "outputs": [
    {
     "name": "stdout",
     "output_type": "stream",
     "text": [
      "2.0\n",
      "0.49999999999999994\n"
     ]
    }
   ],
   "source": [
    "import math\n",
    "print(math.sqrt(4))\n",
    "print(math.sin(math.pi/6))"
   ]
  },
  {
   "cell_type": "code",
   "execution_count": 138,
   "metadata": {},
   "outputs": [
    {
     "data": {
      "text/plain": [
       "2.0"
      ]
     },
     "execution_count": 138,
     "metadata": {},
     "output_type": "execute_result"
    }
   ],
   "source": [
    "# using numpy\n",
    "np.sqrt(4)"
   ]
  },
  {
   "cell_type": "code",
   "execution_count": 139,
   "metadata": {},
   "outputs": [
    {
     "data": {
      "text/plain": [
       "0.49999999999999994"
      ]
     },
     "execution_count": 139,
     "metadata": {},
     "output_type": "execute_result"
    }
   ],
   "source": [
    "np.sin(np.pi/6)"
   ]
  },
  {
   "cell_type": "code",
   "execution_count": 140,
   "metadata": {},
   "outputs": [
    {
     "data": {
      "text/plain": [
       "20.085536923187668"
      ]
     },
     "execution_count": 140,
     "metadata": {},
     "output_type": "execute_result"
    }
   ],
   "source": [
    "np.exp(3)"
   ]
  },
  {
   "cell_type": "code",
   "execution_count": 143,
   "metadata": {},
   "outputs": [
    {
     "data": {
      "text/plain": [
       "array([1.        , 2.71828183, 7.3890561 ])"
      ]
     },
     "execution_count": 143,
     "metadata": {},
     "output_type": "execute_result"
    }
   ],
   "source": [
    "np.exp(np.array([0,1,2]))"
   ]
  },
  {
   "cell_type": "code",
   "execution_count": null,
   "metadata": {},
   "outputs": [],
   "source": []
  },
  {
   "cell_type": "markdown",
   "metadata": {},
   "source": [
    "## Indexing a 2D array (matrices)\n",
    "\n",
    "The general format is **arr_2d[row][col]** or **arr_2d[row,col]**. \n",
    "- when evaluating first form *arr_2d[row][col]* , first bracket([row]) is evaluated and then second one; make it hard to select submatrix from original matrix arr_2d becoz after first bracket execution also it will remain same nd matrix as it is original thus making impossible to select submatrix.\n",
    "- use `arr_2d[row,col]` for selecting sub matrix in python becoz it is evaluated as it is and selecting a subpart"
   ]
  },
  {
   "cell_type": "code",
   "execution_count": 50,
   "metadata": {},
   "outputs": [
    {
     "data": {
      "text/plain": [
       "array([[ 5, 10, 15],\n",
       "       [20, 25, 30],\n",
       "       [35, 40, 45]])"
      ]
     },
     "execution_count": 50,
     "metadata": {},
     "output_type": "execute_result"
    }
   ],
   "source": [
    "arr_2d = np.array(([5,10,15],[20,25,30],[35,40,45]))\n",
    "\n",
    "#Show\n",
    "arr_2d"
   ]
  },
  {
   "cell_type": "code",
   "execution_count": 51,
   "metadata": {},
   "outputs": [
    {
     "data": {
      "text/plain": [
       "array([20, 25, 30])"
      ]
     },
     "execution_count": 51,
     "metadata": {},
     "output_type": "execute_result"
    }
   ],
   "source": [
    "#Indexing row\n",
    "arr_2d[1]\n"
   ]
  },
  {
   "cell_type": "code",
   "execution_count": 52,
   "metadata": {},
   "outputs": [
    {
     "data": {
      "text/plain": [
       "20"
      ]
     },
     "execution_count": 52,
     "metadata": {},
     "output_type": "execute_result"
    }
   ],
   "source": [
    "# Format is arr_2d[row][col] or arr_2d[row,col]\n",
    "\n",
    "# Getting individual element value\n",
    "arr_2d[1][0]"
   ]
  },
  {
   "cell_type": "code",
   "execution_count": 53,
   "metadata": {},
   "outputs": [
    {
     "data": {
      "text/plain": [
       "20"
      ]
     },
     "execution_count": 53,
     "metadata": {},
     "output_type": "execute_result"
    }
   ],
   "source": [
    "# Getting individual element value\n",
    "arr_2d[1,0]"
   ]
  },
  {
   "cell_type": "code",
   "execution_count": 62,
   "metadata": {},
   "outputs": [
    {
     "data": {
      "text/plain": [
       "array([[ 5, 10, 15],\n",
       "       [20, 25, 30],\n",
       "       [35, 40, 45]])"
      ]
     },
     "execution_count": 62,
     "metadata": {},
     "output_type": "execute_result"
    }
   ],
   "source": [
    "arr_2d"
   ]
  },
  {
   "cell_type": "code",
   "execution_count": 83,
   "metadata": {},
   "outputs": [
    {
     "data": {
      "text/plain": [
       "array([[10, 15],\n",
       "       [25, 30]])"
      ]
     },
     "execution_count": 83,
     "metadata": {},
     "output_type": "execute_result"
    }
   ],
   "source": [
    "# 2D array slicing\n",
    "#Shape (2,2) from top right corner\n",
    "arr_2d[:2,1:]"
   ]
  },
  {
   "cell_type": "code",
   "execution_count": 84,
   "metadata": {},
   "outputs": [
    {
     "data": {
      "text/plain": [
       "array([[20, 25, 30]])"
      ]
     },
     "execution_count": 84,
     "metadata": {},
     "output_type": "execute_result"
    }
   ],
   "source": [
    "arr_2d[:2][1:]  # see result in different answer thats what we dont wanted"
   ]
  },
  {
   "cell_type": "code",
   "execution_count": 19,
   "metadata": {},
   "outputs": [
    {
     "data": {
      "text/plain": [
       "array([35, 40, 45])"
      ]
     },
     "execution_count": 19,
     "metadata": {},
     "output_type": "execute_result"
    }
   ],
   "source": [
    "#Shape bottom row\n",
    "arr_2d[2]"
   ]
  },
  {
   "cell_type": "code",
   "execution_count": 85,
   "metadata": {},
   "outputs": [
    {
     "data": {
      "text/plain": [
       "array([35, 40, 45])"
      ]
     },
     "execution_count": 85,
     "metadata": {},
     "output_type": "execute_result"
    }
   ],
   "source": [
    "#Shape bottom row\n",
    "arr_2d[2,:]"
   ]
  },
  {
   "cell_type": "markdown",
   "metadata": {},
   "source": [
    "### Fancy Indexing\n",
    "\n",
    "Fancy indexing allows you to select entire rows or columns out of order,to show this, let's quickly build out a numpy array:"
   ]
  },
  {
   "cell_type": "code",
   "execution_count": 95,
   "metadata": {},
   "outputs": [],
   "source": [
    "#Set up matrix\n",
    "arr2d = np.zeros((10,10))"
   ]
  },
  {
   "cell_type": "code",
   "execution_count": 96,
   "metadata": {},
   "outputs": [
    {
     "data": {
      "text/plain": [
       "(10, 10)"
      ]
     },
     "execution_count": 96,
     "metadata": {},
     "output_type": "execute_result"
    }
   ],
   "source": [
    "arr2d.shape"
   ]
  },
  {
   "cell_type": "code",
   "execution_count": 97,
   "metadata": {},
   "outputs": [
    {
     "name": "stdout",
     "output_type": "stream",
     "text": [
      "10\n"
     ]
    }
   ],
   "source": [
    "# no of columns  of array\n",
    "arr_length = arr2d.shape[1]\n",
    "print(arr_length)"
   ]
  },
  {
   "cell_type": "code",
   "execution_count": 99,
   "metadata": {},
   "outputs": [
    {
     "data": {
      "text/plain": [
       "array([[ 1.,  1.,  1.,  1.,  1.,  1.,  1.,  1.,  1.,  1.],\n",
       "       [ 2.,  2.,  2.,  2.,  2.,  2.,  2.,  2.,  2.,  2.],\n",
       "       [ 3.,  3.,  3.,  3.,  3.,  3.,  3.,  3.,  3.,  3.],\n",
       "       [ 4.,  4.,  4.,  4.,  4.,  4.,  4.,  4.,  4.,  4.],\n",
       "       [ 5.,  5.,  5.,  5.,  5.,  5.,  5.,  5.,  5.,  5.],\n",
       "       [ 6.,  6.,  6.,  6.,  6.,  6.,  6.,  6.,  6.,  6.],\n",
       "       [ 7.,  7.,  7.,  7.,  7.,  7.,  7.,  7.,  7.,  7.],\n",
       "       [ 8.,  8.,  8.,  8.,  8.,  8.,  8.,  8.,  8.,  8.],\n",
       "       [ 9.,  9.,  9.,  9.,  9.,  9.,  9.,  9.,  9.,  9.],\n",
       "       [10., 10., 10., 10., 10., 10., 10., 10., 10., 10.]])"
      ]
     },
     "execution_count": 99,
     "metadata": {},
     "output_type": "execute_result"
    }
   ],
   "source": [
    "#Set up array\n",
    "\n",
    "for i in range(arr_length):\n",
    "    arr2d[i] = i+1\n",
    "    \n",
    "arr2d"
   ]
  },
  {
   "cell_type": "markdown",
   "metadata": {},
   "source": [
    "Fancy indexing allows the following"
   ]
  },
  {
   "cell_type": "code",
   "execution_count": 100,
   "metadata": {},
   "outputs": [
    {
     "data": {
      "text/plain": [
       "array([[3., 3., 3., 3., 3., 3., 3., 3., 3., 3.],\n",
       "       [5., 5., 5., 5., 5., 5., 5., 5., 5., 5.],\n",
       "       [7., 7., 7., 7., 7., 7., 7., 7., 7., 7.],\n",
       "       [9., 9., 9., 9., 9., 9., 9., 9., 9., 9.]])"
      ]
     },
     "execution_count": 100,
     "metadata": {},
     "output_type": "execute_result"
    }
   ],
   "source": [
    "arr2d[[2,4,6,8]]"
   ]
  },
  {
   "cell_type": "code",
   "execution_count": 101,
   "metadata": {},
   "outputs": [
    {
     "data": {
      "text/plain": [
       "array([[7., 7., 7., 7., 7., 7., 7., 7., 7., 7.],\n",
       "       [5., 5., 5., 5., 5., 5., 5., 5., 5., 5.],\n",
       "       [3., 3., 3., 3., 3., 3., 3., 3., 3., 3.],\n",
       "       [8., 8., 8., 8., 8., 8., 8., 8., 8., 8.]])"
      ]
     },
     "execution_count": 101,
     "metadata": {},
     "output_type": "execute_result"
    }
   ],
   "source": [
    "#Allows in any order\n",
    "arr2d[[6,4,2,7]]"
   ]
  },
  {
   "cell_type": "code",
   "execution_count": null,
   "metadata": {},
   "outputs": [],
   "source": []
  },
  {
   "cell_type": "markdown",
   "metadata": {},
   "source": [
    "# numpy for statistics\n",
    "- min , max\n",
    "- mean\n",
    "- average => weighted mean\n",
    "- median\n",
    "- mode\n",
    "- std\n",
    "- variance\n"
   ]
  },
  {
   "cell_type": "code",
   "execution_count": 1,
   "metadata": {},
   "outputs": [],
   "source": [
    "import numpy as np"
   ]
  },
  {
   "cell_type": "code",
   "execution_count": 2,
   "metadata": {},
   "outputs": [
    {
     "data": {
      "text/plain": [
       "1"
      ]
     },
     "execution_count": 2,
     "metadata": {},
     "output_type": "execute_result"
    }
   ],
   "source": [
    "np.min([1,2,3])"
   ]
  },
  {
   "cell_type": "code",
   "execution_count": 4,
   "metadata": {},
   "outputs": [
    {
     "data": {
      "text/plain": [
       "34"
      ]
     },
     "execution_count": 4,
     "metadata": {},
     "output_type": "execute_result"
    }
   ],
   "source": [
    "\n",
    "np.max([3,34,5])"
   ]
  },
  {
   "cell_type": "code",
   "execution_count": 5,
   "metadata": {},
   "outputs": [
    {
     "data": {
      "text/plain": [
       "3.0"
      ]
     },
     "execution_count": 5,
     "metadata": {},
     "output_type": "execute_result"
    }
   ],
   "source": [
    "np.mean([2,3,4])"
   ]
  },
  {
   "cell_type": "code",
   "execution_count": 26,
   "metadata": {},
   "outputs": [
    {
     "data": {
      "text/plain": [
       "2.066666666666667"
      ]
     },
     "execution_count": 26,
     "metadata": {},
     "output_type": "execute_result"
    }
   ],
   "source": [
    "np.average([1,5,4,2,0], weights=[1,2,3,4,5]) # sum(wi * xi) /sum(wi)"
   ]
  },
  {
   "cell_type": "code",
   "execution_count": 27,
   "metadata": {},
   "outputs": [
    {
     "data": {
      "text/plain": [
       "2.066666666666667"
      ]
     },
     "execution_count": 27,
     "metadata": {},
     "output_type": "execute_result"
    }
   ],
   "source": [
    "(1*1 + 5*2 + 4*3 + 2*4 + 0*5 ) / 15"
   ]
  },
  {
   "cell_type": "code",
   "execution_count": 28,
   "metadata": {},
   "outputs": [
    {
     "data": {
      "text/plain": [
       "8.5"
      ]
     },
     "execution_count": 28,
     "metadata": {},
     "output_type": "execute_result"
    }
   ],
   "source": [
    "np.median([2,3,4,65,75,8,67,8,9,654,1,83])"
   ]
  },
  {
   "cell_type": "code",
   "execution_count": 31,
   "metadata": {},
   "outputs": [
    {
     "name": "stdout",
     "output_type": "stream",
     "text": [
      "0.816496580927726\n"
     ]
    }
   ],
   "source": [
    "# using formula\n",
    "a = np.array([2,3,4])\n",
    "u = np.mean(a)\n",
    "\n",
    "std = np.sqrt(np.mean((a-u)**2))\n",
    "print(std)"
   ]
  },
  {
   "cell_type": "code",
   "execution_count": 33,
   "metadata": {},
   "outputs": [
    {
     "data": {
      "text/plain": [
       "0.816496580927726"
      ]
     },
     "execution_count": 33,
     "metadata": {},
     "output_type": "execute_result"
    }
   ],
   "source": [
    "# using inbuilt std function\n",
    "np.std([2,3,4])"
   ]
  },
  {
   "cell_type": "code",
   "execution_count": 10,
   "metadata": {},
   "outputs": [
    {
     "data": {
      "text/plain": [
       "0.6666666666666666"
      ]
     },
     "execution_count": 10,
     "metadata": {},
     "output_type": "execute_result"
    }
   ],
   "source": [
    "np.var([2,3,4])"
   ]
  },
  {
   "cell_type": "markdown",
   "metadata": {},
   "source": [
    "# Stacking together different arrays\n",
    "\n",
    "- `np.hstack()` -  To stack arrays along horizontal axis.\n",
    "- `np.vstack()` - To stack arrays along vertical axis.\n",
    "- `np.row_stack()`- To stack 1-D arrays as rows into 2-D arrays \n",
    "- `np.column_stack()` - To stack 1-D arrays as column into 2-D arrays\n",
    "- `np.concatenate() `: To stack arrays along specified axis (axis is passed as argument).- can stack more than two arrays\n",
    "\n",
    "# Splitting one array into several smaller ones\n",
    "- `hsplit()`\n",
    "- `vsplit()`\n",
    "\n",
    "```python\n",
    "\n",
    "a = np.floor(10*np.random.random((2,12)))\n",
    "a\n",
    "array([[ 9.,  5.,  6.,  3.,  6.,  8.,  0.,  7.,  9.,  7.,  2.,  7.],\n",
    "       [ 1.,  4.,  9.,  2.,  2.,  1.,  0.,  6.,  2.,  2.,  4.,  0.]])\n",
    "\n",
    "np.hsplit(a,3)   # Split a into 3\n",
    "[array([[ 9.,  5.,  6.,  3.],\n",
    "       [ 1.,  4.,  9.,  2.]]), array([[ 6.,  8.,  0.,  7.],\n",
    "       [ 2.,  1.,  0.,  6.]]), array([[ 9.,  7.,  2.,  7.],\n",
    "       [ 2.,  2.,  4.,  0.]])]\n",
    "\n",
    "np.hsplit(a,(3,4))   # Split a after the third and the fourth column\n",
    "[array([[ 9.,  5.,  6.],\n",
    "       [ 1.,  4.,  9.]]), array([[ 3.],\n",
    "       [ 2.]]), array([[ 6.,  8.,  0.,  7.,  9.,  7.,  2.,  7.],\n",
    "       [ 2.,  1.,  0.,  6.,  2.,  2.,  4.,  0.]])]\n",
    "```\n"
   ]
  },
  {
   "cell_type": "code",
   "execution_count": null,
   "metadata": {},
   "outputs": [],
   "source": []
  },
  {
   "cell_type": "markdown",
   "metadata": {},
   "source": [
    "\n",
    "# Copies and Views\n",
    "When operating and manipulating arrays, their data is sometimes copied into a new array and sometimes not. This is often a source of confusion for beginners. There are three cases:\n",
    "\n",
    "### No Copy at All\n",
    "Simple assignments make no copy of array objects or of their data.\n",
    "```python\n",
    "\n",
    "a = np.arange(12)\n",
    "b = a            # no new object is created\n",
    "b is a           # a and b are two names for the same ndarray object\n",
    "True\n",
    "b.shape = 3,4    # changes the shape of a\n",
    "a.shape\n",
    "(3, 4)\n",
    "```\n",
    "### View or Shallow Copy(`view()`)\n",
    "Different array objects can share the same data. The view method creates a new array object that looks at the same data.\n",
    "\n",
    "```python\n",
    "c = a.view()\n",
    "c is a\n",
    "False\n",
    "c.base is a                        # c is a view of the data owned by a\n",
    "True\n",
    "c.flags.owndata\n",
    "False\n",
    "\n",
    "c.shape = 2,6                      # a's shape doesn't change\n",
    " a.shape\n",
    "(3, 4)\n",
    "c[0,4] = 1234                      # a's data changes\n",
    "a\n",
    "array([[   0,    1,    2,    3],\n",
    "       [1234,    5,    6,    7],\n",
    "       [   8,    9,   10,   11]])\n",
    "```\n",
    "\n",
    "\n",
    "**Slicing an array returns a view of it**:\n",
    "\n",
    "```python\n",
    ">>> s = a[ : , 1:3]    \n",
    ">>> s[:] = 10           # s[:] is a view of s. Note the difference between s=10 and s[:]=10\n",
    ">>> a\n",
    "array([[   0,   10,   10,    3],\n",
    "       [1234,   10,   10,    7],\n",
    "       [   8,   10,   10,   11]])\n",
    "```\n",
    "\n",
    "### Deep Copy\n",
    "The copy method makes a complete copy of the array and its data.\n",
    "\n",
    "```python\n",
    "d = a.copy()                          # a new array object with new data is created\n",
    "d is a\n",
    "False\n",
    "d.base is a                           # d doesn't share anything with a\n",
    "False\n",
    "d[0,0] = 9999\n",
    "a\n",
    "array([[   0,   10,   10,    3],\n",
    "       [1234,   10,   10,    7],\n",
    "       [   8,   10,   10,   11]])\n",
    "```"
   ]
  },
  {
   "cell_type": "code",
   "execution_count": null,
   "metadata": {},
   "outputs": [],
   "source": []
  },
  {
   "cell_type": "markdown",
   "metadata": {},
   "source": [
    "## Broadcasting rules\n",
    "\n",
    "- The first rule of broadcasting is that if all input arrays do not have the same number of dimensions, a “1” will be repeatedly prepended to the shapes of the smaller arrays until all the arrays have the same number of dimensions.\n",
    "\n",
    "- The second rule of broadcasting ensures that arrays with a size of 1 along a particular dimension act as if they had the size of the array with the largest shape along that dimension. The value of the array element is assumed to be the same along that dimension for the “broadcast” array."
   ]
  },
  {
   "cell_type": "code",
   "execution_count": null,
   "metadata": {},
   "outputs": [],
   "source": []
  },
  {
   "cell_type": "markdown",
   "metadata": {},
   "source": [
    "In order to broadcast, the size of the trailing axes for both arrays in an operation must either be the same size or one of them must be one.\n",
    "\n",
    "Let us see some examples:\n",
    "\n",
    "A(2-D array): 4 x 3\n",
    "B(1-D array):     3\n",
    "Result      : 4 x 3\n",
    "A(4-D array): 7 x 1 x 6 x 1\n",
    "B(3-D array):     3 x 1 x 5\n",
    "Result      : 7 x 3 x 6 x 5\n",
    "But this would be a mismatch:\n",
    "\n",
    "A: 4 x 3\n",
    "B:     4\n",
    "Now, let us see"
   ]
  },
  {
   "cell_type": "code",
   "execution_count": null,
   "metadata": {},
   "outputs": [],
   "source": []
  },
  {
   "cell_type": "code",
   "execution_count": null,
   "metadata": {},
   "outputs": [],
   "source": []
  },
  {
   "cell_type": "markdown",
   "metadata": {},
   "source": [
    "\n",
    "# Array Sorting\n",
    "There is a simple np.sort method for sorting NumPy arrays.\n"
   ]
  },
  {
   "cell_type": "code",
   "execution_count": 2,
   "metadata": {},
   "outputs": [
    {
     "data": {
      "text/plain": [
       "array([[ 1,  2,  4],\n",
       "       [ 3,  4,  6],\n",
       "       [-1,  0,  5]])"
      ]
     },
     "execution_count": 2,
     "metadata": {},
     "output_type": "execute_result"
    }
   ],
   "source": [
    "import numpy as np\n",
    "arr = np.array([[1, 4, 2],\n",
    "                [3, 4, 6],\n",
    "                [0, -1, 5]])\n",
    "\n",
    "np.sort(arr, axis=1)"
   ]
  },
  {
   "cell_type": "code",
   "execution_count": 4,
   "metadata": {},
   "outputs": [
    {
     "data": {
      "text/plain": [
       "array([[ 0, -1,  2],\n",
       "       [ 1,  4,  5],\n",
       "       [ 3,  4,  6]])"
      ]
     },
     "execution_count": 4,
     "metadata": {},
     "output_type": "execute_result"
    }
   ],
   "source": [
    "np.sort(arr, axis=0)\n"
   ]
  },
  {
   "cell_type": "code",
   "execution_count": 5,
   "metadata": {},
   "outputs": [
    {
     "data": {
      "text/plain": [
       "array([-1,  0,  1,  2,  3,  4,  4,  5,  6])"
      ]
     },
     "execution_count": 5,
     "metadata": {},
     "output_type": "execute_result"
    }
   ],
   "source": [
    "np.sort(arr, axis=None)"
   ]
  },
  {
   "cell_type": "code",
   "execution_count": null,
   "metadata": {},
   "outputs": [],
   "source": []
  },
  {
   "cell_type": "markdown",
   "metadata": {},
   "source": [
    "\n",
    "# Linear Algebra\n",
    "The Linear Algebra module of NumPy offers various methods to apply linear algebra on any numpy array.\n",
    "\n",
    "You can find:\n",
    "\n",
    "- rank, determinant, trace, etc. of an array.\n",
    "- eigen values of matrices\n",
    "- matrix and vector products (dot, inner, outer,etc. product), matrix exponentiation\n",
    "- solve linear or tensor equations and much more!\n",
    "Now, let us assume that we want to solve this linear equation set:\n",
    "```\n",
    "    x + 2*y = 8\n",
    "    3*x + 4*y = 18\n",
    "```\n",
    "This problem can be solved using linalg.solve method as shown in example below:\n",
    "\n"
   ]
  },
  {
   "cell_type": "code",
   "execution_count": 16,
   "metadata": {},
   "outputs": [
    {
     "data": {
      "text/plain": [
       "array([2., 3.])"
      ]
     },
     "execution_count": 16,
     "metadata": {},
     "output_type": "execute_result"
    }
   ],
   "source": [
    "\n",
    "import numpy as np\n",
    "# coefficients\n",
    "a = np.array([[1, 2], [3, 4]])\n",
    "# constants\n",
    "b = np.array([8, 18])\n",
    "\n",
    "np.linalg.solve(a, b)\n"
   ]
  },
  {
   "cell_type": "code",
   "execution_count": 17,
   "metadata": {},
   "outputs": [
    {
     "data": {
      "text/plain": [
       "3"
      ]
     },
     "execution_count": 17,
     "metadata": {},
     "output_type": "execute_result"
    }
   ],
   "source": [
    "\n",
    "A = np.array([[6, 1, 1],\n",
    "              [4, -2, 5],\n",
    "              [2, 8, 7]])\n",
    "# rank of matrix\n",
    "np.linalg.matrix_rank(A)\n"
   ]
  },
  {
   "cell_type": "code",
   "execution_count": 18,
   "metadata": {},
   "outputs": [
    {
     "data": {
      "text/plain": [
       "11"
      ]
     },
     "execution_count": 18,
     "metadata": {},
     "output_type": "execute_result"
    }
   ],
   "source": [
    "\n",
    "# trace of matrix- diagonal sum\n",
    "np.trace(A)"
   ]
  },
  {
   "cell_type": "code",
   "execution_count": 19,
   "metadata": {},
   "outputs": [
    {
     "data": {
      "text/plain": [
       "-306.0"
      ]
     },
     "execution_count": 19,
     "metadata": {},
     "output_type": "execute_result"
    }
   ],
   "source": [
    "\n",
    "# determinant of matrix\n",
    "np.linalg.det(A)"
   ]
  },
  {
   "cell_type": "code",
   "execution_count": 20,
   "metadata": {},
   "outputs": [
    {
     "data": {
      "text/plain": [
       "array([[ 0.17647059, -0.00326797, -0.02287582],\n",
       "       [ 0.05882353, -0.13071895,  0.08496732],\n",
       "       [-0.11764706,  0.1503268 ,  0.05228758]])"
      ]
     },
     "execution_count": 20,
     "metadata": {},
     "output_type": "execute_result"
    }
   ],
   "source": [
    "\n",
    "# inverse of matrix\n",
    "np.linalg.inv(A)"
   ]
  },
  {
   "cell_type": "code",
   "execution_count": 21,
   "metadata": {},
   "outputs": [
    {
     "data": {
      "text/plain": [
       "array([[336, 162, 228],\n",
       "       [406, 162, 469],\n",
       "       [698, 702, 905]])"
      ]
     },
     "execution_count": 21,
     "metadata": {},
     "output_type": "execute_result"
    }
   ],
   "source": [
    "\n",
    "# matrix exponentiation\n",
    "np.linalg.matrix_power(A,3)"
   ]
  },
  {
   "cell_type": "code",
   "execution_count": null,
   "metadata": {},
   "outputs": [],
   "source": []
  },
  {
   "cell_type": "code",
   "execution_count": null,
   "metadata": {},
   "outputs": [],
   "source": []
  },
  {
   "cell_type": "markdown",
   "metadata": {},
   "source": [
    "# Saving and loading numpy arrays\n",
    "The `.npy` format is the standard binary file format in NumPy for persisting a single arbitrary NumPy array on disk. The format stores all of the shape and dtype information necessary to reconstruct the array correctly even on another machine with a different architecture. The format is designed to be as simple as possible while achieving its limited goals.\n",
    "\n",
    "The `.npz` format is the standard format for persisting multiple NumPy arrays on disk. A .npz file is a zip file containing multiple .npy files, one for each array.\n",
    "\n",
    "- np.save(filename.npy, array) : saves a single array in npy format.\n",
    "\n",
    "- np.savez(filename.npz, array_1[, array_2]) : saves multiple numpy arrays in npz format.\n",
    "\n",
    "- np.load(filename) : load a npy or npz format file.\n"
   ]
  },
  {
   "cell_type": "code",
   "execution_count": 22,
   "metadata": {},
   "outputs": [],
   "source": [
    "\n",
    "import numpy as np\n",
    "a = np.array([[1,2,3],\n",
    "             [4,5,6]])\n",
    "\n",
    "b = np.array([[6,5,4],\n",
    "              [3,2,1]])\n"
   ]
  },
  {
   "cell_type": "code",
   "execution_count": 23,
   "metadata": {},
   "outputs": [],
   "source": [
    "np.save(\"a.npy\", a)\n"
   ]
  },
  {
   "cell_type": "code",
   "execution_count": 24,
   "metadata": {},
   "outputs": [
    {
     "data": {
      "text/plain": [
       "array([[1, 2, 3],\n",
       "       [4, 5, 6]])"
      ]
     },
     "execution_count": 24,
     "metadata": {},
     "output_type": "execute_result"
    }
   ],
   "source": [
    "a = np.load(\"a.npy\")\n",
    "a\n"
   ]
  },
  {
   "cell_type": "code",
   "execution_count": 25,
   "metadata": {},
   "outputs": [],
   "source": [
    "\n",
    "np.savez(\"AB.npz\", x=a, y=b)\n",
    "arr = np.load(\"AB.npz\")\n"
   ]
  },
  {
   "cell_type": "code",
   "execution_count": 26,
   "metadata": {},
   "outputs": [
    {
     "data": {
      "text/plain": [
       "array([[1, 2, 3],\n",
       "       [4, 5, 6]])"
      ]
     },
     "execution_count": 26,
     "metadata": {},
     "output_type": "execute_result"
    }
   ],
   "source": [
    "arr['x']\n"
   ]
  },
  {
   "cell_type": "code",
   "execution_count": 27,
   "metadata": {},
   "outputs": [
    {
     "data": {
      "text/plain": [
       "array([[6, 5, 4],\n",
       "       [3, 2, 1]])"
      ]
     },
     "execution_count": 27,
     "metadata": {},
     "output_type": "execute_result"
    }
   ],
   "source": [
    "arr['y']"
   ]
  },
  {
   "cell_type": "code",
   "execution_count": null,
   "metadata": {},
   "outputs": [],
   "source": []
  }
 ],
 "metadata": {
  "kernelspec": {
   "display_name": "Python 3",
   "language": "python",
   "name": "python3"
  },
  "language_info": {
   "codemirror_mode": {
    "name": "ipython",
    "version": 3
   },
   "file_extension": ".py",
   "mimetype": "text/x-python",
   "name": "python",
   "nbconvert_exporter": "python",
   "pygments_lexer": "ipython3",
   "version": "3.7.1"
  }
 },
 "nbformat": 4,
 "nbformat_minor": 2
}
