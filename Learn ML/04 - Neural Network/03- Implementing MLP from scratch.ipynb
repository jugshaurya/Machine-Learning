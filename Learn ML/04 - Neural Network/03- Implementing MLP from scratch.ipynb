{
 "cells": [
  {
   "cell_type": "code",
   "execution_count": 12,
   "metadata": {},
   "outputs": [],
   "source": [
    "import numpy as np"
   ]
  },
  {
   "cell_type": "markdown",
   "metadata": {},
   "source": [
    "# Implementing Neural Network as a Class or sya DataStructure"
   ]
  },
  {
   "cell_type": "code",
   "execution_count": 18,
   "metadata": {},
   "outputs": [],
   "source": [
    "class MLP_NeuralNetwork :\n",
    "    \n",
    "    def __init__(self, input_layer_size, hidden_layers_size , output_layer_size):\n",
    "        np.random.seed(0)\n",
    "\n",
    "        params = {}\n",
    "        \n",
    "        params['w1'] = np.random.randn(input_layer_size, hidden_layers_size[0])\n",
    "        params['w2'] = np.random.randn(hidden_layers_size[0], hidden_layers_size[1])\n",
    "        params['w3'] = np.random.randn(hidden_layers_size[1], output_layer_size)\n",
    "\n",
    "        \n",
    "        params['b1'] = np.random.randn(1, hidden_layers_size[0])\n",
    "        params['b2'] = np.random.randn(1, hidden_layers_size[1])\n",
    "        params['b3'] = np.random.randn(1, output_layer_size)\n",
    "\n",
    "        self.params = params\n",
    "    \n",
    "    @staticmethod\n",
    "    def __sigmoid(arr):       \n",
    "        # arr is 2-dimensional\n",
    "        return 1 / (1 + np.exp(-1*arr))\n",
    "    \n",
    "    @staticmethod\n",
    "    def __softmax(arr):\n",
    "        # arr is 2-dimensional\n",
    "        exp_arr = np.exp(arr)\n",
    "        return exp_arr / np.sum(exp_arr,axis=1,keepdims=True)\n",
    "    \n",
    "    # feed forward \n",
    "    def fit(self, X, Y):\n",
    "        '''\n",
    "            for first hidden layer outputs\n",
    "        '''\n",
    "        # X -> ( #examples X input_layer_size)\n",
    "        w1 = self.params['w1'] # (input_layer_size X hidden_layers_size[0])\n",
    "        b1 = self.params['b1'] # (1, hidden_layers_size[0])\n",
    "        without_bias =  np.dot(X,w1) # (#examples X hidden_layers_size[0]) \n",
    "        z1 = without_bias + b1 # b1 will be broadcasted to:  (#examples X hidden_layers_size[0])\n",
    "        a1 = self.__sigmoid(z1)\n",
    "        print(a1)\n",
    "        \n",
    "        \n",
    "        '''\n",
    "            for second hidden layer outputs\n",
    "        '''\n",
    "        w2 = self.params['w2']\n",
    "        b2 = self.params['b2'] \n",
    "        z2 = np.dot(a1, w2) + b2 \n",
    "        a2 = self.__sigmoid(z2)\n",
    "        \n",
    "        \n",
    "        '''\n",
    "            for output layer outputs\n",
    "        '''\n",
    "        # X -> ( #examples X input_layer_size)\n",
    "        w3 = self.params['w3'] \n",
    "        b3 = self.params['b3'] \n",
    "        z3 = np.dot(a2, w3) + b3 \n",
    "        \n",
    "        '''\n",
    "            taking softmax over z3 instead of taking sigmoidal as a activation function\n",
    "        '''\n",
    "        \n",
    "        return self.__softmax(z3)\n",
    "        \n",
    "        \n",
    "    def print(self):\n",
    "        for key,values in self.params.items():\n",
    "            print(key,':\\n\\n', values)\n",
    "            print()"
   ]
  },
  {
   "cell_type": "code",
   "execution_count": 19,
   "metadata": {},
   "outputs": [],
   "source": [
    "input_layer_size = 3\n",
    "output_layer_size = 2\n",
    "hidden_layers_size = (4,5)\n",
    "\n",
    "NN = MLP_NeuralNetwork(input_layer_size,hidden_layers_size,output_layer_size) # [3,[3,5],2]"
   ]
  },
  {
   "cell_type": "code",
   "execution_count": 20,
   "metadata": {},
   "outputs": [
    {
     "name": "stdout",
     "output_type": "stream",
     "text": [
      "w1 :\n",
      "\n",
      " [[ 1.76405235  0.40015721  0.97873798  2.2408932 ]\n",
      " [ 1.86755799 -0.97727788  0.95008842 -0.15135721]\n",
      " [-0.10321885  0.4105985   0.14404357  1.45427351]]\n",
      "\n",
      "w2 :\n",
      "\n",
      " [[ 0.76103773  0.12167502  0.44386323  0.33367433  1.49407907]\n",
      " [-0.20515826  0.3130677  -0.85409574 -2.55298982  0.6536186 ]\n",
      " [ 0.8644362  -0.74216502  2.26975462 -1.45436567  0.04575852]\n",
      " [-0.18718385  1.53277921  1.46935877  0.15494743  0.37816252]]\n",
      "\n",
      "w3 :\n",
      "\n",
      " [[-0.88778575 -1.98079647]\n",
      " [-0.34791215  0.15634897]\n",
      " [ 1.23029068  1.20237985]\n",
      " [-0.38732682 -0.30230275]\n",
      " [-1.04855297 -1.42001794]]\n",
      "\n",
      "b1 :\n",
      "\n",
      " [[-1.70627019  1.9507754  -0.50965218 -0.4380743 ]]\n",
      "\n",
      "b2 :\n",
      "\n",
      " [[-1.25279536  0.77749036 -1.61389785 -0.21274028 -0.89546656]]\n",
      "\n",
      "b3 :\n",
      "\n",
      " [[ 0.3869025  -0.51080514]]\n",
      "\n"
     ]
    }
   ],
   "source": [
    "NN.print()"
   ]
  },
  {
   "cell_type": "markdown",
   "metadata": {},
   "source": [
    "# Passing data to Neural Network (Forward Propagation)\n"
   ]
  },
  {
   "cell_type": "code",
   "execution_count": 21,
   "metadata": {},
   "outputs": [
    {
     "name": "stdout",
     "output_type": "stream",
     "text": [
      "[[0.97020716 0.83591912 0.94275107 0.99716514]\n",
      " [0.97020716 0.83591912 0.94275107 0.99716514]\n",
      " [0.97020716 0.83591912 0.94275107 0.99716514]\n",
      " [0.99989787 0.15261202 0.99596061 0.98119374]]\n"
     ]
    },
    {
     "data": {
      "text/plain": [
       "array([[0.78756756, 0.21243244],\n",
       "       [0.78756756, 0.21243244],\n",
       "       [0.78756756, 0.21243244],\n",
       "       [0.79408471, 0.20591529]])"
      ]
     },
     "execution_count": 21,
     "metadata": {},
     "output_type": "execute_result"
    }
   ],
   "source": [
    "NN.fit([[1,2,3],[1,2,3],[1,2,3],[1,5,2]],[1,2,3])"
   ]
  },
  {
   "cell_type": "code",
   "execution_count": null,
   "metadata": {},
   "outputs": [],
   "source": []
  },
  {
   "cell_type": "code",
   "execution_count": null,
   "metadata": {},
   "outputs": [],
   "source": []
  },
  {
   "cell_type": "code",
   "execution_count": null,
   "metadata": {},
   "outputs": [],
   "source": []
  },
  {
   "cell_type": "code",
   "execution_count": null,
   "metadata": {},
   "outputs": [],
   "source": []
  },
  {
   "cell_type": "code",
   "execution_count": null,
   "metadata": {},
   "outputs": [],
   "source": []
  },
  {
   "cell_type": "code",
   "execution_count": null,
   "metadata": {},
   "outputs": [],
   "source": []
  }
 ],
 "metadata": {
  "kernelspec": {
   "display_name": "Python 3",
   "language": "python",
   "name": "python3"
  },
  "language_info": {
   "codemirror_mode": {
    "name": "ipython",
    "version": 3
   },
   "file_extension": ".py",
   "mimetype": "text/x-python",
   "name": "python",
   "nbconvert_exporter": "python",
   "pygments_lexer": "ipython3",
   "version": "3.7.1"
  }
 },
 "nbformat": 4,
 "nbformat_minor": 2
}
