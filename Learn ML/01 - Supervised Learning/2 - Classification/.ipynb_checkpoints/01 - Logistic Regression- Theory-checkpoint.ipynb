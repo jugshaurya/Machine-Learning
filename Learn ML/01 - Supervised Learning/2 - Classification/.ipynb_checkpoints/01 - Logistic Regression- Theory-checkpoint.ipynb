{
 "cells": [
  {
   "cell_type": "markdown",
   "metadata": {},
   "source": [
    "# Logistic Regression(`Classification Algorithm`)"
   ]
  },
  {
   "cell_type": "markdown",
   "metadata": {},
   "source": [
    "- Although name has Regression in it but it is a Classification Algorithm\n",
    "- in classification problems we deal with the data which is qualitative or categorical(like eyes color -blue,green,red etc).\n",
    "- values are discrete values, hence are grouped into classes"
   ]
  },
  {
   "cell_type": "code",
   "execution_count": null,
   "metadata": {},
   "outputs": [],
   "source": []
  },
  {
   "cell_type": "markdown",
   "metadata": {},
   "source": [
    "- so in Classification , we have classes , our goal is to predict the calss about a new sample which it belongs to.\n",
    "- for that we make a `decision boundary` to seperate one class data points from other.\n",
    "- in total we have `Kc2` boundaries, where k is the number of the number of classes our data have."
   ]
  },
  {
   "cell_type": "code",
   "execution_count": null,
   "metadata": {},
   "outputs": [],
   "source": []
  },
  {
   "cell_type": "markdown",
   "metadata": {},
   "source": [
    "# Binary Classification\n",
    "\n",
    "- Let for simplicity (for now), we are taking data with two class only hence it is Binary Classification.\n"
   ]
  },
  {
   "cell_type": "markdown",
   "metadata": {},
   "source": [
    "## Using Logistic Regression for Binary Classification\n",
    "```python\n",
    "\n",
    "- since our data have two classes , lets say 0 and 1 , we need to predict 0 and 1 only.\n",
    "\n",
    "- let our decision Boundary be Linear in nature just like in case of Linear Regression ,written as \n",
    "    h(X) = theta[0] + theta[1]*X1 + theta[2]*X2 + ........\n",
    "    \n",
    "- but there is one Problem with this function ,its value ranges from (-inf to inf), hence cannt be used here.\n",
    "\n",
    "- To solve this Problem we defined a Sigmoid Function as `g(Z) = 1/1+e^(-h(x))`,which always results in values (0,1), both exclusive, hence can be used in our Binary Classification.\n",
    "```\n",
    "![](images/sigmoid.png)\n"
   ]
  },
  {
   "cell_type": "markdown",
   "metadata": {},
   "source": [
    "# Visualizing sigmoid Function"
   ]
  },
  {
   "cell_type": "code",
   "execution_count": 3,
   "metadata": {},
   "outputs": [],
   "source": [
    "import numpy as np\n",
    "import matplotlib.pyplot as plt"
   ]
  },
  {
   "cell_type": "code",
   "execution_count": 4,
   "metadata": {},
   "outputs": [],
   "source": [
    "def sigmoid(x):\n",
    "    return 1 / (1 + np.exp(-x))"
   ]
  },
  {
   "cell_type": "code",
   "execution_count": 5,
   "metadata": {},
   "outputs": [],
   "source": [
    "x = np.arange(-10,10,0.01)\n",
    "y = sigmoid(x)\n"
   ]
  },
  {
   "cell_type": "code",
   "execution_count": 6,
   "metadata": {},
   "outputs": [
    {
     "data": {
      "image/png": "[encoded data removed]",
      "text/plain": [
       "<Figure size 432x288 with 1 Axes>"
      ]
     },
     "metadata": {
      "needs_background": "light"
     },
     "output_type": "display_data"
    }
   ],
   "source": [
    "plt.plot(x,y)\n",
    "plt.yticks(ticks=[0,0.5,1])\n",
    "plt.grid()\n",
    "plt.show()\n"
   ]
  },
  {
   "cell_type": "markdown",
   "metadata": {},
   "source": []
  },
  {
   "cell_type": "markdown",
   "metadata": {},
   "source": [
    "# Logistic Regression Intuition\n",
    "```python\n",
    "- since in Linear Regression, we got a line h(x), similarly we got it here but also passing it to sigmoid function.\n",
    "- here we will train our Algorithm that if we got a line and\n",
    "- if h(x) = (theta.T)*X >=0 ,then we all the points(mostly) lies on one side will belong to Class 1.\n",
    "- else if h(x)< 0, we got all the remaining points lies on other side will belong to Class 0.\n",
    "\n",
    "- this is true because all we want is that boundary only.\n",
    "\n",
    "- according to that if h(x)>=0, then g(h(x)) >=0.5 (see from the graph) else we will have <0.5\n",
    "\n",
    "- so our hypothesis becomes , if g(h(x))>=0.5 , we will get class 1 ,otherwise clas 0\n",
    "```\n",
    "# Conclusion\n",
    "- in conclusion we can say that more the probability,better is the chance it belongs to class 1."
   ]
  },
  {
   "cell_type": "code",
   "execution_count": null,
   "metadata": {},
   "outputs": [],
   "source": []
  },
  {
   "cell_type": "markdown",
   "metadata": {},
   "source": [
    "# Goal of Logistic Regression\n",
    "    we will write , theta as w\n",
    "    we can say that\n",
    "    \n",
    "        - P(Y=1|X;w) = g(h(x))\n",
    "        - P(Y=0|X;w) = 1 - g(h(x))\n",
    "why?\n",
    "because if g(h(x)) comes out to be greater than 0.5 , there is more chance ,it belongs to class 1."
   ]
  },
  {
   "cell_type": "markdown",
   "metadata": {},
   "source": [
    "- we can write that down in one line as \n",
    "\n",
    "\n",
    "- **that is for one point only, the likelihood that it belongs to a class**\n",
    " ![](images/Logistic_1.png)"
   ]
  },
  {
   "cell_type": "markdown",
   "metadata": {},
   "source": [
    "\n",
    "# Assumption (Samples are Independent from each others)\n"
   ]
  },
  {
   "cell_type": "markdown",
   "metadata": {},
   "source": [
    "\n",
    "# since we want likelihood of all the INDEPENDENT points , we got it as the product of them , GOAL: - we want to `maximize the likelihood` that it belongs to same class as it should be.\n"
   ]
  },
  {
   "cell_type": "markdown",
   "metadata": {},
   "source": [
    "![](images/derivation_logisitic_update_rule.PNG)"
   ]
  },
  {
   "cell_type": "markdown",
   "metadata": {},
   "source": [
    "```python\n",
    "Above, we used the fact that g′(z) = g(z)(1 − g(z)). This therefore gives us the stochastic gradient descent rule\n",
    "            θj := θj - α(hθ(x(i)-y(i))*x(i)j)\n",
    "\n",
    "If we compare this to the LMS update rule, we see that it looks identical; but this is not the same algorithm, because hθ(x(i)) is now defined as a non-linear function of θTx(i) .\n",
    "\n",
    "Nonetheless, it’s a little surprising that we end up with the same update rule for a rather different algorithm and learning problem. Is this coincidence! \n",
    "```"
   ]
  },
  {
   "cell_type": "code",
   "execution_count": null,
   "metadata": {},
   "outputs": [],
   "source": []
  }
 ],
 "metadata": {
  "kernelspec": {
   "display_name": "Python 3",
   "language": "python",
   "name": "python3"
  },
  "language_info": {
   "codemirror_mode": {
    "name": "ipython",
    "version": 3
   },
   "file_extension": ".py",
   "mimetype": "text/x-python",
   "name": "python",
   "nbconvert_exporter": "python",
   "pygments_lexer": "ipython3",
   "version": "3.7.1"
  }
 },
 "nbformat": 4,
 "nbformat_minor": 2
}
