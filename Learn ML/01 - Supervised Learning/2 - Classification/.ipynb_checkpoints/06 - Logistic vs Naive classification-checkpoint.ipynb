{
 "cells": [
  {
   "cell_type": "code",
   "execution_count": null,
   "metadata": {},
   "outputs": [],
   "source": [
    "Logistic :\n",
    "----------\n",
    "    - used for 2 class problems\n",
    "    - Assumption : all samples(rows) are considered independent of each other\n",
    "    - dataset can be numerical, talking about X part of dataset not Y (Y is is always categorical) \n",
    "    \n",
    "    \n",
    "Naive :\n",
    "------\n",
    "    - can be used for multiclass problems as well\n",
    "    - Assumption : all features(columns) are considered independent of each other\n",
    "    - All the dataset columns must be categorical or say nominal(number associated with each class groups) "
   ]
  },
  {
   "cell_type": "markdown",
   "metadata": {},
   "source": [
    "![](images/datatypes.png)"
   ]
  },
  {
   "cell_type": "code",
   "execution_count": null,
   "metadata": {},
   "outputs": [],
   "source": []
  }
 ],
 "metadata": {
  "kernelspec": {
   "display_name": "Python 3",
   "language": "python",
   "name": "python3"
  },
  "language_info": {
   "codemirror_mode": {
    "name": "ipython",
    "version": 3
   },
   "file_extension": ".py",
   "mimetype": "text/x-python",
   "name": "python",
   "nbconvert_exporter": "python",
   "pygments_lexer": "ipython3",
   "version": "3.7.1"
  }
 },
 "nbformat": 4,
 "nbformat_minor": 2
}
