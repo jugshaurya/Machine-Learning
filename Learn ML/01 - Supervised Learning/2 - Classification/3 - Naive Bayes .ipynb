{
 "cells": [
  {
   "cell_type": "markdown",
   "metadata": {},
   "source": [
    "# Naive Bayes"
   ]
  },
  {
   "cell_type": "code",
   "execution_count": 4,
   "metadata": {},
   "outputs": [],
   "source": [
    "import numpy as np\n",
    "import matplotlib.pyplot as plt"
   ]
  },
  {
   "cell_type": "code",
   "execution_count": 110,
   "metadata": {},
   "outputs": [],
   "source": [
    "def prior(Y,label):\n",
    "    '''\n",
    "         label means which class to predict for\n",
    "         returns P(Y=label) \n",
    "    '''    \n",
    "    num = np.sum(Y==label)\n",
    "    denom = Y.shape[0]\n",
    "    return num/denom\n",
    "    "
   ]
  },
  {
   "cell_type": "code",
   "execution_count": 111,
   "metadata": {},
   "outputs": [],
   "source": [
    "def conditional_prob(X, Y, label, X_test, column_no):    \n",
    "    '''\n",
    "        returns P(X(column_no)=X_test | Y=label)\n",
    "    '''\n",
    "    if X.ndim == 1:\n",
    "        X = X.reshape((-1,1))\n",
    "        \n",
    "    desired_col = X[:,column_no]\n",
    "    filtered_X = desired_col[Y==label]  # returns X where there are labels available  \n",
    "    num = np.sum(filtered_X == X_test)\n",
    "    denom = filtered_X.shape[0]\n",
    "    return num/denom"
   ]
  },
  {
   "cell_type": "code",
   "execution_count": 112,
   "metadata": {},
   "outputs": [],
   "source": [
    "\n",
    "def likelihood():\n",
    "    pass\n",
    "\n",
    "def predict(X_test,label):\n",
    "    \n",
    "    samples = X.shape[0]\n",
    "    probs = []\n",
    "    for i in range(samples):\n",
    "        left = likelihood()\n",
    "        right = prior(Y)\n",
    "        probs.append(left*right)\n",
    "        "
   ]
  },
  {
   "cell_type": "code",
   "execution_count": 104,
   "metadata": {},
   "outputs": [],
   "source": [
    "Y = np.array([1,0,0,0,1,1,1,1,0,1])"
   ]
  },
  {
   "cell_type": "code",
   "execution_count": 105,
   "metadata": {},
   "outputs": [
    {
     "data": {
      "text/plain": [
       "(10, 1)"
      ]
     },
     "execution_count": 105,
     "metadata": {},
     "output_type": "execute_result"
    }
   ],
   "source": [
    "X = np.array([2,3,4,4,5,5,5,5,5,6])\n",
    "X = X.reshape((-1,1))\n",
    "X.shape\n"
   ]
  },
  {
   "cell_type": "code",
   "execution_count": 106,
   "metadata": {},
   "outputs": [
    {
     "name": "stdout",
     "output_type": "stream",
     "text": [
      "[2 5 5 5 5 6]\n",
      "4\n",
      "6\n"
     ]
    },
    {
     "data": {
      "text/plain": [
       "0.6666666666666666"
      ]
     },
     "execution_count": 106,
     "metadata": {},
     "output_type": "execute_result"
    }
   ],
   "source": [
    "likelihood(X,Y,label = 1,X_test=5,column_no= 0)"
   ]
  },
  {
   "cell_type": "code",
   "execution_count": null,
   "metadata": {},
   "outputs": [],
   "source": []
  }
 ],
 "metadata": {
  "kernelspec": {
   "display_name": "Python 3",
   "language": "python",
   "name": "python3"
  },
  "language_info": {
   "codemirror_mode": {
    "name": "ipython",
    "version": 3
   },
   "file_extension": ".py",
   "mimetype": "text/x-python",
   "name": "python",
   "nbconvert_exporter": "python",
   "pygments_lexer": "ipython3",
   "version": "3.7.1"
  }
 },
 "nbformat": 4,
 "nbformat_minor": 2
}
