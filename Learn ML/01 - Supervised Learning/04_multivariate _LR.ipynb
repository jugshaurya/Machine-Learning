{
 "cells": [
  {
   "cell_type": "markdown",
   "metadata": {},
   "source": [
    "# Linear Regression over Multivariate data"
   ]
  },
  {
   "cell_type": "markdown",
   "metadata": {},
   "source": [
    "lets work this time eith boston dataset in sklearn.datasets"
   ]
  },
  {
   "cell_type": "markdown",
   "metadata": {},
   "source": [
    "- in single feature datasets we got a linear function hx=theta0 + theta1*x\n",
    "- in two-variate datasets we got a plane hx=theta0 + theta1*x1 + theta2*x2\n",
    "- in more than two variable datasets we got a hyperplane "
   ]
  },
  {
   "cell_type": "code",
   "execution_count": 193,
   "metadata": {},
   "outputs": [],
   "source": [
    "from sklearn.datasets import load_boston"
   ]
  },
  {
   "cell_type": "code",
   "execution_count": 194,
   "metadata": {},
   "outputs": [],
   "source": [
    "boston = load_boston()"
   ]
  },
  {
   "cell_type": "code",
   "execution_count": 195,
   "metadata": {},
   "outputs": [],
   "source": [
    "X = boston.data\n",
    "Y = boston.target"
   ]
  },
  {
   "cell_type": "code",
   "execution_count": 196,
   "metadata": {},
   "outputs": [
    {
     "name": "stdout",
     "output_type": "stream",
     "text": [
      "(506, 13)\n",
      "(506,)\n"
     ]
    }
   ],
   "source": [
    "print(X.shape) # see number of features are 13 \n",
    "print(Y.shape)"
   ]
  },
  {
   "cell_type": "markdown",
   "metadata": {},
   "source": [
    "## 1. using sklearn to do calculation of theta values for us"
   ]
  },
  {
   "cell_type": "code",
   "execution_count": 197,
   "metadata": {},
   "outputs": [],
   "source": [
    "from sklearn.linear_model import LinearRegression\n",
    "from sklearn.model_selection import train_test_split"
   ]
  },
  {
   "cell_type": "code",
   "execution_count": 198,
   "metadata": {},
   "outputs": [],
   "source": [
    "# 1. splitting data in training and test part\n",
    "X_train,X_test,Y_train,Y_test = train_test_split(X,Y,test_size=0.2)"
   ]
  },
  {
   "cell_type": "code",
   "execution_count": 199,
   "metadata": {},
   "outputs": [
    {
     "name": "stdout",
     "output_type": "stream",
     "text": [
      "(404, 13) (404,)\n",
      "(102, 13) (102,)\n"
     ]
    }
   ],
   "source": [
    "print(X_train.shape,Y_train.shape)\n",
    "print(X_test.shape,Y_test.shape)"
   ]
  },
  {
   "cell_type": "code",
   "execution_count": 200,
   "metadata": {},
   "outputs": [],
   "source": [
    "# 1. creating an object of model \n",
    "alg = LinearRegression(normalize=True)"
   ]
  },
  {
   "cell_type": "code",
   "execution_count": 201,
   "metadata": {},
   "outputs": [
    {
     "data": {
      "text/plain": [
       "LinearRegression(copy_X=True, fit_intercept=True, n_jobs=None, normalize=True)"
      ]
     },
     "execution_count": 201,
     "metadata": {},
     "output_type": "execute_result"
    }
   ],
   "source": [
    "# 2. training model on training data\n",
    "alg.fit(X_train,Y_train)"
   ]
  },
  {
   "cell_type": "code",
   "execution_count": 202,
   "metadata": {},
   "outputs": [],
   "source": [
    "# 3. predicting the output\n",
    "Y_pred = alg.predict(X_test)"
   ]
  },
  {
   "cell_type": "code",
   "execution_count": 203,
   "metadata": {},
   "outputs": [],
   "source": [
    "%matplotlib inline"
   ]
  },
  {
   "cell_type": "code",
   "execution_count": 204,
   "metadata": {},
   "outputs": [
    {
     "data": {
      "image/png": "[encoded data removed]",
      "text/plain": [
       "<Figure size 432x288 with 1 Axes>"
      ]
     },
     "metadata": {
      "needs_background": "light"
     },
     "output_type": "display_data"
    }
   ],
   "source": [
    "# 4. comparing Y_pred with Y_test using plotting to see how good our model is: graphically\n",
    "import matplotlib.pyplot as plt\n",
    "import numpy as np\n",
    "plt.scatter(Y_test,Y_pred)\n",
    "ranger = np.arange(5,50)\n",
    "plt.plot(ranger,ranger,'r',label = 'Y=X')\n",
    "plt.axis([0,60,0,60])\n",
    "plt.legend()\n",
    "plt.show()"
   ]
  },
  {
   "cell_type": "markdown",
   "metadata": {},
   "source": [
    "#### Coefficeient of Determination (`R square`)\n",
    "```python\n",
    "R^2 = 1-u/v \n",
    "where \n",
    "u is the residual sum of squares ((y_true - y_pred) ** 2).sum() and \n",
    "v is the total sum of squares ((y_true - y_true.mean()) ** 2).sum().\n",
    "```"
   ]
  },
  {
   "cell_type": "markdown",
   "metadata": {},
   "source": [
    "#### Interpretation of R^2"
   ]
  },
  {
   "cell_type": "markdown",
   "metadata": {},
   "source": [
    "```python\n",
    "- Basically we are predicitng how bad or good our algorithm with respect to (if we predict all values over x_test to be mean value)\n",
    "\n",
    "- 1.) if our algo predict as bad as means values , u == v is True hence R^2 being Zero score\n",
    "- 2.) if our algo predict values closer to actual values,  u < v is True hence R^2 being more toward score One-> so better score is good score\n",
    "- 3.) if our algo predict values far from actual values and worse than mean values,  u > v is True hence R^2 being more toward score Zero \n",
    "```     \n",
    "\n",
    "#### Result \n",
    "    higher the score(Coefficient of Determination) better is our algo."
   ]
  },
  {
   "cell_type": "code",
   "execution_count": 205,
   "metadata": {},
   "outputs": [],
   "source": [
    "# it internally find the predicted values for X_test using alg model that we fitted and than compare\n",
    "# it with Y_test that we passed as second argument\n",
    "test_score = alg.score(X_test,Y_test)\n",
    "train_score = alg.score(X_train,Y_train) # how well our model remember the data we use to fit the model"
   ]
  },
  {
   "cell_type": "code",
   "execution_count": 206,
   "metadata": {},
   "outputs": [
    {
     "data": {
      "text/plain": [
       "(0.7777564781924815, 0.7274499023650819)"
      ]
     },
     "execution_count": 206,
     "metadata": {},
     "output_type": "execute_result"
    }
   ],
   "source": [
    "test_score, train_score"
   ]
  },
  {
   "cell_type": "markdown",
   "metadata": {},
   "source": [
    "##### coeffiecients and intercepts"
   ]
  },
  {
   "cell_type": "code",
   "execution_count": 207,
   "metadata": {},
   "outputs": [
    {
     "name": "stdout",
     "output_type": "stream",
     "text": [
      "13\n"
     ]
    },
    {
     "data": {
      "text/plain": [
       "array([-1.15349215e-01,  3.95918123e-02, -5.41898056e-03,  1.50221578e+00,\n",
       "       -1.66742112e+01,  3.84994242e+00, -8.61653205e-04, -1.41445816e+00,\n",
       "        3.32628843e-01, -1.33738940e-02, -9.41935637e-01,  1.02146025e-02,\n",
       "       -5.45569215e-01])"
      ]
     },
     "execution_count": 207,
     "metadata": {},
     "output_type": "execute_result"
    }
   ],
   "source": [
    "print(len(alg.coef_)) # since there are 13 features there will be 14 parameters value form theta0 to theta13\n",
    "alg.coef_  # thirteen are here"
   ]
  },
  {
   "cell_type": "code",
   "execution_count": 208,
   "metadata": {},
   "outputs": [
    {
     "data": {
      "text/plain": [
       "35.8249405786942"
      ]
     },
     "execution_count": 208,
     "metadata": {},
     "output_type": "execute_result"
    }
   ],
   "source": [
    "alg.intercept_ # 1 is here"
   ]
  },
  {
   "cell_type": "markdown",
   "metadata": {},
   "source": [
    "## 2. Writting above algo from scratch for multivariate data using Gradient descent"
   ]
  },
  {
   "cell_type": "code",
   "execution_count": 180,
   "metadata": {},
   "outputs": [
    {
     "data": {
      "text/plain": [
       "((404, 13), (404,))"
      ]
     },
     "execution_count": 180,
     "metadata": {},
     "output_type": "execute_result"
    }
   ],
   "source": [
    "X_train.shape,Y_train.shape"
   ]
  },
  {
   "cell_type": "code",
   "execution_count": 181,
   "metadata": {},
   "outputs": [],
   "source": [
    "# theta will be np.array([theta0,theta1,.............,thetaN])\n",
    "\n",
    "def hypothesis(X,theta):\n",
    "    # returning h(Xi) for each sample (Xi) hence returning an array of size X.shape[0]\n",
    "    return np.sum(X*theta[1:], axis=1) + theta[0]\n",
    "    \n",
    "def gradient(X,Y,theta):    \n",
    "    grad = np.zeros(X.shape[1]+1) # n-featured data have (n+1) parameters.\n",
    "    hx = hypothesis(X,theta)    \n",
    "    grad[0] = np.sum((hx-Y))\n",
    "    for i in range(1,len(grad)) :\n",
    "        # d(cost) / d(theta[i]) = sum((hx-y)*x[i])\n",
    "        grad[i] = np.sum((hx-Y)*(X[:,i-1]))\n",
    "    return grad\n",
    "    \n",
    "    \n",
    "def error(X,Y,theta):\n",
    "    hx = hypothesis(X,theta)    \n",
    "    return np.sum((hx-Y)**2)\n",
    "    \n",
    "def gradientDescent_multivariate(X,Y,learning_rate=0.0000000000001):\n",
    "    theta = np.zeros(X.shape[1]+1)\n",
    "    grad = gradient(X,Y,theta)\n",
    "    \n",
    "    error_list = []\n",
    "    err = error(X,Y,theta)\n",
    "    error_list.append(err)\n",
    "        \n",
    "    while True:\n",
    "        theta = theta - learning_rate * grad        \n",
    "        err = error(X,Y,theta)\n",
    "#         print(err)\n",
    "        temp = abs(err - error_list[-1]) \n",
    "        if temp < 0.0001:\n",
    "            break\n",
    "        error_list.append(err)        \n",
    "\n",
    "    return theta\n"
   ]
  },
  {
   "cell_type": "code",
   "execution_count": 182,
   "metadata": {},
   "outputs": [],
   "source": [
    "X_train_nor = (X_train - np.mean(X_train)) / X_train.std()\n",
    "Y_train_nor = (Y_train - np.mean(Y_train)) / Y_train.std()"
   ]
  },
  {
   "cell_type": "code",
   "execution_count": 183,
   "metadata": {},
   "outputs": [],
   "source": [
    "tht = gradientDescent_multivariate(X_train_nor,Y_train_nor)"
   ]
  },
  {
   "cell_type": "code",
   "execution_count": 184,
   "metadata": {},
   "outputs": [
    {
     "data": {
      "text/plain": [
       "array([-2.04281037e-26, -9.47586395e-13,  2.60972667e-12, -9.86164813e-13,\n",
       "        1.15684170e-14, -1.43953906e-14,  1.35853102e-13, -3.10218858e-12,\n",
       "        1.59683213e-13, -9.47447699e-13, -2.30795740e-11, -3.08294471e-13,\n",
       "        8.50412847e-12, -1.47080602e-12])"
      ]
     },
     "execution_count": 184,
     "metadata": {},
     "output_type": "execute_result"
    }
   ],
   "source": [
    "# intercept\n",
    "tht"
   ]
  },
  {
   "cell_type": "code",
   "execution_count": 185,
   "metadata": {},
   "outputs": [
    {
     "data": {
      "text/plain": [
       "-2.0428103653102882e-26"
      ]
     },
     "execution_count": 185,
     "metadata": {},
     "output_type": "execute_result"
    }
   ],
   "source": [
    "tht[0]"
   ]
  },
  {
   "cell_type": "code",
   "execution_count": 186,
   "metadata": {},
   "outputs": [],
   "source": [
    "from sklearn.metrics import r2_score as ss"
   ]
  },
  {
   "cell_type": "code",
   "execution_count": 187,
   "metadata": {},
   "outputs": [],
   "source": [
    "Y_pred = hypothesis(X_test,tht)"
   ]
  },
  {
   "cell_type": "code",
   "execution_count": 189,
   "metadata": {},
   "outputs": [
    {
     "data": {
      "text/plain": [
       "-6.145733105375133"
      ]
     },
     "execution_count": 189,
     "metadata": {},
     "output_type": "execute_result"
    }
   ],
   "source": [
    "ss(Y_test,Y_pred)"
   ]
  },
  {
   "cell_type": "code",
   "execution_count": null,
   "metadata": {},
   "outputs": [],
   "source": []
  }
 ],
 "metadata": {
  "kernelspec": {
   "display_name": "Python 3",
   "language": "python",
   "name": "python3"
  },
  "language_info": {
   "codemirror_mode": {
    "name": "ipython",
    "version": 3
   },
   "file_extension": ".py",
   "mimetype": "text/x-python",
   "name": "python",
   "nbconvert_exporter": "python",
   "pygments_lexer": "ipython3",
   "version": "3.7.1"
  }
 },
 "nbformat": 4,
 "nbformat_minor": 2
}
