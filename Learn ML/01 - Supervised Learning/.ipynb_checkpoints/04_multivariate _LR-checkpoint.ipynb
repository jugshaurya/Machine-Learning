{
 "cells": [
  {
   "cell_type": "markdown",
   "metadata": {},
   "source": [
    "# Linear Regression over Multivariate data"
   ]
  },
  {
   "cell_type": "markdown",
   "metadata": {},
   "source": [
    "lets work this time eith boston dataset in sklearn.datasets"
   ]
  },
  {
   "cell_type": "markdown",
   "metadata": {},
   "source": [
    "- in single feature datasets we got a linear function hx=theta0 + theta1*x\n",
    "- in two-variate datasets we got a plane hx=theta0 + theta1*x1 + theta2*x2\n",
    "- in more than two variable datasets we got a hyperplane "
   ]
  },
  {
   "cell_type": "code",
   "execution_count": 83,
   "metadata": {},
   "outputs": [],
   "source": [
    "from sklearn.datasets import load_boston"
   ]
  },
  {
   "cell_type": "code",
   "execution_count": 84,
   "metadata": {},
   "outputs": [],
   "source": [
    "boston = load_boston()"
   ]
  },
  {
   "cell_type": "code",
   "execution_count": 85,
   "metadata": {},
   "outputs": [],
   "source": [
    "X = boston.data\n",
    "Y = boston.target"
   ]
  },
  {
   "cell_type": "code",
   "execution_count": 86,
   "metadata": {},
   "outputs": [
    {
     "name": "stdout",
     "output_type": "stream",
     "text": [
      "(506, 13)\n",
      "(506,)\n"
     ]
    }
   ],
   "source": [
    "print(X.shape) # see number of features are 13 \n",
    "print(Y.shape)"
   ]
  },
  {
   "cell_type": "markdown",
   "metadata": {},
   "source": [
    "## 1. using sklearn to do calculation of theta values for us"
   ]
  },
  {
   "cell_type": "code",
   "execution_count": 87,
   "metadata": {},
   "outputs": [],
   "source": [
    "from sklearn.linear_model import LinearRegression\n",
    "from sklearn.model_selection import train_test_split"
   ]
  },
  {
   "cell_type": "code",
   "execution_count": 88,
   "metadata": {},
   "outputs": [],
   "source": [
    "# 1. splitting data in training and test part\n",
    "X_train,X_test,Y_train,Y_test = train_test_split(X,Y,test_size=0.2)"
   ]
  },
  {
   "cell_type": "code",
   "execution_count": 89,
   "metadata": {},
   "outputs": [
    {
     "name": "stdout",
     "output_type": "stream",
     "text": [
      "(404, 13) (404,)\n",
      "(102, 13) (102,)\n"
     ]
    }
   ],
   "source": [
    "print(X_train.shape,Y_train.shape)\n",
    "print(X_test.shape,Y_test.shape)"
   ]
  },
  {
   "cell_type": "code",
   "execution_count": 90,
   "metadata": {},
   "outputs": [],
   "source": [
    "# 1. creating an object of model \n",
    "alg = LinearRegression(normalize=True)"
   ]
  },
  {
   "cell_type": "code",
   "execution_count": 91,
   "metadata": {},
   "outputs": [
    {
     "data": {
      "text/plain": [
       "LinearRegression(copy_X=True, fit_intercept=True, n_jobs=None, normalize=True)"
      ]
     },
     "execution_count": 91,
     "metadata": {},
     "output_type": "execute_result"
    }
   ],
   "source": [
    "# 2. training model on training data\n",
    "alg.fit(X_train,Y_train)"
   ]
  },
  {
   "cell_type": "code",
   "execution_count": 92,
   "metadata": {},
   "outputs": [],
   "source": [
    "# 3. predicting the output\n",
    "Y_pred = alg.predict(X_test)"
   ]
  },
  {
   "cell_type": "code",
   "execution_count": 93,
   "metadata": {},
   "outputs": [],
   "source": [
    "%matplotlib inline"
   ]
  },
  {
   "cell_type": "code",
   "execution_count": 94,
   "metadata": {},
   "outputs": [
    {
     "data": {
      "image/png": "[encoded data removed]",
      "text/plain": [
       "<Figure size 432x288 with 1 Axes>"
      ]
     },
     "metadata": {
      "needs_background": "light"
     },
     "output_type": "display_data"
    }
   ],
   "source": [
    "# 4. comparing Y_pred with Y_test using plotting to see how good our model is: graphically\n",
    "import matplotlib.pyplot as plt\n",
    "import numpy as np\n",
    "plt.scatter(Y_test,Y_pred)\n",
    "ranger = np.arange(5,50)\n",
    "plt.plot(ranger,ranger,'r',label = 'Y=X')\n",
    "plt.axis([0,60,0,60])\n",
    "plt.legend()\n",
    "plt.show()"
   ]
  },
  {
   "cell_type": "markdown",
   "metadata": {},
   "source": [
    "#### Coefficeient of Determination (`R square`)\n",
    "```python\n",
    "R^2 = 1-u/v \n",
    "where \n",
    "u is the residual sum of squares ((y_true - y_pred) ** 2).sum() and \n",
    "v is the total sum of squares ((y_true - y_true.mean()) ** 2).sum().\n",
    "```"
   ]
  },
  {
   "cell_type": "markdown",
   "metadata": {},
   "source": [
    "#### Interpretation of R^2"
   ]
  },
  {
   "cell_type": "markdown",
   "metadata": {},
   "source": [
    "```python\n",
    "- Basically we are predicitng how bad or good our algorithm with respect to (if we predict all values over x_test to be mean value)\n",
    "\n",
    "- 1.) if our algo predict as bad as means values , u == v is True hence R^2 being Zero score\n",
    "- 2.) if our algo predict values closer to actual values,  u < v is True hence R^2 being more toward score One-> so better score is good score\n",
    "- 3.) if our algo predict values far from actual values and worse than mean values,  u > v is True hence R^2 being more toward score Zero \n",
    "```     \n",
    "\n",
    "#### Result \n",
    "    higher the score(Coefficient of Determination) better is our algo."
   ]
  },
  {
   "cell_type": "code",
   "execution_count": 95,
   "metadata": {},
   "outputs": [],
   "source": [
    "# it internally find the predicted values for X_test using alg model that we fitted and than compare\n",
    "# it with Y_test that we passed as second argument\n",
    "test_score = alg.score(X_test,Y_test)\n",
    "train_score = alg.score(X_train,Y_train) # how well our model remember the data we use to fit the model"
   ]
  },
  {
   "cell_type": "code",
   "execution_count": 96,
   "metadata": {},
   "outputs": [
    {
     "data": {
      "text/plain": [
       "(0.6063646918040229, 0.771512655892971)"
      ]
     },
     "execution_count": 96,
     "metadata": {},
     "output_type": "execute_result"
    }
   ],
   "source": [
    "test_score, train_score"
   ]
  },
  {
   "cell_type": "markdown",
   "metadata": {},
   "source": [
    "##### coeffiecients and intercepts"
   ]
  },
  {
   "cell_type": "code",
   "execution_count": 97,
   "metadata": {},
   "outputs": [
    {
     "name": "stdout",
     "output_type": "stream",
     "text": [
      "13\n"
     ]
    },
    {
     "data": {
      "text/plain": [
       "array([-7.87966832e-02,  4.31243761e-02,  3.50497431e-02,  2.39017184e+00,\n",
       "       -1.41594481e+01,  4.40367334e+00, -1.51829111e-02, -1.31712418e+00,\n",
       "        2.51786389e-01, -1.37239019e-02, -9.78384790e-01,  9.61940428e-03,\n",
       "       -4.38712280e-01])"
      ]
     },
     "execution_count": 97,
     "metadata": {},
     "output_type": "execute_result"
    }
   ],
   "source": [
    "print(len(alg.coef_)) # since there are 13 features there will be 14 parameters value form theta0 to theta13\n",
    "alg.coef_  # thirteen are here"
   ]
  },
  {
   "cell_type": "code",
   "execution_count": 98,
   "metadata": {},
   "outputs": [
    {
     "data": {
      "text/plain": [
       "31.23684538196957"
      ]
     },
     "execution_count": 98,
     "metadata": {},
     "output_type": "execute_result"
    }
   ],
   "source": [
    "alg.intercept_ # 1 is here"
   ]
  },
  {
   "cell_type": "markdown",
   "metadata": {},
   "source": [
    "## 2. Writting above algo from scratch for multivariate data using Gradient descent"
   ]
  },
  {
   "cell_type": "code",
   "execution_count": 99,
   "metadata": {},
   "outputs": [
    {
     "data": {
      "text/plain": [
       "((404, 13), (404,))"
      ]
     },
     "execution_count": 99,
     "metadata": {},
     "output_type": "execute_result"
    }
   ],
   "source": [
    "X_train.shape,Y_train.shape"
   ]
  },
  {
   "cell_type": "code",
   "execution_count": 104,
   "metadata": {},
   "outputs": [],
   "source": [
    "# theta will be np.array([theta0,theta1,.............,thetaN])\n",
    "\n",
    "def hypothesis(X,theta):\n",
    "    # returning h(Xi) for each sample (Xi) hence returning an array of size X.shape[0]\n",
    "    return np.sum(X*theta[1:], axis=1) + theta[0]\n",
    "    \n",
    "def gradient(X,Y,theta):    \n",
    "    grad = np.zeros(X.shape[1]+1) # n-featured data have (n+1) parameters.\n",
    "    hx = hypothesis(X,theta)    \n",
    "    grad[0] = np.sum((hx-Y))\n",
    "    for i in range(1,len(grad)) :\n",
    "        # d(cost) / d(theta[i]) = sum((hx-y)*x[i])\n",
    "        grad[i] = np.sum((hx-Y)*(X[:,i-1]))\n",
    "    return grad\n",
    "    \n",
    "    \n",
    "def error(X,Y,theta):\n",
    "    hx = hypothesis(X,theta)    \n",
    "    return np.sum((hx-Y)**2)\n",
    "    \n",
    "def gradientDescent_multivariate(X,Y,learning_rate=0.0000000000001):\n",
    "    theta = np.zeros(X.shape[1]+1)\n",
    "    grad = gradient(X,Y,theta)\n",
    "    \n",
    "    error_list = []\n",
    "    err = error(X,Y,theta)\n",
    "    error_list.append(err)\n",
    "        \n",
    "    while True:\n",
    "        theta = theta - learning_rate * grad        \n",
    "        err = error(X,Y,theta)\n",
    "#         print(err)\n",
    "        temp = abs(err - error_list[-1]) \n",
    "        if temp < 0.0001:\n",
    "            break\n",
    "        error_list.append(err)        \n",
    "\n",
    "    return theta\n"
   ]
  },
  {
   "cell_type": "code",
   "execution_count": 105,
   "metadata": {},
   "outputs": [],
   "source": [
    "X_train_nor = (X_train - np.mean(X_train)) / X_train.std()\n",
    "Y_train_nor = (Y_train - np.mean(Y_train)) / Y_train.std()"
   ]
  },
  {
   "cell_type": "code",
   "execution_count": 106,
   "metadata": {},
   "outputs": [],
   "source": [
    "tht = gradientDescent_multivariate(X_train_nor,Y_train_nor)"
   ]
  },
  {
   "cell_type": "code",
   "execution_count": 107,
   "metadata": {},
   "outputs": [
    {
     "data": {
      "text/plain": [
       "array([-6.21724894e-27, -9.18942711e-13,  2.67907955e-12, -1.01656938e-12,\n",
       "        1.11492430e-14, -1.52878181e-14,  1.37373499e-13, -3.38068664e-12,\n",
       "        1.76318880e-13, -1.00008870e-12, -2.39815234e-11, -3.17840802e-13,\n",
       "        8.97229184e-12, -1.48559533e-12])"
      ]
     },
     "execution_count": 107,
     "metadata": {},
     "output_type": "execute_result"
    }
   ],
   "source": [
    "# intercept\n",
    "tht"
   ]
  },
  {
   "cell_type": "code",
   "execution_count": 108,
   "metadata": {},
   "outputs": [
    {
     "data": {
      "text/plain": [
       "-6.217248937900877e-27"
      ]
     },
     "execution_count": 108,
     "metadata": {},
     "output_type": "execute_result"
    }
   ],
   "source": [
    "tht[0]"
   ]
  },
  {
   "cell_type": "code",
   "execution_count": 109,
   "metadata": {},
   "outputs": [],
   "source": [
    "def score(y_truth, y_pred):\n",
    "    num = np.sum((y_truth-y_pred)**2)\n",
    "    dnum = np.sum((y_truth-y_truth.mean())**2)    \n",
    "    return 1- num/dnum"
   ]
  },
  {
   "cell_type": "code",
   "execution_count": 110,
   "metadata": {},
   "outputs": [],
   "source": [
    "y_pred  = hypothesis(X_test,tht)"
   ]
  },
  {
   "cell_type": "code",
   "execution_count": 111,
   "metadata": {},
   "outputs": [
    {
     "data": {
      "text/plain": [
       "array([-6.53108524e-09, -4.24113828e-09, -6.51301953e-09, -1.61677189e-08,\n",
       "       -7.16100505e-09, -1.30695466e-09, -7.29890711e-09, -3.20063866e-09,\n",
       "       -1.47907779e-08, -3.14068877e-09, -3.44076256e-09, -1.98354061e-09,\n",
       "       -3.63162643e-09, -2.19292610e-09, -1.60345953e-08, -3.50550222e-09,\n",
       "       -3.09465314e-09, -4.92880166e-09, -3.65937492e-09, -3.45583818e-09,\n",
       "       -3.72355387e-09, -1.98745126e-09, -1.29075093e-08, -4.04031207e-09,\n",
       "       -3.38401546e-09, -4.13015963e-09, -1.38187315e-09, -3.54953364e-09,\n",
       "       -1.28762339e-08, -1.28273574e-08, -1.81259613e-09, -3.50485742e-09,\n",
       "       -4.36910577e-09, -3.36479189e-09, -3.28738059e-09, -3.42463331e-09,\n",
       "       -4.04737599e-09, -4.38595707e-09, -4.83728490e-09, -2.99740874e-09,\n",
       "       -1.75108617e-09, -3.47087764e-09, -1.54170881e-08, -5.35906832e-09,\n",
       "       -3.29640437e-09, -3.31303547e-09, -2.53585984e-09, -1.28017905e-08,\n",
       "       -3.82638088e-09, -6.12730266e-09, -3.41974592e-09, -3.27724985e-09,\n",
       "       -2.50450448e-09, -1.31947560e-08, -7.37081183e-09, -1.34310223e-08,\n",
       "       -3.34914946e-09, -7.11483553e-09, -2.19949607e-09, -1.58420550e-08,\n",
       "       -1.38293868e-08, -1.28110017e-08, -6.86664783e-09, -1.28369961e-08,\n",
       "       -1.38274030e-08, -2.97454424e-09, -1.28351373e-08, -3.70635978e-09,\n",
       "       -4.97238285e-09, -1.29977468e-08, -1.28771694e-08, -4.32215212e-09,\n",
       "       -4.20834777e-09, -3.62153410e-09, -4.11210878e-09, -1.38910226e-08,\n",
       "       -3.65683859e-09, -1.29047863e-08, -2.40872053e-09, -1.28402960e-08,\n",
       "       -1.54542171e-08, -1.35172142e-08, -4.03202557e-09, -6.02736223e-09,\n",
       "       -4.22451554e-09, -6.01412117e-09, -1.30949723e-08, -4.15594755e-09,\n",
       "       -5.17226290e-09, -1.36737960e-08, -3.24498807e-09, -1.99685084e-09,\n",
       "       -1.63254962e-08, -1.30898085e-08, -7.86977852e-09, -4.45724115e-09,\n",
       "       -8.89737403e-09, -4.20839473e-09, -1.34020344e-08, -1.58481831e-09,\n",
       "       -4.06778019e-09, -1.32219277e-08])"
      ]
     },
     "execution_count": 111,
     "metadata": {},
     "output_type": "execute_result"
    }
   ],
   "source": [
    "y_pred"
   ]
  },
  {
   "cell_type": "code",
   "execution_count": 77,
   "metadata": {},
   "outputs": [],
   "source": [
    "from sklearn.linear_model import LinearRegression"
   ]
  },
  {
   "cell_type": "code",
   "execution_count": 78,
   "metadata": {},
   "outputs": [],
   "source": [
    "alg  = LinearRegression()"
   ]
  },
  {
   "cell_type": "code",
   "execution_count": null,
   "metadata": {},
   "outputs": [],
   "source": []
  },
  {
   "cell_type": "code",
   "execution_count": null,
   "metadata": {},
   "outputs": [],
   "source": []
  }
 ],
 "metadata": {
  "kernelspec": {
   "display_name": "Python 3",
   "language": "python",
   "name": "python3"
  },
  "language_info": {
   "codemirror_mode": {
    "name": "ipython",
    "version": 3
   },
   "file_extension": ".py",
   "mimetype": "text/x-python",
   "name": "python",
   "nbconvert_exporter": "python",
   "pygments_lexer": "ipython3",
   "version": "3.7.1"
  }
 },
 "nbformat": 4,
 "nbformat_minor": 2
}
