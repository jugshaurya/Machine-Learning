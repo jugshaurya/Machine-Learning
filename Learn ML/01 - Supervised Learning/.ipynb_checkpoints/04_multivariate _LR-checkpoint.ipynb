{
 "cells": [
  {
   "cell_type": "markdown",
   "metadata": {},
   "source": [
    "# Linear Regression over Multivariate data"
   ]
  },
  {
   "cell_type": "markdown",
   "metadata": {},
   "source": [
    "lets work this time eith boston dataset in sklearn.datasets"
   ]
  },
  {
   "cell_type": "markdown",
   "metadata": {},
   "source": [
    "- in single feature datasets we got a linear function hx=theta0 + theta1*x\n",
    "- in two-variate datasets we got a plane hx=theta0 + theta1*x1 + theta2*x2\n",
    "- in more than two variable datasets we got a hyperplane "
   ]
  },
  {
   "cell_type": "code",
   "execution_count": 17,
   "metadata": {},
   "outputs": [],
   "source": [
    "from sklearn.datasets import load_boston"
   ]
  },
  {
   "cell_type": "code",
   "execution_count": 18,
   "metadata": {},
   "outputs": [],
   "source": [
    "boston = load_boston()"
   ]
  },
  {
   "cell_type": "code",
   "execution_count": 19,
   "metadata": {},
   "outputs": [],
   "source": [
    "X = boston.data\n",
    "Y = boston.target"
   ]
  },
  {
   "cell_type": "code",
   "execution_count": 20,
   "metadata": {},
   "outputs": [
    {
     "name": "stdout",
     "output_type": "stream",
     "text": [
      "(506, 13)\n",
      "(506,)\n"
     ]
    }
   ],
   "source": [
    "print(X.shape) # see number of features are 13 \n",
    "print(Y.shape)"
   ]
  },
  {
   "cell_type": "markdown",
   "metadata": {},
   "source": [
    "## 1. using sklearn to do calculation of theta values for us"
   ]
  },
  {
   "cell_type": "code",
   "execution_count": 21,
   "metadata": {},
   "outputs": [],
   "source": [
    "from sklearn.linear_model import LinearRegression\n",
    "from sklearn.model_selection import train_test_split"
   ]
  },
  {
   "cell_type": "code",
   "execution_count": 22,
   "metadata": {},
   "outputs": [],
   "source": [
    "# 1. splitting data in training and test part\n",
    "X_train,X_test,Y_train,Y_test = train_test_split(X,Y,test_size=0.2)"
   ]
  },
  {
   "cell_type": "code",
   "execution_count": 23,
   "metadata": {},
   "outputs": [
    {
     "name": "stdout",
     "output_type": "stream",
     "text": [
      "(404, 13) (404,)\n",
      "(102, 13) (102,)\n"
     ]
    }
   ],
   "source": [
    "print(X_train.shape,Y_train.shape)\n",
    "print(X_test.shape,Y_test.shape)"
   ]
  },
  {
   "cell_type": "code",
   "execution_count": 24,
   "metadata": {},
   "outputs": [],
   "source": [
    "# 1. creating an object of model \n",
    "alg = LinearRegression()"
   ]
  },
  {
   "cell_type": "code",
   "execution_count": 25,
   "metadata": {},
   "outputs": [
    {
     "data": {
      "text/plain": [
       "LinearRegression(copy_X=True, fit_intercept=True, n_jobs=None,\n",
       "         normalize=False)"
      ]
     },
     "execution_count": 25,
     "metadata": {},
     "output_type": "execute_result"
    }
   ],
   "source": [
    "# 2. training model on training data\n",
    "alg.fit(X_train,Y_train)"
   ]
  },
  {
   "cell_type": "code",
   "execution_count": 26,
   "metadata": {},
   "outputs": [],
   "source": [
    "# 3. predicting the output\n",
    "Y_pred = alg.predict(X_test)"
   ]
  },
  {
   "cell_type": "code",
   "execution_count": 27,
   "metadata": {},
   "outputs": [],
   "source": [
    "%matplotlib inline"
   ]
  },
  {
   "cell_type": "code",
   "execution_count": 28,
   "metadata": {},
   "outputs": [
    {
     "data": {
      "image/png": "[encoded data removed]",
      "text/plain": [
       "<Figure size 432x288 with 1 Axes>"
      ]
     },
     "metadata": {
      "needs_background": "light"
     },
     "output_type": "display_data"
    }
   ],
   "source": [
    "# 4. comparing Y_pred with Y_test using plotting to see how good our model is: graphically\n",
    "import matplotlib.pyplot as plt\n",
    "import numpy as np\n",
    "plt.scatter(Y_test,Y_pred)\n",
    "X = np.arange(5,50)\n",
    "plt.plot(X,X,'r',label = 'Y=X')\n",
    "plt.axis([0,60,0,60])\n",
    "plt.legend()\n",
    "plt.show()"
   ]
  },
  {
   "cell_type": "markdown",
   "metadata": {},
   "source": [
    "#### Coefficeient of Determination (`R square`)\n",
    "```python\n",
    "R^2 = 1-u/v \n",
    "where \n",
    "u is the residual sum of squares ((y_true - y_pred) ** 2).sum() and \n",
    "v is the total sum of squares ((y_true - y_true.mean()) ** 2).sum().\n",
    "```"
   ]
  },
  {
   "cell_type": "markdown",
   "metadata": {},
   "source": [
    "#### Interpretation of R^2"
   ]
  },
  {
   "cell_type": "markdown",
   "metadata": {},
   "source": [
    "```python\n",
    "- Basically we are predicitng how bad or good our algorithm with respect to (if we predict all values over x_test to be mean value)\n",
    "\n",
    "- 1.) if our algo predict as bad as means values , u == v is True hence R^2 being Zero score\n",
    "- 2.) if our algo predict values closer to actual values,  u < v is True hence R^2 being more toward score One-> so better score is good score\n",
    "- 3.) if our algo predict values far from actual values and worse than mean values,  u > v is True hence R^2 being more toward score Zero \n",
    "```     \n",
    "\n",
    "#### Result \n",
    "    higher the score(Coefficient of Determination) better is our algo."
   ]
  },
  {
   "cell_type": "code",
   "execution_count": 29,
   "metadata": {},
   "outputs": [],
   "source": [
    "# it internally find the predicted values for X_test using alg model that we fitted and than compare\n",
    "# it with Y_test that we passed as second argument\n",
    "test_score = alg.score(X_test,Y_test)\n",
    "train_score = alg.score(X_train,Y_train) # how well our model remember the data we use to fit the model"
   ]
  },
  {
   "cell_type": "code",
   "execution_count": 30,
   "metadata": {},
   "outputs": [
    {
     "data": {
      "text/plain": [
       "(0.7539984468033298, 0.7334888215206941)"
      ]
     },
     "execution_count": 30,
     "metadata": {},
     "output_type": "execute_result"
    }
   ],
   "source": [
    "test_score, train_score"
   ]
  },
  {
   "cell_type": "markdown",
   "metadata": {},
   "source": [
    "##### coeffiecients and intercepts"
   ]
  },
  {
   "cell_type": "code",
   "execution_count": 32,
   "metadata": {},
   "outputs": [
    {
     "name": "stdout",
     "output_type": "stream",
     "text": [
      "13\n"
     ]
    },
    {
     "data": {
      "text/plain": [
       "array([-1.25999114e-01,  5.70936927e-02,  3.95508822e-02,  3.00015498e+00,\n",
       "       -2.29629233e+01,  3.32720712e+00,  9.91148074e-03, -1.65074442e+00,\n",
       "        3.24914360e-01, -1.07210066e-02, -1.05694476e+00,  9.50578180e-03,\n",
       "       -5.23371634e-01])"
      ]
     },
     "execution_count": 32,
     "metadata": {},
     "output_type": "execute_result"
    }
   ],
   "source": [
    "print(len(alg.coef_)) # since there are 13 features there will be 14 parameters value form theta0 to theta13\n",
    "alg.coef_  # thirteen are here"
   ]
  },
  {
   "cell_type": "code",
   "execution_count": 33,
   "metadata": {},
   "outputs": [
    {
     "data": {
      "text/plain": [
       "43.113295035060254"
      ]
     },
     "execution_count": 33,
     "metadata": {},
     "output_type": "execute_result"
    }
   ],
   "source": [
    "alg.intercept_ # 1 is here"
   ]
  },
  {
   "cell_type": "code",
   "execution_count": null,
   "metadata": {},
   "outputs": [],
   "source": []
  },
  {
   "cell_type": "markdown",
   "metadata": {},
   "source": [
    "## 2. Writting above algo from scratch for multivariate data using Gradient descent"
   ]
  },
  {
   "cell_type": "code",
   "execution_count": 35,
   "metadata": {},
   "outputs": [
    {
     "data": {
      "text/plain": [
       "((404, 13), (404,))"
      ]
     },
     "execution_count": 35,
     "metadata": {},
     "output_type": "execute_result"
    }
   ],
   "source": [
    "X_train.shape,Y_train.shape"
   ]
  },
  {
   "cell_type": "code",
   "execution_count": 72,
   "metadata": {},
   "outputs": [],
   "source": [
    "# theta will be np.array([theta0,theta1,.............,thetaN])\n",
    "\n",
    "def hypothesis(X,theta):\n",
    "    # returning h(Xi) for each sample (Xi) hence returning an array of size X.shape[0]\n",
    "    return np.sum(X*theta[1:], axis=1) + theta[0]\n",
    "    \n",
    "def gradient(X,Y,theta):    \n",
    "    \n",
    "    grad = np.zeros(X.shape[1]+1) # n-featured data have (n+1) parameters.\n",
    "    hx = hypothesis(X,theta)    \n",
    "    grad[0] = np.sum((hx-Y))\n",
    "    for i in range(1,len(grad)) :\n",
    "        # d(cost) / d(theta[i]) = sum((hx-y)*x[i])\n",
    "        grad[i] = np.sum((hx-Y)* (X[:,i-1]))\n",
    "    return grad\n",
    "    \n",
    "    \n",
    "def error(X,Y,theta):\n",
    "    pass\n",
    "    \n",
    "def gradientDescent_multivariate(X,Y,learning_rate=0.01):\n",
    "    theta = np.zeros(X.shape[1]+1)\n",
    "    grad = gradient(X,Y,theta)\n",
    "    \n",
    "    itr=0\n",
    "    max_itr=10000\n",
    "    \n",
    "    while itr<max_itr:\n",
    "        theta = theta - learning_rate*grad\n",
    "    return theta\n"
   ]
  },
  {
   "cell_type": "code",
   "execution_count": null,
   "metadata": {},
   "outputs": [],
   "source": [
    "tht = gradientDescent_multivariate(X_train,Y_train)"
   ]
  },
  {
   "cell_type": "code",
   "execution_count": null,
   "metadata": {},
   "outputs": [],
   "source": [
    "tht"
   ]
  },
  {
   "cell_type": "code",
   "execution_count": 55,
   "metadata": {},
   "outputs": [
    {
     "data": {
      "text/plain": [
       "907739.9999998377"
      ]
     },
     "execution_count": 55,
     "metadata": {},
     "output_type": "execute_result"
    }
   ],
   "source": [
    "# intercept\n",
    "tht[0]"
   ]
  },
  {
   "cell_type": "code",
   "execution_count": null,
   "metadata": {},
   "outputs": [],
   "source": [
    "np.su"
   ]
  }
 ],
 "metadata": {
  "kernelspec": {
   "display_name": "Python 3",
   "language": "python",
   "name": "python3"
  },
  "language_info": {
   "codemirror_mode": {
    "name": "ipython",
    "version": 3
   },
   "file_extension": ".py",
   "mimetype": "text/x-python",
   "name": "python",
   "nbconvert_exporter": "python",
   "pygments_lexer": "ipython3",
   "version": "3.7.1"
  }
 },
 "nbformat": 4,
 "nbformat_minor": 2
}
