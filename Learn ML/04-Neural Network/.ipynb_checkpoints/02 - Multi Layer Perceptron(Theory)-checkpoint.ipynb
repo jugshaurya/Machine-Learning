{
 "cells": [
  {
   "cell_type": "markdown",
   "metadata": {},
   "source": [
    "## MultiLayer Perceptron/ (Feed/Deep) Forward (Architecture/Net)\n",
    "\n",
    "\n",
    "<img src=\"./images/neural_net.gif\" alt=\"Perceptron\" width= 450 />"
   ]
  },
  {
   "cell_type": "markdown",
   "metadata": {},
   "source": [
    "## Multilayer means :\n",
    "\n",
    "- 1 `input layer` with neurons equal to our inputs x1,x2,x3,x4...`\n",
    "\n",
    "\n",
    "- `n hidden layers` ,each with as many neurons we want .\n",
    "\n",
    "\n",
    "- `1 output layer` with neurons equal to the number of classes we want to predict.\n",
    "\n",
    "Note: input layer is not counted while saying x-layered network."
   ]
  },
  {
   "cell_type": "code",
   "execution_count": null,
   "metadata": {},
   "outputs": [],
   "source": []
  },
  {
   "cell_type": "markdown",
   "metadata": {},
   "source": [
    "#### **2 Layer Network** \n",
    "- Two layers : 1 Hidden + 1 output\n",
    "\n",
    "\n",
    "![](images/2layerNN.png)\n"
   ]
  },
  {
   "cell_type": "markdown",
   "metadata": {},
   "source": [
    "``` \n",
    "In the above diagram : we are going to learn the weightes assocated with this neural network.\n",
    "   \n",
    "   for hidden layer: \n",
    "    ------------------\n",
    "    \n",
    "    W1 is the matrix : shape(4 X 5) as each neuron in hidden layer recieves 4 inputs hence 4 weights per neuron.\n",
    "    b1 is vector : shape(5 X 1) ;1 per neuron\n",
    "    \n",
    "    for output layer: \n",
    "    ------------------\n",
    "    \n",
    "    W2 is the matrix : shape(5 X 3) as each neuron in output layer recieves 5 inputs hence 5 weights per neuron.\n",
    "    b2 is vector : shape(3 X 1) ; 1 per neuron\n",
    "    \n",
    "Goal : -> learn w1,w2,b1,b2( 4*5 + 5*3 + 5 + 3 = 43parameters)\n",
    "```"
   ]
  },
  {
   "cell_type": "markdown",
   "metadata": {},
   "source": [
    "\n",
    "#### **3 Layer Network** \n",
    "```\n",
    "- Three layers : 2 Hidden + 1 output\n",
    "    \n",
    "Note: hidden layer increses , input and output layer always remains 1 and 1\n",
    " : more layered network means more complex functions \n",
    "```\n",
    "\n",
    "![](images/3layernn.png)"
   ]
  },
  {
   "cell_type": "markdown",
   "metadata": {},
   "source": [
    "#### Note: Each neuron in hidden layer or output layer is going to act as a biological neuron hence taking inputs -> generting Z as Weighted sum of inputs with bias included and then output of particular neuron is g(Z) which will act as input for next layer neurons"
   ]
  },
  {
   "cell_type": "code",
   "execution_count": null,
   "metadata": {},
   "outputs": [],
   "source": []
  },
  {
   "cell_type": "markdown",
   "metadata": {},
   "source": [
    "# Passing data to Neural Network (Forward Propagation)\n",
    "![](images/weightsNN.png)"
   ]
  },
  {
   "cell_type": "markdown",
   "metadata": {},
   "source": [
    "#### Z is the inner part of g(`Z`)\n",
    "\n",
    "![](images/forward_formula.png)"
   ]
  },
  {
   "cell_type": "markdown",
   "metadata": {},
   "source": [
    "# Output of every Layer"
   ]
  },
  {
   "cell_type": "markdown",
   "metadata": {},
   "source": [
    "![](images/out.png)"
   ]
  },
  {
   "cell_type": "markdown",
   "metadata": {},
   "source": [
    "####  Note: \n",
    "##### In output layer we will not use g(z) or activation function we find out z = weighted sum +bias and then take `softmax` over all these z's"
   ]
  },
  {
   "cell_type": "code",
   "execution_count": null,
   "metadata": {},
   "outputs": [],
   "source": []
  },
  {
   "cell_type": "markdown",
   "metadata": {},
   "source": [
    "# Example : -"
   ]
  },
  {
   "cell_type": "markdown",
   "metadata": {},
   "source": [
    "![](images/softmax.png)"
   ]
  },
  {
   "cell_type": "code",
   "execution_count": null,
   "metadata": {},
   "outputs": [],
   "source": []
  }
 ],
 "metadata": {
  "kernelspec": {
   "display_name": "Python 3",
   "language": "python",
   "name": "python3"
  },
  "language_info": {
   "codemirror_mode": {
    "name": "ipython",
    "version": 3
   },
   "file_extension": ".py",
   "mimetype": "text/x-python",
   "name": "python",
   "nbconvert_exporter": "python",
   "pygments_lexer": "ipython3",
   "version": "3.7.1"
  }
 },
 "nbformat": 4,
 "nbformat_minor": 2
}
