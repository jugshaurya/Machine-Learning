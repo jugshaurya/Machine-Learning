{
 "cells": [
  {
   "cell_type": "markdown",
   "metadata": {},
   "source": [
    "## Introduction"
   ]
  },
  {
   "cell_type": "markdown",
   "metadata": {},
   "source": [
    "<img src = 'images/neuron2.png'/>"
   ]
  },
  {
   "cell_type": "markdown",
   "metadata": {},
   "source": [
    "# Resemblence of Human Neuron to our Artificial Neuron\n",
    "\n",
    "|Biological NN| Artifical NN|\n",
    "|----|-----|\n",
    "|Synaptic Gap| weights|\n",
    "|Dendrites| Inputs|\n",
    "|Soma|Processing Function|\n",
    "|Axon| Activation Function|\n",
    "|Axon Terminals Boutons|Outputs|\n"
   ]
  },
  {
   "cell_type": "code",
   "execution_count": null,
   "metadata": {},
   "outputs": [],
   "source": []
  },
  {
   "cell_type": "markdown",
   "metadata": {},
   "source": [
    "![](images/Neuron.png)"
   ]
  },
  {
   "cell_type": "markdown",
   "metadata": {},
   "source": [
    "- Z is the output of soma\n",
    "- a is the output of axon where a = g(Z)\n",
    "    - g(x) can be sigmoidal function or relu function or any other function.\n",
    "    \n",
    "- we add bias for activating our neural network (Threshold Thing)"
   ]
  },
  {
   "cell_type": "code",
   "execution_count": null,
   "metadata": {},
   "outputs": [],
   "source": []
  },
  {
   "cell_type": "markdown",
   "metadata": {},
   "source": [
    "## Perceptron (Single Layer Neural Network)\n",
    "\n",
    "```python\n",
    "\n",
    "- A Perceptron is a single layer neural network or say Simplest unitof Neural Network is Perceptron\n",
    "- It acts a Linear Classifier(Binary classification if activation function if sigmoidal)\n",
    "- Loss Function : Binary Cross Entropy (-ve of Log Likelihood)\n",
    "- Optimisation : Gradient Descent/ Stochastic Gradient Descent\n",
    "- No hidden units\n",
    "- Input is not counted in layers\n",
    "\n",
    "```\n"
   ]
  },
  {
   "cell_type": "markdown",
   "metadata": {},
   "source": [
    "<img src = 'images/perceptron.png' width=600/>"
   ]
  },
  {
   "cell_type": "markdown",
   "metadata": {},
   "source": [
    "# Conclusion\n",
    "\n",
    "```python\n",
    "Whatever we did (till now) without neural network is basically implementing a perceptron \n",
    "```"
   ]
  },
  {
   "cell_type": "code",
   "execution_count": null,
   "metadata": {},
   "outputs": [],
   "source": []
  }
 ],
 "metadata": {
  "kernelspec": {
   "display_name": "Python 3",
   "language": "python",
   "name": "python3"
  },
  "language_info": {
   "codemirror_mode": {
    "name": "ipython",
    "version": 3
   },
   "file_extension": ".py",
   "mimetype": "text/x-python",
   "name": "python",
   "nbconvert_exporter": "python",
   "pygments_lexer": "ipython3",
   "version": "3.7.1"
  }
 },
 "nbformat": 4,
 "nbformat_minor": 2
}
