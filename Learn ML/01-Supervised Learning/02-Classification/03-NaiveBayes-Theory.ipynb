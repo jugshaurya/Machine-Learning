{
 "cells": [
  {
   "cell_type": "markdown",
   "metadata": {},
   "source": [
    "# Bayes Theorem "
   ]
  },
  {
   "cell_type": "markdown",
   "metadata": {},
   "source": [
    "![](images/naive_bayes_theorem.png)"
   ]
  },
  {
   "cell_type": "markdown",
   "metadata": {},
   "source": [
    "# Naive Bayes Classifier"
   ]
  },
  {
   "cell_type": "markdown",
   "metadata": {},
   "source": [
    "- use to detect whether review is +ve , -ve or neutral(sentiments Analysus)\n",
    "- use ot classify the category of emails -> promotional,spam,social,inbox\n",
    "- use to detect whether email is spam or not. using  "
   ]
  },
  {
   "cell_type": "markdown",
   "metadata": {},
   "source": [
    "![](images/spam.png)"
   ]
  },
  {
   "cell_type": "markdown",
   "metadata": {},
   "source": [
    "```python\n",
    "What is a classifier?\n",
    "A classifier is a machine learning model that is used to discriminate different objects based on certain features.\n",
    "\n",
    "Principle of Naive Bayes Classifier:\n",
    "A Naive Bayes classifier is a probabilistic machine learning model that’s used for classification task.\n",
    "```"
   ]
  },
  {
   "cell_type": "markdown",
   "metadata": {},
   "source": [
    "![](images/naive_bayes.png)"
   ]
  },
  {
   "cell_type": "markdown",
   "metadata": {},
   "source": [
    "### Assumption in Naive bayes classifier\n",
    "\n",
    "```python\n",
    "- all the features are independent of each other\n",
    "- if x = <x1,x2,x3,.....,xn>\n",
    "- then P(X|Y) = P(x1,x2,x3,..,xn|Y) = P(x1|Y)P(x2|Y)P(x3|Y).....P(xn|Y)\n",
    "```"
   ]
  },
  {
   "cell_type": "markdown",
   "metadata": {},
   "source": [
    "![](images/result_NBC.png)"
   ]
  },
  {
   "cell_type": "code",
   "execution_count": null,
   "metadata": {},
   "outputs": [],
   "source": []
  },
  {
   "cell_type": "markdown",
   "metadata": {},
   "source": [
    "![](images/Naivebayestypes1.PNG)"
   ]
  },
  {
   "cell_type": "code",
   "execution_count": null,
   "metadata": {},
   "outputs": [],
   "source": []
  },
  {
   "cell_type": "markdown",
   "metadata": {},
   "source": [
    "## Extra 1\n",
    "\n",
    "\n",
    "![](images/a.PNG)\n",
    "\n",
    "--------------------------------\n",
    "\n",
    "\n",
    "## Extra 2\n",
    "\n",
    "![](images/b.PNG)\n",
    "\n",
    "\n",
    "\n",
    "---------------------------------------\n",
    "## Extra 3\n",
    "\n",
    "![](images/c.PNG)"
   ]
  },
  {
   "cell_type": "code",
   "execution_count": null,
   "metadata": {},
   "outputs": [],
   "source": []
  }
 ],
 "metadata": {
  "kernelspec": {
   "display_name": "Python 3",
   "language": "python",
   "name": "python3"
  },
  "language_info": {
   "codemirror_mode": {
    "name": "ipython",
    "version": 3
   },
   "file_extension": ".py",
   "mimetype": "text/x-python",
   "name": "python",
   "nbconvert_exporter": "python",
   "pygments_lexer": "ipython3",
   "version": "3.7.1"
  }
 },
 "nbformat": 4,
 "nbformat_minor": 2
}
