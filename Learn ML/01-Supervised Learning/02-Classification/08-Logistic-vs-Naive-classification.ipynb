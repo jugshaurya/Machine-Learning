{
 "cells": [
  {
   "cell_type": "markdown",
   "metadata": {},
   "source": [
    "Logistic :\n",
    "----------\n",
    "    - used for 2 class problems\n",
    "    - Assumption : all samples(rows) are considered independent of each other\n",
    "    - dataset can be numerical, talking about X part of dataset not Y (Y is is always categorical) \n",
    "    \n",
    "    \n",
    "Naive :\n",
    "------\n",
    "    - can be used for multiclass problems as well\n",
    "    - Assumption : all features(columns) are considered independent of each other\n",
    "        - Of course these assumptions of independence are rarely true, which may explain why some have referred to the model as the \"Idiot Bayes\" model, but in practice Naive Bayes models have performed surprisingly well, even on complex tasks where it is clear that the strong independence assumptions are false.\n",
    "    - All the dataset columns must be categorical or say nominal(number associated with each class groups) -> multinomial and bernoulli naive bayes , and can be numerical as well (Gaussian Naive Bayes)"
   ]
  },
  {
   "cell_type": "markdown",
   "metadata": {},
   "source": [
    "![](images/datatypes.png)"
   ]
  },
  {
   "cell_type": "code",
   "execution_count": null,
   "metadata": {},
   "outputs": [],
   "source": []
  }
 ],
 "metadata": {
  "kernelspec": {
   "display_name": "Python 3",
   "language": "python",
   "name": "python3"
  },
  "language_info": {
   "codemirror_mode": {
    "name": "ipython",
    "version": 3
   },
   "file_extension": ".py",
   "mimetype": "text/x-python",
   "name": "python",
   "nbconvert_exporter": "python",
   "pygments_lexer": "ipython3",
   "version": "3.7.1"
  }
 },
 "nbformat": 4,
 "nbformat_minor": 2
}
