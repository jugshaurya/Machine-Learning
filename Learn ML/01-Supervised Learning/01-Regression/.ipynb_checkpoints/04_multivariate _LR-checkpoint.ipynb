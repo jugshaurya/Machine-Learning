{
 "cells": [
  {
   "cell_type": "markdown",
   "metadata": {},
   "source": [
    "# Linear Regression over Multivariate data"
   ]
  },
  {
   "cell_type": "markdown",
   "metadata": {},
   "source": [
    "lets work this time with boston dataset in sklearn.datasets"
   ]
  },
  {
   "cell_type": "markdown",
   "metadata": {},
   "source": [
    "- in single feature datasets we got a linear function hx=theta0 + theta1*x\n",
    "- in two-variate datasets we got a plane hx=theta0 + theta1*x1 + theta2*x2\n",
    "- in more than two variable datasets we got a hyperplane "
   ]
  },
  {
   "cell_type": "code",
   "execution_count": 92,
   "metadata": {},
   "outputs": [],
   "source": [
    "from sklearn.datasets import load_boston"
   ]
  },
  {
   "cell_type": "code",
   "execution_count": 93,
   "metadata": {},
   "outputs": [],
   "source": [
    "boston = load_boston()"
   ]
  },
  {
   "cell_type": "code",
   "execution_count": 94,
   "metadata": {},
   "outputs": [],
   "source": [
    "X = boston.data\n",
    "Y = boston.target"
   ]
  },
  {
   "cell_type": "code",
   "execution_count": 95,
   "metadata": {},
   "outputs": [
    {
     "name": "stdout",
     "output_type": "stream",
     "text": [
      "(506, 13)\n",
      "(506,)\n"
     ]
    }
   ],
   "source": [
    "print(X.shape) # see number of features are 13 \n",
    "print(Y.shape)"
   ]
  },
  {
   "cell_type": "markdown",
   "metadata": {},
   "source": [
    "## 1. Using sklearn to do the calculation of theta values for us"
   ]
  },
  {
   "cell_type": "code",
   "execution_count": 96,
   "metadata": {},
   "outputs": [],
   "source": [
    "from sklearn.linear_model import LinearRegression\n",
    "from sklearn.model_selection import train_test_split"
   ]
  },
  {
   "cell_type": "code",
   "execution_count": 97,
   "metadata": {},
   "outputs": [],
   "source": [
    "# 1. splitting data in training and test part\n",
    "X_train,X_test,Y_train,Y_test = train_test_split(X,Y,test_size=0.2,random_state=101)"
   ]
  },
  {
   "cell_type": "code",
   "execution_count": 98,
   "metadata": {},
   "outputs": [
    {
     "name": "stdout",
     "output_type": "stream",
     "text": [
      "(404, 13) (404,)\n",
      "(102, 13) (102,)\n"
     ]
    }
   ],
   "source": [
    "print(X_train.shape,Y_train.shape)\n",
    "print(X_test.shape,Y_test.shape)"
   ]
  },
  {
   "cell_type": "code",
   "execution_count": 99,
   "metadata": {},
   "outputs": [],
   "source": [
    "# 1. creating an object of model \n",
    "alg = LinearRegression(normalize=True)"
   ]
  },
  {
   "cell_type": "code",
   "execution_count": 100,
   "metadata": {},
   "outputs": [
    {
     "data": {
      "text/plain": [
       "LinearRegression(copy_X=True, fit_intercept=True, n_jobs=None, normalize=True)"
      ]
     },
     "execution_count": 100,
     "metadata": {},
     "output_type": "execute_result"
    }
   ],
   "source": [
    "# 2. training model on training data\n",
    "alg.fit(X_train,Y_train)"
   ]
  },
  {
   "cell_type": "code",
   "execution_count": 101,
   "metadata": {},
   "outputs": [],
   "source": [
    "# 3. predicting the output\n",
    "Y_pred = alg.predict(X_test)"
   ]
  },
  {
   "cell_type": "code",
   "execution_count": 102,
   "metadata": {},
   "outputs": [],
   "source": [
    "%matplotlib inline"
   ]
  },
  {
   "cell_type": "code",
   "execution_count": 103,
   "metadata": {},
   "outputs": [
    {
     "data": {
      "image/png": "[encoded data removed]",
      "text/plain": [
       "<Figure size 432x288 with 1 Axes>"
      ]
     },
     "metadata": {
      "needs_background": "light"
     },
     "output_type": "display_data"
    }
   ],
   "source": [
    "# 4. comparing Y_pred with Y_test using plotting to see how good our model is: graphically\n",
    "import matplotlib.pyplot as plt\n",
    "import numpy as np\n",
    "plt.scatter(Y_test,Y_pred)\n",
    "ranger = np.arange(5,50)\n",
    "plt.plot(ranger,ranger,'r',label = 'Y=X')\n",
    "plt.axis([0,60,0,60])\n",
    "plt.legend()\n",
    "plt.show()"
   ]
  },
  {
   "cell_type": "markdown",
   "metadata": {},
   "source": [
    "### Accuracy of our Model"
   ]
  },
  {
   "cell_type": "markdown",
   "metadata": {},
   "source": [
    "#### Coefficeient of Determination (`R square`)\n",
    "```python\n",
    "R^2 = 1-u/v \n",
    "where \n",
    "u is the residual sum of squares ((y_true - y_pred) ** 2).sum() and \n",
    "v is the total sum of squares ((y_true - y_true.mean()) ** 2).sum().\n",
    "```"
   ]
  },
  {
   "cell_type": "markdown",
   "metadata": {},
   "source": [
    "#### Interpretation of R^2"
   ]
  },
  {
   "cell_type": "markdown",
   "metadata": {},
   "source": [
    "```python\n",
    "- Basically we are predicitng how bad or good our algorithm with respect to (if we predict all values over x_test to be mean value)\n",
    "\n",
    "- 1.) if our algo predict as bad as means values , u == v is True hence R^2 being Zero score\n",
    "- 2.) if our algo predict values closer to actual values,  u < v is True hence R^2 being more toward score One-> so better score is good score\n",
    "- 3.) if our algo predict values far from actual values and worse than mean values,  u > v is True hence R^2 being more toward score Zero \n",
    "```     \n",
    "\n",
    "#### Result \n",
    "    higher the score(Coefficient of Determination) better is our algo."
   ]
  },
  {
   "cell_type": "code",
   "execution_count": 104,
   "metadata": {},
   "outputs": [],
   "source": [
    "# it internally find the predicted values for X_test using alg model that we fitted and than compare\n",
    "# it with Y_test that we passed as second argument\n",
    "test_score = alg.score(X_test,Y_test)\n",
    "train_score = alg.score(X_train,Y_train) # how well our model remember the data we use to fit the model"
   ]
  },
  {
   "cell_type": "code",
   "execution_count": 105,
   "metadata": {},
   "outputs": [
    {
     "data": {
      "text/plain": [
       "(0.7034623076515882, 0.7513747062933072)"
      ]
     },
     "execution_count": 105,
     "metadata": {},
     "output_type": "execute_result"
    }
   ],
   "source": [
    "test_score, train_score"
   ]
  },
  {
   "cell_type": "markdown",
   "metadata": {},
   "source": [
    "##### coeffiecients and intercepts"
   ]
  },
  {
   "cell_type": "code",
   "execution_count": 106,
   "metadata": {},
   "outputs": [
    {
     "name": "stdout",
     "output_type": "stream",
     "text": [
      "13\n"
     ]
    },
    {
     "data": {
      "text/plain": [
       "array([-9.89913563e-02,  4.25047578e-02,  1.67390094e-02,  3.06437882e+00,\n",
       "       -1.56462528e+01,  4.01888422e+00, -8.31558474e-04, -1.44628034e+00,\n",
       "        2.67827281e-01, -1.04725485e-02, -8.88651815e-01,  8.25262805e-03,\n",
       "       -5.49367192e-01])"
      ]
     },
     "execution_count": 106,
     "metadata": {},
     "output_type": "execute_result"
    }
   ],
   "source": [
    "print(len(alg.coef_)) # since there are 13 features there will be 14 parameters value form theta0 to theta13\n",
    "alg.coef_  # thirteen are here"
   ]
  },
  {
   "cell_type": "code",
   "execution_count": 107,
   "metadata": {},
   "outputs": [
    {
     "data": {
      "text/plain": [
       "32.906130908637024"
      ]
     },
     "execution_count": 107,
     "metadata": {},
     "output_type": "execute_result"
    }
   ],
   "source": [
    "alg.intercept_ # 1 is here"
   ]
  },
  {
   "cell_type": "code",
   "execution_count": null,
   "metadata": {},
   "outputs": [],
   "source": []
  },
  {
   "cell_type": "code",
   "execution_count": null,
   "metadata": {},
   "outputs": [],
   "source": []
  },
  {
   "cell_type": "markdown",
   "metadata": {},
   "source": [
    "## 2. Writting above algo from scratch for multivariate data using Gradient descent"
   ]
  },
  {
   "cell_type": "code",
   "execution_count": 108,
   "metadata": {},
   "outputs": [
    {
     "name": "stdout",
     "output_type": "stream",
     "text": [
      "(404, 13) (404,)\n",
      "(102, 13) (102,)\n"
     ]
    }
   ],
   "source": [
    "print(X_train.shape,Y_train.shape)\n",
    "print(X_test.shape,Y_test.shape)"
   ]
  },
  {
   "cell_type": "code",
   "execution_count": 109,
   "metadata": {},
   "outputs": [],
   "source": [
    "\n",
    "# theta will be np.array([theta0,theta1,.............,thetaN])\n",
    "def error(X,Y,theta):\n",
    "    hx = hypothesis(X,theta)    \n",
    "    return (0.5) * np.sum((hx-Y)**2)\n",
    "    \n",
    "def hypothesis(X,theta):    \n",
    "    # returning h(Xi) for each sample (Xi) hence returning an array of size X.shape[0]\n",
    "    data = np.sum(X*theta[1:], axis=1) + theta[0]\n",
    "    return data\n",
    "\n",
    "    \n",
    "def gradient(X,Y,theta):    \n",
    "    grad = np.zeros(X.shape[1]+1) # n-featured data have (n+1) parameters.\n",
    "    hx = hypothesis(X,theta)    \n",
    "    grad[0] = np.sum((hx-Y))\n",
    "    \n",
    "    for i in range(1,len(grad)) :\n",
    "        # d(cost) / d(theta[i]) = sum((hx-y)*x[i])\n",
    "        grad[i] = np.sum( (hx-Y) * X[:,i-1])\n",
    "    return grad\n",
    "    \n",
    "    \n",
    "def gradientDescent_multivariate(X,Y,learning_rate=0.0001):\n",
    "\n",
    "    theta = np.zeros(X.shape[1]+1)\n",
    "    error_list = []    \n",
    "    err = error(X,Y,theta)\n",
    "    error_list.append(err)\n",
    "    \n",
    "    while True:\n",
    "        grad = gradient(X,Y,theta)\n",
    "        theta = theta - learning_rate * grad     \n",
    "        err = error(X,Y,theta)\n",
    "        error_change = abs(err - error_list[-1]) \n",
    "        error_list.append(err)        \n",
    "        if error_change < 0.00001:\n",
    "            break\n",
    "        \n",
    "    return theta,error_list\n"
   ]
  },
  {
   "cell_type": "code",
   "execution_count": null,
   "metadata": {},
   "outputs": [],
   "source": []
  },
  {
   "cell_type": "code",
   "execution_count": 110,
   "metadata": {},
   "outputs": [],
   "source": [
    "# using sklearn to do the scaling data\n",
    "from sklearn.preprocessing import StandardScaler\n",
    "sd = StandardScaler()\n",
    "X = sd.fit_transform(X)\n",
    "\n",
    "\n",
    "# or can be done using X = (X-X.mean(axis=0)) / X.std(axis=0)"
   ]
  },
  {
   "cell_type": "code",
   "execution_count": 111,
   "metadata": {},
   "outputs": [],
   "source": [
    "# 1. splitting data in training and test part\n",
    "X_train,X_test,Y_train,Y_test = train_test_split(X,Y,test_size=0.2,random_state=101) # splitting exactly same as we did above"
   ]
  },
  {
   "cell_type": "code",
   "execution_count": 112,
   "metadata": {},
   "outputs": [
    {
     "name": "stdout",
     "output_type": "stream",
     "text": [
      "(404, 13) (404,)\n",
      "(102, 13) (102,)\n"
     ]
    }
   ],
   "source": [
    "print(X_train.shape,Y_train.shape)\n",
    "print(X_test.shape,Y_test.shape)"
   ]
  },
  {
   "cell_type": "code",
   "execution_count": 113,
   "metadata": {},
   "outputs": [],
   "source": [
    "tht,error_list = gradientDescent_multivariate(X_train,Y_train)"
   ]
  },
  {
   "cell_type": "code",
   "execution_count": 114,
   "metadata": {},
   "outputs": [
    {
     "data": {
      "text/plain": [
       "array([22.33658176, -0.85004138,  0.98937129,  0.1119804 ,  0.77801762,\n",
       "       -1.81071759,  2.82152356, -0.02390664, -3.0425964 ,  2.32256481,\n",
       "       -1.75532792, -1.92170291,  0.75262121, -3.9187913 ])"
      ]
     },
     "execution_count": 114,
     "metadata": {},
     "output_type": "execute_result"
    }
   ],
   "source": [
    "# intercept\n",
    "tht"
   ]
  },
  {
   "cell_type": "code",
   "execution_count": 115,
   "metadata": {},
   "outputs": [],
   "source": [
    "Y_pred = hypothesis(X_test,tht)"
   ]
  },
  {
   "cell_type": "code",
   "execution_count": 116,
   "metadata": {},
   "outputs": [
    {
     "data": {
      "image/png": "[encoded data removed]",
      "text/plain": [
       "<Figure size 432x288 with 1 Axes>"
      ]
     },
     "metadata": {
      "needs_background": "light"
     },
     "output_type": "display_data"
    }
   ],
   "source": [
    "plt.scatter(Y_test,Y_pred)\n",
    "ranger = np.arange(5,50)\n",
    "plt.plot(ranger,ranger,'r',label = 'Y=X')\n",
    "plt.axis([0,60,0,60])\n",
    "plt.legend()\n",
    "plt.show()"
   ]
  },
  {
   "cell_type": "code",
   "execution_count": null,
   "metadata": {},
   "outputs": [],
   "source": []
  },
  {
   "cell_type": "code",
   "execution_count": 117,
   "metadata": {},
   "outputs": [],
   "source": [
    "from sklearn.metrics import r2_score"
   ]
  },
  {
   "cell_type": "code",
   "execution_count": 118,
   "metadata": {},
   "outputs": [],
   "source": [
    "test_score = r2_score(Y_test,Y_pred)"
   ]
  },
  {
   "cell_type": "code",
   "execution_count": 119,
   "metadata": {},
   "outputs": [],
   "source": [
    "Y_train_pred = hypothesis(X_train,tht)"
   ]
  },
  {
   "cell_type": "code",
   "execution_count": 120,
   "metadata": {},
   "outputs": [],
   "source": [
    "train_score = r2_score(Y_train,Y_train_pred)"
   ]
  },
  {
   "cell_type": "code",
   "execution_count": 121,
   "metadata": {},
   "outputs": [
    {
     "data": {
      "text/plain": [
       "(0.7034337844873662, 0.7513745935685816)"
      ]
     },
     "execution_count": 121,
     "metadata": {},
     "output_type": "execute_result"
    }
   ],
   "source": [
    "test_score,train_score # same as we got from sklearn"
   ]
  },
  {
   "cell_type": "markdown",
   "metadata": {},
   "source": [
    "## Note -> how score is calculated using sklearn.metric"
   ]
  },
  {
   "cell_type": "code",
   "execution_count": 122,
   "metadata": {},
   "outputs": [],
   "source": [
    "from sklearn.metrics import mean_absolute_error,mean_squared_error"
   ]
  },
  {
   "cell_type": "code",
   "execution_count": 123,
   "metadata": {},
   "outputs": [],
   "source": [
    "u = mean_squared_error(Y_train,Y_train_pred)"
   ]
  },
  {
   "cell_type": "code",
   "execution_count": 124,
   "metadata": {},
   "outputs": [
    {
     "data": {
      "text/plain": [
       "19.19822645644905"
      ]
     },
     "execution_count": 124,
     "metadata": {},
     "output_type": "execute_result"
    }
   ],
   "source": [
    "u"
   ]
  },
  {
   "cell_type": "code",
   "execution_count": 125,
   "metadata": {},
   "outputs": [],
   "source": [
    "Y_train_mean_arr = np.full(Y_train.shape, Y_train.mean())"
   ]
  },
  {
   "cell_type": "code",
   "execution_count": 126,
   "metadata": {},
   "outputs": [],
   "source": [
    "v = mean_squared_error(Y_train,Y_train_mean_arr)"
   ]
  },
  {
   "cell_type": "code",
   "execution_count": 127,
   "metadata": {},
   "outputs": [
    {
     "data": {
      "text/plain": [
       "77.21747641162631"
      ]
     },
     "execution_count": 127,
     "metadata": {},
     "output_type": "execute_result"
    }
   ],
   "source": [
    "v"
   ]
  },
  {
   "cell_type": "code",
   "execution_count": 128,
   "metadata": {},
   "outputs": [],
   "source": [
    "score = 1 - u/v"
   ]
  },
  {
   "cell_type": "code",
   "execution_count": 129,
   "metadata": {},
   "outputs": [
    {
     "data": {
      "text/plain": [
       "0.7513745935685816"
      ]
     },
     "execution_count": 129,
     "metadata": {},
     "output_type": "execute_result"
    }
   ],
   "source": [
    "score"
   ]
  },
  {
   "cell_type": "markdown",
   "metadata": {},
   "source": [
    "# Thank You!"
   ]
  },
  {
   "cell_type": "code",
   "execution_count": null,
   "metadata": {},
   "outputs": [],
   "source": []
  }
 ],
 "metadata": {
  "kernelspec": {
   "display_name": "Python 3",
   "language": "python",
   "name": "python3"
  },
  "language_info": {
   "codemirror_mode": {
    "name": "ipython",
    "version": 3
   },
   "file_extension": ".py",
   "mimetype": "text/x-python",
   "name": "python",
   "nbconvert_exporter": "python",
   "pygments_lexer": "ipython3",
   "version": "3.7.1"
  }
 },
 "nbformat": 4,
 "nbformat_minor": 2
}
