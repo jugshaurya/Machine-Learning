{
 "cells": [
  {
   "cell_type": "markdown",
   "metadata": {},
   "source": [
    "# Question 15 - Regularization on iris Dataset\n",
    "\n",
    "\n",
    "#### Type of regularization  used \n",
    "    L1 Regularization  (also called least absolute deviations)\n",
    "#### Regularization means :\n",
    "    This is a form of regression, that constrains/ regularizes or shrinks the coefficient estimates towards zero. In other words, this technique discourages learning a more complex or flexible model, so as to avoid the risk of overfitting by minimizing its variance and changing bias a little.\n",
    "    \n",
    "##### Goal : \n",
    "    Run Logistic Regression With A L1 Penalty With Various Regularization Strengths(10,1,.1)\n",
    "    The usefulness of L1 is that it can push/penalize feature coefficients to 0, creating a method for feature selection. In the code below we run a logistic regression with a L1 penalty four times, each time decreasing the value of C. We should expect that as C decreases, more coefficients become 0.\n",
    "    \n",
    "##### Dataset used - same as 14th question - iris dataset -> will take Binary class only"
   ]
  },
  {
   "cell_type": "code",
   "execution_count": 107,
   "metadata": {},
   "outputs": [],
   "source": [
    "import numpy as np\n",
    "from sklearn.linear_model import LogisticRegression\n",
    "from sklearn.datasets import load_iris\n",
    "from sklearn.model_selection import train_test_split\n",
    "from sklearn.preprocessing import StandardScaler"
   ]
  },
  {
   "cell_type": "code",
   "execution_count": 108,
   "metadata": {},
   "outputs": [
    {
     "name": "stdout",
     "output_type": "stream",
     "text": [
      "(100, 4)\n",
      "(100,)\n"
     ]
    }
   ],
   "source": [
    "# loading data\n",
    "iris = load_iris()\n",
    "X = iris['data'][:100] # Binary Classsification\n",
    "Y = iris['target'][:100]\n",
    "print(X.shape)\n",
    "print(Y.shape)"
   ]
  },
  {
   "cell_type": "code",
   "execution_count": 110,
   "metadata": {},
   "outputs": [],
   "source": [
    "# preprocessing\n",
    "s = StandardScaler()\n",
    "X = s.fit_transform(X)\n",
    "Y = s.fit_transform(Y.reshape(-1,1))\n",
    "\n",
    "X_train, X_test, Y_train, Y_test = train_test_split(X, Y, test_size=0.2, random_state=123)\n"
   ]
  },
  {
   "cell_type": "code",
   "execution_count": 111,
   "metadata": {},
   "outputs": [],
   "source": [
    "# function for regularization\n",
    "def show():\n",
    "    penalty_strength = [10, 1, .1]\n",
    "\n",
    "    for i in penalty_strength:\n",
    "        model = LogisticRegression(solver = 'saga', penalty = 'l1', C = i, max_iter=1000)\n",
    "        model.fit(X_train, Y_train.reshape(-1))\n",
    "        print('strength : ' , i)\n",
    "        print('Coefficient of each feature:', model.coef_)\n",
    "        print('Training accuracy:', model.score(X_train, Y_train))\n",
    "        print('Test accuracy:', model.score(X_test, Y_test))\n",
    "        print()\n",
    "\n",
    "\n",
    "    print('Conclusion : ','as out penalty increases more #coefficent tends towards zero.' )"
   ]
  },
  {
   "cell_type": "code",
   "execution_count": 112,
   "metadata": {},
   "outputs": [
    {
     "name": "stdout",
     "output_type": "stream",
     "text": [
      "strength :  10\n",
      "Coefficient of each feature: [[ 0.         -1.05307893  3.4400431   3.41942837]]\n",
      "Training accuracy: 1.0\n",
      "Test accuracy: 1.0\n",
      "\n",
      "strength :  1\n",
      "Coefficient of each feature: [[ 0.        -0.545841   2.3963937  1.8932386]]\n",
      "Training accuracy: 1.0\n",
      "Test accuracy: 1.0\n",
      "\n",
      "strength :  0.1\n",
      "Coefficient of each feature: [[0.         0.         1.45109169 0.48482542]]\n",
      "Training accuracy: 1.0\n",
      "Test accuracy: 1.0\n",
      "\n",
      "Conclusion :  as out penalty increases more #coefficent tends towards zero.\n"
     ]
    }
   ],
   "source": [
    "show()"
   ]
  },
  {
   "cell_type": "markdown",
   "metadata": {},
   "source": [
    "# Queston 16 -> Neural Network on iris dataset"
   ]
  },
  {
   "cell_type": "code",
   "execution_count": 113,
   "metadata": {},
   "outputs": [],
   "source": [
    "import numpy as np\n",
    "from sklearn.linear_model import LogisticRegression\n",
    "from sklearn.datasets import load_iris\n",
    "from sklearn.model_selection import train_test_split\n",
    "from sklearn.preprocessing import StandardScaler"
   ]
  },
  {
   "cell_type": "code",
   "execution_count": 114,
   "metadata": {},
   "outputs": [
    {
     "name": "stdout",
     "output_type": "stream",
     "text": [
      "(100, 4)\n",
      "(100,)\n"
     ]
    }
   ],
   "source": [
    "# loading data\n",
    "iris = load_iris()\n",
    "X = iris['data'][:100] # Binary Classsification\n",
    "Y = iris['target'][:100]\n",
    "print(X.shape)\n",
    "print(Y.shape)"
   ]
  },
  {
   "cell_type": "code",
   "execution_count": 116,
   "metadata": {},
   "outputs": [],
   "source": [
    "# preprocessing\n",
    "s = StandardScaler()\n",
    "X = s.fit_transform(X)\n",
    "Y = s.fit_transform(Y.reshape(-1,1))\n",
    "Y = Y.reshape(-1)\n",
    "X_train, X_test, Y_train, Y_test = train_test_split(X, Y, test_size=0.2, random_state=123)"
   ]
  },
  {
   "cell_type": "code",
   "execution_count": 117,
   "metadata": {},
   "outputs": [],
   "source": [
    "from sklearn.neural_network import MLPClassifier"
   ]
  },
  {
   "cell_type": "markdown",
   "metadata": {},
   "source": [
    "#### solver -> stochastic gradient regression(sgd)\n",
    "#### making 2-hidden layer with 4 neurons in first , 4 in 2nd ."
   ]
  },
  {
   "cell_type": "code",
   "execution_count": 118,
   "metadata": {},
   "outputs": [],
   "source": [
    "classifier = MLPClassifier(hidden_layer_sizes=(4,4), solver='sgd', max_iter=2000, random_state=123)"
   ]
  },
  {
   "cell_type": "code",
   "execution_count": 119,
   "metadata": {},
   "outputs": [
    {
     "data": {
      "text/plain": [
       "MLPClassifier(activation='relu', alpha=0.0001, batch_size='auto', beta_1=0.9,\n",
       "       beta_2=0.999, early_stopping=False, epsilon=1e-08,\n",
       "       hidden_layer_sizes=(4, 4), learning_rate='constant',\n",
       "       learning_rate_init=0.001, max_iter=2000, momentum=0.9,\n",
       "       n_iter_no_change=10, nesterovs_momentum=True, power_t=0.5,\n",
       "       random_state=123, shuffle=True, solver='sgd', tol=0.0001,\n",
       "       validation_fraction=0.1, verbose=False, warm_start=False)"
      ]
     },
     "execution_count": 119,
     "metadata": {},
     "output_type": "execute_result"
    }
   ],
   "source": [
    "classifier.fit(X_train,Y_train)"
   ]
  },
  {
   "cell_type": "code",
   "execution_count": 120,
   "metadata": {},
   "outputs": [
    {
     "data": {
      "text/plain": [
       "[array([[ 0.32794302, -0.28270379, -0.80748536,  0.14675285],\n",
       "        [ 0.47740661, -0.15854394,  0.95434754,  0.06509377],\n",
       "        [-0.09777088, -0.08964421, -0.673895  ,  0.57415688],\n",
       "        [-0.17055547, -0.66383204, -0.5736624 ,  0.58985593]]),\n",
       " array([[ 0.23278663,  0.63378355,  0.38874146,  0.19229617],\n",
       "        [ 0.3807419 , -0.06243383, -0.23223766, -0.47065652],\n",
       "        [-0.35793569,  1.26981651, -0.7021121 , -0.11483163],\n",
       "        [-0.11974784, -0.582976  , -0.18756096, -0.32516986]]),\n",
       " array([[ 0.26838453],\n",
       "        [-1.51131483],\n",
       "        [ 0.16770551],\n",
       "        [-0.18657253]])]"
      ]
     },
     "execution_count": 120,
     "metadata": {},
     "output_type": "execute_result"
    }
   ],
   "source": [
    "classifier.coefs_"
   ]
  },
  {
   "cell_type": "code",
   "execution_count": 121,
   "metadata": {},
   "outputs": [
    {
     "data": {
      "text/plain": [
       "array([-1.,  1.,  1., -1.,  1., -1., -1.,  1.,  1., -1., -1.,  1.,  1.,\n",
       "        1., -1., -1.,  1., -1.,  1.,  1.])"
      ]
     },
     "execution_count": 121,
     "metadata": {},
     "output_type": "execute_result"
    }
   ],
   "source": [
    "Y_pred = classifier.predict(X_test)\n",
    "Y_pred"
   ]
  },
  {
   "cell_type": "code",
   "execution_count": 122,
   "metadata": {},
   "outputs": [
    {
     "data": {
      "text/plain": [
       "array([-1.,  1.,  1., -1.,  1., -1., -1.,  1.,  1., -1., -1.,  1.,  1.,\n",
       "        1., -1., -1.,  1., -1.,  1.,  1.])"
      ]
     },
     "execution_count": 122,
     "metadata": {},
     "output_type": "execute_result"
    }
   ],
   "source": [
    "Y_test"
   ]
  },
  {
   "cell_type": "code",
   "execution_count": 123,
   "metadata": {},
   "outputs": [
    {
     "data": {
      "text/plain": [
       "1.0"
      ]
     },
     "execution_count": 123,
     "metadata": {},
     "output_type": "execute_result"
    }
   ],
   "source": [
    "classifier.score(X_test,Y_test) # inbuilt score in model only"
   ]
  },
  {
   "cell_type": "code",
   "execution_count": 124,
   "metadata": {},
   "outputs": [
    {
     "data": {
      "text/plain": [
       "1.0"
      ]
     },
     "execution_count": 124,
     "metadata": {},
     "output_type": "execute_result"
    }
   ],
   "source": [
    "# accuracy\n",
    "from sklearn.metrics import r2_score\n",
    "r2_score(Y_test,Y_pred) # 100% accuracy"
   ]
  },
  {
   "cell_type": "code",
   "execution_count": null,
   "metadata": {},
   "outputs": [],
   "source": []
  }
 ],
 "metadata": {
  "kernelspec": {
   "display_name": "Python 3",
   "language": "python",
   "name": "python3"
  },
  "language_info": {
   "codemirror_mode": {
    "name": "ipython",
    "version": 3
   },
   "file_extension": ".py",
   "mimetype": "text/x-python",
   "name": "python",
   "nbconvert_exporter": "python",
   "pygments_lexer": "ipython3",
   "version": "3.7.1"
  }
 },
 "nbformat": 4,
 "nbformat_minor": 2
}
