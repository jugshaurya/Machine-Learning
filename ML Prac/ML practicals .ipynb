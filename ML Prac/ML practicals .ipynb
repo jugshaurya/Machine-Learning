{
 "cells": [
  {
   "cell_type": "code",
   "execution_count": 15,
   "metadata": {},
   "outputs": [],
   "source": [
    "%matplotlib inline"
   ]
  },
  {
   "cell_type": "markdown",
   "metadata": {},
   "source": [
    "# Question1\n"
   ]
  },
  {
   "cell_type": "code",
   "execution_count": 1,
   "metadata": {},
   "outputs": [
    {
     "name": "stdout",
     "output_type": "stream",
     "text": [
      "4\n",
      "0\n",
      "4\n",
      "1.0\n",
      "1\n",
      "4\n"
     ]
    }
   ],
   "source": [
    "\n",
    "a=2\n",
    "b=2\n",
    "\n",
    "print(a+b)\n",
    "print(a-b)\n",
    "print(a*b)\n",
    "print(a/b)\n",
    "print(a//b)\n",
    "print(a**b)"
   ]
  },
  {
   "cell_type": "markdown",
   "metadata": {},
   "source": [
    "\n",
    "# Question 2"
   ]
  },
  {
   "cell_type": "code",
   "execution_count": 6,
   "metadata": {},
   "outputs": [
    {
     "name": "stdout",
     "output_type": "stream",
     "text": [
      "35\n",
      "2443\n",
      "False\n",
      "7\n",
      "False\n",
      "True\n"
     ]
    }
   ],
   "source": [
    "\n",
    "\n",
    "a=2443\n",
    "b=35\n",
    "\n",
    "print(a and b)\n",
    "print(a or b)\n",
    "print(not b)\n",
    "print(11^12)\n",
    "print(a == b)\n",
    "print(a != b)\n"
   ]
  },
  {
   "cell_type": "markdown",
   "metadata": {},
   "source": [
    "\n",
    "\n",
    "# Question 3\n"
   ]
  },
  {
   "cell_type": "code",
   "execution_count": 97,
   "metadata": {},
   "outputs": [
    {
     "name": "stdout",
     "output_type": "stream",
     "text": [
      "falana\n",
      "dimka\n",
      "falana\n",
      "dimka\n",
      "My name is falana dimka\n",
      "My name is falana dimka\n",
      "My name is falana dimka\n",
      "My name is falana dimka\n"
     ]
    }
   ],
   "source": [
    "\n",
    "name = input()\n",
    "last_name = input()\n",
    "print(name)\n",
    "print(last_name)\n",
    "print(f'My name is {name} {last_name}')\n",
    "print('My name is %s %s'%(name,last_name))\n",
    "print('My name is {0} {1}'.format(name,last_name))\n",
    "print('My name is {x} {y}'.format(x=name,y=last_name))"
   ]
  },
  {
   "cell_type": "markdown",
   "metadata": {},
   "source": [
    "\n",
    "# Question 4\n"
   ]
  },
  {
   "cell_type": "code",
   "execution_count": 11,
   "metadata": {},
   "outputs": [
    {
     "name": "stdout",
     "output_type": "stream",
     "text": [
      "[[0. 0. 0. 0. 0.]\n",
      " [0. 0. 0. 0. 0.]\n",
      " [0. 0. 0. 0. 0.]]\n",
      "\n",
      "[[1. 1. 1. 1. 1.]\n",
      " [1. 1. 1. 1. 1.]\n",
      " [1. 1. 1. 1. 1.]]\n",
      "\n",
      "[[20.06830518 14.47330585  8.3097221  13.31512329 15.43133212]\n",
      " [ 3.59196156 24.98613596 17.9904774  23.80147911  2.96082387]\n",
      " [24.98570239  6.70750361 22.4181299  22.26768585  1.35146379]]\n",
      "\n",
      "[[10  0  0  0]\n",
      " [ 0 20  0  0]\n",
      " [ 0  0 30  0]\n",
      " [ 0  0  0 40]]\n",
      "\n"
     ]
    }
   ],
   "source": [
    "\n",
    "import numpy as np\n",
    "\n",
    "# all zeros\n",
    "print(np.zeros((3,5)))\n",
    "print()\n",
    "# all ones\n",
    "print(np.ones((3,5)))\n",
    "print()\n",
    "# random in a range\n",
    "print(\n",
    "    np.random.random((3,5)) +  np.random.randint(1,25,(3,5)) # with in the range[1,25]-> random.random generates b/w 0 and 1\n",
    ")\n",
    "print()\n",
    "# diagonal matrix\n",
    "print(np.diag([10,20,30,40]))\n",
    "print()"
   ]
  },
  {
   "cell_type": "markdown",
   "metadata": {},
   "source": [
    "# Question 5"
   ]
  },
  {
   "cell_type": "code",
   "execution_count": 19,
   "metadata": {},
   "outputs": [
    {
     "name": "stdout",
     "output_type": "stream",
     "text": [
      "(4, 2)\n",
      "4\n",
      "2\n",
      "   size  na   price\n",
      "0  2104   3  399900\n",
      "1  1600   3  329900\n",
      "2  2400   3  369000\n",
      "3  1416   2  232000\n",
      "4  3000   4  539900\n",
      "\n",
      "Index(['size', 'na', 'price'], dtype='object')\n"
     ]
    }
   ],
   "source": [
    "import numpy as np\n",
    "\n",
    "arr = np.array([\n",
    "                [1,2],\n",
    "                [3,4],\n",
    "                [5,6],\n",
    "                [7,8]\n",
    "               ])\n",
    "\n",
    "# length of matrix\n",
    "print(arr.shape)\n",
    "\n",
    "# size of row and col\n",
    "print(len(arr)) # row size\n",
    "print(len(arr[0])) # col size\n",
    "\n",
    "\n",
    "# loading data to matrix\n",
    "import pandas as pd\n",
    "data = pd.read_csv('housing_price.txt',delimiter = ',')\n",
    "df = pd.DataFrame(data)\n",
    "print(df.head())\n",
    "\n",
    "# features of data\n",
    "print()\n",
    "print(df.columns)"
   ]
  },
  {
   "cell_type": "markdown",
   "metadata": {},
   "source": [
    "# Question 6"
   ]
  },
  {
   "cell_type": "code",
   "execution_count": 26,
   "metadata": {},
   "outputs": [
    {
     "name": "stdout",
     "output_type": "stream",
     "text": [
      "[[ 2  4]\n",
      " [ 6  8]\n",
      " [10 12]\n",
      " [14 16]]\n",
      "\n",
      "[[0 0]\n",
      " [0 0]\n",
      " [0 0]\n",
      " [0 0]]\n",
      "\n",
      "[[ 1  4]\n",
      " [ 9 16]\n",
      " [25 36]\n",
      " [49 64]]\n",
      "\n",
      "[[11 14 17 20]\n",
      " [23 30 37 44]\n",
      " [35 46 57 68]\n",
      " [47 62 77 92]]\n"
     ]
    }
   ],
   "source": [
    "arr = np.array([\n",
    "                [1,2],\n",
    "                [3,4],\n",
    "                [5,6],\n",
    "                [7,8]\n",
    "               ])\n",
    "\n",
    "# Dimension should Be same here : \n",
    "# matrix addition\n",
    "print(arr + arr)\n",
    "print()\n",
    "# matrix subtraction\n",
    "print(arr - arr)\n",
    "print()\n",
    "# matrix multiplication-> element wise\n",
    "print(arr*arr)\n",
    "print()\n",
    "arr2 = np.array([\n",
    "                [1,2,3,4],\n",
    "                [5,6,7,8]\n",
    "               ])\n",
    "\n",
    "# Dimension should be valid for dot product multiplication : \n",
    "# matrix multiplication-> dot product\n",
    "print(arr@arr2)\n"
   ]
  },
  {
   "cell_type": "markdown",
   "metadata": {},
   "source": [
    "# Question 7"
   ]
  },
  {
   "cell_type": "code",
   "execution_count": 46,
   "metadata": {},
   "outputs": [
    {
     "name": "stdout",
     "output_type": "stream",
     "text": [
      "[[  2   8  -7   4]\n",
      " [  3  -8   3   1]\n",
      " [  5   1  -4   8]\n",
      " [ -5   0  -8 -10]]\n",
      "\n",
      "[[ 2  8  7  4]\n",
      " [ 3  8  3  1]\n",
      " [ 5  1  4  8]\n",
      " [ 5  0  8 10]]\n",
      "\n",
      "[[-2 -8  7 -4]\n",
      " [-3  8 -3 -1]\n",
      " [-5 -1  4 -8]\n",
      " [ 5  0  8 10]]\n",
      "\n",
      "[[  2   8  -7   4]\n",
      " [  3  -8   3   1]\n",
      " [  5   1  -4   8]\n",
      " [ -5   0  -8 -10]\n",
      " [ -1  -2   1   2]]\n",
      "\n",
      "[[  2   8  -7   4  -1]\n",
      " [  3  -8   3   1  -2]\n",
      " [  5   1  -4   8   1]\n",
      " [ -5   0  -8 -10   2]]\n",
      "\n",
      "Max :  8\n",
      "Min :  -10\n",
      "[  5   1 -16   3]\n"
     ]
    },
    {
     "data": {
      "text/plain": [
       "-7"
      ]
     },
     "execution_count": 46,
     "metadata": {},
     "output_type": "execute_result"
    }
   ],
   "source": [
    "import numpy as np\n",
    "mat = np.random.randint(-10,10,(4,4))\n",
    "print(mat)\n",
    "print()\n",
    "\n",
    "# converting martix to absolute values |mat|\n",
    "print(np.abs(mat))\n",
    "print()\n",
    "\n",
    "# taking negative (-mat)\n",
    "print(-1*mat)\n",
    "print()\n",
    "\n",
    "# adding rows to mat\n",
    "new = np.row_stack((mat,[-1,-2,1,2]))\n",
    "print(new)\n",
    "print()\n",
    "\n",
    "# adding col to mat\n",
    "new = np.column_stack((mat,[-1,-2,1,2]))\n",
    "print(new)\n",
    "print()\n",
    "\n",
    "# finding max and min element\n",
    "print('Max : ', np.max(mat))\n",
    "print('Min : ', np.min(mat))\n",
    "\n",
    "\n",
    "# finding sum of all elements\n",
    "print(np.sum(mat,axis=0))\n",
    "np.sum(mat)"
   ]
  },
  {
   "cell_type": "markdown",
   "metadata": {},
   "source": [
    "# Question 8"
   ]
  },
  {
   "cell_type": "code",
   "execution_count": 95,
   "metadata": {},
   "outputs": [
    {
     "data": {
      "text/plain": [
       "Text(0, 0.5, 'Frequency')"
      ]
     },
     "execution_count": 95,
     "metadata": {},
     "output_type": "execute_result"
    },
    {
     "data": {
      "image/png": "[encoded data removed]",
      "text/plain": [
       "<Figure size 432x288 with 1 Axes>"
      ]
     },
     "metadata": {
      "needs_background": "light"
     },
     "output_type": "display_data"
    }
   ],
   "source": [
    "# label data/axis of plot\n",
    "# making histogram\n",
    "import numpy as np\n",
    "import matplotlib.pyplot as plt\n",
    "x = np.random.random(1000)\n",
    "plt.hist(x,bins = 40)\n",
    "plt.xlabel('Data b/w 0 and 1 generated using equally likely data')\n",
    "plt.ylabel('Frequency')"
   ]
  },
  {
   "cell_type": "code",
   "execution_count": 94,
   "metadata": {},
   "outputs": [
    {
     "data": {
      "text/plain": [
       "<matplotlib.legend.Legend at 0x138c7c90>"
      ]
     },
     "execution_count": 94,
     "metadata": {},
     "output_type": "execute_result"
    },
    {
     "data": {
      "image/png": "[encoded data removed]",
      "text/plain": [
       "<Figure size 432x288 with 1 Axes>"
      ]
     },
     "metadata": {
      "needs_background": "light"
     },
     "output_type": "display_data"
    }
   ],
   "source": [
    "# label data/axis of plot\n",
    "# making sine /cos graph\n",
    "import numpy as np\n",
    "x = np.linspace(0,15,1000)\n",
    "sin_x = np.sin(x)\n",
    "cos_x = np.cos(x)\n",
    "plt.plot(x,np.zeros(x.shape),c = 'k')\n",
    "plt.plot(x, sin_x, label = 'sinx')\n",
    "plt.plot(x, cos_x, label = 'cosx')\n",
    "\n",
    "plt.ylim((-2,2))\n",
    "plt.xlim((0,15))\n",
    "\n",
    "plt.yticks([-1,0,1])\n",
    "pi = 3.14\n",
    "plt.xticks([pi/2, pi, 3*pi/2, 2*pi],labels=['$\\pi/2$','$\\pi$','$3\\pi/2$','$2\\pi$'])\n",
    "plt.grid()\n",
    "plt.legend()"
   ]
  },
  {
   "cell_type": "markdown",
   "metadata": {},
   "source": [
    "# Question 9 -  subplots"
   ]
  },
  {
   "cell_type": "code",
   "execution_count": 122,
   "metadata": {},
   "outputs": [
    {
     "data": {
      "image/png": "[encoded data removed]",
      "text/plain": [
       "<Figure size 1080x720 with 4 Axes>"
      ]
     },
     "metadata": {
      "needs_background": "light"
     },
     "output_type": "display_data"
    }
   ],
   "source": [
    "import numpy as np\n",
    "x = np.linspace(0,15,1000)\n",
    "sin_x = np.sin(x)\n",
    "cos_x = np.cos(x)\n",
    "tan_x = np.tan(x)\n",
    "sec_x = 1/cos_x\n",
    "\n",
    "canvas, axes = plt.subplots(nrows=2, ncols=2, figsize=(15,10))\n",
    "\n",
    "axes[0][0].scatter(x,sin_x,c='r')\n",
    "axes[0][0].set_title('sin(x)')\n",
    "axes[0][0].set_ylim([-2,2])\n",
    "axes[0][0].grid()\n",
    "\n",
    "\n",
    "axes[0][1].scatter(x,cos_x, c ='b')\n",
    "axes[0][1].set_title('cos(x)')\n",
    "axes[0][1].set_ylim([-2,2])\n",
    "axes[0][1].grid()\n",
    "\n",
    "axes[1][0].scatter(x,tan_x,c='k')\n",
    "axes[1][0].set_title('tan(x)')\n",
    "axes[1][0].set_ylim([-2,2])\n",
    "axes[1][0].grid()\n",
    "\n",
    "axes[1][1].scatter(x,sec_x,c='m')\n",
    "axes[1][1].set_title('sec(x)')\n",
    "axes[1][1].set_ylim([-20,20])\n",
    "axes[1][1].grid()\n"
   ]
  },
  {
   "cell_type": "markdown",
   "metadata": {},
   "source": [
    "# Question 10"
   ]
  },
  {
   "cell_type": "code",
   "execution_count": 1,
   "metadata": {},
   "outputs": [
    {
     "name": "stdout",
     "output_type": "stream",
     "text": [
      "x is Positive. \n",
      "\n",
      "0 1 2 3 4 5 6 7 8 9 \n",
      "0 1 2 3 4 5 6 7 8 9 "
     ]
    }
   ],
   "source": [
    "# if-else\n",
    "x = 10\n",
    "if x>0:\n",
    "    print('x is Positive. ')\n",
    "elif x<0 :\n",
    "    print('x is Negative. ')\n",
    "else:\n",
    "    print('x is Zero . ')\n",
    "\n",
    "# for loop\n",
    "print()\n",
    "for i in range(10):\n",
    "    print(i,end=' ')\n",
    "\n",
    "# while loop\n",
    "print()\n",
    "i = 0\n",
    "while i<10:\n",
    "    print(i,end=' ')\n",
    "    i+=1"
   ]
  },
  {
   "cell_type": "markdown",
   "metadata": {},
   "source": [
    "# Question 11 -> vector addition , multiplication..."
   ]
  },
  {
   "cell_type": "code",
   "execution_count": 14,
   "metadata": {},
   "outputs": [
    {
     "name": "stdout",
     "output_type": "stream",
     "text": [
      "[[1 3 5 7]\n",
      " [2 4 6 8]]\n",
      "\n",
      "[[ 2  3]\n",
      " [ 5  6]\n",
      " [ 8  9]\n",
      " [11 12]]\n",
      "\n",
      "[[ 0 -1]\n",
      " [-1 -2]\n",
      " [-2 -3]\n",
      " [-3 -4]]\n",
      "\n",
      "[[ 1  2]\n",
      " [ 6  8]\n",
      " [15 18]\n",
      " [28 32]]\n",
      "\n"
     ]
    }
   ],
   "source": [
    "# in numpy language vectorizaion is called Broadcasting->expanding over rows if element are less in one array\n",
    "import numpy as np\n",
    "arr = np.array([[1],[2],[3],[4]])\n",
    "mat = np.array([[1,2],[3,4],[5,6],[7,8]])\n",
    "\n",
    "# transpose of mat\n",
    "print(mat.T)\n",
    "print()\n",
    "\n",
    "# adding\n",
    "print(arr + mat)\n",
    "print()\n",
    "\n",
    "# subtacting\n",
    "print(arr-mat)\n",
    "print()\n",
    "\n",
    "# element wise multiplication -> scalar product\n",
    "print(arr*mat)\n",
    "print()"
   ]
  },
  {
   "cell_type": "markdown",
   "metadata": {},
   "source": [
    "# Question 12 -> sklearn - linear Regression on univariate housing dataset(with area and price, using dataset housing_price.txt in same folder)"
   ]
  },
  {
   "cell_type": "code",
   "execution_count": 61,
   "metadata": {},
   "outputs": [
    {
     "name": "stdout",
     "output_type": "stream",
     "text": [
      "   size  na   price\n",
      "0  2104   3  399900\n",
      "1  1600   3  329900\n",
      "2  2400   3  369000\n",
      "3  1416   2  232000\n",
      "4  3000   4  539900\n",
      "(47,)\n",
      "(47,)\n"
     ]
    }
   ],
   "source": [
    "# data loading\n",
    "import numpy as np\n",
    "import pandas as pd\n",
    "\n",
    "df = pd.read_csv('housing_price.txt')\n",
    "print(df.head())\n",
    "\n",
    "# we need only size and prize\n",
    "X = df['size'].values\n",
    "Y = df['price'].values # converting df into numpy array\n",
    "print(X.shape) # 47 examples\n",
    "print(Y.shape) # 47 examples"
   ]
  },
  {
   "cell_type": "code",
   "execution_count": 62,
   "metadata": {},
   "outputs": [],
   "source": [
    "# preprocessing of data\n",
    "X = (X - np.mean(X))/np.std(X)\n",
    "Y = (Y - np.mean(Y))/np.std(Y)"
   ]
  },
  {
   "cell_type": "code",
   "execution_count": 63,
   "metadata": {},
   "outputs": [],
   "source": [
    "# spliting into training and testing\n",
    "from sklearn.model_selection import train_test_split"
   ]
  },
  {
   "cell_type": "code",
   "execution_count": 64,
   "metadata": {},
   "outputs": [],
   "source": [
    "X_train,X_test, Y_train, Y_test = train_test_split(X,Y,test_size = 0.2,random_state = 123)\n",
    "from sklearn.linear_model import LinearRegression"
   ]
  },
  {
   "cell_type": "code",
   "execution_count": 65,
   "metadata": {},
   "outputs": [],
   "source": [
    "model_obj = LinearRegression(normalize = True)"
   ]
  },
  {
   "cell_type": "code",
   "execution_count": 66,
   "metadata": {},
   "outputs": [
    {
     "data": {
      "text/plain": [
       "LinearRegression(copy_X=True, fit_intercept=True, n_jobs=None, normalize=True)"
      ]
     },
     "execution_count": 66,
     "metadata": {},
     "output_type": "execute_result"
    }
   ],
   "source": [
    "model_obj.fit(X_train.reshape(-1,1),Y_train)"
   ]
  },
  {
   "cell_type": "code",
   "execution_count": 67,
   "metadata": {},
   "outputs": [
    {
     "data": {
      "text/plain": [
       "array([0.85360009])"
      ]
     },
     "execution_count": 67,
     "metadata": {},
     "output_type": "execute_result"
    }
   ],
   "source": [
    "slope = model_obj.coef_\n",
    "slope"
   ]
  },
  {
   "cell_type": "code",
   "execution_count": 68,
   "metadata": {},
   "outputs": [
    {
     "data": {
      "text/plain": [
       "0.0276506966377104"
      ]
     },
     "execution_count": 68,
     "metadata": {},
     "output_type": "execute_result"
    }
   ],
   "source": [
    "bias = model_obj.intercept_\n",
    "bias"
   ]
  },
  {
   "cell_type": "code",
   "execution_count": 69,
   "metadata": {},
   "outputs": [
    {
     "data": {
      "text/plain": [
       "<matplotlib.legend.Legend at 0x13ec86f0>"
      ]
     },
     "execution_count": 69,
     "metadata": {},
     "output_type": "execute_result"
    },
    {
     "data": {
      "image/png": "[encoded data removed]",
      "text/plain": [
       "<Figure size 432x288 with 1 Axes>"
      ]
     },
     "metadata": {
      "needs_background": "light"
     },
     "output_type": "display_data"
    }
   ],
   "source": [
    "%matplotlib inline\n",
    "import matplotlib.pyplot as plt\n",
    "plt.scatter(X_train,Y_train,label = 'Data Points')\n",
    "plt.xlabel('Area of House')\n",
    "plt.ylabel('Price of House')\n",
    "plt.title('Training data and prediction line')\n",
    "plt.plot(X_train, bias + slope*X_train, 'r', label = 'Predicted Line')\n",
    "plt.legend()"
   ]
  },
  {
   "cell_type": "code",
   "execution_count": 70,
   "metadata": {},
   "outputs": [
    {
     "data": {
      "text/plain": [
       "array([-0.64623822,  0.02691148, -1.21950118,  0.6881182 , -0.84166877,\n",
       "       -1.05881384,  0.64251773, -0.03823204,  0.0106256 , -0.40737865])"
      ]
     },
     "execution_count": 70,
     "metadata": {},
     "output_type": "execute_result"
    }
   ],
   "source": [
    "# predcition on test data\n",
    "Y_pred = model_obj.predict(X_test.reshape(-1,1))\n",
    "Y_pred"
   ]
  },
  {
   "cell_type": "code",
   "execution_count": 71,
   "metadata": {},
   "outputs": [
    {
     "data": {
      "text/plain": [
       "array([-1.03807621,  0.05325146, -1.29756968,  1.29007331, -0.33477616,\n",
       "       -1.37840876, -0.21351753, -0.81173485, -0.32750064, -0.08498338])"
      ]
     },
     "execution_count": 71,
     "metadata": {},
     "output_type": "execute_result"
    }
   ],
   "source": [
    "Y_test"
   ]
  },
  {
   "cell_type": "code",
   "execution_count": 72,
   "metadata": {},
   "outputs": [],
   "source": [
    "# accuracy\n",
    "from sklearn.metrics import r2_score"
   ]
  },
  {
   "cell_type": "code",
   "execution_count": 73,
   "metadata": {},
   "outputs": [
    {
     "data": {
      "text/plain": [
       "0.561392861428643"
      ]
     },
     "execution_count": 73,
     "metadata": {},
     "output_type": "execute_result"
    }
   ],
   "source": [
    "r2_score(Y_test,Y_pred) # 56 % accuracy"
   ]
  },
  {
   "cell_type": "markdown",
   "metadata": {},
   "source": [
    "# Question 13 -> multiple Linear Regression(sklearn implementation with sklearn boston dataset)"
   ]
  },
  {
   "cell_type": "code",
   "execution_count": 28,
   "metadata": {},
   "outputs": [],
   "source": [
    "from sklearn.datasets import load_boston\n",
    "from sklearn.linear_model import LinearRegression\n",
    "from sklearn.model_selection import train_test_split"
   ]
  },
  {
   "cell_type": "code",
   "execution_count": 29,
   "metadata": {},
   "outputs": [],
   "source": [
    "boston = load_boston()\n",
    "X = boston['data'] \n",
    "Y = boston['target']"
   ]
  },
  {
   "cell_type": "code",
   "execution_count": 30,
   "metadata": {},
   "outputs": [],
   "source": [
    "# preprocessing\n",
    "from sklearn.preprocessing import StandardScaler\n",
    "s = StandardScaler()\n",
    "X = s.fit_transform(X)\n",
    "Y = s.fit_transform(Y.reshape(-1,1))"
   ]
  },
  {
   "cell_type": "code",
   "execution_count": 31,
   "metadata": {},
   "outputs": [
    {
     "data": {
      "text/plain": [
       "(506, 13)"
      ]
     },
     "execution_count": 31,
     "metadata": {},
     "output_type": "execute_result"
    }
   ],
   "source": [
    "X.shape # have 13 features "
   ]
  },
  {
   "cell_type": "code",
   "execution_count": 32,
   "metadata": {},
   "outputs": [
    {
     "data": {
      "text/plain": [
       "(506, 1)"
      ]
     },
     "execution_count": 32,
     "metadata": {},
     "output_type": "execute_result"
    }
   ],
   "source": [
    "Y.shape"
   ]
  },
  {
   "cell_type": "code",
   "execution_count": 33,
   "metadata": {},
   "outputs": [],
   "source": [
    "X_train,X_test, Y_train, Y_test = train_test_split(X,Y,test_size = 0.33,random_state = 123)"
   ]
  },
  {
   "cell_type": "code",
   "execution_count": 34,
   "metadata": {},
   "outputs": [
    {
     "data": {
      "text/plain": [
       "((339, 13), (339, 1))"
      ]
     },
     "execution_count": 34,
     "metadata": {},
     "output_type": "execute_result"
    }
   ],
   "source": [
    "X_train.shape,Y_train.shape"
   ]
  },
  {
   "cell_type": "code",
   "execution_count": 35,
   "metadata": {},
   "outputs": [
    {
     "data": {
      "text/plain": [
       "((167, 13), (167, 1))"
      ]
     },
     "execution_count": 35,
     "metadata": {},
     "output_type": "execute_result"
    }
   ],
   "source": [
    "X_test.shape,Y_test.shape"
   ]
  },
  {
   "cell_type": "code",
   "execution_count": 36,
   "metadata": {},
   "outputs": [],
   "source": [
    "obj = LinearRegression(normalize=True)"
   ]
  },
  {
   "cell_type": "code",
   "execution_count": 37,
   "metadata": {},
   "outputs": [
    {
     "data": {
      "text/plain": [
       "LinearRegression(copy_X=True, fit_intercept=True, n_jobs=None, normalize=True)"
      ]
     },
     "execution_count": 37,
     "metadata": {},
     "output_type": "execute_result"
    }
   ],
   "source": [
    "obj.fit(X_train,Y_train)"
   ]
  },
  {
   "cell_type": "code",
   "execution_count": 38,
   "metadata": {},
   "outputs": [
    {
     "data": {
      "text/plain": [
       "array([[-0.09557892,  0.07736672,  0.07390205,  0.00373295, -0.15155006,\n",
       "         0.38547395, -0.02143253, -0.26614135,  0.2646134 , -0.23343428,\n",
       "        -0.2175717 ,  0.09480911, -0.3920073 ]])"
      ]
     },
     "execution_count": 38,
     "metadata": {},
     "output_type": "execute_result"
    }
   ],
   "source": [
    "slopes = obj.coef_\n",
    "slopes"
   ]
  },
  {
   "cell_type": "code",
   "execution_count": 39,
   "metadata": {},
   "outputs": [
    {
     "data": {
      "text/plain": [
       "array([-0.00119908])"
      ]
     },
     "execution_count": 39,
     "metadata": {},
     "output_type": "execute_result"
    }
   ],
   "source": [
    "bias = obj.intercept_\n",
    "bias"
   ]
  },
  {
   "cell_type": "code",
   "execution_count": 40,
   "metadata": {},
   "outputs": [],
   "source": [
    "Y_pred = obj.predict(X_test)"
   ]
  },
  {
   "cell_type": "code",
   "execution_count": 41,
   "metadata": {},
   "outputs": [],
   "source": [
    "from sklearn.metrics import r2_score"
   ]
  },
  {
   "cell_type": "code",
   "execution_count": 42,
   "metadata": {},
   "outputs": [
    {
     "data": {
      "text/plain": [
       "0.6519355846296857"
      ]
     },
     "execution_count": 42,
     "metadata": {},
     "output_type": "execute_result"
    }
   ],
   "source": [
    "r2_score(Y_test,Y_pred) # 65 % accuracy"
   ]
  },
  {
   "cell_type": "markdown",
   "metadata": {},
   "source": [
    "# Question 14 -> logistic Regression"
   ]
  },
  {
   "cell_type": "code",
   "execution_count": null,
   "metadata": {},
   "outputs": [],
   "source": []
  },
  {
   "cell_type": "code",
   "execution_count": null,
   "metadata": {},
   "outputs": [],
   "source": []
  },
  {
   "cell_type": "code",
   "execution_count": null,
   "metadata": {},
   "outputs": [],
   "source": []
  },
  {
   "cell_type": "code",
   "execution_count": null,
   "metadata": {},
   "outputs": [],
   "source": []
  },
  {
   "cell_type": "code",
   "execution_count": null,
   "metadata": {},
   "outputs": [],
   "source": []
  },
  {
   "cell_type": "markdown",
   "metadata": {},
   "source": [
    "# Question 15"
   ]
  },
  {
   "cell_type": "code",
   "execution_count": null,
   "metadata": {},
   "outputs": [],
   "source": []
  },
  {
   "cell_type": "code",
   "execution_count": null,
   "metadata": {},
   "outputs": [],
   "source": []
  },
  {
   "cell_type": "code",
   "execution_count": null,
   "metadata": {},
   "outputs": [],
   "source": []
  },
  {
   "cell_type": "code",
   "execution_count": null,
   "metadata": {},
   "outputs": [],
   "source": []
  },
  {
   "cell_type": "code",
   "execution_count": null,
   "metadata": {},
   "outputs": [],
   "source": []
  },
  {
   "cell_type": "markdown",
   "metadata": {},
   "source": [
    "# Queston 16"
   ]
  },
  {
   "cell_type": "code",
   "execution_count": null,
   "metadata": {},
   "outputs": [],
   "source": []
  },
  {
   "cell_type": "code",
   "execution_count": null,
   "metadata": {},
   "outputs": [],
   "source": []
  },
  {
   "cell_type": "code",
   "execution_count": null,
   "metadata": {},
   "outputs": [],
   "source": []
  }
 ],
 "metadata": {
  "kernelspec": {
   "display_name": "Python 3",
   "language": "python",
   "name": "python3"
  },
  "language_info": {
   "codemirror_mode": {
    "name": "ipython",
    "version": 3
   },
   "file_extension": ".py",
   "mimetype": "text/x-python",
   "name": "python",
   "nbconvert_exporter": "python",
   "pygments_lexer": "ipython3",
   "version": "3.7.1"
  }
 },
 "nbformat": 4,
 "nbformat_minor": 2
}
