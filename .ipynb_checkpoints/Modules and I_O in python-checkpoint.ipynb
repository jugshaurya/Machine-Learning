{
 "cells": [
  {
   "cell_type": "markdown",
   "metadata": {},
   "source": [
    "# Modules in Python\n",
    "\n",
    "\n",
    "\n",
    "![](images/python_modules.jpg)"
   ]
  },
  {
   "cell_type": "markdown",
   "metadata": {},
   "source": [
    "    A module allows you to logically organize your Python code. Grouping related code into a module makes the code easier to understand and use. A module is a Python object with arbitrarily named attributes that you can bind and reference.\n",
    "\n",
    "    Simply, a module is a file consisting of Python code. A module can define functions, classes and variables. A module can also include runnable code."
   ]
  },
  {
   "cell_type": "markdown",
   "metadata": {},
   "source": [
    "# Library "
   ]
  },
  {
   "cell_type": "markdown",
   "metadata": {},
   "source": [
    "    Collection of Modules is Library.\n",
    "    Every folder or subfolder must have a __init__.py file this may be an empty file."
   ]
  },
  {
   "cell_type": "markdown",
   "metadata": {},
   "source": [
    "various modules are \n",
    "- math\n",
    "- sys\n",
    "- random\n",
    "\n",
    "\n",
    "    we require to import the required module in our script.\n",
    "\n"
   ]
  },
  {
   "cell_type": "markdown",
   "metadata": {},
   "source": [
    "# Ways to import modules/libraries\n",
    "\n",
    "1. **import math**\n",
    "\n",
    "        (here i need to use math.func())\n",
    "    \n",
    "\n",
    "2. **import math as m**\n",
    "\n",
    "        (here i need to use  m.func())\n",
    "\n",
    "3. **from math import pi** \n",
    "\n",
    "         To import some particular thing from module(now i can use pi directly)\n",
    "    \n",
    "    \n",
    "4. from math import *\n",
    "        \n",
    "        (it import every thing of math module)\n",
    "    "
   ]
  },
  {
   "cell_type": "code",
   "execution_count": 1,
   "metadata": {},
   "outputs": [],
   "source": [
    "import random"
   ]
  },
  {
   "cell_type": "code",
   "execution_count": 4,
   "metadata": {},
   "outputs": [],
   "source": [
    "import math"
   ]
  },
  {
   "cell_type": "code",
   "execution_count": 27,
   "metadata": {},
   "outputs": [
    {
     "data": {
      "text/plain": [
       "3.141592653589793"
      ]
     },
     "execution_count": 27,
     "metadata": {},
     "output_type": "execute_result"
    }
   ],
   "source": [
    "math.pi"
   ]
  },
  {
   "cell_type": "code",
   "execution_count": 28,
   "metadata": {},
   "outputs": [
    {
     "data": {
      "text/plain": [
       "2.718281828459045"
      ]
     },
     "execution_count": 28,
     "metadata": {},
     "output_type": "execute_result"
    }
   ],
   "source": [
    "math.e"
   ]
  },
  {
   "cell_type": "code",
   "execution_count": 29,
   "metadata": {},
   "outputs": [
    {
     "data": {
      "text/plain": [
       "6.283185307179586"
      ]
     },
     "execution_count": 29,
     "metadata": {},
     "output_type": "execute_result"
    }
   ],
   "source": [
    "math.tau"
   ]
  },
  {
   "cell_type": "code",
   "execution_count": 30,
   "metadata": {},
   "outputs": [
    {
     "data": {
      "text/plain": [
       "inf"
      ]
     },
     "execution_count": 30,
     "metadata": {},
     "output_type": "execute_result"
    }
   ],
   "source": [
    "math.inf"
   ]
  },
  {
   "cell_type": "code",
   "execution_count": 31,
   "metadata": {},
   "outputs": [
    {
     "data": {
      "text/plain": [
       "-inf"
      ]
     },
     "execution_count": 31,
     "metadata": {},
     "output_type": "execute_result"
    }
   ],
   "source": [
    "-math.inf"
   ]
  },
  {
   "cell_type": "code",
   "execution_count": 32,
   "metadata": {},
   "outputs": [
    {
     "data": {
      "text/plain": [
       "nan"
      ]
     },
     "execution_count": 32,
     "metadata": {},
     "output_type": "execute_result"
    }
   ],
   "source": [
    "math.nan"
   ]
  },
  {
   "cell_type": "code",
   "execution_count": 33,
   "metadata": {},
   "outputs": [],
   "source": [
    "import math as m"
   ]
  },
  {
   "cell_type": "code",
   "execution_count": 34,
   "metadata": {},
   "outputs": [
    {
     "data": {
      "text/plain": [
       "3.141592653589793"
      ]
     },
     "execution_count": 34,
     "metadata": {},
     "output_type": "execute_result"
    }
   ],
   "source": [
    "m.pi"
   ]
  },
  {
   "cell_type": "code",
   "execution_count": 35,
   "metadata": {},
   "outputs": [],
   "source": [
    "from math import *"
   ]
  },
  {
   "cell_type": "code",
   "execution_count": 36,
   "metadata": {},
   "outputs": [
    {
     "data": {
      "text/plain": [
       "3.141592653589793"
      ]
     },
     "execution_count": 36,
     "metadata": {},
     "output_type": "execute_result"
    }
   ],
   "source": [
    "pi"
   ]
  },
  {
   "cell_type": "code",
   "execution_count": 37,
   "metadata": {},
   "outputs": [
    {
     "data": {
      "text/plain": [
       "6.283185307179586"
      ]
     },
     "execution_count": 37,
     "metadata": {},
     "output_type": "execute_result"
    }
   ],
   "source": [
    "tau"
   ]
  },
  {
   "cell_type": "code",
   "execution_count": 38,
   "metadata": {},
   "outputs": [
    {
     "data": {
      "text/plain": [
       "2.718281828459045"
      ]
     },
     "execution_count": 38,
     "metadata": {},
     "output_type": "execute_result"
    }
   ],
   "source": [
    "e"
   ]
  },
  {
   "cell_type": "code",
   "execution_count": 39,
   "metadata": {},
   "outputs": [
    {
     "data": {
      "text/plain": [
       "1.0"
      ]
     },
     "execution_count": 39,
     "metadata": {},
     "output_type": "execute_result"
    }
   ],
   "source": [
    "log(e)"
   ]
  },
  {
   "cell_type": "code",
   "execution_count": 40,
   "metadata": {},
   "outputs": [],
   "source": [
    "from math import pi"
   ]
  },
  {
   "cell_type": "code",
   "execution_count": 41,
   "metadata": {},
   "outputs": [
    {
     "data": {
      "text/plain": [
       "3.141592653589793"
      ]
     },
     "execution_count": 41,
     "metadata": {},
     "output_type": "execute_result"
    }
   ],
   "source": [
    "pi"
   ]
  },
  {
   "cell_type": "markdown",
   "metadata": {},
   "source": [
    "# Command Line Arguments\n",
    "\n",
    "- use sys module and use its argv variable\n",
    "\n",
    "        It returns a list of string with argv[0] being name of file, argv[1] onwards what u passed on as arguments seperated by whitespace.\n"
   ]
  },
  {
   "cell_type": "code",
   "execution_count": 1,
   "metadata": {},
   "outputs": [],
   "source": [
    "from sys import argv\n"
   ]
  },
  {
   "cell_type": "code",
   "execution_count": 3,
   "metadata": {},
   "outputs": [
    {
     "name": "stdout",
     "output_type": "stream",
     "text": [
      "c:\\users\\shaurya singhal\\appdata\\local\\programs\\python\\python37-32\\lib\\site-packages\\ipykernel_launcher.py\n"
     ]
    }
   ],
   "source": [
    "print(argv[0])"
   ]
  },
  {
   "cell_type": "code",
   "execution_count": null,
   "metadata": {},
   "outputs": [],
   "source": []
  },
  {
   "cell_type": "code",
   "execution_count": null,
   "metadata": {},
   "outputs": [],
   "source": []
  },
  {
   "cell_type": "markdown",
   "metadata": {},
   "source": [
    "![IO](images/IO.jpg)"
   ]
  },
  {
   "cell_type": "markdown",
   "metadata": {},
   "source": [
    "# Ways to read Input(input()) and print Output(print())"
   ]
  },
  {
   "cell_type": "markdown",
   "metadata": {},
   "source": [
    "## input()\n",
    "\n",
    "        1. input(\"Enter the name\")\n",
    "        ** return value is always of string type **\n",
    "        \n",
    "        2. take multiple inputs at once \n",
    "        ** type the values using space and then use split() function to seperate values acc. to spacebar\n",
    "    \n",
    "   \n",
    "## print()   \n",
    "- 1.  print(*args,sep=' ', end='\\n')\n",
    "- 2.  print function with format\n",
    "\n",
    "```python\n",
    "    a,b = 2314,2435\n",
    "    example \n",
    "        a. print(\"the values are {}, {}\".format(a,b))\n",
    "        {}--> this is a replacement operator\n",
    "        we can pass indexes in it as well and ooutput will be according to the indexes.\n",
    "    \n",
    "        b. print(\"the values are {0}, {1}\".format(a,b))\n",
    "        print(\"the values are {1}, {0}\".format(a,b))\n",
    "        print(\"the values are {0}, {0}\".format(a,b))\n",
    "        \n",
    "        or \n",
    "        c. print (\"the vsalues are {x} and {y}\".format(x=first,y=second))        \n",
    "\n",
    "\n",
    "            or \n",
    "    \n",
    "        d. print(f\"The values are {a}, {b}\")\n",
    "    \n",
    "            or\n",
    "        e. print(\"the values are %i and %d \"%(a,b))\n",
    "```\n",
    "\n",
    "- %i,%d --> int\n",
    "- %s-->  str\n",
    "- %f --> float\n",
    "\n",
    "\n",
    "\n",
    "- Important syntax \n",
    "\n",
    "        a, b = [int(x) for x in input(\"enter numbers: \").split()]"
   ]
  },
  {
   "cell_type": "code",
   "execution_count": null,
   "metadata": {},
   "outputs": [],
   "source": []
  },
  {
   "cell_type": "code",
   "execution_count": null,
   "metadata": {},
   "outputs": [],
   "source": []
  },
  {
   "cell_type": "markdown",
   "metadata": {},
   "source": [
    "# String Formatting\n",
    "\n",
    "----\n",
    "String formatting lets you inject items into a string rather than trying to chain items together using commas or string concatenation. As a quick comparison, consider:\n",
    "\n",
    "```python\n",
    "f'Last night, {player} scored {points} points.'  # string formatting\n",
    "```\n",
    "There are three ways to perform string formatting.\n",
    "\n",
    "- The oldest method involves placeholders using the modulo % character.\n",
    "- An improved technique uses the .format() string method.\n",
    "- The newest method, introduced with Python 3.6, uses formatted string literals, called f-strings.\n",
    "\n",
    "\n",
    "Since you will likely encounter all three versions in someone else's code, we describe each of them here.\n",
    "\n",
    "### Formatting with placeholders\n",
    "----\n",
    "You can use %s to inject strings into your print statements. The modulo % is referred to as a \"string formatting operator\".\n",
    "\n",
    "```python\n",
    "- print(\"I'm going to inject %s here.\" %'something')\n",
    "I'm going to inject something here.\n",
    "\n",
    "- print(\"I'm going to inject %s text here, and %s text here.\" %('some','more'))\n",
    "I'm going to inject some text here, and more text here.\n",
    "```\n",
    "\n",
    "- The %s operator converts whatever it sees into a string, including integers and floats. The %d operator converts numbers to integers first, without rounding. Note the difference below:\n",
    "\n",
    "```python\n",
    "    print('I wrote %s programs today.' %3.75)\n",
    "    print('I wrote %d programs today.' %3.75)   \n",
    "    I wrote 3.75 programs today.\n",
    "    I wrote 3 programs today.\n",
    "```\n",
    "\n",
    "### Padding and Precision of Floating Point Numbers\n",
    "----\n",
    "   #### Floating point numbers use the format %5.2f.\n",
    "   -  Here, 5 would be the minimum number of characters the string should contain; these may be padded with whitespace if the entire number does not have this many digits.\n",
    "   - Next to this, .2f stands for how many numbers to show past the decimal point. \n",
    "   \n",
    "###### Let's see some examples:\n",
    "\n",
    "```python\n",
    "    print('Floating point numbers: %5.2f' %(13.144))\n",
    "    Floating point numbers: 13.14\n",
    "\n",
    "    print('Floating point numbers: %1.0f' %(13.144))\n",
    "    Floating point numbers: 13\n",
    "\n",
    "    print('Floating point numbers: %1.5f' %(13.144))\n",
    "    Floating point numbers: 13.14400\n",
    "\n",
    "    print('Floating point numbers: %10.2f' %(13.144))\n",
    "    Floating point numbers:      13.14\n",
    "\n",
    "    print('Floating point numbers: %25.2f' %(13.144))\n",
    "    Floating point numbers:                     13.14\n",
    "    ```\n",
    "\n",
    "## Multiple Formatting at Once\n",
    "\n",
    " Nothing prohibits using more than one conversion tool in the same print statement:\n",
    "\n",
    "```python\n",
    "print('First: %s, Second: %5.2f, Third: %s' %('hi!',3.1415,'bye!'))\n",
    "First: hi!, Second:  3.14, Third: bye!\n",
    "```\n",
    "   \n",
    "## The .format() method has several advantages over the %s placeholder method:\n",
    "\n",
    "\n",
    "1. Inserted objects can be called by index position:\n",
    "```python\n",
    "print('The {2} {1} {0}'.format('fox','brown','quick'))\n",
    "The quick brown fox\n",
    "```\n",
    "    \n",
    "2. Inserted objects can be assigned keywords:\n",
    "```python\n",
    "    print('First Object: {a}, Second Object: {b}, Third Object: {c}'.format(a=1,b='Two',c=12.3))\n",
    "    First Object: 1, Second Object: Two, Third Object: 12.3\n",
    "```\n",
    "\n",
    "                \n",
    "3. Inserted objects can be reused, avoiding duplication:\n",
    "```python\n",
    "    print('A %s saved is a %s earned.' %('penny','penny'))\n",
    "   or\n",
    "    print('A {p} saved is a {p} earned.'.format(p='penny'))\n",
    "    A penny saved is a penny earned.\n",
    "    A penny saved is a penny earned.\n",
    "```\n",
    "\n",
    "\n",
    "##  Alignment, padding and precision with .format()\n",
    "`Within the curly braces you can assign field lengths, left/right alignments, rounding parameters and more`\n",
    "\n",
    "```python\n",
    "print('{0:8} | {1:9}'.format('Fruit', 'Quantity'))\n",
    "print('{0:8} | {1:9}'.format('Apples', 3.))\n",
    "print('{0:8} | {1:9}'.format('Oranges', 10))\n",
    "\n",
    "Fruit    | Quantity \n",
    "Apples   |       3.0\n",
    "Oranges  |        10\n",
    "```\n",
    "`By default, .format() aligns text to the left, numbers to the right. You can pass an optional <,^, or > to set a left, center or right alignment:`\n",
    "\n",
    "```python\n",
    "print('{0:<8} | {1:^8} | {2:>8}'.format('Left','Center','Right'))\n",
    "print('{0:<8} | {1:^8} | {2:>8}'.format(11,22,33))\n",
    "\n",
    "Left     |  Center  |    Right\n",
    "11       |    22    |       33\n",
    "```   \n",
    "`You can precede the aligment operator with a padding character` \n",
    "\n",
    "```python\n",
    "print('{0:=<8} | {1:-^8} | {2:.>8}'.format('Left','Center','Right'))\n",
    "print('{0:=<8} | {1:-^8} | {2:.>8}'.format(11,22,33))\n",
    "Left==== | -Center- | ...Right\n",
    "11====== | ---22--- | ......33\n",
    "```   \n",
    "\n",
    "`Field widths and float precision are handled in a way similar to placeholders. The following two print statements are equivalent:`\n",
    "\n",
    "```python\n",
    "print('This is my ten-character, two-decimal number:%10.2f' %13.579)\n",
    "print('This is my ten-character, two-decimal number:{0:10.2f}'.format(13.579))\n",
    "\n",
    "This is my ten-character, two-decimal number:     13.58\n",
    "This is my ten-character, two-decimal number:     13.58\n",
    " ```\n",
    "\n",
    "\n",
    "#### Formatted String Literals (f-strings)\n",
    "Introduced in Python 3.6, f-strings offer several benefits over the older .format() string method described above. For one, you can bring outside variables immediately into to the string rather than pass them as arguments through .format(var).\n",
    "\n",
    "`Where with the .format() method you might see {value:10.4f}, with f-strings this can become {value:{10}.{6}}`\n",
    "\n",
    "```python\n",
    "num = 23.45678\n",
    "print(\"My 10 character, four decimal number is:{0:10.4f}\".format(num))\n",
    "print(f\"My 10 character, four decimal number is: {num:{10}.{6}}\")\n",
    "\n",
    "My 10 character, four decimal number is:   23.4568\n",
    "My 10 character, four decimal number is:   23.4568\n",
    "```\n",
    "Note that with f-strings, precision refers to the total number of digits, not just those following the decimal. This fits more closely with scientific notation and statistical analysis. Unfortunately, f-strings do not pad to the right of the decimal, even if precision allows it:\n",
    "\n",
    "\n",
    "or\n",
    "**use .format like things to get same results like it in f-strig format**\n",
    "like \n",
    "```python\n",
    "\n",
    "num = 23.45678\n",
    "print(\"My 10 character, four decimal number is:{0:10.4f}\".format(num))\n",
    "print(f\"My 10 character, four decimal number is:{num:10.4f}\")\n",
    "\n",
    "```\n",
    "\n",
    "\n",
    "\n",
    "##### best format is .format()"
   ]
  },
  {
   "cell_type": "code",
   "execution_count": 46,
   "metadata": {},
   "outputs": [
    {
     "name": "stdout",
     "output_type": "stream",
     "text": [
      "Enter the name shaurya\n",
      "shaurya\n"
     ]
    }
   ],
   "source": [
    "name = input(\"Enter the name \")\n",
    "print(name)"
   ]
  },
  {
   "cell_type": "code",
   "execution_count": 47,
   "metadata": {},
   "outputs": [
    {
     "name": "stdout",
     "output_type": "stream",
     "text": [
      "enter a number23\n"
     ]
    },
    {
     "ename": "TypeError",
     "evalue": "can only concatenate str (not \"int\") to str",
     "output_type": "error",
     "traceback": [
      "\u001b[1;31m---------------------------------------------------------------------------\u001b[0m",
      "\u001b[1;31mTypeError\u001b[0m                                 Traceback (most recent call last)",
      "\u001b[1;32m<ipython-input-47-265c39962f48>\u001b[0m in \u001b[0;36m<module>\u001b[1;34m\u001b[0m\n\u001b[0;32m      1\u001b[0m \u001b[0mnumber\u001b[0m \u001b[1;33m=\u001b[0m \u001b[0minput\u001b[0m\u001b[1;33m(\u001b[0m\u001b[1;34m\"enter a number\"\u001b[0m\u001b[1;33m)\u001b[0m\u001b[1;33m\u001b[0m\u001b[1;33m\u001b[0m\u001b[0m\n\u001b[1;32m----> 2\u001b[1;33m \u001b[0mprint\u001b[0m\u001b[1;33m(\u001b[0m\u001b[0mnumber\u001b[0m \u001b[1;33m+\u001b[0m \u001b[1;36m3\u001b[0m\u001b[1;33m)\u001b[0m\u001b[1;33m\u001b[0m\u001b[1;33m\u001b[0m\u001b[0m\n\u001b[0m",
      "\u001b[1;31mTypeError\u001b[0m: can only concatenate str (not \"int\") to str"
     ]
    }
   ],
   "source": [
    "number = input(\"enter a number\")\n",
    "print(number + 3)"
   ]
  },
  {
   "cell_type": "code",
   "execution_count": 1,
   "metadata": {},
   "outputs": [
    {
     "name": "stdout",
     "output_type": "stream",
     "text": [
      " enter a number 23\n",
      "26\n"
     ]
    }
   ],
   "source": [
    "number = int(input(\" enter a number \"))\n",
    "print(number + 3)"
   ]
  },
  {
   "cell_type": "code",
   "execution_count": 5,
   "metadata": {},
   "outputs": [
    {
     "name": "stdout",
     "output_type": "stream",
     "text": [
      "enter anything 236457\n",
      "<class 'str'>\n"
     ]
    }
   ],
   "source": [
    "name = input(\"enter anything \")\n",
    "print(type(name))"
   ]
  },
  {
   "cell_type": "code",
   "execution_count": 7,
   "metadata": {},
   "outputs": [
    {
     "name": "stdout",
     "output_type": "stream",
     "text": [
      "enter first number: 214\n",
      "enter second number :234\n",
      "the sum is 448\n"
     ]
    }
   ],
   "source": [
    "print(\"the sum is\", int(input(\"enter first number: \")) + int(input(\"enter second number :\"))  )"
   ]
  },
  {
   "cell_type": "code",
   "execution_count": 16,
   "metadata": {},
   "outputs": [
    {
     "name": "stdout",
     "output_type": "stream",
     "text": [
      "enter numbers: 23 352 346 346\n",
      "<class 'list'>\n",
      "['23', '352', '346', '346']\n"
     ]
    }
   ],
   "source": [
    "values = input(\"enter numbers: \").split()\n",
    "print(type(values))\n",
    "print(values)"
   ]
  },
  {
   "cell_type": "code",
   "execution_count": 38,
   "metadata": {},
   "outputs": [
    {
     "name": "stdout",
     "output_type": "stream",
     "text": [
      "enter numbers: 23 24\n",
      "23\n",
      "<class 'str'>\n",
      "24\n",
      "<class 'str'>\n"
     ]
    }
   ],
   "source": [
    "a, b = [x for x in input(\"enter numbers: \").split()]\n",
    "print(a)\n",
    "print(type(a))\n",
    "print(b)\n",
    "print(type(b))\n"
   ]
  },
  {
   "cell_type": "code",
   "execution_count": 39,
   "metadata": {},
   "outputs": [
    {
     "name": "stdout",
     "output_type": "stream",
     "text": [
      "enter numbers: 23 52\n",
      "23\n",
      "<class 'int'>\n",
      "52\n",
      "<class 'int'>\n"
     ]
    }
   ],
   "source": [
    "a, b = [int(x) for x in input(\"enter numbers: \").split()]\n",
    "print(a)\n",
    "print(type(a))\n",
    "print(b)\n",
    "print(type(b))\n"
   ]
  },
  {
   "cell_type": "code",
   "execution_count": 4,
   "metadata": {},
   "outputs": [
    {
     "name": "stdout",
     "output_type": "stream",
     "text": [
      "sa\n",
      "None\n"
     ]
    }
   ],
   "source": [
    "name =  print(\"sa\")\n",
    "print(name)"
   ]
  },
  {
   "cell_type": "code",
   "execution_count": 5,
   "metadata": {},
   "outputs": [
    {
     "name": "stdout",
     "output_type": "stream",
     "text": [
      "asf se ewt\n"
     ]
    }
   ],
   "source": [
    "print(\"asf\",\"se\",\"ewt\")"
   ]
  },
  {
   "cell_type": "code",
   "execution_count": 6,
   "metadata": {},
   "outputs": [
    {
     "name": "stdout",
     "output_type": "stream",
     "text": [
      "asf,se,ewt\n"
     ]
    }
   ],
   "source": [
    "print(\"asf\",\"se\",\"ewt\", sep=',')"
   ]
  },
  {
   "cell_type": "code",
   "execution_count": 7,
   "metadata": {},
   "outputs": [
    {
     "name": "stdout",
     "output_type": "stream",
     "text": [
      "asf:se:ewt asf:se:ewt\n"
     ]
    }
   ],
   "source": [
    "print(\"asf\",\"se\",\"ewt\", sep=':', end =' ')\n",
    "print(\"asf\",\"se\",\"ewt\", sep=':')"
   ]
  },
  {
   "cell_type": "code",
   "execution_count": 8,
   "metadata": {},
   "outputs": [
    {
     "name": "stdout",
     "output_type": "stream",
     "text": [
      "The values are 10, 20\n"
     ]
    }
   ],
   "source": [
    "a,b = 10,20\n",
    "print(\"The values are {}, {}\".format(a,b))"
   ]
  },
  {
   "cell_type": "code",
   "execution_count": 12,
   "metadata": {},
   "outputs": [
    {
     "name": "stdout",
     "output_type": "stream",
     "text": [
      "The values are 1325, 235\n"
     ]
    }
   ],
   "source": [
    "a,b = 1325,235\n",
    "print(f\"The values are {a}, {b}\")"
   ]
  },
  {
   "cell_type": "code",
   "execution_count": 26,
   "metadata": {},
   "outputs": [
    {
     "name": "stdout",
     "output_type": "stream",
     "text": [
      "The values are 214 and 242\n"
     ]
    }
   ],
   "source": [
    "a,b=\"214\",242\n",
    "print(\"The values are %s and %s\"%(a,b)) "
   ]
  },
  {
   "cell_type": "code",
   "execution_count": 29,
   "metadata": {},
   "outputs": [
    {
     "name": "stdout",
     "output_type": "stream",
     "text": [
      "the values are 1324, 1251\n",
      "the values are 1251, 1324\n",
      "the values are 1324, 1324\n",
      "the values are 1251, 1251\n"
     ]
    },
    {
     "ename": "IndexError",
     "evalue": "tuple index out of range",
     "output_type": "error",
     "traceback": [
      "\u001b[1;31m---------------------------------------------------------------------------\u001b[0m",
      "\u001b[1;31mIndexError\u001b[0m                                Traceback (most recent call last)",
      "\u001b[1;32m<ipython-input-29-9b98b8fe9d26>\u001b[0m in \u001b[0;36m<module>\u001b[1;34m\u001b[0m\n\u001b[0;32m      4\u001b[0m \u001b[0mprint\u001b[0m\u001b[1;33m(\u001b[0m\u001b[1;34m\"the values are {0}, {0}\"\u001b[0m\u001b[1;33m.\u001b[0m\u001b[0mformat\u001b[0m\u001b[1;33m(\u001b[0m\u001b[0ma\u001b[0m\u001b[1;33m,\u001b[0m\u001b[0mb\u001b[0m\u001b[1;33m)\u001b[0m\u001b[1;33m)\u001b[0m\u001b[1;33m\u001b[0m\u001b[1;33m\u001b[0m\u001b[0m\n\u001b[0;32m      5\u001b[0m \u001b[0mprint\u001b[0m\u001b[1;33m(\u001b[0m\u001b[1;34m\"the values are {1}, {1}\"\u001b[0m\u001b[1;33m.\u001b[0m\u001b[0mformat\u001b[0m\u001b[1;33m(\u001b[0m\u001b[0ma\u001b[0m\u001b[1;33m,\u001b[0m\u001b[0mb\u001b[0m\u001b[1;33m)\u001b[0m\u001b[1;33m)\u001b[0m\u001b[1;33m\u001b[0m\u001b[1;33m\u001b[0m\u001b[0m\n\u001b[1;32m----> 6\u001b[1;33m \u001b[0mprint\u001b[0m\u001b[1;33m(\u001b[0m\u001b[1;34m\"the values are {0}, {2}\"\u001b[0m\u001b[1;33m.\u001b[0m\u001b[0mformat\u001b[0m\u001b[1;33m(\u001b[0m\u001b[0ma\u001b[0m\u001b[1;33m,\u001b[0m\u001b[0mb\u001b[0m\u001b[1;33m)\u001b[0m\u001b[1;33m)\u001b[0m\u001b[1;33m\u001b[0m\u001b[1;33m\u001b[0m\u001b[0m\n\u001b[0m\u001b[0;32m      7\u001b[0m \u001b[1;33m\u001b[0m\u001b[0m\n",
      "\u001b[1;31mIndexError\u001b[0m: tuple index out of range"
     ]
    }
   ],
   "source": [
    "a,b=1324,1251\n",
    "print(\"the values are {0}, {1}\".format(a,b))\n",
    "print(\"the values are {1}, {0}\".format(a,b))\n",
    "print(\"the values are {0}, {0}\".format(a,b))\n",
    "print(\"the values are {1}, {1}\".format(a,b))\n",
    "print(\"the values are {0}, {2}\".format(a,b))\n",
    "\n"
   ]
  },
  {
   "cell_type": "code",
   "execution_count": 31,
   "metadata": {},
   "outputs": [
    {
     "name": "stdout",
     "output_type": "stream",
     "text": [
      "the vsalues are 24 and 23\n"
     ]
    }
   ],
   "source": [
    "first = 24\n",
    "second = 23\n",
    "print (\"the vsalues are {x} and {y}\".format(x=first,y=second))"
   ]
  },
  {
   "cell_type": "code",
   "execution_count": 5,
   "metadata": {},
   "outputs": [
    {
     "name": "stdout",
     "output_type": "stream",
     "text": [
      "My 10 character, four decimal number is:   23.4568\n",
      "My 10 character, four decimal number is:      23.46\n"
     ]
    }
   ],
   "source": [
    "\n",
    "num = 23.45678\n",
    "print(\"My 10 character, four decimal number is:{0:-10.4f}\".format(num))\n",
    "print(f\"My 10 character, four decimal number is: {num:{10}.{4}}\")\n"
   ]
  },
  {
   "cell_type": "code",
   "execution_count": 3,
   "metadata": {},
   "outputs": [
    {
     "name": "stdout",
     "output_type": "stream",
     "text": [
      "This is my ten-character, two-decimal number:     13.58\n"
     ]
    }
   ],
   "source": [
    "\n",
    "print('This is my ten-character, two-decimal number:%10.2f' %13.579)"
   ]
  }
 ],
 "metadata": {
  "kernelspec": {
   "display_name": "Python 3",
   "language": "python",
   "name": "python3"
  },
  "language_info": {
   "codemirror_mode": {
    "name": "ipython",
    "version": 3
   },
   "file_extension": ".py",
   "mimetype": "text/x-python",
   "name": "python",
   "nbconvert_exporter": "python",
   "pygments_lexer": "ipython3",
   "version": "3.7.1"
  }
 },
 "nbformat": 4,
 "nbformat_minor": 2
}
