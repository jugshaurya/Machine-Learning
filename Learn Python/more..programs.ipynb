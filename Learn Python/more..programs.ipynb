{
 "cells": [
  {
   "cell_type": "markdown",
   "metadata": {},
   "source": [
    "variables"
   ]
  },
  {
   "cell_type": "code",
   "execution_count": 1,
   "metadata": {},
   "outputs": [],
   "source": [
    "a=10\n",
    "b=20"
   ]
  },
  {
   "cell_type": "code",
   "execution_count": 2,
   "metadata": {},
   "outputs": [
    {
     "data": {
      "text/plain": [
       "10"
      ]
     },
     "execution_count": 2,
     "metadata": {},
     "output_type": "execute_result"
    }
   ],
   "source": [
    "a"
   ]
  },
  {
   "cell_type": "code",
   "execution_count": 3,
   "metadata": {},
   "outputs": [
    {
     "data": {
      "text/plain": [
       "20"
      ]
     },
     "execution_count": 3,
     "metadata": {},
     "output_type": "execute_result"
    }
   ],
   "source": [
    "b"
   ]
  },
  {
   "cell_type": "markdown",
   "metadata": {},
   "source": [
    " to see list of variables created"
   ]
  },
  {
   "cell_type": "code",
   "execution_count": 4,
   "metadata": {},
   "outputs": [
    {
     "name": "stdout",
     "output_type": "stream",
     "text": [
      "Variable   Type    Data/Info\n",
      "----------------------------\n",
      "a          int     10\n",
      "b          int     20\n"
     ]
    }
   ],
   "source": [
    "%whos "
   ]
  },
  {
   "cell_type": "markdown",
   "metadata": {},
   "source": [
    "### list vs numpy "
   ]
  },
  {
   "cell_type": "markdown",
   "metadata": {},
   "source": [
    "#### list (data of list is stored randomly in memory hence eacj index of list contains a reference)\n",
    "```python\n",
    "import copy\n",
    "li = [[1,2]]\n",
    "li2 = li # creates a reference, changes both list if one is modified directly\n",
    "li2 = li[:] # creates shallow copy, changes both list if one is modified ,only indirectly means not going into one reference but two\n",
    "li2 = li.copy() # creates shallow copy, changes both list if one is modified indirectly\n",
    "li2 = copy.deepcopy(li) # creates deep copy, does not change anything\n",
    "```"
   ]
  },
  {
   "cell_type": "markdown",
   "metadata": {},
   "source": [
    "#### numpy(data is stored continuoslly in memory hence each index contains data)\n",
    "- when  we access a data in numpy array ,numpy boxes data in python object so even if u access same element two times u got two different boxes( `id(arr[0]) is not equal to id(arr[0])` ), yes it is not a typo.  \n",
    "\n",
    "\n",
    "\n",
    "- The data of Numpy arrays is internally stored as a contiguous C array. Each entry in the array is just a number. Python objects on the other hand require some housekeeping data, e.g. the reference count and a pointer to the type object. You can't simply have a raw pointer to a number in memory. For this reason, Numpy \"boxes\" a number in a Python object if you access an individual elemtent. This happens everytime you access an element, so even A[0] and A[0] are different objects:\n",
    "```python\n",
    "A[0] is A[0]\n",
    "False\n",
    "```\n",
    "- This is at the heart of why Numpy can store arrays in a more memory-efficient way: It does not store a full Python object for each entry, and only creates these objects on the fly when needed. It is optimised for vectorised operations on the array, not for individual element access.\n",
    "\n",
    "- When you execute C = A[:] you are creating a new view for the same data. You are not making a copy. You will then have two different wrapper objects, pointed to by A and C respectively, but they are backed by the same buffer. The base attribute of an array refers to the array object it was originally created from:\n",
    "\n",
    "```python\n",
    " A.base is None\n",
    "True\n",
    ">>> C.base is A\n",
    "True\n",
    "```\n",
    "\n",
    "- New views on the same data are particularly useful when combined with indexing, since you can get views that only include some slice of the original array, but are backed by the same memory.\n",
    "\n",
    "- To actually make a copy of an array, use the copy() method.\n",
    "\n",
    "- As a more general remark, you should not read too much into object identity in Python. In general, if x is y is true, you know that they are really the same object. However, if this returns false, they can still be two different proxies to the same object.\n",
    "\n",
    "so \n",
    "```python\n",
    "- arr = np.array([[1,2]])\n",
    "- arr1 = arr # same as list, changes directly\n",
    "- arr1 = arr[:] or arr.view() # changes directly\n",
    "- arr1 = arr.copy() # creates a deep copy, no change\n",
    "```"
   ]
  },
  {
   "cell_type": "code",
   "execution_count": null,
   "metadata": {},
   "outputs": [],
   "source": []
  }
 ],
 "metadata": {
  "kernelspec": {
   "display_name": "Python 3",
   "language": "python",
   "name": "python3"
  },
  "language_info": {
   "codemirror_mode": {
    "name": "ipython",
    "version": 3
   },
   "file_extension": ".py",
   "mimetype": "text/x-python",
   "name": "python",
   "nbconvert_exporter": "python",
   "pygments_lexer": "ipython3",
   "version": "3.7.1"
  }
 },
 "nbformat": 4,
 "nbformat_minor": 2
}
