{
 "cells": [
  {
   "cell_type": "markdown",
   "metadata": {},
   "source": [
    "# Virtual Environments and Packages\n",
    "\n",
    "\n",
    "- use `pip list` to see which packages are installed in our directory.\n",
    "-  First up globally use `pip install virtualenv` to install virtualenv package.\n",
    "- Now to create a virtual env in our desired folder use `virtualenv project1_env` to make a folder project1_env as our python virtual environment.(this will install setuptools,pip,wheel in project1_env to create a virtual environment for us)\n",
    "- next step is to activate this env type  `project1_env\\Scripts\\activate.bat` note the backward slashes`\\`\n",
    "\n",
    "- to come out of your virtual environnment just type `deactivate`\n",
    "\n",
    "#### Introduction\n",
    "- Python applications will often use packages and modules that don’t come as part of the standard library. Applications will sometimes need a specific version of a library, because the application may require that a particular bug has been fixed or the application may be written using an obsolete version of the library’s interface.\n",
    "\n",
    "\n",
    "\n",
    "- This means it may not be possible for one Python installation to meet the requirements of every application. If application A needs version 1.0 of a particular module but application B needs version 2.0, then the requirements are in conflict and installing either version 1.0 or 2.0 will leave one application unable to run.\n",
    "\n",
    "\n",
    "\n",
    "- The solution for this problem is to create a virtual environment, a self-contained directory tree that contains a Python installation for a particular version of Python, plus a number of additional packages.\n",
    "\n",
    "\n",
    "- Different applications can then use different virtual environments. To resolve the earlier example of conflicting requirements, application A can have its own virtual environment with version 1.0 installed while application B has another virtual environment with version 2.0. If application B requires a library be upgraded to version 3.0, this will not affect application A’s environment."
   ]
  },
  {
   "cell_type": "code",
   "execution_count": null,
   "metadata": {},
   "outputs": [],
   "source": []
  },
  {
   "cell_type": "markdown",
   "metadata": {},
   "source": [
    "#### Creating Virtual Environments¶\n",
    "- The module used to create and manage virtual environments is called `venv`. venv will usually install the most recent version of Python that you have available. If you have multiple versions of Python on your system, you can select a specific Python version by running python3 or whichever version you want.\n",
    "\n",
    "- To create a virtual environment, decide upon a directory where you want to place it, and run the venv module as a script with the directory path:\n",
    "\n",
    "                                python3 -m venv tutorial-env\n",
    "\n",
    "- This will create the tutorial-env directory if it doesn’t exist, and also create directories inside it containing a copy of the Python interpreter, the standard library, and various supporting files.\n",
    "\n",
    "- Once you’ve created a virtual environment, you may activate it.\n",
    "\n",
    "- On Windows, run:\n",
    "        - tutorial-env\\Scripts\\activate.bat\n",
    "- On Unix or MacOS, run:\n",
    "        - source tutorial-env/bin/activate\n",
    "\n",
    "- Activating the virtual environment will change your shell’s prompt to show what virtual environment you’re using, and modify the environment so that running python will get you that particular version and installation of Python.\n",
    "\n",
    "    For example: Terminal will look like\n",
    "\n",
    "            $ source ~/envs/tutorial-env/bin/activate\n",
    "            (tutorial-env) $ python\n",
    "            Python 3.5.1 (default, May  6 2016, 10:59:36)\n",
    "              ...\n",
    "            >>> import sys\n",
    "            >>> sys.path\n",
    "            ['', '/usr/local/lib/python35.zip', ...,\n",
    "            '~/envs/tutorial-env/lib/python3.5/site-packages']\n",
    "            >>>"
   ]
  },
  {
   "cell_type": "code",
   "execution_count": null,
   "metadata": {},
   "outputs": [],
   "source": []
  }
 ],
 "metadata": {
  "kernelspec": {
   "display_name": "Python 3",
   "language": "python",
   "name": "python3"
  },
  "language_info": {
   "codemirror_mode": {
    "name": "ipython",
    "version": 3
   },
   "file_extension": ".py",
   "mimetype": "text/x-python",
   "name": "python",
   "nbconvert_exporter": "python",
   "pygments_lexer": "ipython3",
   "version": "3.7.1"
  }
 },
 "nbformat": 4,
 "nbformat_minor": 2
}
