{
 "cells": [
  {
   "cell_type": "markdown",
   "metadata": {},
   "source": [
    "## OOPS(Object Oriented Programming)\n",
    "\n",
    "![](images/OOPS.jpg)"
   ]
  },
  {
   "cell_type": "markdown",
   "metadata": {},
   "source": [
    "\n",
    "* class, objects, reference variables\n",
    "* Using the *class* keyword\n",
    "* Creating class attributes\n",
    "* Creating methods in a class (which btw always have self variable)\n",
    "* Learning about Inheritance\n",
    "* Learning about Polymorphism\n",
    "* Learning about Special Methods for classes\n",
    "* use `obj.__doc__` to print docstring of class whose object is obj \n",
    "* and `help(ClassName or object of class)` to get all info about class\n",
    "* use `obj.dict` to see various class variables and its value as dictionary\n",
    "\n",
    "\n",
    "![image](images/oops.png)"
   ]
  },
  {
   "cell_type": "markdown",
   "metadata": {},
   "source": [
    "## <center>Class</center> \n",
    "\n",
    "- class => Blueprint/Template\n",
    "- object => physical existence of class (i.e Reality)\n",
    "- User defined objects are created using the <code>class</code> keyword. \n",
    "- The class is a blueprint that defines the nature of a future object. From classes we can construct instances. - An instance is a specific object created from a particular class. \n",
    "\n",
    "## <center> self variable as argument </center>\n",
    "\n",
    "- self is a reference variable which is always pointing to current object.\n",
    "- this is like `this` keyword in c++ or java\n",
    "- Proof is in very next cell :\n",
    "- First argument to all the methods inside class must be self\n",
    "- and we are not required to pass that self to methods while calling them it is the automatted job of PVM(Python Virtual Machine)\n",
    "\n",
    "- to define and access instance variable we need to use self.var_name"
   ]
  },
  {
   "cell_type": "code",
   "execution_count": 2,
   "metadata": {},
   "outputs": [
    {
     "name": "stdout",
     "output_type": "stream",
     "text": [
      "104436176\n",
      "104436176\n"
     ]
    }
   ],
   "source": [
    "class Student():\n",
    "    def __init__(self):\n",
    "        print(id(self))\n",
    "        \n",
    "s= Student()\n",
    "print(id(s))"
   ]
  },
  {
   "cell_type": "code",
   "execution_count": 3,
   "metadata": {},
   "outputs": [],
   "source": [
    "# defining Class \n",
    "class Person:\n",
    "    '''This class does Nothing:)'''\n",
    "    pass"
   ]
  },
  {
   "cell_type": "code",
   "execution_count": 5,
   "metadata": {},
   "outputs": [
    {
     "name": "stdout",
     "output_type": "stream",
     "text": [
      "<class '__main__.Person'>\n",
      "This class does Nothing:)\n",
      "sfafs\n",
      "Help on class Person in module __main__:\n",
      "\n",
      "class Person(builtins.object)\n",
      " |  This class does Nothing:)\n",
      " |  \n",
      " |  Data descriptors defined here:\n",
      " |  \n",
      " |  __dict__\n",
      " |      dictionary for instance variables (if defined)\n",
      " |  \n",
      " |  __weakref__\n",
      " |      list of weak references to the object (if defined)\n",
      "\n"
     ]
    }
   ],
   "source": [
    "# creating instance of class\n",
    "\n",
    "p = Person()\n",
    "print(type(p))\n",
    "\n",
    "print(p.__doc__) # prints the docstring\n",
    "print(\"sfafs\")\n",
    "help(Person) # give info about class"
   ]
  },
  {
   "cell_type": "code",
   "execution_count": null,
   "metadata": {},
   "outputs": [],
   "source": []
  },
  {
   "cell_type": "markdown",
   "metadata": {},
   "source": [
    "- By convention we give classes a name that starts with a capital letter. \n",
    "- p is now the reference to our new instance of a Sample class. In other words, we **instantiate** the Sample class.\n",
    "- Inside of the class we currently just have pass. But\n",
    " \n",
    " ## We can define class attributes and methods.\n",
    "\n",
    "\n",
    "\n",
    "- An **attribute** is a characteristic of an object.\n",
    "- A **method** is an operation we can perform with the object.\n",
    "\n",
    "    For example, we can create a class called Dog. \n",
    "    \n",
    "    An attribute of a dog may be its breed or its name, \n",
    "    \n",
    "    while a method of a dog may be defined by a .bark() method which returns a sound.\n",
    "\n",
    "---"
   ]
  },
  {
   "cell_type": "markdown",
   "metadata": {},
   "source": [
    "## <center> Attributes or Variables </center>\n"
   ]
  },
  {
   "cell_type": "markdown",
   "metadata": {},
   "source": [
    "## Inside Python Class\n",
    "\n",
    "- 3 types of Variables\n",
    "    - **Instance Variables** (different copy for diff. objects declared with self.name in various methods of class)\n",
    "    - **Static/Class Variable** (only one copy for diff. objects)\n",
    "    - **Local Variable** (the remaining temporary ones)\n",
    "\n",
    "\n",
    "\n",
    "\n",
    "The syntax for creating an Instance Variable is:\n",
    "    \n",
    "        self.attribute = something"
   ]
  },
  {
   "cell_type": "code",
   "execution_count": null,
   "metadata": {},
   "outputs": [],
   "source": []
  },
  {
   "cell_type": "code",
   "execution_count": null,
   "metadata": {},
   "outputs": [],
   "source": []
  },
  {
   "cell_type": "markdown",
   "metadata": {},
   "source": [
    "- Note how we don't have any parentheses after breed; this is because it is an attribute and doesn't take any arguments.\n",
    "\n",
    "- In Python there are also *class attributes*. These Class Attributes are the same for any instance of the class. For example, we could create the attribute *species* for the Dog class. Dogs, regardless of their breed, name, or other attributes, will always be mammals. We apply this logic in the following manner:"
   ]
  },
  {
   "cell_type": "code",
   "execution_count": 9,
   "metadata": {},
   "outputs": [
    {
     "name": "stdout",
     "output_type": "stream",
     "text": [
      "German Shepherd\n",
      "Dog is Barking Wooh Wooh!\n",
      "Mammals\n"
     ]
    }
   ],
   "source": [
    "class Dog():\n",
    "    species = 'Mammals' # class attribute\n",
    "    def __init__(self,breed):\n",
    "        self.breed = breed # an object attribute is creates and named breed\n",
    "        \n",
    "    def bark(self):\n",
    "        print(\"Dog is Barking Wooh Wooh!\")\n",
    "\n",
    "        \n",
    "d = Dog(\"German Shepherd\")\n",
    "print(d.breed)\n",
    "d.bark()\n",
    "print(d.species)"
   ]
  },
  {
   "cell_type": "code",
   "execution_count": 10,
   "metadata": {},
   "outputs": [
    {
     "data": {
      "text/plain": [
       "'Mammals'"
      ]
     },
     "execution_count": 10,
     "metadata": {},
     "output_type": "execute_result"
    }
   ],
   "source": [
    "# class name can be used to call class /static Variables \n",
    "Dog.species"
   ]
  },
  {
   "cell_type": "markdown",
   "metadata": {},
   "source": [
    "- Note that the Class Object Attribute is defined outside of any methods in the class. Also by convention, we place them first before the init."
   ]
  },
  {
   "cell_type": "markdown",
   "metadata": {},
   "source": [
    "---\n",
    "## <center> Methods </center>\n"
   ]
  },
  {
   "cell_type": "markdown",
   "metadata": {},
   "source": [
    "- There is a special method called:\n",
    " \n",
    "        __init__()\n",
    "This method is used to initialize the attributes of an object(called the constructor on other languages like c++). \n",
    "and similarly provide default one if defined by user. \n",
    "\n",
    "\n",
    "\n",
    "- **Methods or constructor overloadding** is done using `*args` and `**kwargs` if defined like in c++ or java i.e functions with same name but different number of parameters then most lately defined is considered only\n",
    "\n"
   ]
  },
  {
   "cell_type": "code",
   "execution_count": null,
   "metadata": {},
   "outputs": [],
   "source": []
  },
  {
   "cell_type": "markdown",
   "metadata": {},
   "source": [
    "## Inside Python Class\n",
    "\n",
    "- 3 types of Methods\n",
    "\n",
    "    - **Instance Methods** (name says it all!)\n",
    "        -  All the methods have self(`pointing to class_name object`) as first argument var.\n",
    "\n",
    "    - **Class Method** (can also be called by className.fun()); (Have @classmethod at the top)\n",
    "        - `@classmethod` have an incoming implicit parameter of `pointing to class data (like class/static variables)` used to access class/static Variables but not self(which is of type class_name object) \n",
    "        ```python\n",
    "        # defined inside class as\n",
    "        \n",
    "        @classmethod\n",
    "        #clm is required if u want to call class Variables and this is implicitly provided by PVM as well during its call\n",
    "        def print_species(clm): \n",
    "            print(clm. species)\n",
    "        # species is a class Variable\n",
    "        ```\n",
    "    - **Static Methods** Methods(can also be called by className.fun());(have @staticmethod at the top)\n",
    "        - `@staticmethod` doesn't have any implicit paramter( not even self) we just require to pass as many it wants.\n",
    "        ```python\n",
    "        @staticmethod\n",
    "        def average(x,y):\n",
    "            return (x+y)/2\n",
    "        ```"
   ]
  },
  {
   "cell_type": "code",
   "execution_count": null,
   "metadata": {},
   "outputs": [],
   "source": []
  },
  {
   "cell_type": "code",
   "execution_count": null,
   "metadata": {},
   "outputs": [],
   "source": []
  },
  {
   "cell_type": "code",
   "execution_count": 171,
   "metadata": {},
   "outputs": [],
   "source": [
    " class test():\n",
    "    species = 'mammals'\n",
    "    \n",
    "    def display(self):\n",
    "        print(self) # printing its type\n",
    "        print(\"in Disply fun()\")\n",
    "    @classmethod\n",
    "    def d(sd):\n",
    "        print(sd)\n",
    "        print(sd.species)\n",
    "    \n",
    "    @staticmethod\n",
    "    def average(x,y):\n",
    "        return (x+y)/2"
   ]
  },
  {
   "cell_type": "code",
   "execution_count": 172,
   "metadata": {},
   "outputs": [
    {
     "name": "stdout",
     "output_type": "stream",
     "text": [
      "<__main__.test object at 0x01579890>\n",
      "in Disply fun()\n"
     ]
    }
   ],
   "source": [
    "t= test()\n",
    "t.display()"
   ]
  },
  {
   "cell_type": "code",
   "execution_count": 173,
   "metadata": {},
   "outputs": [
    {
     "name": "stdout",
     "output_type": "stream",
     "text": [
      "<class '__main__.test'>\n",
      "mammals\n"
     ]
    }
   ],
   "source": [
    "test.d()"
   ]
  },
  {
   "cell_type": "code",
   "execution_count": 162,
   "metadata": {},
   "outputs": [
    {
     "data": {
      "text/plain": [
       "15.0"
      ]
     },
     "execution_count": 162,
     "metadata": {},
     "output_type": "execute_result"
    }
   ],
   "source": [
    "t.average(10,20)"
   ]
  },
  {
   "cell_type": "markdown",
   "metadata": {},
   "source": [
    "<hr>\n",
    "\n",
    "# Where can we declare/access/modify/delete instance variables"
   ]
  },
  {
   "cell_type": "markdown",
   "metadata": {},
   "source": [
    "###### declare\n",
    "- inside __init__() using self\n",
    "- inside other functions of class using self\n",
    "- outside class using object\n",
    "- can see all list of object variables of object using obj.__dict__ and class variable using Dog.__dic\n",
    "\n",
    "###### access or modify \n",
    "- inside class ,use self.name\n",
    "```python\n",
    "    print(\"breed is : \", self.breed)\n",
    "```\n",
    "- outside class , use object(obj.breed)\n",
    "\n",
    "###### delete\n",
    "use `del` keyword \n",
    "\n",
    "- inside class\n",
    "```python\n",
    "    del self.breed\n",
    "```\n",
    "- outside\n",
    "```python\n",
    "    del obj.breed\n",
    "```\n",
    "\n"
   ]
  },
  {
   "cell_type": "code",
   "execution_count": 185,
   "metadata": {},
   "outputs": [],
   "source": [
    "class Dog():\n",
    "    species = 'mammals'\n",
    "    def __init__(self,name):\n",
    "        self.name = name # creating object variable\n",
    "\n",
    "    def which_breed(self,breed):\n",
    "        print(\"name is: \", self.name) # accesing variable inside class\n",
    "        print(\"species is : \", Dog.species) # could have used self.species as well but Dog.species is convention so \n",
    "        # that we can know this is a class variable\n",
    "        self.breed = breed #creating another object variable ;declared after calling  this method even once\n",
    "        \n",
    "    def delete_breed(self):\n",
    "        del self.breed"
   ]
  },
  {
   "cell_type": "code",
   "execution_count": 186,
   "metadata": {},
   "outputs": [],
   "source": [
    "d=Dog('tommy')"
   ]
  },
  {
   "cell_type": "code",
   "execution_count": 187,
   "metadata": {},
   "outputs": [
    {
     "data": {
      "text/plain": [
       "{'name': 'tommy'}"
      ]
     },
     "execution_count": 187,
     "metadata": {},
     "output_type": "execute_result"
    }
   ],
   "source": [
    "d.__dict__"
   ]
  },
  {
   "cell_type": "code",
   "execution_count": 188,
   "metadata": {},
   "outputs": [
    {
     "name": "stdout",
     "output_type": "stream",
     "text": [
      "name is:  tommy\n",
      "species is :  mammals\n"
     ]
    }
   ],
   "source": [
    "d.which_breed('German Shepherd')"
   ]
  },
  {
   "cell_type": "code",
   "execution_count": 189,
   "metadata": {},
   "outputs": [
    {
     "data": {
      "text/plain": [
       "{'name': 'tommy', 'breed': 'German Shepherd'}"
      ]
     },
     "execution_count": 189,
     "metadata": {},
     "output_type": "execute_result"
    }
   ],
   "source": [
    "d.__dict__"
   ]
  },
  {
   "cell_type": "code",
   "execution_count": 190,
   "metadata": {},
   "outputs": [],
   "source": [
    "d.legs = 4"
   ]
  },
  {
   "cell_type": "code",
   "execution_count": 166,
   "metadata": {},
   "outputs": [
    {
     "data": {
      "text/plain": [
       "{'name': 'tommy', 'breed': 'German Shepherd', 'legs': 4}"
      ]
     },
     "execution_count": 166,
     "metadata": {},
     "output_type": "execute_result"
    }
   ],
   "source": [
    "d.__dict__"
   ]
  },
  {
   "cell_type": "code",
   "execution_count": 167,
   "metadata": {},
   "outputs": [
    {
     "data": {
      "text/plain": [
       "'German Shepherd'"
      ]
     },
     "execution_count": 167,
     "metadata": {},
     "output_type": "execute_result"
    }
   ],
   "source": [
    "d.breed"
   ]
  },
  {
   "cell_type": "code",
   "execution_count": 168,
   "metadata": {},
   "outputs": [],
   "source": [
    "del d.legs"
   ]
  },
  {
   "cell_type": "code",
   "execution_count": 169,
   "metadata": {},
   "outputs": [
    {
     "data": {
      "text/plain": [
       "{'name': 'tommy', 'breed': 'German Shepherd'}"
      ]
     },
     "execution_count": 169,
     "metadata": {},
     "output_type": "execute_result"
    }
   ],
   "source": [
    "d.__dict__"
   ]
  },
  {
   "cell_type": "code",
   "execution_count": 170,
   "metadata": {},
   "outputs": [],
   "source": [
    "d.delete_breed()"
   ]
  },
  {
   "cell_type": "code",
   "execution_count": 171,
   "metadata": {},
   "outputs": [
    {
     "data": {
      "text/plain": [
       "{'name': 'tommy'}"
      ]
     },
     "execution_count": 171,
     "metadata": {},
     "output_type": "execute_result"
    }
   ],
   "source": [
    "d.__dict__"
   ]
  },
  {
   "cell_type": "code",
   "execution_count": 172,
   "metadata": {},
   "outputs": [
    {
     "data": {
      "text/plain": [
       "mappingproxy({'__module__': '__main__',\n",
       "              'species': 'mammals',\n",
       "              '__init__': <function __main__.Dog.__init__(self, name)>,\n",
       "              'which_breed': <function __main__.Dog.which_breed(self, breed)>,\n",
       "              'delete_breed': <function __main__.Dog.delete_breed(self)>,\n",
       "              '__dict__': <attribute '__dict__' of 'Dog' objects>,\n",
       "              '__weakref__': <attribute '__weakref__' of 'Dog' objects>,\n",
       "              '__doc__': None})"
      ]
     },
     "execution_count": 172,
     "metadata": {},
     "output_type": "execute_result"
    }
   ],
   "source": [
    "Dog.__dict__\n"
   ]
  },
  {
   "cell_type": "markdown",
   "metadata": {},
   "source": [
    "<hr> \n",
    "\n",
    "\n",
    "# Varoius places to declare static variable\n",
    "\n",
    "- 1. inside class and outside all methods (species in above example)\n",
    "- 2. inside any class method using class name (Dog.species = 'mammals)\n",
    "- 3. inside classmethod using implicitly passed 'cls' variable \n",
    "- 4. inside static method using class name\n",
    "- 5. outside class using class name\n",
    "\n",
    "# Varoius places to access static variable\n",
    "\n",
    "- inside class\n",
    "    - using self,classname,cls variables\n",
    "- outside class \n",
    "    - using class or object variable\n",
    "\n",
    "# Varoius places to modify static variable\n",
    "\n",
    "- inside class\n",
    "    - using self,classname,cls variables\n",
    "- outside class \n",
    "    - using only class variable (note -> if 'obj' variable is used to change the static variable outside class then static variable is not modified instead a new object variable is declared in that 'obj')\n",
    "    \n",
    "# Varoius places to delete static variable\n",
    "\n",
    "- inside class\n",
    "    - using del self,classname,cls variables\n",
    "- outside class \n",
    "    - using del class-variable only (; no object variable)"
   ]
  },
  {
   "cell_type": "code",
   "execution_count": 173,
   "metadata": {},
   "outputs": [],
   "source": [
    "class Dog():\n",
    "    a=10 # point 1\n",
    "    def __init__(self):\n",
    "        Dog.b = 11  # point2\n",
    "    def funcy(self):\n",
    "        Dog.c = 12  # point2\n",
    "        \n",
    "    @classmethod\n",
    "    def defau(cls):\n",
    "        cls.d = 13 # point3\n",
    "    @staticmethod  \n",
    "    def sum(s,y):\n",
    "        Dog.e = 14 # point4\n",
    "        \n"
   ]
  },
  {
   "cell_type": "code",
   "execution_count": 174,
   "metadata": {},
   "outputs": [],
   "source": [
    "d = Dog()"
   ]
  },
  {
   "cell_type": "code",
   "execution_count": 175,
   "metadata": {},
   "outputs": [
    {
     "data": {
      "text/plain": [
       "{}"
      ]
     },
     "execution_count": 175,
     "metadata": {},
     "output_type": "execute_result"
    }
   ],
   "source": [
    "d.__dict__ # gives object variables not class variables"
   ]
  },
  {
   "cell_type": "code",
   "execution_count": 176,
   "metadata": {},
   "outputs": [
    {
     "data": {
      "text/plain": [
       "mappingproxy({'__module__': '__main__',\n",
       "              'a': 10,\n",
       "              '__init__': <function __main__.Dog.__init__(self)>,\n",
       "              'funcy': <function __main__.Dog.funcy(self)>,\n",
       "              'defau': <classmethod at 0x11b09d0>,\n",
       "              'sum': <staticmethod at 0x11b09f0>,\n",
       "              '__dict__': <attribute '__dict__' of 'Dog' objects>,\n",
       "              '__weakref__': <attribute '__weakref__' of 'Dog' objects>,\n",
       "              '__doc__': None,\n",
       "              'b': 11})"
      ]
     },
     "execution_count": 176,
     "metadata": {},
     "output_type": "execute_result"
    }
   ],
   "source": [
    "Dog.__dict__"
   ]
  },
  {
   "cell_type": "code",
   "execution_count": 177,
   "metadata": {},
   "outputs": [],
   "source": [
    "d.funcy()"
   ]
  },
  {
   "cell_type": "code",
   "execution_count": 178,
   "metadata": {},
   "outputs": [
    {
     "name": "stdout",
     "output_type": "stream",
     "text": [
      "{}\n",
      "----------------\n",
      "{'__module__': '__main__', 'a': 10, '__init__': <function Dog.__init__ at 0x06665BB8>, 'funcy': <function Dog.funcy at 0x06665F60>, 'defau': <classmethod object at 0x011B09D0>, 'sum': <staticmethod object at 0x011B09F0>, '__dict__': <attribute '__dict__' of 'Dog' objects>, '__weakref__': <attribute '__weakref__' of 'Dog' objects>, '__doc__': None, 'b': 11, 'c': 12}\n"
     ]
    }
   ],
   "source": [
    "print(d.__dict__)\n",
    "print('----------------')\n",
    "print(Dog.__dict__)"
   ]
  },
  {
   "cell_type": "code",
   "execution_count": 179,
   "metadata": {},
   "outputs": [],
   "source": [
    "d.defau()"
   ]
  },
  {
   "cell_type": "code",
   "execution_count": 180,
   "metadata": {},
   "outputs": [
    {
     "name": "stdout",
     "output_type": "stream",
     "text": [
      "{}\n",
      "----------------\n",
      "{'__module__': '__main__', 'a': 10, '__init__': <function Dog.__init__ at 0x06665BB8>, 'funcy': <function Dog.funcy at 0x06665F60>, 'defau': <classmethod object at 0x011B09D0>, 'sum': <staticmethod object at 0x011B09F0>, '__dict__': <attribute '__dict__' of 'Dog' objects>, '__weakref__': <attribute '__weakref__' of 'Dog' objects>, '__doc__': None, 'b': 11, 'c': 12, 'd': 13}\n"
     ]
    }
   ],
   "source": [
    "print(d.__dict__)\n",
    "print('----------------')\n",
    "print(Dog.__dict__)"
   ]
  },
  {
   "cell_type": "code",
   "execution_count": 181,
   "metadata": {},
   "outputs": [],
   "source": [
    "d.sum(2,3)"
   ]
  },
  {
   "cell_type": "code",
   "execution_count": 182,
   "metadata": {},
   "outputs": [
    {
     "name": "stdout",
     "output_type": "stream",
     "text": [
      "{}\n",
      "----------------\n",
      "{'__module__': '__main__', 'a': 10, '__init__': <function Dog.__init__ at 0x06665BB8>, 'funcy': <function Dog.funcy at 0x06665F60>, 'defau': <classmethod object at 0x011B09D0>, 'sum': <staticmethod object at 0x011B09F0>, '__dict__': <attribute '__dict__' of 'Dog' objects>, '__weakref__': <attribute '__weakref__' of 'Dog' objects>, '__doc__': None, 'b': 11, 'c': 12, 'd': 13, 'e': 14}\n"
     ]
    }
   ],
   "source": [
    "print(d.__dict__)\n",
    "print('----------------')\n",
    "print(Dog.__dict__)"
   ]
  },
  {
   "cell_type": "code",
   "execution_count": 183,
   "metadata": {},
   "outputs": [],
   "source": [
    "Dog.f = 16 # point5"
   ]
  },
  {
   "cell_type": "code",
   "execution_count": 184,
   "metadata": {},
   "outputs": [
    {
     "name": "stdout",
     "output_type": "stream",
     "text": [
      "{}\n",
      "----------------\n",
      "{'__module__': '__main__', 'a': 10, '__init__': <function Dog.__init__ at 0x06665BB8>, 'funcy': <function Dog.funcy at 0x06665F60>, 'defau': <classmethod object at 0x011B09D0>, 'sum': <staticmethod object at 0x011B09F0>, '__dict__': <attribute '__dict__' of 'Dog' objects>, '__weakref__': <attribute '__weakref__' of 'Dog' objects>, '__doc__': None, 'b': 11, 'c': 12, 'd': 13, 'e': 14, 'f': 16}\n"
     ]
    }
   ],
   "source": [
    "print(d.__dict__)\n",
    "print('----------------')\n",
    "print(Dog.__dict__)"
   ]
  },
  {
   "cell_type": "code",
   "execution_count": null,
   "metadata": {},
   "outputs": [],
   "source": []
  },
  {
   "cell_type": "code",
   "execution_count": null,
   "metadata": {},
   "outputs": [],
   "source": []
  },
  {
   "cell_type": "code",
   "execution_count": null,
   "metadata": {},
   "outputs": [],
   "source": []
  },
  {
   "cell_type": "code",
   "execution_count": null,
   "metadata": {},
   "outputs": [],
   "source": []
  },
  {
   "cell_type": "code",
   "execution_count": null,
   "metadata": {},
   "outputs": [],
   "source": []
  },
  {
   "cell_type": "code",
   "execution_count": null,
   "metadata": {},
   "outputs": [],
   "source": []
  },
  {
   "cell_type": "code",
   "execution_count": null,
   "metadata": {},
   "outputs": [],
   "source": []
  },
  {
   "cell_type": "code",
   "execution_count": null,
   "metadata": {},
   "outputs": [],
   "source": []
  },
  {
   "cell_type": "code",
   "execution_count": null,
   "metadata": {},
   "outputs": [],
   "source": []
  },
  {
   "cell_type": "code",
   "execution_count": null,
   "metadata": {},
   "outputs": [],
   "source": []
  },
  {
   "cell_type": "code",
   "execution_count": null,
   "metadata": {},
   "outputs": [],
   "source": []
  },
  {
   "cell_type": "code",
   "execution_count": null,
   "metadata": {},
   "outputs": [],
   "source": []
  },
  {
   "cell_type": "code",
   "execution_count": null,
   "metadata": {},
   "outputs": [],
   "source": []
  },
  {
   "cell_type": "code",
   "execution_count": null,
   "metadata": {},
   "outputs": [],
   "source": []
  }
 ],
 "metadata": {
  "kernelspec": {
   "display_name": "Python 3",
   "language": "python",
   "name": "python3"
  },
  "language_info": {
   "codemirror_mode": {
    "name": "ipython",
    "version": 3
   },
   "file_extension": ".py",
   "mimetype": "text/x-python",
   "name": "python",
   "nbconvert_exporter": "python",
   "pygments_lexer": "ipython3",
   "version": "3.7.1"
  }
 },
 "nbformat": 4,
 "nbformat_minor": 2
}
