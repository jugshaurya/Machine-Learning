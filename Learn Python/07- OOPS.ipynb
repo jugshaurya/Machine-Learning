{
 "cells": [
  {
   "cell_type": "markdown",
   "metadata": {},
   "source": [
    "## OOPS(Object Oriented Programming)\n",
    "![](images/OOPS.jpg)"
   ]
  },
  {
   "cell_type": "markdown",
   "metadata": {},
   "source": [
    "(https://docs.python.org/3.7/tutorial/classes.html)\n",
    "\n",
    "###### things to discuss:\n",
    "* class, objects, reference variables\n",
    "* Using the *class* keyword\n",
    "* Creating class attributes\n",
    "* Creating methods of class (which btw always have self variable)\n",
    "* Learning about Inheritance\n",
    "* Learning about Polymorphism( operator overloading(magic functions: MagicDunders), function overriding and function overloading)\n",
    "* Learning about Special Methods for classes\n",
    "* use `obj.__doc__` to print docstring of class whose object is obj \n",
    "* and `help(ClassName or object of class)` to get all info about class\n",
    "* use `obj.dict` to see various class variables and its value as dictionary\n",
    "\n",
    "\n",
    "![image](images/oops.png)"
   ]
  },
  {
   "cell_type": "markdown",
   "metadata": {},
   "source": [
    "## <center>Class</center> \n",
    "\n",
    "- class => Blueprint/Template\n",
    "- object => physical existence of class (i.e Reality)\n",
    "- User defined objects are created using the <code>class</code> keyword. \n",
    "- The class is a blueprint that defines the nature of a future object. From classes we can construct instances. - An instance is a specific object created from a particular class. \n",
    "\n",
    "## <center> self variable as argument </center>\n",
    "\n",
    "- self is a reference variable which is always pointing to current object.\n",
    "- this is like `this` keyword in c++ or java\n",
    "- Proof is in very next cell :\n",
    "- First argument to all the methods inside class must be self\n",
    "- and we are not required to pass that self to methods while calling them it is the automatted job of PVM(Python Virtual Machine)\n",
    "\n",
    "- to define and access instance variable we need to use self.var_name"
   ]
  },
  {
   "cell_type": "code",
   "execution_count": 2,
   "metadata": {},
   "outputs": [
    {
     "name": "stdout",
     "output_type": "stream",
     "text": [
      "104436176\n",
      "104436176\n"
     ]
    }
   ],
   "source": [
    "class Student():\n",
    "    def __init__(self):\n",
    "        print(id(self))\n",
    "        \n",
    "s= Student()\n",
    "print(id(s))"
   ]
  },
  {
   "cell_type": "code",
   "execution_count": 3,
   "metadata": {},
   "outputs": [],
   "source": [
    "# defining Class \n",
    "class Person:\n",
    "    '''This class does Nothing:)'''\n",
    "    pass"
   ]
  },
  {
   "cell_type": "code",
   "execution_count": 5,
   "metadata": {},
   "outputs": [
    {
     "name": "stdout",
     "output_type": "stream",
     "text": [
      "<class '__main__.Person'>\n",
      "This class does Nothing:)\n",
      "sfafs\n",
      "Help on class Person in module __main__:\n",
      "\n",
      "class Person(builtins.object)\n",
      " |  This class does Nothing:)\n",
      " |  \n",
      " |  Data descriptors defined here:\n",
      " |  \n",
      " |  __dict__\n",
      " |      dictionary for instance variables (if defined)\n",
      " |  \n",
      " |  __weakref__\n",
      " |      list of weak references to the object (if defined)\n",
      "\n"
     ]
    }
   ],
   "source": [
    "# creating instance of class\n",
    "\n",
    "p = Person()\n",
    "print(type(p))\n",
    "\n",
    "print(p.__doc__) # prints the docstring\n",
    "print(\"sfafs\")\n",
    "help(Person) # give info about class"
   ]
  },
  {
   "cell_type": "code",
   "execution_count": null,
   "metadata": {},
   "outputs": [],
   "source": []
  },
  {
   "cell_type": "markdown",
   "metadata": {},
   "source": [
    "- By convention we give classes a name that starts with a capital letter. \n",
    "- p is now the reference to our new instance of a Sample class. In other words, we **instantiate** the Sample class.\n",
    "- Inside of the class we currently just have pass. But\n",
    " \n",
    " ## We can define class attributes and methods.\n",
    "\n",
    "\n",
    "\n",
    "- An **attribute** is a characteristic of an object.\n",
    "- A **method** is an operation we can perform with the object.\n",
    "\n",
    "    For example, we can create a class called Dog. \n",
    "    \n",
    "    An attribute of a dog may be its breed or its name, \n",
    "    \n",
    "    while a method of a dog may be defined by a .bark() method which returns a sound.\n",
    "\n",
    "---"
   ]
  },
  {
   "cell_type": "markdown",
   "metadata": {},
   "source": [
    "## <center> Attributes or Variables </center>\n"
   ]
  },
  {
   "cell_type": "markdown",
   "metadata": {},
   "source": [
    "## Inside Python Class\n",
    "\n",
    "- 3 types of Variables\n",
    "    - **Instance Variables** (different copy for diff. objects declared with self.name in various methods of class)\n",
    "    - **Static/Class Variable** (only one copy for diff. objects)\n",
    "    - **Local Variable** (the remaining temporary ones)\n",
    "\n",
    "\n",
    "\n",
    "\n",
    "The syntax for creating an Instance Variable is:\n",
    "    \n",
    "        self.attribute = something"
   ]
  },
  {
   "cell_type": "code",
   "execution_count": null,
   "metadata": {},
   "outputs": [],
   "source": []
  },
  {
   "cell_type": "markdown",
   "metadata": {},
   "source": [
    "In Python there are also *class attributes*. These Class Attributes are the same for any instance of the class. For example, we could create the attribute *species* for the Dog class. Dogs, regardless of their breed, name, or other attributes, will always be mammals. We apply this logic in the following manner:"
   ]
  },
  {
   "cell_type": "code",
   "execution_count": 1,
   "metadata": {},
   "outputs": [
    {
     "name": "stdout",
     "output_type": "stream",
     "text": [
      "German Shepherd\n",
      "Dog is Barking Wooh Wooh!\n",
      "Mammals\n"
     ]
    }
   ],
   "source": [
    "class Dog():\n",
    "    species = 'Mammals' # class attribute\n",
    "    def __init__(self,breed):\n",
    "        self.breed = breed # an object attribute is creates and named breed\n",
    "        \n",
    "    def bark(self):\n",
    "        print(\"Dog is Barking Wooh Wooh!\")\n",
    "\n",
    "        \n",
    "d = Dog(\"German Shepherd\")\n",
    "print(d.breed)\n",
    "d.bark()\n",
    "print(d.species)"
   ]
  },
  {
   "cell_type": "code",
   "execution_count": 2,
   "metadata": {},
   "outputs": [
    {
     "data": {
      "text/plain": [
       "'Mammals'"
      ]
     },
     "execution_count": 2,
     "metadata": {},
     "output_type": "execute_result"
    }
   ],
   "source": [
    "# class name can be used to call class /static Variables \n",
    "Dog.species"
   ]
  },
  {
   "cell_type": "markdown",
   "metadata": {},
   "source": [
    "- Note that the Class Object Attribute is defined outside of any methods in the class. Also by convention, we place them first before the init."
   ]
  },
  {
   "cell_type": "markdown",
   "metadata": {},
   "source": [
    "---\n",
    "## <center> Methods </center>\n"
   ]
  },
  {
   "cell_type": "markdown",
   "metadata": {},
   "source": [
    "- There is a special method called:\n",
    " \n",
    "        __init__()\n",
    "This method is used to initialize the attributes of an object(called the constructor in other languages like c++). \n",
    "and similarly provide default one if defined by user. \n",
    "\n",
    "\n",
    "- There is also a destructor\n",
    "        \n",
    "        __del__()\n",
    "    - used to delete some things like close network conection ,close db connection before deleting the object.\n",
    "    - just before garbage collector clean this object , gc always executes destructor.\n",
    "\n",
    "\n",
    "- **Methods or constructor overloadding** is done using `*args` and `**kwargs` .\n",
    "\n",
    "    - if defined like in c++ or java (i.e functions with same name but different number of parameters) then most lately defined method is considered only\n",
    "\n"
   ]
  },
  {
   "cell_type": "code",
   "execution_count": null,
   "metadata": {},
   "outputs": [],
   "source": []
  },
  {
   "cell_type": "markdown",
   "metadata": {},
   "source": [
    "## Inside Python Class\n",
    "\n",
    "- 3 types of Methods\n",
    "\n",
    "    - **Instance Methods** (name says it all!)\n",
    "        -  All the methods have self(`pointing to class_name object`) as first argument var.\n",
    "\n",
    "    - **Class Method** (can also be called by className.fun()); (Have @classmethod at the top)\n",
    "        - `@classmethod` have an incoming implicit parameter of `pointing to class data (like class/static variables)` used to access class/static Variables but not self(which is of type class_name object) \n",
    "        ```python\n",
    "        # defined inside class as\n",
    "        \n",
    "        @classmethod\n",
    "        #clm is required if u want to call class Variables and this is implicitly provided by PVM as well during its call\n",
    "        def print_species(clm): \n",
    "            print(clm. species)\n",
    "        # species is a class Variable\n",
    "        ```\n",
    "    - **Static Methods** Methods(can also be called by className.fun());(have @staticmethod at the top)\n",
    "        - `@staticmethod` doesn't have any implicit paramter( not even self) we just require to pass as many it wants.\n",
    "        - it is just a general-utility/helper method for class\n",
    "        ```python\n",
    "        @staticmethod\n",
    "        def average(x,y):\n",
    "            return (x+y)/2\n",
    "        ```"
   ]
  },
  {
   "cell_type": "code",
   "execution_count": null,
   "metadata": {},
   "outputs": [],
   "source": []
  },
  {
   "cell_type": "code",
   "execution_count": null,
   "metadata": {},
   "outputs": [],
   "source": []
  },
  {
   "cell_type": "code",
   "execution_count": 171,
   "metadata": {},
   "outputs": [],
   "source": [
    " class test():\n",
    "    species = 'mammals'\n",
    "    \n",
    "    def display(self):\n",
    "        print(self) # printing its type\n",
    "        print(\"in Disply fun()\")\n",
    "    @classmethod\n",
    "    def d(sd):\n",
    "        print(sd)\n",
    "        print(sd.species)\n",
    "    \n",
    "    @staticmethod\n",
    "    def average(x,y):\n",
    "        return (x+y)/2"
   ]
  },
  {
   "cell_type": "code",
   "execution_count": 172,
   "metadata": {},
   "outputs": [
    {
     "name": "stdout",
     "output_type": "stream",
     "text": [
      "<__main__.test object at 0x01579890>\n",
      "in Disply fun()\n"
     ]
    }
   ],
   "source": [
    "t= test()\n",
    "t.display()"
   ]
  },
  {
   "cell_type": "code",
   "execution_count": 173,
   "metadata": {},
   "outputs": [
    {
     "name": "stdout",
     "output_type": "stream",
     "text": [
      "<class '__main__.test'>\n",
      "mammals\n"
     ]
    }
   ],
   "source": [
    "test.d()"
   ]
  },
  {
   "cell_type": "code",
   "execution_count": 162,
   "metadata": {},
   "outputs": [
    {
     "data": {
      "text/plain": [
       "15.0"
      ]
     },
     "execution_count": 162,
     "metadata": {},
     "output_type": "execute_result"
    }
   ],
   "source": [
    "t.average(10,20)"
   ]
  },
  {
   "cell_type": "markdown",
   "metadata": {},
   "source": [
    "<hr>\n",
    "\n",
    "# Where can we declare/access/modify/delete instance variables"
   ]
  },
  {
   "cell_type": "markdown",
   "metadata": {},
   "source": [
    "###### declare\n",
    "- inside __init__() using self\n",
    "- inside other functions of class using self\n",
    "- outside class using object\n",
    "- can see all list of object variables of object using `obj.__dict__` and class variable using `Dog.__dict__`\n",
    "\n",
    "###### access or modify \n",
    "- inside class ,use self.name\n",
    "```python\n",
    "    print(\"breed is : \", self.breed)\n",
    "```\n",
    "- outside class , use object(obj.breed)\n",
    "\n",
    "###### delete\n",
    "use `del` keyword \n",
    "\n",
    "- inside class\n",
    "```python\n",
    "    del self.breed\n",
    "```\n",
    "- outside\n",
    "```python\n",
    "    del obj.breed\n",
    "```\n",
    "\n"
   ]
  },
  {
   "cell_type": "code",
   "execution_count": 185,
   "metadata": {},
   "outputs": [],
   "source": [
    "class Dog():\n",
    "    species = 'mammals'\n",
    "    def __init__(self,name):\n",
    "        self.name = name # creating object variable\n",
    "\n",
    "    def which_breed(self,breed):\n",
    "        print(\"name is: \", self.name) # accesing variable inside class\n",
    "        print(\"species is : \", Dog.species) # could have used self.species as well but Dog.species is convention so \n",
    "        # that we can know this is a class variable\n",
    "        self.breed = breed #creating another object variable ;declared after calling  this method even once\n",
    "        \n",
    "    def delete_breed(self):\n",
    "        del self.breed"
   ]
  },
  {
   "cell_type": "code",
   "execution_count": 186,
   "metadata": {},
   "outputs": [],
   "source": [
    "d=Dog('tommy')"
   ]
  },
  {
   "cell_type": "code",
   "execution_count": 187,
   "metadata": {},
   "outputs": [
    {
     "data": {
      "text/plain": [
       "{'name': 'tommy'}"
      ]
     },
     "execution_count": 187,
     "metadata": {},
     "output_type": "execute_result"
    }
   ],
   "source": [
    "d.__dict__"
   ]
  },
  {
   "cell_type": "code",
   "execution_count": 188,
   "metadata": {},
   "outputs": [
    {
     "name": "stdout",
     "output_type": "stream",
     "text": [
      "name is:  tommy\n",
      "species is :  mammals\n"
     ]
    }
   ],
   "source": [
    "d.which_breed('German Shepherd')"
   ]
  },
  {
   "cell_type": "code",
   "execution_count": 189,
   "metadata": {},
   "outputs": [
    {
     "data": {
      "text/plain": [
       "{'name': 'tommy', 'breed': 'German Shepherd'}"
      ]
     },
     "execution_count": 189,
     "metadata": {},
     "output_type": "execute_result"
    }
   ],
   "source": [
    "d.__dict__"
   ]
  },
  {
   "cell_type": "code",
   "execution_count": 190,
   "metadata": {},
   "outputs": [],
   "source": [
    "d.legs = 4"
   ]
  },
  {
   "cell_type": "code",
   "execution_count": 166,
   "metadata": {},
   "outputs": [
    {
     "data": {
      "text/plain": [
       "{'name': 'tommy', 'breed': 'German Shepherd', 'legs': 4}"
      ]
     },
     "execution_count": 166,
     "metadata": {},
     "output_type": "execute_result"
    }
   ],
   "source": [
    "d.__dict__"
   ]
  },
  {
   "cell_type": "code",
   "execution_count": 167,
   "metadata": {},
   "outputs": [
    {
     "data": {
      "text/plain": [
       "'German Shepherd'"
      ]
     },
     "execution_count": 167,
     "metadata": {},
     "output_type": "execute_result"
    }
   ],
   "source": [
    "d.breed"
   ]
  },
  {
   "cell_type": "code",
   "execution_count": 168,
   "metadata": {},
   "outputs": [],
   "source": [
    "del d.legs"
   ]
  },
  {
   "cell_type": "code",
   "execution_count": 169,
   "metadata": {},
   "outputs": [
    {
     "data": {
      "text/plain": [
       "{'name': 'tommy', 'breed': 'German Shepherd'}"
      ]
     },
     "execution_count": 169,
     "metadata": {},
     "output_type": "execute_result"
    }
   ],
   "source": [
    "d.__dict__"
   ]
  },
  {
   "cell_type": "code",
   "execution_count": 170,
   "metadata": {},
   "outputs": [],
   "source": [
    "d.delete_breed()"
   ]
  },
  {
   "cell_type": "code",
   "execution_count": 171,
   "metadata": {},
   "outputs": [
    {
     "data": {
      "text/plain": [
       "{'name': 'tommy'}"
      ]
     },
     "execution_count": 171,
     "metadata": {},
     "output_type": "execute_result"
    }
   ],
   "source": [
    "d.__dict__"
   ]
  },
  {
   "cell_type": "code",
   "execution_count": 172,
   "metadata": {},
   "outputs": [
    {
     "data": {
      "text/plain": [
       "mappingproxy({'__module__': '__main__',\n",
       "              'species': 'mammals',\n",
       "              '__init__': <function __main__.Dog.__init__(self, name)>,\n",
       "              'which_breed': <function __main__.Dog.which_breed(self, breed)>,\n",
       "              'delete_breed': <function __main__.Dog.delete_breed(self)>,\n",
       "              '__dict__': <attribute '__dict__' of 'Dog' objects>,\n",
       "              '__weakref__': <attribute '__weakref__' of 'Dog' objects>,\n",
       "              '__doc__': None})"
      ]
     },
     "execution_count": 172,
     "metadata": {},
     "output_type": "execute_result"
    }
   ],
   "source": [
    "Dog.__dict__\n"
   ]
  },
  {
   "cell_type": "markdown",
   "metadata": {},
   "source": [
    "<hr> \n",
    "\n",
    "\n",
    "# Varoius places to declare static variable\n",
    "\n",
    "- 1. inside class and outside all methods (species in above example)\n",
    "- 2. inside any class method using class name (Dog.species = 'mammals')\n",
    "- 3. inside classmethod using implicitly passed 'cls' variable \n",
    "- 4. inside static method using class name\n",
    "- 5. outside class using class name\n",
    "\n",
    "# Varoius places to access static variable\n",
    "\n",
    "- inside class\n",
    "    - using self,classname,cls variables\n",
    "- outside class \n",
    "    - using class or object variable\n",
    "\n",
    "# Varoius places to modify static variable\n",
    "\n",
    "- inside class\n",
    "    - using self,classname,cls variables\n",
    "- outside class \n",
    "    - using only class variable (note -> if 'obj' variable is used to change the static variable outside class then static variable is not modified instead a new object variable is declared in that 'obj')\n",
    "    \n",
    "# Varoius places to delete static variable\n",
    "\n",
    "- inside class\n",
    "    - using del self,classname,cls variables\n",
    "- outside class \n",
    "    - using del class-variable only (; no object variable)"
   ]
  },
  {
   "cell_type": "code",
   "execution_count": 173,
   "metadata": {},
   "outputs": [],
   "source": [
    "class Dog():\n",
    "    a=10 # point 1\n",
    "    def __init__(self):\n",
    "        Dog.b = 11  # point2\n",
    "    def funcy(self):\n",
    "        Dog.c = 12  # point2\n",
    "        \n",
    "    @classmethod\n",
    "    def defau(cls):\n",
    "        cls.d = 13 # point3\n",
    "    @staticmethod  \n",
    "    def sum(s,y):\n",
    "        Dog.e = 14 # point4\n",
    "        \n"
   ]
  },
  {
   "cell_type": "code",
   "execution_count": 174,
   "metadata": {},
   "outputs": [],
   "source": [
    "d = Dog()"
   ]
  },
  {
   "cell_type": "code",
   "execution_count": 175,
   "metadata": {},
   "outputs": [
    {
     "data": {
      "text/plain": [
       "{}"
      ]
     },
     "execution_count": 175,
     "metadata": {},
     "output_type": "execute_result"
    }
   ],
   "source": [
    "d.__dict__ # gives object variables not class variables"
   ]
  },
  {
   "cell_type": "code",
   "execution_count": 176,
   "metadata": {},
   "outputs": [
    {
     "data": {
      "text/plain": [
       "mappingproxy({'__module__': '__main__',\n",
       "              'a': 10,\n",
       "              '__init__': <function __main__.Dog.__init__(self)>,\n",
       "              'funcy': <function __main__.Dog.funcy(self)>,\n",
       "              'defau': <classmethod at 0x11b09d0>,\n",
       "              'sum': <staticmethod at 0x11b09f0>,\n",
       "              '__dict__': <attribute '__dict__' of 'Dog' objects>,\n",
       "              '__weakref__': <attribute '__weakref__' of 'Dog' objects>,\n",
       "              '__doc__': None,\n",
       "              'b': 11})"
      ]
     },
     "execution_count": 176,
     "metadata": {},
     "output_type": "execute_result"
    }
   ],
   "source": [
    "Dog.__dict__"
   ]
  },
  {
   "cell_type": "code",
   "execution_count": 177,
   "metadata": {},
   "outputs": [],
   "source": [
    "d.funcy()"
   ]
  },
  {
   "cell_type": "code",
   "execution_count": 178,
   "metadata": {},
   "outputs": [
    {
     "name": "stdout",
     "output_type": "stream",
     "text": [
      "{}\n",
      "----------------\n",
      "{'__module__': '__main__', 'a': 10, '__init__': <function Dog.__init__ at 0x06665BB8>, 'funcy': <function Dog.funcy at 0x06665F60>, 'defau': <classmethod object at 0x011B09D0>, 'sum': <staticmethod object at 0x011B09F0>, '__dict__': <attribute '__dict__' of 'Dog' objects>, '__weakref__': <attribute '__weakref__' of 'Dog' objects>, '__doc__': None, 'b': 11, 'c': 12}\n"
     ]
    }
   ],
   "source": [
    "print(d.__dict__)\n",
    "print('----------------')\n",
    "print(Dog.__dict__)"
   ]
  },
  {
   "cell_type": "code",
   "execution_count": 179,
   "metadata": {},
   "outputs": [],
   "source": [
    "d.defau()"
   ]
  },
  {
   "cell_type": "code",
   "execution_count": 180,
   "metadata": {},
   "outputs": [
    {
     "name": "stdout",
     "output_type": "stream",
     "text": [
      "{}\n",
      "----------------\n",
      "{'__module__': '__main__', 'a': 10, '__init__': <function Dog.__init__ at 0x06665BB8>, 'funcy': <function Dog.funcy at 0x06665F60>, 'defau': <classmethod object at 0x011B09D0>, 'sum': <staticmethod object at 0x011B09F0>, '__dict__': <attribute '__dict__' of 'Dog' objects>, '__weakref__': <attribute '__weakref__' of 'Dog' objects>, '__doc__': None, 'b': 11, 'c': 12, 'd': 13}\n"
     ]
    }
   ],
   "source": [
    "print(d.__dict__)\n",
    "print('----------------')\n",
    "print(Dog.__dict__)"
   ]
  },
  {
   "cell_type": "code",
   "execution_count": 181,
   "metadata": {},
   "outputs": [],
   "source": [
    "d.sum(2,3)"
   ]
  },
  {
   "cell_type": "code",
   "execution_count": 182,
   "metadata": {},
   "outputs": [
    {
     "name": "stdout",
     "output_type": "stream",
     "text": [
      "{}\n",
      "----------------\n",
      "{'__module__': '__main__', 'a': 10, '__init__': <function Dog.__init__ at 0x06665BB8>, 'funcy': <function Dog.funcy at 0x06665F60>, 'defau': <classmethod object at 0x011B09D0>, 'sum': <staticmethod object at 0x011B09F0>, '__dict__': <attribute '__dict__' of 'Dog' objects>, '__weakref__': <attribute '__weakref__' of 'Dog' objects>, '__doc__': None, 'b': 11, 'c': 12, 'd': 13, 'e': 14}\n"
     ]
    }
   ],
   "source": [
    "print(d.__dict__)\n",
    "print('----------------')\n",
    "print(Dog.__dict__)"
   ]
  },
  {
   "cell_type": "code",
   "execution_count": 183,
   "metadata": {},
   "outputs": [],
   "source": [
    "Dog.f = 16 # point5"
   ]
  },
  {
   "cell_type": "code",
   "execution_count": 184,
   "metadata": {},
   "outputs": [
    {
     "name": "stdout",
     "output_type": "stream",
     "text": [
      "{}\n",
      "----------------\n",
      "{'__module__': '__main__', 'a': 10, '__init__': <function Dog.__init__ at 0x06665BB8>, 'funcy': <function Dog.funcy at 0x06665F60>, 'defau': <classmethod object at 0x011B09D0>, 'sum': <staticmethod object at 0x011B09F0>, '__dict__': <attribute '__dict__' of 'Dog' objects>, '__weakref__': <attribute '__weakref__' of 'Dog' objects>, '__doc__': None, 'b': 11, 'c': 12, 'd': 13, 'e': 14, 'f': 16}\n"
     ]
    }
   ],
   "source": [
    "print(d.__dict__)\n",
    "print('----------------')\n",
    "print(Dog.__dict__)"
   ]
  },
  {
   "cell_type": "markdown",
   "metadata": {},
   "source": [
    "# Which variables to use with which function?"
   ]
  },
  {
   "cell_type": "markdown",
   "metadata": {},
   "source": [
    "- inside `instance method` having self as implicit argument we can use `instance/static/local variable`(all 3)\n",
    "- inside `class method` having cls as implicit argument we can use `static/local variable`\n",
    "- inside `static method` having no implicit argument we can use `local variable`\n"
   ]
  },
  {
   "cell_type": "markdown",
   "metadata": {},
   "source": [
    "# Setters and Getters"
   ]
  },
  {
   "cell_type": "code",
   "execution_count": 16,
   "metadata": {},
   "outputs": [],
   "source": [
    "class Student():\n",
    "    # Setters\n",
    "    def setName(self,name):\n",
    "        self.name  = name\n",
    "        \n",
    "    def setAge(self,age):\n",
    "        self.age = age\n",
    "\n",
    "    # Getters\n",
    "    def getName(self):\n",
    "        return self.name\n",
    "        \n",
    "    def getAge(self):\n",
    "        return self.age\n",
    "    \n",
    "        "
   ]
  },
  {
   "cell_type": "code",
   "execution_count": 17,
   "metadata": {},
   "outputs": [],
   "source": [
    "s=Student()"
   ]
  },
  {
   "cell_type": "code",
   "execution_count": 18,
   "metadata": {},
   "outputs": [],
   "source": [
    "s.setName('shaurya')\n",
    "s.setAge(21)"
   ]
  },
  {
   "cell_type": "code",
   "execution_count": 19,
   "metadata": {},
   "outputs": [
    {
     "data": {
      "text/plain": [
       "'shaurya'"
      ]
     },
     "execution_count": 19,
     "metadata": {},
     "output_type": "execute_result"
    }
   ],
   "source": [
    "s.getName()\n"
   ]
  },
  {
   "cell_type": "code",
   "execution_count": 20,
   "metadata": {},
   "outputs": [
    {
     "data": {
      "text/plain": [
       "21"
      ]
     },
     "execution_count": 20,
     "metadata": {},
     "output_type": "execute_result"
    }
   ],
   "source": [
    "s.getAge()"
   ]
  },
  {
   "cell_type": "markdown",
   "metadata": {},
   "source": [
    "# Inner Class\n",
    "\n",
    "- any class defined inside a class is inner class.\n",
    "- without the existence of outer class there is no chance of inner class to be exist.\n",
    "- inner class object is always associated with outer class object."
   ]
  },
  {
   "cell_type": "code",
   "execution_count": 33,
   "metadata": {},
   "outputs": [],
   "source": [
    "class Outer():\n",
    "    def __init__(self):\n",
    "        print(\"<<< outer constructor >>>\")\n",
    "    \n",
    "    def outer_method(self):\n",
    "        print(\"<<< outer method >>>\")        \n",
    "    \n",
    "    class Inner():\n",
    "        def __init__(self):\n",
    "            print(\"<<< inner constructor >>>\")\n",
    "        def inner_method(self):\n",
    "            print(\"<<< inner method >>>\")"
   ]
  },
  {
   "cell_type": "code",
   "execution_count": 35,
   "metadata": {},
   "outputs": [
    {
     "name": "stdout",
     "output_type": "stream",
     "text": [
      "<<< outer constructor >>>\n"
     ]
    }
   ],
   "source": [
    "o = Outer()"
   ]
  },
  {
   "cell_type": "code",
   "execution_count": 36,
   "metadata": {},
   "outputs": [
    {
     "name": "stdout",
     "output_type": "stream",
     "text": [
      "<<< inner constructor >>>\n"
     ]
    }
   ],
   "source": [
    "i = o.Inner()"
   ]
  },
  {
   "cell_type": "code",
   "execution_count": 37,
   "metadata": {},
   "outputs": [
    {
     "name": "stdout",
     "output_type": "stream",
     "text": [
      "<<< inner method >>>\n"
     ]
    }
   ],
   "source": [
    "i.inner_method()"
   ]
  },
  {
   "cell_type": "code",
   "execution_count": 41,
   "metadata": {},
   "outputs": [
    {
     "name": "stdout",
     "output_type": "stream",
     "text": [
      "<<< outer method >>>\n"
     ]
    }
   ],
   "source": [
    "o.outer_method()"
   ]
  },
  {
   "cell_type": "code",
   "execution_count": 42,
   "metadata": {},
   "outputs": [
    {
     "name": "stdout",
     "output_type": "stream",
     "text": [
      "<<< outer constructor >>>\n",
      "<<< inner constructor >>>\n"
     ]
    }
   ],
   "source": [
    "i2 = Outer().Inner()"
   ]
  },
  {
   "cell_type": "code",
   "execution_count": 43,
   "metadata": {},
   "outputs": [
    {
     "name": "stdout",
     "output_type": "stream",
     "text": [
      "<<< inner method >>>\n"
     ]
    }
   ],
   "source": [
    "i2.inner_method()"
   ]
  },
  {
   "cell_type": "code",
   "execution_count": 46,
   "metadata": {},
   "outputs": [
    {
     "name": "stdout",
     "output_type": "stream",
     "text": [
      "<<< outer constructor >>>\n",
      "<<< inner constructor >>>\n",
      "<<< inner method >>>\n"
     ]
    }
   ],
   "source": [
    "\n",
    "Outer().Inner().inner_method()"
   ]
  },
  {
   "cell_type": "code",
   "execution_count": 66,
   "metadata": {},
   "outputs": [],
   "source": [
    "#use case of inner class as DOB exist only for a person we dont create outside class(Data hiding)\n",
    "\n",
    "\n",
    "class Person():\n",
    "    def __init__(self,name,date,month,year):\n",
    "        self.name = name\n",
    "        self.dob = self.DOB(date,month,year) # instance inner class reference\n",
    "        \n",
    "    def display_details(self):\n",
    "        print(\"Name is : {}\".format(self.name))\n",
    "        self.dob.display_dob()\n",
    "    \n",
    "    class DOB():\n",
    "        def __init__(self,date,month,year):\n",
    "            self.date = date\n",
    "            self.month = month\n",
    "            self.year = year\n",
    "\n",
    "        def display_dob(self):\n",
    "            print(f\"DOB is : {self.date}/{self.month}/{self.year}\")\n"
   ]
  },
  {
   "cell_type": "code",
   "execution_count": 67,
   "metadata": {},
   "outputs": [],
   "source": [
    "p = Person('shaurya',18, 'August', 1997)"
   ]
  },
  {
   "cell_type": "code",
   "execution_count": 68,
   "metadata": {},
   "outputs": [
    {
     "name": "stdout",
     "output_type": "stream",
     "text": [
      "Name is : shaurya\n",
      "DOB is : 18/August/1997\n"
     ]
    }
   ],
   "source": [
    "p.display_details()"
   ]
  },
  {
   "cell_type": "code",
   "execution_count": null,
   "metadata": {},
   "outputs": [],
   "source": []
  },
  {
   "cell_type": "markdown",
   "metadata": {},
   "source": [
    "# Garbage Collection/Collector\n",
    "\n",
    "- used to delete useless objects\n",
    "- to see ,is garbage collector is enable or not ;or to make it enable or disable we have:\n",
    "    - gc module with functions 1.isenable() 2.enable() 3.disable() "
   ]
  },
  {
   "cell_type": "code",
   "execution_count": 69,
   "metadata": {},
   "outputs": [],
   "source": [
    "import gc"
   ]
  },
  {
   "cell_type": "code",
   "execution_count": 70,
   "metadata": {},
   "outputs": [
    {
     "data": {
      "text/plain": [
       "True"
      ]
     },
     "execution_count": 70,
     "metadata": {},
     "output_type": "execute_result"
    }
   ],
   "source": [
    "gc.isenabled()"
   ]
  },
  {
   "cell_type": "code",
   "execution_count": 71,
   "metadata": {},
   "outputs": [],
   "source": [
    "gc.disable()"
   ]
  },
  {
   "cell_type": "code",
   "execution_count": 72,
   "metadata": {},
   "outputs": [
    {
     "data": {
      "text/plain": [
       "False"
      ]
     },
     "execution_count": 72,
     "metadata": {},
     "output_type": "execute_result"
    }
   ],
   "source": [
    "gc.isenabled()"
   ]
  },
  {
   "cell_type": "code",
   "execution_count": 73,
   "metadata": {},
   "outputs": [],
   "source": [
    "gc.enable()"
   ]
  },
  {
   "cell_type": "code",
   "execution_count": 74,
   "metadata": {},
   "outputs": [
    {
     "data": {
      "text/plain": [
       "True"
      ]
     },
     "execution_count": 74,
     "metadata": {},
     "output_type": "execute_result"
    }
   ],
   "source": [
    "gc.isenabled()"
   ]
  },
  {
   "cell_type": "code",
   "execution_count": null,
   "metadata": {},
   "outputs": [],
   "source": []
  },
  {
   "cell_type": "markdown",
   "metadata": {},
   "source": [
    "\n",
    "# Polymorphism\n",
    "\n",
    "- many forms\n",
    "- one Person many versions\n",
    "\n",
    "# Operator Overloading\n",
    "- done using magic/Dunder functions\n",
    "- for every operator , a corresponding magic function is available (https://rszalski.github.io/magicmethods/)\n",
    "- like for +(`__add__`), -(`__sub__`), *(`__mul__`), /(`__div__`)"
   ]
  },
  {
   "cell_type": "code",
   "execution_count": 113,
   "metadata": {},
   "outputs": [],
   "source": [
    "class Book():\n",
    "    def __init__(self,pages):\n",
    "        self.pages = pages\n",
    "    \n",
    "    def __add__(self,another_obj):\n",
    "        return self.pages + another_obj.pages\n",
    "    def __sub__(self,other):        \n",
    "        return self.pages - other.pages\n",
    "    def __mul__(self,other):        \n",
    "        return self.pages * other.pages\n",
    "    def __floordiv__(self,other):        \n",
    "        return self.pages // other.pages\n",
    "    def __mod__(self,other):        \n",
    "        return self.pages % other.pages    \n",
    "    def __pow__(self,other):        \n",
    "        return self.pages ** other.pages\n",
    "    def __and__(self,other):        \n",
    "        return self.pages & other.pages\n",
    "    def __or__(self,other):        \n",
    "        return self.pages | other.pages\n",
    "    def __str__(self):\n",
    "        return \"pages are {}\".format(self.pages)\n",
    "\n"
   ]
  },
  {
   "cell_type": "code",
   "execution_count": 115,
   "metadata": {},
   "outputs": [
    {
     "name": "stdout",
     "output_type": "stream",
     "text": [
      "6\n",
      "-2\n",
      "8\n",
      "2\n",
      "0\n",
      "16\n",
      "0\n",
      "6\n",
      "pages are 2\n",
      "pages are 4\n"
     ]
    }
   ],
   "source": [
    "b1 = Book(2)\n",
    "b2 = Book(4)\n",
    "\n",
    "print(b1+b2)\n",
    "print(b1-b2)\n",
    "print(b1*b2)\n",
    "print(b1%b2)\n",
    "print(b1//b2)\n",
    "print(b1**b2)\n",
    "print(b1 & b2)\n",
    "print(b1 | b2)\n",
    "print(b1)\n",
    "print(b2)"
   ]
  },
  {
   "cell_type": "markdown",
   "metadata": {},
   "source": [
    "# Various Magic Functions(Magic Dunders)\n",
    "\n",
    "    +   __add__                       +=   __iadd__\n",
    "    -   __sub__                       -=   __isub__\n",
    "    *   __mul__                       *=   __imul__\n",
    "    /   __div__                       /=   __idiv__\n",
    "    %   __mod__                       %=   __imod__\n",
    "    //  __floordiv__                  //=   __ifloordiv__\n",
    "    **  __pow__                       **=   __ipow__\n",
    "\n",
    "    \n",
    "    &   __and__\n",
    "    |   __or__\n",
    "    ^   __xor__\n",
    "    <<  __lshift__\n",
    "    >>  __rshift__\n",
    "    ~   __invert__\n",
    "\n",
    "    <   __lt__\n",
    "    >   __gt__\n",
    "    <=  __le__\n",
    "    >=  __ge__\n",
    "    ==  __eq__\n",
    "    !=  __ne__\n",
    "    \n",
    "    \n",
    "    print()  __str__ or __repr__\n",
    "    len()  __len__"
   ]
  },
  {
   "cell_type": "code",
   "execution_count": 6,
   "metadata": {},
   "outputs": [],
   "source": [
    "# for returning table object from magic function\n",
    "class Table():\n",
    "    def __init__(self,legs):\n",
    "        self.legs = legs\n",
    "    def __add__(self,other):\n",
    "        total =  self.legs + other.legs\n",
    "        b = Table(total)\n",
    "        return b\n",
    "    def __repr__(self):\n",
    "        return f\"{self.legs}\"\n",
    "\n"
   ]
  },
  {
   "cell_type": "code",
   "execution_count": 7,
   "metadata": {},
   "outputs": [],
   "source": [
    "t1 = Table(4)\n",
    "t2 = Table(6)\n",
    "t3 = Table(8)"
   ]
  },
  {
   "cell_type": "code",
   "execution_count": 8,
   "metadata": {},
   "outputs": [
    {
     "name": "stdout",
     "output_type": "stream",
     "text": [
      "10\n"
     ]
    }
   ],
   "source": [
    "print(t1+t2)"
   ]
  },
  {
   "cell_type": "code",
   "execution_count": 10,
   "metadata": {},
   "outputs": [
    {
     "name": "stdout",
     "output_type": "stream",
     "text": [
      "18\n"
     ]
    }
   ],
   "source": [
    "print(t1+t2+t3)"
   ]
  },
  {
   "cell_type": "markdown",
   "metadata": {},
   "source": [
    "\n",
    "# INHERITANCE\n",
    "```python\n",
    "class DerivedClassName(BaseClassName):\n",
    "    <statement-1>\n",
    "    .\n",
    "    .\n",
    "    .\n",
    "    <statement-N>\n",
    "```\n",
    "![](images/inheritance.jpg)\n",
    "\n",
    "- all variables and functions of parents are now also available in our child class and we can override functions as well. \n",
    "- we can inherit static/class or instance variables to subclasses.\n",
    "- unlike c++ there is no constructor calling of parent/parents when declaring an object of supreme subclass unless explicity said to call ,use super() to call.\n",
    "- we can override any method of parent in our child class and the version which is called depends upon the object-type through which u r calling it.(i.e for c++ programmers: all methods in python are effectively virtual or we can say calling of method depends on type of object it is pointing to).\n",
    "- Python has two built-in functions that work with inheritance:\n",
    "    -Use `isinstance()` to check an instance’s type: isinstance(obj, int) will be True only if obj.__class__ is int or some class derived from int.\n",
    "    -Use `issubclass()` to check class inheritance: issubclass(bool, int) is True since bool is a subclass of int. However, issubclass(float, int) is False since float is not a subclass of int.\n",
    "   "
   ]
  },
  {
   "cell_type": "code",
   "execution_count": null,
   "metadata": {},
   "outputs": [],
   "source": []
  },
  {
   "cell_type": "markdown",
   "metadata": {},
   "source": [
    " \n",
    "# Type of Inheritance\n",
    "- Single Inheritance (1 parent 1 child) (A->B)\n",
    "- Multi-level Inheritance (chaining of single Inheritance) (A->B->C->D)\n",
    "- Hierarchical Inheritance (1 parent multiple childs) (A->B, A->C, A->D) think like binary trees i.e root up\n",
    "- Multiple Inheritance (1 child multiple parents) (B->A, C->A, D->A)\n",
    "- Hybrid Inheritance (any combination of aboves)\n",
    "\n",
    "\n",
    "# Multiple Inheritance\n",
    "Python supports a form of multiple inheritance as well. A class definition with multiple base classes looks like this:\n",
    "```python\n",
    "class DerivedClassName(Base1, Base2, Base3):\n",
    "    <statement-1>\n",
    "    .\n",
    "    .\n",
    "    .\n",
    "    <statement-N>\n",
    "```\n",
    "\n",
    "- Incase of Ambiguity problem/Diamond relationship problem (in multiple inheritance two superclassses have same method ) then order in which classes are inherited ,priority is given to the one which is written first.\n",
    "- ex i above written code, if Base1 and Base2 ,both contains a method m1(), then m1 version of Base1 will be in subclass not of Base2"
   ]
  },
  {
   "cell_type": "code",
   "execution_count": 244,
   "metadata": {},
   "outputs": [],
   "source": [
    "class Vechile():\n",
    "    def __init__(self):\n",
    "        print(\"Vechile Created\")\n",
    "            \n",
    "    def vechile_info(self):\n",
    "        print(\"I am a vechile!\")\n",
    "        \n",
    "class Car(Vechile):\n",
    "    def __init__(self,color,tyres):\n",
    "        self.color = color\n",
    "        self.tyres = tyres\n",
    "        print(\"Car created\")\n",
    "    \n",
    "    def print_details(self):\n",
    "        print(\"color is : {}\".format(self.color))\n",
    "        print(\"number of tyres : {}\".format(self.tyres))   \n",
    "        print(\"I am a Car!\")"
   ]
  },
  {
   "cell_type": "code",
   "execution_count": 245,
   "metadata": {},
   "outputs": [
    {
     "name": "stdout",
     "output_type": "stream",
     "text": [
      "Car created\n"
     ]
    }
   ],
   "source": [
    "c = Car('Blue', 4) # see no parent constructor calling"
   ]
  },
  {
   "cell_type": "code",
   "execution_count": 246,
   "metadata": {},
   "outputs": [
    {
     "name": "stdout",
     "output_type": "stream",
     "text": [
      "color is : Blue\n",
      "number of tyres : 4\n",
      "I am a Car!\n"
     ]
    }
   ],
   "source": [
    "c.print_details()"
   ]
  },
  {
   "cell_type": "code",
   "execution_count": 247,
   "metadata": {},
   "outputs": [],
   "source": [
    "class Vechile():\n",
    "    a=10\n",
    "    def __init__(self):\n",
    "        print(\"Vechile Created\")\n",
    "        self.b = 20\n",
    "        \n",
    "    def vechile_info(self):\n",
    "        print(\"I am a vechile!\")\n",
    "        \n",
    "class Car(Vechile):\n",
    "    def __init__(self,color,tyres):\n",
    "        self.color = color\n",
    "        self.tyres = tyres\n",
    "        print(\"Car created\")\n",
    "        Vechile.__init__(self) # explicitly calling parent constructor\n",
    "    \n",
    "    def print_details(self):\n",
    "        print(\"color is : {}\".format(self.color))\n",
    "        print(\"number of tyres : {}\".format(self.tyres))   \n",
    "        print(\"I am a Car!\")\n",
    "    \n",
    "    def vechile_info(self): # overriding the parent method\n",
    "        print(\"I am a Car! now...\")"
   ]
  },
  {
   "cell_type": "code",
   "execution_count": 248,
   "metadata": {},
   "outputs": [
    {
     "name": "stdout",
     "output_type": "stream",
     "text": [
      "Car created\n",
      "Vechile Created\n",
      "-------------\n",
      "Vechile Created\n"
     ]
    }
   ],
   "source": [
    "c = Car('Red',4)\n",
    "print(\"-------------\")\n",
    "v  = Vechile()"
   ]
  },
  {
   "cell_type": "code",
   "execution_count": 249,
   "metadata": {},
   "outputs": [
    {
     "name": "stdout",
     "output_type": "stream",
     "text": [
      "I am a Car! now...\n"
     ]
    }
   ],
   "source": [
    "c.vechile_info()"
   ]
  },
  {
   "cell_type": "code",
   "execution_count": 250,
   "metadata": {},
   "outputs": [
    {
     "name": "stdout",
     "output_type": "stream",
     "text": [
      "I am a vechile!\n"
     ]
    }
   ],
   "source": [
    "v.vechile_info()"
   ]
  },
  {
   "cell_type": "code",
   "execution_count": 251,
   "metadata": {},
   "outputs": [
    {
     "data": {
      "text/plain": [
       "20"
      ]
     },
     "execution_count": 251,
     "metadata": {},
     "output_type": "execute_result"
    }
   ],
   "source": [
    "c.b"
   ]
  },
  {
   "cell_type": "code",
   "execution_count": 252,
   "metadata": {},
   "outputs": [],
   "source": [
    "# Ambigity Problem\n",
    "class A:\n",
    "    def m1(self):\n",
    "        print(\"---A---\")\n",
    "class B:\n",
    "    def m1(self):\n",
    "        print(\"---B---\")\n",
    "class C(A,B): # Multiple Inheritance\n",
    "    pass\n",
    "\n",
    "class D(B,A): # Multiple Inheritance\n",
    "    pass"
   ]
  },
  {
   "cell_type": "code",
   "execution_count": 253,
   "metadata": {},
   "outputs": [],
   "source": [
    "c=C()"
   ]
  },
  {
   "cell_type": "code",
   "execution_count": 254,
   "metadata": {},
   "outputs": [
    {
     "name": "stdout",
     "output_type": "stream",
     "text": [
      "---A---\n"
     ]
    }
   ],
   "source": [
    "c.m1()"
   ]
  },
  {
   "cell_type": "code",
   "execution_count": 255,
   "metadata": {},
   "outputs": [],
   "source": [
    "d= D()"
   ]
  },
  {
   "cell_type": "code",
   "execution_count": 256,
   "metadata": {},
   "outputs": [
    {
     "name": "stdout",
     "output_type": "stream",
     "text": [
      "---B---\n"
     ]
    }
   ],
   "source": [
    "d.m1()"
   ]
  },
  {
   "cell_type": "markdown",
   "metadata": {},
   "source": [
    "- Mro \n",
    "- C3 Algorithm\n",
    "- (mro(x) = merge(mro(base1) + mro(base2) + base1 base2)) if x is class that is mutiply inherited form base1 and base2 "
   ]
  },
  {
   "cell_type": "code",
   "execution_count": 257,
   "metadata": {},
   "outputs": [
    {
     "data": {
      "text/plain": [
       "[__main__.D, __main__.B, __main__.A, object]"
      ]
     },
     "execution_count": 257,
     "metadata": {},
     "output_type": "execute_result"
    }
   ],
   "source": [
    "D.mro() \n",
    "# mro is method resolution order\n",
    "# details on (https://www.youtube.com/watch?v=w0GlHaBP364&list=PLd3UqWTnYXOkzPunQOObl4m_7i6aOIoQD&index=16)\n",
    "                                                    #  or\n",
    "# in the simplest cases, you can think of the search for attributes inherited from a parent class as depth-first,\n",
    "# left-to-right, not searching twice in the same class where there is an overlap in the hierarchy. Thus, if an attribute is\n",
    "# not found in DerivedClassName, it is searched for in Base1,\n",
    "# then (recursively) in the base classes of Base1, and if it was not found there, it was searched for in Base2, so on"
   ]
  },
  {
   "cell_type": "markdown",
   "metadata": {},
   "source": [
    "# Super()"
   ]
  },
  {
   "cell_type": "markdown",
   "metadata": {},
   "source": [
    "\n",
    "- helpful in inheritance\n",
    "- to call parent class members we use super() method\n",
    "- advantage -> code usability\n",
    "- limitation -> using super() we cannot call instance variables of super class instead use self beacuse parent class variables are now subclass variables (# point x)\n",
    "- in java , super() was used to call the constructor of parent using `super(arguments to parent constructor)`.\n",
    "- but in python it can be use to call any method of parent `super().funky(arguments to method funky)`.\n",
    "- another difference is that if method called by super is not found in parent ,then it will go deep into the hierarchy and search for method to call . (# point a)\n",
    "- using super(), PVM automatically knows about the object. "
   ]
  },
  {
   "cell_type": "code",
   "execution_count": 308,
   "metadata": {},
   "outputs": [],
   "source": [
    "\n",
    "class Person:\n",
    "    a=10\n",
    "    def __init__(self,name,age):\n",
    "        self.name = name\n",
    "        self.age = age\n",
    "        self.b=20\n",
    "    def printPerson(self):\n",
    "        print(f\"name is :{self.name}\")        \n",
    "        print(f\"age is :{self.age}\")\n",
    "\n",
    "class Student(Person):\n",
    "    def __init__(self,name,age,rollno,marks):\n",
    "        super().__init__(name,age)\n",
    "        self.rollno = rollno\n",
    "        self.marks = marks\n",
    "        \n",
    "    def printPerson(self):\n",
    "        print(super().a)\n",
    "        print(self.a)\n",
    "        print(self.b)\n",
    "        # print(super().b) # error here point x\n",
    "        super().printPerson()\n",
    "        print(f\"rollno is :{self.rollno}\")        \n",
    "        print(f\"marks are : {self.marks}\")\n",
    "        \n",
    "class Teacher(Person):\n",
    "    def __init__(self,name,age,teacher_id):\n",
    "        super().__init__(name,age)\n",
    "        self.teacher_id = teacher_id\n",
    "    def printPerson(self):  \n",
    "        super().printPerson()\n",
    "        print(f\"teacher_id is :{self.teacher_id}\")        \n"
   ]
  },
  {
   "cell_type": "code",
   "execution_count": 309,
   "metadata": {},
   "outputs": [],
   "source": [
    "t = Teacher('shaurya',21,1123)"
   ]
  },
  {
   "cell_type": "code",
   "execution_count": 310,
   "metadata": {},
   "outputs": [
    {
     "name": "stdout",
     "output_type": "stream",
     "text": [
      "name is :shaurya\n",
      "age is :21\n",
      "teacher_id is :1123\n"
     ]
    }
   ],
   "source": [
    "t.printPerson()"
   ]
  },
  {
   "cell_type": "code",
   "execution_count": 311,
   "metadata": {},
   "outputs": [],
   "source": [
    "s = Student('shaurya', '21',rollno = '1123', marks = '23')"
   ]
  },
  {
   "cell_type": "code",
   "execution_count": 312,
   "metadata": {},
   "outputs": [
    {
     "name": "stdout",
     "output_type": "stream",
     "text": [
      "10\n",
      "10\n",
      "20\n",
      "name is :shaurya\n",
      "age is :21\n",
      "rollno is :1123\n",
      "marks are : 23\n"
     ]
    }
   ],
   "source": [
    "s.printPerson()"
   ]
  },
  {
   "cell_type": "code",
   "execution_count": null,
   "metadata": {},
   "outputs": [],
   "source": []
  },
  {
   "cell_type": "code",
   "execution_count": 11,
   "metadata": {},
   "outputs": [],
   "source": [
    "# point a Example\n",
    "class A:\n",
    "    def m(self):\n",
    "        print('A')\n",
    "class B(A):\n",
    "    def m(self):\n",
    "        print('B')\n",
    "class C(B):\n",
    "    def m(self):\n",
    "        print('C')\n",
    "class D(C):\n",
    "    def m(self):\n",
    "        print('D')\n",
    "class E(D):\n",
    "    def m(self):\n",
    "        super().m()\n",
    "        print('E')"
   ]
  },
  {
   "cell_type": "code",
   "execution_count": 314,
   "metadata": {},
   "outputs": [],
   "source": [
    "e = E()\n"
   ]
  },
  {
   "cell_type": "code",
   "execution_count": 315,
   "metadata": {},
   "outputs": [
    {
     "name": "stdout",
     "output_type": "stream",
     "text": [
      "D\n",
      "E\n"
     ]
    }
   ],
   "source": [
    "e.m()"
   ]
  },
  {
   "cell_type": "code",
   "execution_count": 316,
   "metadata": {},
   "outputs": [],
   "source": [
    "# point a Example - changed to show the point\n",
    "class A:\n",
    "    def m(self):\n",
    "        print('A')\n",
    "class B(A):\n",
    "    def m(self):\n",
    "        print('B')\n",
    "class C(B):\n",
    "    def m(self):\n",
    "        print('C')\n",
    "class D(C):\n",
    "    pass # changed here\n",
    "class E(D):\n",
    "    def m(self):\n",
    "        super().m()\n",
    "        print('E')"
   ]
  },
  {
   "cell_type": "code",
   "execution_count": 317,
   "metadata": {},
   "outputs": [],
   "source": [
    "e= E()"
   ]
  },
  {
   "cell_type": "code",
   "execution_count": 318,
   "metadata": {},
   "outputs": [
    {
     "name": "stdout",
     "output_type": "stream",
     "text": [
      "C\n",
      "E\n"
     ]
    }
   ],
   "source": [
    "e.m()"
   ]
  },
  {
   "cell_type": "markdown",
   "metadata": {},
   "source": [
    "# Ways to call particular method of a particular parent if multiple parents are there?\n",
    "(point b)\n",
    "- 1. use class_name.method() instead of super() \n",
    "    - will call method() of class_name # way 1\n",
    "- 2. or use super(class_name,self).method()\n",
    "    - will call super() on class_name hence calling parent of class_name 's method()"
   ]
  },
  {
   "cell_type": "code",
   "execution_count": 305,
   "metadata": {},
   "outputs": [],
   "source": [
    "# point b Example\n",
    "class A:\n",
    "    def m(self):\n",
    "        print('A')\n",
    "class B(A):\n",
    "    def m(self):\n",
    "        print('B')\n",
    "class C(B):\n",
    "    def m(self):\n",
    "        print('C')\n",
    "class D(C):\n",
    "    def m(self):\n",
    "        print('D')\n",
    "class E(D):\n",
    "    def m(self):\n",
    "        A.m(self)  # way 1\n",
    "        super(C,self).m() # way2\n",
    "        print('E')"
   ]
  },
  {
   "cell_type": "code",
   "execution_count": 306,
   "metadata": {},
   "outputs": [],
   "source": [
    "e= E()"
   ]
  },
  {
   "cell_type": "code",
   "execution_count": 307,
   "metadata": {},
   "outputs": [
    {
     "name": "stdout",
     "output_type": "stream",
     "text": [
      "A\n",
      "B\n",
      "E\n"
     ]
    }
   ],
   "source": [
    "e.m()"
   ]
  },
  {
   "cell_type": "markdown",
   "metadata": {},
   "source": [
    "# Private Variables\n",
    "\n",
    "- “Private” instance variables that cannot be accessed except from inside an object don’t exist in Python. However, there is a convention that is followed by most Python code: a name prefixed with an underscore (e.g. `_spam`) should be treated as a non-public part of the API (whether it is a function, a method or a data member). It should be considered an implementation detail and subject to change without notice.\n",
    "\n",
    "- Since there is a valid use-case for class-private members (namely to avoid name clashes of names with names defined by subclasses), there is limited support for such a mechanism, called `name mangling`.\n",
    "\n",
    "- Any identifier of the form `__spam` (at least two leading underscores, at most one trailing underscore) is textually replaced with `_classname__spam`, where classname is the current class name with leading underscore(s) stripped. \n",
    "\n",
    "- This mangling is done without regard to the syntactic position of the identifier, as long as it occurs within the definition of a class.\n",
    "\n",
    "- Name mangling is helpful for letting subclasses override methods without breaking intraclass method calls. For example:\n"
   ]
  },
  {
   "cell_type": "code",
   "execution_count": null,
   "metadata": {},
   "outputs": [],
   "source": []
  },
  {
   "cell_type": "markdown",
   "metadata": {},
   "source": [
    "\n",
    "```python\n",
    "class Mapping:\n",
    "    def __init__(self, iterable):\n",
    "        self.items_list = []\n",
    "        self.__update(iterable)\n",
    "\n",
    "    def update(self, iterable):\n",
    "        for item in iterable:\n",
    "            self.items_list.append(item)\n",
    "\n",
    "    __update = update   # private copy of original update() method\n",
    "\n",
    "class MappingSubclass(Mapping):\n",
    "\n",
    "    def update(self, keys, values):\n",
    "        # provides new signature for update()\n",
    "        # but does not break __init__()\n",
    "        for item in zip(keys, values):\n",
    "            self.items_list.append(item)\n",
    "```"
   ]
  },
  {
   "cell_type": "code",
   "execution_count": null,
   "metadata": {},
   "outputs": [],
   "source": []
  },
  {
   "cell_type": "markdown",
   "metadata": {},
   "source": [
    "- The above example would work even if MappingSubclass were to introduce a `__update identifier` since it is replaced with\n",
    "`_Mapping__update` in the Mapping class and `_MappingSubclass__update` in the MappingSubclass class respectively.\n",
    "\n",
    "- Note that the mangling rules are designed mostly to avoid accidents; it still is possible to access or modify a variable that is considered private. \n",
    "- This can even be useful in special circumstances, such as in the debugger."
   ]
  },
  {
   "cell_type": "code",
   "execution_count": null,
   "metadata": {},
   "outputs": [],
   "source": []
  },
  {
   "cell_type": "code",
   "execution_count": 336,
   "metadata": {},
   "outputs": [],
   "source": [
    "class test:\n",
    "    def __init__(self):\n",
    "        self.a = 12\n",
    "        self._b = 21 # this becomes non-public hence can't be access outside class as b but can be used as _b\n",
    "        self.__c = 23 # this becomes non-public hence can't be access anywhere with c or _c or __c"
   ]
  },
  {
   "cell_type": "code",
   "execution_count": 337,
   "metadata": {},
   "outputs": [],
   "source": [
    "t= test()"
   ]
  },
  {
   "cell_type": "code",
   "execution_count": 338,
   "metadata": {},
   "outputs": [
    {
     "data": {
      "text/plain": [
       "12"
      ]
     },
     "execution_count": 338,
     "metadata": {},
     "output_type": "execute_result"
    }
   ],
   "source": [
    "t.a"
   ]
  },
  {
   "cell_type": "code",
   "execution_count": 339,
   "metadata": {},
   "outputs": [
    {
     "ename": "AttributeError",
     "evalue": "'test' object has no attribute 'b'",
     "output_type": "error",
     "traceback": [
      "\u001b[1;31m---------------------------------------------------------------------------\u001b[0m",
      "\u001b[1;31mAttributeError\u001b[0m                            Traceback (most recent call last)",
      "\u001b[1;32m<ipython-input-339-f650d918d24c>\u001b[0m in \u001b[0;36m<module>\u001b[1;34m\u001b[0m\n\u001b[1;32m----> 1\u001b[1;33m \u001b[0mt\u001b[0m\u001b[1;33m.\u001b[0m\u001b[0mb\u001b[0m\u001b[1;33m\u001b[0m\u001b[1;33m\u001b[0m\u001b[0m\n\u001b[0m",
      "\u001b[1;31mAttributeError\u001b[0m: 'test' object has no attribute 'b'"
     ]
    }
   ],
   "source": [
    "t.b"
   ]
  },
  {
   "cell_type": "code",
   "execution_count": 334,
   "metadata": {},
   "outputs": [
    {
     "data": {
      "text/plain": [
       "21"
      ]
     },
     "execution_count": 334,
     "metadata": {},
     "output_type": "execute_result"
    }
   ],
   "source": [
    "t._b"
   ]
  },
  {
   "cell_type": "code",
   "execution_count": 340,
   "metadata": {},
   "outputs": [
    {
     "ename": "AttributeError",
     "evalue": "'test' object has no attribute '__b'",
     "output_type": "error",
     "traceback": [
      "\u001b[1;31m---------------------------------------------------------------------------\u001b[0m",
      "\u001b[1;31mAttributeError\u001b[0m                            Traceback (most recent call last)",
      "\u001b[1;32m<ipython-input-340-ef494d71fdc8>\u001b[0m in \u001b[0;36m<module>\u001b[1;34m\u001b[0m\n\u001b[1;32m----> 1\u001b[1;33m \u001b[0mt\u001b[0m\u001b[1;33m.\u001b[0m\u001b[0m__b\u001b[0m\u001b[1;33m\u001b[0m\u001b[1;33m\u001b[0m\u001b[0m\n\u001b[0m",
      "\u001b[1;31mAttributeError\u001b[0m: 'test' object has no attribute '__b'"
     ]
    }
   ],
   "source": [
    "t.__b"
   ]
  },
  {
   "cell_type": "code",
   "execution_count": 341,
   "metadata": {},
   "outputs": [
    {
     "ename": "AttributeError",
     "evalue": "'test' object has no attribute 'c'",
     "output_type": "error",
     "traceback": [
      "\u001b[1;31m---------------------------------------------------------------------------\u001b[0m",
      "\u001b[1;31mAttributeError\u001b[0m                            Traceback (most recent call last)",
      "\u001b[1;32m<ipython-input-341-99b9c3448745>\u001b[0m in \u001b[0;36m<module>\u001b[1;34m\u001b[0m\n\u001b[1;32m----> 1\u001b[1;33m \u001b[0mt\u001b[0m\u001b[1;33m.\u001b[0m\u001b[0mc\u001b[0m\u001b[1;33m\u001b[0m\u001b[1;33m\u001b[0m\u001b[0m\n\u001b[0m",
      "\u001b[1;31mAttributeError\u001b[0m: 'test' object has no attribute 'c'"
     ]
    }
   ],
   "source": [
    "t.c"
   ]
  },
  {
   "cell_type": "code",
   "execution_count": 342,
   "metadata": {},
   "outputs": [
    {
     "ename": "AttributeError",
     "evalue": "'test' object has no attribute '_c'",
     "output_type": "error",
     "traceback": [
      "\u001b[1;31m---------------------------------------------------------------------------\u001b[0m",
      "\u001b[1;31mAttributeError\u001b[0m                            Traceback (most recent call last)",
      "\u001b[1;32m<ipython-input-342-18197773994e>\u001b[0m in \u001b[0;36m<module>\u001b[1;34m\u001b[0m\n\u001b[1;32m----> 1\u001b[1;33m \u001b[0mt\u001b[0m\u001b[1;33m.\u001b[0m\u001b[0m_c\u001b[0m\u001b[1;33m\u001b[0m\u001b[1;33m\u001b[0m\u001b[0m\n\u001b[0m",
      "\u001b[1;31mAttributeError\u001b[0m: 'test' object has no attribute '_c'"
     ]
    }
   ],
   "source": [
    "t._c"
   ]
  },
  {
   "cell_type": "code",
   "execution_count": 343,
   "metadata": {},
   "outputs": [
    {
     "ename": "AttributeError",
     "evalue": "'test' object has no attribute '__c'",
     "output_type": "error",
     "traceback": [
      "\u001b[1;31m---------------------------------------------------------------------------\u001b[0m",
      "\u001b[1;31mAttributeError\u001b[0m                            Traceback (most recent call last)",
      "\u001b[1;32m<ipython-input-343-bfcba562b02f>\u001b[0m in \u001b[0;36m<module>\u001b[1;34m\u001b[0m\n\u001b[1;32m----> 1\u001b[1;33m \u001b[0mt\u001b[0m\u001b[1;33m.\u001b[0m\u001b[0m__c\u001b[0m\u001b[1;33m\u001b[0m\u001b[1;33m\u001b[0m\u001b[0m\n\u001b[0m",
      "\u001b[1;31mAttributeError\u001b[0m: 'test' object has no attribute '__c'"
     ]
    }
   ],
   "source": [
    "t.__c"
   ]
  },
  {
   "cell_type": "code",
   "execution_count": null,
   "metadata": {},
   "outputs": [],
   "source": []
  },
  {
   "cell_type": "markdown",
   "metadata": {},
   "source": [
    "## Note\n",
    "- deleting something just deletes the variable form memory, doesn't clear the memory itself.\n",
    "- it is the garbage collector that does that in python and java(Garbage collector based languages).\n",
    "- In c++ it deletes the memory that's  we need to tell whether delete array or variable because it clears the memory ."
   ]
  },
  {
   "cell_type": "code",
   "execution_count": null,
   "metadata": {},
   "outputs": [],
   "source": []
  },
  {
   "cell_type": "code",
   "execution_count": null,
   "metadata": {},
   "outputs": [],
   "source": []
  },
  {
   "cell_type": "code",
   "execution_count": null,
   "metadata": {},
   "outputs": [],
   "source": []
  }
 ],
 "metadata": {
  "kernelspec": {
   "display_name": "Python 3",
   "language": "python",
   "name": "python3"
  },
  "language_info": {
   "codemirror_mode": {
    "name": "ipython",
    "version": 3
   },
   "file_extension": ".py",
   "mimetype": "text/x-python",
   "name": "python",
   "nbconvert_exporter": "python",
   "pygments_lexer": "ipython3",
   "version": "3.7.1"
  }
 },
 "nbformat": 4,
 "nbformat_minor": 2
}
