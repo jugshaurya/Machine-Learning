{
 "cells": [
  {
   "cell_type": "markdown",
   "metadata": {},
   "source": [
    "#                  Python - Basics and Various Datatypes \n",
    "![](images/python_logo.jpg)"
   ]
  },
  {
   "cell_type": "markdown",
   "metadata": {},
   "source": [
    "- Python is a genral purpose high level programming language\n",
    "- Developed by Guido van Rossum and Released in 1995\n",
    "- named after BBC show `Monty Python's Circus`\n"
   ]
  },
  {
   "cell_type": "markdown",
   "metadata": {},
   "source": [
    "\n",
    "# Features of Python\n",
    "- **Simple and easy to learn**\n",
    "- **Opensource language**\n",
    "- **Platform independent**  (means can run of any operating system)\n",
    "- **Portable** (any python program written on one OS can be shifted to other OS without any changes)\n",
    "- **Dynamically typed**   (Python uses *dynamic typing*, meaning you can reassign variables to different data types at any point of time . This makes Python very flexible in assigning data types; it differs from other languages which are *statically typed*.\n",
    ")\n",
    "\n",
    "- **Interpreted**(An interpreted language is a type of programming language for which most of its implementations execute instructions directly and freely, without previously compiling a program into machine-language instructions. ... Java and C# are compiled into bytecode, the virtual-machine-friendly interpreted language.)\n",
    "- **Extensible** ( can use c like languages code as well in python Script)\n",
    "- **Embedded**  (can use python in other languages)\n",
    "- **Extensive Libraries**\n",
    "![](images/guido_van_rossum.jpg)"
   ]
  },
  {
   "cell_type": "markdown",
   "metadata": {},
   "source": [
    "## Indentation\n",
    "- Whitespace is important in Python. \n",
    "\n",
    "- Actually, whitespace at the beginning of the line is important. This is called indentation. \n",
    "\n",
    "- Leading whitespace (spaces and tabs) at the beginning of the logical line is used to determine the indentation level of  the logical line, which in turn is used to determine the grouping of statements.\n",
    "\n",
    "- This means that statements which go together must have the same indentation. Each such set of statements is called a block."
   ]
  },
  {
   "cell_type": "code",
   "execution_count": null,
   "metadata": {},
   "outputs": [],
   "source": []
  },
  {
   "cell_type": "markdown",
   "metadata": {},
   "source": [
    "---\n",
    "# \t\t\t\t\t\t\t\t\t\t\t\t\tIdentifiers in Python\n",
    "\n",
    "\n",
    "    1. should contain a-z ,A-Z, 0-9, _\n",
    "    2. should not start with digit\n",
    "    3. Case sensitive\n",
    "    4. dont use reserved keywords\n",
    "    5. no limit on variable length\n",
    "\n",
    "6. Don't use \n",
    "---\n",
    "    _x --> private \n",
    "\t__x -> strongly private\n",
    "\t__x__ -> python language specific identifiers ex __main__, __add__, __init__\n",
    "\n",
    "\n",
    "\n",
    "\t\t\t\t\t\t\t\t\t\t\t\t\t------------------\n",
    "\t\t\t\t\t\t\t\t\t\t\t\t\tNot in python\n",
    "\t\t\t\t\t\t\t\t\t\t\t\t\t-----------------\n",
    "    1. do while loop\n",
    "    2. switch \n",
    "    3. else if ( because elif is there)\n",
    "    4. catch(instead have except)\n",
    "\n",
    "\n",
    "\t\t\t\t\t\t\t\t\t\t\t\t----------------------\n",
    "\t\t\t\t\t\t\t\t\t\t\t\tKeywords in Python\n",
    "\t\t\t\t\t\t\t\t\t\t\t\t-----------------------\n",
    "There are 35 keywords\n",
    "\n",
    "\n",
    "    True, False, None,\n",
    "    and,or,not,is,\n",
    "    if,else,elif,\n",
    "    while, for, break, continue, return, in, yield,\n",
    "    try, except(instead of catch), finally, assert, raise(instead of throw)\n",
    "    pass, import, from, as, class, def\n",
    "    global, nonlocal ,lambda, del, with\n",
    "    async,await\n",
    
    "\n",
    "note--> all keywords contain alphabets only and two of them starts with capital words\n",
    "\n",
    "\t"
   ]
  },
  {
   "cell_type": "code",
   "execution_count": null,
   "metadata": {},
   "outputs": [],
   "source": []
  },
  {
   "cell_type": "markdown",
   "metadata": {},
   "source": [
    "                                                ----------------------\n",
    "                                                        Note\n",
    "\t\t\t\t\t\t\t\t\t\t\t\t------------------------\n",
    "type\n",
    "\n",
    "    import keyword\n",
    "    keyword.kwlist\n",
    "we get->\n",
    "\n",
    "['False', 'None', 'True', 'and', 'as', 'assert', 'async', 'await', 'break', 'class', 'continue', 'def', 'del', 'elif', 'else', 'except', 'finally', 'for', 'from', 'global', 'if', 'import', 'in', 'is', 'lambda', 'nonlocal', 'not', 'or', 'pass', 'raise', 'return', 'try', 'while', 'with', 'yield']"
   ]
  },
  {
   "cell_type": "code",
   "execution_count": 1,
   "metadata": {},
   "outputs": [],
   "source": [
    "import keyword\n"
   ]
  },
  {
   "cell_type": "code",
   "execution_count": 2,
   "metadata": {},
   "outputs": [
    {
     "data": {
      "text/plain": [
       "['False',\n",
       " 'None',\n",
       " 'True',\n",
       " 'and',\n",
       " 'as',\n",
       " 'assert',\n",
       " 'async',\n",
       " 'await',\n",
       " 'break',\n",
       " 'class',\n",
       " 'continue',\n",
       " 'def',\n",
       " 'del',\n",
       " 'elif',\n",
       " 'else',\n",
       " 'except',\n",
       " 'finally',\n",
       " 'for',\n",
       " 'from',\n",
       " 'global',\n",
       " 'if',\n",
       " 'import',\n",
       " 'in',\n",
       " 'is',\n",
       " 'lambda',\n",
       " 'nonlocal',\n",
       " 'not',\n",
       " 'or',\n",
       " 'pass',\n",
       " 'raise',\n",
       " 'return',\n",
       " 'try',\n",
       " 'while',\n",
       " 'with',\n",
       " 'yield']"
      ]
     },
     "execution_count": 2,
     "metadata": {},
     "output_type": "execute_result"
    }
   ],
   "source": [
    "keyword.kwlist"
   ]
  },
  {
   "cell_type": "code",
   "execution_count": null,
   "metadata": {},
   "outputs": [],
   "source": []
  },
  {
   "cell_type": "markdown",
   "metadata": {},
   "source": [
    "---\n",
    "#                    Data types in Python (14 data types are there)\n",
    "\n",
    "### Fundamental--> all are immutable\n",
    "\n",
    "- int (long was i python 2, but not in python 3) \n",
    "- float\n",
    "- complex\n",
    "- bool\n",
    "- str\n",
    "\n",
    "### Collection related Data Types-->\n",
    "\n",
    "- bytes  -> represent group of values in range 0 to 256 but immutable.\n",
    "- bytearray  -> same as bytes but mutable\n",
    "- range -> immutable represent group of continiuous values .\n",
    "- list -> mutable\n",
    "- set -> mutable\n",
    "- tuple -> immutable\n",
    "- frozenset -> immutable\n",
    "- dict -> mutable\n",
    "- None\n",
    "\n",
    "\n",
    "###### Note \n",
    "\n",
    "- In python every thing is object.\n",
    "- every sequence that maintains order in which they are inserted ,we can use slicing(string,list,tuple,range).\n",
    "\n",
    "                                        ----------------------------------------\n",
    "\t\t\t\t\t\t\t\t\t\tPython provide some inbuild function\n",
    "\t\t\t\t\t\t\t\t\t\t--------------------------------------\n",
    "- print() \n",
    "- type()\n",
    "- id(a) -> prints the address of a\n",
    "- input()\n",
    "\n",
    "\t\t\t\t\t\t\t\t\t\t-----------------------------------------\n",
    "\t\t\t\t\t\t\t\t\t\t\t\t\t# int data-type \n",
    "\t\t\t\t\t\t\t\t\t\t-------------------------------------------\n",
    "- a=10 creates an object of class 'int' named a.\n",
    "- can be represented in 4 forms\n",
    "\n",
    "\n",
    "    1.Decimal form (a=10)\n",
    "    2. octal ( a = 0o12 ) ->starts with zero 'o' or 'O'.\n",
    "    3. hexadecimal form ( a = 0x12 ) -> starts with zero 'x' or 'X'.\n",
    "    4. Binary  (a = 0b10)  ->starts with 0b or 0B\n",
    "         0b11 is 3\n",
    "        -0b11 is -3\n",
    "\n",
    "\n",
    "*********** NOte\n",
    "\n",
    "- size of object is not fixed in any language.\n",
    "- and because everything is object in python , no data type has its range and hence no limits on the amount of data a varible can store.\n",
    "\n",
    "- a=999999999999, this is also valid and infact of type class 'int'.\n",
    "\n",
    "\t\t\t\t\t\t\t\t\t\t\t------------------------------\n",
    "\t\t\t\t\t\t\t\t\t\t\tBase Coversion Utility fuction\n",
    "\t\t\t\t\t\t\t\t\t\t\t---------------------------------\n",
    "\n",
    "- bin(x) \n",
    "    - convert x to binary x can be decimal,octal,hexa and returns a string having binary representation of x\n",
    "- oct(x)\n",
    "- hex(x)\n",
    "\n",
    "\t\t\t\t\t\t\t\t\t---------------------------------------------------\n",
    "\t\t\t\t\t\t\t\t\t\t\t\t\t# float data-type\n",
    "\t\t\t\t\t\t\t\t\t----------------------------------------------\n",
    "- There is only one type of floating point i.e decimal no other form exists here.\n",
    "\n",
    "        can be written in\n",
    "        Exponential form\n",
    "        f = 1.2e3 -> 1.2 * 10^3 = 1200.0 is valid.\n",
    "        f = 1e5 ,1e-1, 1.2e-6 are valid\n",
    "\n",
    "\t\t\t\t\t\t\t\t\t\t\t ------------------------------\n",
    "\t\t\t\t\t\t\t\t\t\t\t\t\t complex-dataType\n",
    "\t\t\t\t\t\t\t\t\t\t\t---------------------------------\n",
    "\n",
    "- 2+3j (dont use i ; only j is supported beacuse of electrical engineering ; i is consider current and j=sqrt(-1)).\n",
    "\n",
    "\n",
    "## Rules \n",
    "\n",
    "\n",
    "if a+bj ->complex number\n",
    "\n",
    "\n",
    "    1. a and b can be int/float.\n",
    "    2. a can be in any form (base 2,8,16) but b must be a decimal value.\n",
    "    3. we can perform mathematical operation on complex number\n",
    "    a = 20+3j\n",
    "    b =  23 + 23j\n",
    "    a+b is valid\n",
    "    a-b is valid\n",
    "    a*b is valid\n",
    " \n",
    "4.  **a.real** gives real part  and  \t**a.imag** gives imaginary part\n",
    "\n",
    "\t\t\t\t\t\t\t\t\t\t\t\t\t--------------------\n",
    "\t\t\t\t\t\t\t\t\t\t\t\t\t\t\tbool\n",
    "\t\t\t\t\t\t\t\t\t\t\t\t\t-----------------------\n",
    "- True and False \n",
    "    True is stored as 1 \n",
    "    False is stored as 0\n",
    "\n",
    "    so\n",
    "    True + True  = 2  and True + False  = 1\n"
   ]
  },
  {
   "cell_type": "code",
   "execution_count": 4,
   "metadata": {},
   "outputs": [],
   "source": [
    "a=False\n"
   ]
  },
  {
   "cell_type": "code",
   "execution_count": 5,
   "metadata": {},
   "outputs": [
    {
     "data": {
      "text/plain": [
       "False"
      ]
     },
     "execution_count": 5,
     "metadata": {},
     "output_type": "execute_result"
    }
   ],
   "source": [
    "a\n"
   ]
  },
  {
   "cell_type": "code",
   "execution_count": 17,
   "metadata": {},
   "outputs": [],
   "source": [
    "a = 4<7\n"
   ]
  },
  {
   "cell_type": "code",
   "execution_count": 18,
   "metadata": {},
   "outputs": [
    {
     "data": {
      "text/plain": [
       "True"
      ]
     },
     "execution_count": 18,
     "metadata": {},
     "output_type": "execute_result"
    }
   ],
   "source": [
    "a\n",
    "\n"
   ]
  },
  {
   "cell_type": "code",
   "execution_count": null,
   "metadata": {},
   "outputs": [],
   "source": [
    "a = 45>76\n"
   ]
  },
  {
   "cell_type": "code",
   "execution_count": 13,
   "metadata": {},
   "outputs": [
    {
     "data": {
      "text/plain": [
       "False"
      ]
     },
     "execution_count": 13,
     "metadata": {},
     "output_type": "execute_result"
    }
   ],
   "source": [
    "a\n"
   ]
  },
  {
   "cell_type": "code",
   "execution_count": 21,
   "metadata": {},
   "outputs": [
    {
     "data": {
      "text/plain": [
       "2"
      ]
     },
     "execution_count": 21,
     "metadata": {},
     "output_type": "execute_result"
    }
   ],
   "source": [
    "True+True"
   ]
  },
  {
   "cell_type": "code",
   "execution_count": 22,
   "metadata": {},
   "outputs": [
    {
     "data": {
      "text/plain": [
       "3"
      ]
     },
     "execution_count": 22,
     "metadata": {},
     "output_type": "execute_result"
    }
   ],
   "source": [
    "True+True+True"
   ]
  },
  {
   "cell_type": "code",
   "execution_count": 23,
   "metadata": {},
   "outputs": [
    {
     "data": {
      "text/plain": [
       "1"
      ]
     },
     "execution_count": 23,
     "metadata": {},
     "output_type": "execute_result"
    }
   ],
   "source": [
    "True+False"
   ]
  },
  {
   "cell_type": "code",
   "execution_count": 44,
   "metadata": {},
   "outputs": [
    {
     "data": {
      "text/plain": [
       "1.0"
      ]
     },
     "execution_count": 44,
     "metadata": {},
     "output_type": "execute_result"
    }
   ],
   "source": [
    "True/True"
   ]
  },
  {
   "cell_type": "code",
   "execution_count": 45,
   "metadata": {},
   "outputs": [
    {
     "ename": "ZeroDivisionError",
     "evalue": "division by zero",
     "output_type": "error",
     "traceback": [
      "\u001b[1;31m---------------------------------------------------------------------------\u001b[0m",
      "\u001b[1;31mZeroDivisionError\u001b[0m                         Traceback (most recent call last)",
      "\u001b[1;32m<ipython-input-45-f64d1295bbce>\u001b[0m in \u001b[0;36m<module>\u001b[1;34m\u001b[0m\n\u001b[1;32m----> 1\u001b[1;33m \u001b[1;32mTrue\u001b[0m\u001b[1;33m/\u001b[0m\u001b[1;32mFalse\u001b[0m\u001b[1;33m\u001b[0m\u001b[1;33m\u001b[0m\u001b[0m\n\u001b[0m",
      "\u001b[1;31mZeroDivisionError\u001b[0m: division by zero"
     ]
    }
   ],
   "source": [
    "True/False"
   ]
  },
  {
   "cell_type": "code",
   "execution_count": 46,
   "metadata": {},
   "outputs": [
    {
     "data": {
      "text/plain": [
       "1"
      ]
     },
     "execution_count": 46,
     "metadata": {},
     "output_type": "execute_result"
    }
   ],
   "source": [
    "True//True"
   ]
  },
  {
   "cell_type": "code",
   "execution_count": null,
   "metadata": {},
   "outputs": [],
   "source": []
  },
  {
   "cell_type": "markdown",
   "metadata": {},
   "source": [
    "---\n",
    "#                                          str - Datatype\n",
    "\n",
    "\n",
    "    s = 'shaurya'\n",
    "    s = \"singhal\"\n",
    "\n",
    "    Both are fine in python \n",
    "    But recommended to use single quotes as this is the way it is stored internally.\n",
    "\n",
    "\n",
    "    we can store multiline string in python using triple quotes \"'sdag\n",
    "                                                                      we5tye\"\n",
    "\n",
    "    in above example line b/w two words is also taken as a part of string with exactly same white-spaces\n",
    "    we can store double quotes in a string using  multiline trick\n",
    "    str = \"\"\" i am learning \"Python\" Language\"\"\"\n",
    "\n",
    "    =========\n",
    "    strings can be accessed using indexes\n",
    "\n",
    "    indexing as follows:\n",
    "    |0|1|2|3|4|5|6|\n",
    "    |s|h|a|u|r|y|a|\n",
    "    |-7|-6|-5|-4|-3|-2|-1|\n",
    "\n",
    "    ================\n",
    "    Slice-operator (works beacause strings are ordered sequences)\n",
    "    -----------------\n",
    "    \n",
    "    s = \"shaurya\"\n",
    "    1. s[begin:end] ===-> returns substring from (begin to end-1) both including index\n",
    "    index\n",
    "\n",
    "    s[1:3] ->return 'ha'\n",
    "    s[1:]  ->return 'haurya'\n",
    "    s[:2] -> return 'sh'\n",
    "    s[:] -?> return complete string\n",
    "    str[4:1] -> return empty string as begin>=end\n",
    "    str[1:432] -> if end>greater than length of string then it will print till end only not any error. :)\n",
    "\n",
    "    2. s[begin:end:step] -> instead of default 1 jump noe there are jump of step\n",
    "    -----------------------------\n",
    "\n",
    "    s*10 ->print string s 10 times!\n",
    "    s =\"sd\"\n",
    "    s*2 = 'sdsd'\n",
    "\n",
    "\n",
    "- len(s)-> returns length of string\n",
    "- note -> char -> str type only\n"
   ]
  },
  {
   "cell_type": "code",
   "execution_count": null,
   "metadata": {},
   "outputs": [],
   "source": []
  },
  {
   "cell_type": "code",
   "execution_count": 24,
   "metadata": {},
   "outputs": [],
   "source": [
    "s ='shaurya'"
   ]
  },
  {
   "cell_type": "code",
   "execution_count": 25,
   "metadata": {},
   "outputs": [
    {
     "data": {
      "text/plain": [
       "'shaurya'"
      ]
     },
     "execution_count": 25,
     "metadata": {},
     "output_type": "execute_result"
    }
   ],
   "source": [
    "s"
   ]
  },
  {
   "cell_type": "code",
   "execution_count": 26,
   "metadata": {},
   "outputs": [],
   "source": [
    "s=\"singhal\""
   ]
  },
  {
   "cell_type": "code",
   "execution_count": 27,
   "metadata": {},
   "outputs": [
    {
     "data": {
      "text/plain": [
       "'singhal'"
      ]
     },
     "execution_count": 27,
     "metadata": {},
     "output_type": "execute_result"
    }
   ],
   "source": [
    "s\n"
   ]
  },
  {
   "cell_type": "code",
   "execution_count": 28,
   "metadata": {},
   "outputs": [
    {
     "data": {
      "text/plain": [
       "str"
      ]
     },
     "execution_count": 28,
     "metadata": {},
     "output_type": "execute_result"
    }
   ],
   "source": [
    "type(s)"
   ]
  },
  {
   "cell_type": "code",
   "execution_count": 5,
   "metadata": {},
   "outputs": [],
   "source": [
    "str ='''saf\n",
    "sadfg'''"
   ]
  },
  {
   "cell_type": "code",
   "execution_count": 6,
   "metadata": {},
   "outputs": [
    {
     "name": "stdout",
     "output_type": "stream",
     "text": [
      "saf\n",
      "sadfg\n"
     ]
    }
   ],
   "source": [
    "print(str)"
   ]
  },
  {
   "cell_type": "code",
   "execution_count": 31,
   "metadata": {},
   "outputs": [],
   "source": [
    "str=\"\"\"qwrter  \n",
    "        rwqtywe\"\"\""
   ]
  },
  {
   "cell_type": "code",
   "execution_count": 32,
   "metadata": {},
   "outputs": [
    {
     "data": {
      "text/plain": [
       "'qwrter\\n        rwqtywe'"
      ]
     },
     "execution_count": 32,
     "metadata": {},
     "output_type": "execute_result"
    }
   ],
   "source": [
    "str"
   ]
  },
  {
   "cell_type": "code",
   "execution_count": 40,
   "metadata": {},
   "outputs": [],
   "source": [
    "str=\"\"\"sfds str    \n",
    "             dhghdgdhgdgdh\"\"\""
   ]
  },
  {
   "cell_type": "code",
   "execution_count": 41,
   "metadata": {},
   "outputs": [
    {
     "data": {
      "text/plain": [
       "'sfds str    \\n             dhghdgdhgdgdh'"
      ]
     },
     "execution_count": 41,
     "metadata": {},
     "output_type": "execute_result"
    }
   ],
   "source": [
    "str"
   ]
  },
  {
   "cell_type": "code",
   "execution_count": 42,
   "metadata": {},
   "outputs": [],
   "source": [
    "str = \"\"\" i am learning \"Python\" Language\"\"\""
   ]
  },
  {
   "cell_type": "code",
   "execution_count": 43,
   "metadata": {},
   "outputs": [
    {
     "data": {
      "text/plain": [
       "' i am learning \"Python\" Language'"
      ]
     },
     "execution_count": 43,
     "metadata": {},
     "output_type": "execute_result"
    }
   ],
   "source": [
    "str"
   ]
  },
  {
   "cell_type": "code",
   "execution_count": 48,
   "metadata": {},
   "outputs": [],
   "source": [
    "str = \"shaurya\""
   ]
  },
  {
   "cell_type": "code",
   "execution_count": 49,
   "metadata": {},
   "outputs": [
    {
     "data": {
      "text/plain": [
       "'s'"
      ]
     },
     "execution_count": 49,
     "metadata": {},
     "output_type": "execute_result"
    }
   ],
   "source": [
    "str[0]"
   ]
  },
  {
   "cell_type": "code",
   "execution_count": 50,
   "metadata": {},
   "outputs": [
    {
     "data": {
      "text/plain": [
       "'r'"
      ]
     },
     "execution_count": 50,
     "metadata": {},
     "output_type": "execute_result"
    }
   ],
   "source": [
    "str[4]"
   ]
  },
  {
   "cell_type": "code",
   "execution_count": 51,
   "metadata": {},
   "outputs": [
    {
     "data": {
      "text/plain": [
       "'r'"
      ]
     },
     "execution_count": 51,
     "metadata": {},
     "output_type": "execute_result"
    }
   ],
   "source": [
    "str[-3]"
   ]
  },
  {
   "cell_type": "code",
   "execution_count": 52,
   "metadata": {},
   "outputs": [
    {
     "data": {
      "text/plain": [
       "'s'"
      ]
     },
     "execution_count": 52,
     "metadata": {},
     "output_type": "execute_result"
    }
   ],
   "source": [
    "str[-7]"
   ]
  },
  {
   "cell_type": "code",
   "execution_count": 3,
   "metadata": {},
   "outputs": [],
   "source": [
    "str = \"python\""
   ]
  },
  {
   "cell_type": "code",
   "execution_count": 4,
   "metadata": {},
   "outputs": [
    {
     "data": {
      "text/plain": [
       "'th'"
      ]
     },
     "execution_count": 4,
     "metadata": {},
     "output_type": "execute_result"
    }
   ],
   "source": [
    "str[2:4]"
   ]
  },
  {
   "cell_type": "code",
   "execution_count": 5,
   "metadata": {},
   "outputs": [
    {
     "data": {
      "text/plain": [
       "'thon'"
      ]
     },
     "execution_count": 5,
     "metadata": {},
     "output_type": "execute_result"
    }
   ],
   "source": [
    "str[2:]"
   ]
  },
  {
   "cell_type": "code",
   "execution_count": 6,
   "metadata": {},
   "outputs": [
    {
     "data": {
      "text/plain": [
       "'pytho'"
      ]
     },
     "execution_count": 6,
     "metadata": {},
     "output_type": "execute_result"
    }
   ],
   "source": [
    "str[:5]"
   ]
  },
  {
   "cell_type": "code",
   "execution_count": 7,
   "metadata": {},
   "outputs": [
    {
     "data": {
      "text/plain": [
       "'python'"
      ]
     },
     "execution_count": 7,
     "metadata": {},
     "output_type": "execute_result"
    }
   ],
   "source": [
    "str[:]"
   ]
  },
  {
   "cell_type": "code",
   "execution_count": 8,
   "metadata": {},
   "outputs": [
    {
     "data": {
      "text/plain": [
       "''"
      ]
     },
     "execution_count": 8,
     "metadata": {},
     "output_type": "execute_result"
    }
   ],
   "source": [
    "str[4:1]"
   ]
  },
  {
   "cell_type": "code",
   "execution_count": 9,
   "metadata": {},
   "outputs": [
    {
     "data": {
      "text/plain": [
       "''"
      ]
     },
     "execution_count": 9,
     "metadata": {},
     "output_type": "execute_result"
    }
   ],
   "source": [
    "str[2:2]"
   ]
  },
  {
   "cell_type": "code",
   "execution_count": 11,
   "metadata": {},
   "outputs": [
    {
     "data": {
      "text/plain": [
       "'thon'"
      ]
     },
     "execution_count": 11,
     "metadata": {},
     "output_type": "execute_result"
    }
   ],
   "source": [
    "str[2:100]"
   ]
  },
  {
   "cell_type": "code",
   "execution_count": 10,
   "metadata": {},
   "outputs": [
    {
     "data": {
      "text/plain": [
       "'to'"
      ]
     },
     "execution_count": 10,
     "metadata": {},
     "output_type": "execute_result"
    }
   ],
   "source": [
    "str[2:100:2]"
   ]
  },
  {
   "cell_type": "code",
   "execution_count": 12,
   "metadata": {},
   "outputs": [
    {
     "data": {
      "text/plain": [
       "'python'"
      ]
     },
     "execution_count": 12,
     "metadata": {},
     "output_type": "execute_result"
    }
   ],
   "source": [
    "str"
   ]
  },
  {
   "cell_type": "code",
   "execution_count": 13,
   "metadata": {},
   "outputs": [
    {
     "data": {
      "text/plain": [
       "'pythonpythonpythonpythonpythonpythonpythonpythonpythonpython'"
      ]
     },
     "execution_count": 13,
     "metadata": {},
     "output_type": "execute_result"
    }
   ],
   "source": [
    "str*10"
   ]
  },
  {
   "cell_type": "code",
   "execution_count": 16,
   "metadata": {},
   "outputs": [
    {
     "data": {
      "text/plain": [
       "6"
      ]
     },
     "execution_count": 16,
     "metadata": {},
     "output_type": "execute_result"
    }
   ],
   "source": [
    "len(str)"
   ]
  },
  {
   "cell_type": "markdown",
   "metadata": {},
   "source": [
    "---\n",
    "# Type-Casting or Type-Coersion (Arguments must be in decimal form)\n",
    "\n",
    "    int()-> int(10), int(10.0), int(\"10\")==> accepted\n",
    "             int(\"10.0\")==> ValueError, int(20+3j)=> TypeError\n",
    "    float() -> float(10), float(10.0), float(\"10\"),float(\"10.0\")==> accepted\n",
    "                float(20+3j)=> TypeError\n",
    "    str() -> convert to string\n",
    "    bool() -> return False for 0 or 0.0 or ''(empty string) and else return true\n",
    "    complex() ->  syntax complex(real,imaginary_part = 0) (both must not be string only exception, and string should be numbers only) \n",
    "    \n",
    "    list()\n",
    "    tuple()\n",
    "    bytes()\n",
    "    bytearray()\n",
    "    set()\n",
    "    dict()\n",
    "    "
   ]
  },
  {
   "cell_type": "code",
   "execution_count": 5,
   "metadata": {},
   "outputs": [],
   "source": [
    "a=int(10.0)"
   ]
  },
  {
   "cell_type": "code",
   "execution_count": 6,
   "metadata": {},
   "outputs": [
    {
     "data": {
      "text/plain": [
       "10"
      ]
     },
     "execution_count": 6,
     "metadata": {},
     "output_type": "execute_result"
    }
   ],
   "source": [
    "a"
   ]
  },
  {
   "cell_type": "code",
   "execution_count": 8,
   "metadata": {},
   "outputs": [],
   "source": [
    "a =int(\"10\")"
   ]
  },
  {
   "cell_type": "code",
   "execution_count": 9,
   "metadata": {},
   "outputs": [
    {
     "data": {
      "text/plain": [
       "10"
      ]
     },
     "execution_count": 9,
     "metadata": {},
     "output_type": "execute_result"
    }
   ],
   "source": [
    "a"
   ]
  },
  {
   "cell_type": "code",
   "execution_count": 10,
   "metadata": {},
   "outputs": [
    {
     "ename": "ValueError",
     "evalue": "invalid literal for int() with base 10: '10.34'",
     "output_type": "error",
     "traceback": [
      "\u001b[1;31m---------------------------------------------------------------------------\u001b[0m",
      "\u001b[1;31mValueError\u001b[0m                                Traceback (most recent call last)",
      "\u001b[1;32m<ipython-input-10-77975df05ea6>\u001b[0m in \u001b[0;36m<module>\u001b[1;34m\u001b[0m\n\u001b[1;32m----> 1\u001b[1;33m \u001b[0ma\u001b[0m\u001b[1;33m=\u001b[0m\u001b[0mint\u001b[0m\u001b[1;33m(\u001b[0m\u001b[1;34m'10.34'\u001b[0m\u001b[1;33m)\u001b[0m\u001b[1;33m\u001b[0m\u001b[1;33m\u001b[0m\u001b[0m\n\u001b[0m",
      "\u001b[1;31mValueError\u001b[0m: invalid literal for int() with base 10: '10.34'"
     ]
    }
   ],
   "source": [
    "a=int('10.34')"
   ]
  },
  {
   "cell_type": "code",
   "execution_count": 11,
   "metadata": {},
   "outputs": [
    {
     "data": {
      "text/plain": [
       "10.0"
      ]
     },
     "execution_count": 11,
     "metadata": {},
     "output_type": "execute_result"
    }
   ],
   "source": [
    "float('10')"
   ]
  },
  {
   "cell_type": "code",
   "execution_count": 3,
   "metadata": {},
   "outputs": [
    {
     "ename": "ValueError",
     "evalue": "invalid literal for int() with base 10: '0b101'",
     "output_type": "error",
     "traceback": [
      "\u001b[1;31m---------------------------------------------------------------------------\u001b[0m",
      "\u001b[1;31mValueError\u001b[0m                                Traceback (most recent call last)",
      "\u001b[1;32m<ipython-input-3-e6fdb621f4d0>\u001b[0m in \u001b[0;36m<module>\u001b[1;34m\u001b[0m\n\u001b[1;32m----> 1\u001b[1;33m \u001b[0mint\u001b[0m\u001b[1;33m(\u001b[0m\u001b[1;34m'0b101'\u001b[0m\u001b[1;33m)\u001b[0m\u001b[1;33m\u001b[0m\u001b[1;33m\u001b[0m\u001b[0m\n\u001b[0m",
      "\u001b[1;31mValueError\u001b[0m: invalid literal for int() with base 10: '0b101'"
     ]
    }
   ],
   "source": [
    "int('0b101')"
   ]
  },
  {
   "cell_type": "code",
   "execution_count": 12,
   "metadata": {},
   "outputs": [
    {
     "data": {
      "text/plain": [
       "0.35"
      ]
     },
     "execution_count": 12,
     "metadata": {},
     "output_type": "execute_result"
    }
   ],
   "source": [
    "float('0.35')"
   ]
  },
  {
   "cell_type": "code",
   "execution_count": 13,
   "metadata": {},
   "outputs": [
    {
     "data": {
      "text/plain": [
       "'2324.424'"
      ]
     },
     "execution_count": 13,
     "metadata": {},
     "output_type": "execute_result"
    }
   ],
   "source": [
    "str('2324.424')"
   ]
  },
  {
   "cell_type": "code",
   "execution_count": 14,
   "metadata": {},
   "outputs": [
    {
     "data": {
      "text/plain": [
       "(23+0j)"
      ]
     },
     "execution_count": 14,
     "metadata": {},
     "output_type": "execute_result"
    }
   ],
   "source": [
    "complex(23)"
   ]
  },
  {
   "cell_type": "code",
   "execution_count": 15,
   "metadata": {},
   "outputs": [
    {
     "ename": "TypeError",
     "evalue": "complex() can't take second arg if first is a string",
     "output_type": "error",
     "traceback": [
      "\u001b[1;31m---------------------------------------------------------------------------\u001b[0m",
      "\u001b[1;31mTypeError\u001b[0m                                 Traceback (most recent call last)",
      "\u001b[1;32m<ipython-input-15-ffadbc64d0d6>\u001b[0m in \u001b[0;36m<module>\u001b[1;34m\u001b[0m\n\u001b[1;32m----> 1\u001b[1;33m \u001b[0mcomplex\u001b[0m\u001b[1;33m(\u001b[0m\u001b[1;34m'True'\u001b[0m\u001b[1;33m,\u001b[0m \u001b[1;34m'False'\u001b[0m\u001b[1;33m)\u001b[0m\u001b[1;33m\u001b[0m\u001b[1;33m\u001b[0m\u001b[0m\n\u001b[0m",
      "\u001b[1;31mTypeError\u001b[0m: complex() can't take second arg if first is a string"
     ]
    }
   ],
   "source": [
    "complex('True', 'False')"
   ]
  },
  {
   "cell_type": "code",
   "execution_count": 17,
   "metadata": {},
   "outputs": [
    {
     "data": {
      "text/plain": [
       "(12+0j)"
      ]
     },
     "execution_count": 17,
     "metadata": {},
     "output_type": "execute_result"
    }
   ],
   "source": [
    "complex('12')"
   ]
  },
  {
   "cell_type": "code",
   "execution_count": 18,
   "metadata": {},
   "outputs": [
    {
     "data": {
      "text/plain": [
       "(1+0j)"
      ]
     },
     "execution_count": 18,
     "metadata": {},
     "output_type": "execute_result"
    }
   ],
   "source": [
    "\n",
    "complex(True, False)"
   ]
  },
  {
   "cell_type": "markdown",
   "metadata": {},
   "source": [
    "\n",
    "---\n",
    "#                                         IMMUTABLE -Property\n",
    "\n",
    "we cannot change any object if we try to do that then new object is created only to store new value . \n",
    "\n",
    "\n",
    "#                                  Reusing Concept in Python\n",
    "\n",
    "objects of type int (from 0 to 256)) , bool and str share the same memory space which means for various int's and str  (with same value) we have same memory assigned to all variables/objects.\n",
    "\n",
    "     a = 'hyderabad' #id(a) =>12435354\n",
    "     b = 'hyderabad' #id(b) =>12435354\n",
    "     c = 'hyderabad' #id(c) =>12435354\n",
    "     d = 'hyderabad' #id(d) =>12435354\n",
    "\n",
    "     a=23\n",
    "     b=23\n",
    "     id(a) =id(b) = 2134563\n",
    "\n",
    "     but\n",
    "     a=257\n",
    "     b=257\n",
    "\n",
    "     id(a) is not id(b).\n",
    "\n",
    "- for floating , complex numbers this reusing concept is not applicable.\n"
   ]
  },
  {
   "cell_type": "code",
   "execution_count": 9,
   "metadata": {},
   "outputs": [],
   "source": [
    "a,b,c =True,True,True"
   ]
  },
  {
   "cell_type": "code",
   "execution_count": 10,
   "metadata": {},
   "outputs": [
    {
     "name": "stdout",
     "output_type": "stream",
     "text": [
      "ads\n",
      "1807708592\n",
      "-----\n",
      "1807708592\n",
      "1807708592\n"
     ]
    }
   ],
   "source": [
    "print(\"ads\")\n",
    "print(id(a))\n",
    "print(\"-----\")\n",
    "print(id(b))\n",
    "print(id(c))"
   ]
  },
  {
   "cell_type": "markdown",
   "metadata": {},
   "source": [
    "---                                 \n",
    "#                                                 bytes(Immutable)\n",
    "\n",
    "    - bytes represent a group of elements within the range of 0 to 256 only\n",
    "    ex-> b = [12,23,234,42] b = bytes(b) // valid\n",
    "\n",
    "    b = [12,23,264,42] b = bytes(b) // Value error -> values of bytes must be i range(0,256)\n",
    "\n",
    "- immutablity\n",
    "        you can not change the content of bytes once defined i.e b[2] = 12 is not allowed\n",
    "        \n",
    "        \n",
    "#                                                 bytearray(Mutable)\n",
    "- bytearray represent a group of elements within the range of 0 to 256 only.\n",
    "\n",
    "        ex-> b = [12,23,234,42] b = bytearray(b) // valid\n",
    "\n",
    "        b = [12,23,264,42] b = bytearray(b) // Value error -> values of bytes must be i range(0,256)\n",
    "\n",
    "- **mutable** you can change the content of bytes once defined i.e b[2] = 12 is valid\n",
    "    \n",
    "    \n",
    "    Note -> bytes and bytearray are not generally used , but are beneficial while working with binary data like to store images ,videos etc.\n",
    "\n",
    "#                                     list(Vector in python) -> Mutable \n",
    "\n",
    "    - stores element in insertion order (Preserve order), growable or shrinkable , duplicates are allowed , heterogenous objects are allowed(can store int with strings,bool or any combination).\n",
    "\n",
    "    - use [] to define list\n",
    "\n",
    "    - indexing is allowed, slicing operator is allowed(beacuse of ordered sequence).\n",
    "\n",
    "    l = [10,20,30,'shaurya',True] \n",
    "    >>> type(l) \n",
    "    >>> <class 'list'>\n",
    "\n",
    "    - mutable nature(all are valid)\n",
    "    Valid:\n",
    "\n",
    "     l.append(45)\n",
    "     l.append('asds')\n",
    "     l.append(False)\n",
    "     l.remove(10)  #remove first appearence of 10 starting from start.\n",
    "     l[0]\n",
    "     l[:4]\n",
    "     l*2\n",
    "     l[1] = 'sha' \n",
    "\n",
    "#                                              tuple -> Immutable\n",
    "    - same as list but immutable\n",
    "    - use () to define tuple\n",
    "    - indexing is allowed, slicing operator is also valid (again u know why? right!).\n",
    "\n",
    "    t = (10,20,30,'shaurya',True) \n",
    "    >>> type(l) \n",
    "    >>> <class 'tuple'>\n",
    "\n",
    "    Valid:\n",
    "\n",
    "     t[0]\n",
    "     t[:4]\n",
    "     t*2\n",
    "\n",
    "    - Immutable nature\n",
    "    Not-Valid:\n",
    "\n",
    "     t.append(45) # AttributeError: 'tuple' object has no attribute 'append'\n",
    "     t.remove(45) # AttributeError: 'tuple' object has no attribute 'remove'\n",
    "     t[1] ='sha' #TypeError: 'tuple' object does not support item assignment\n",
    "     \n",
    "#### When to use Tuples\n",
    "\n",
    "You may be wondering, \"Why bother using tuples when they have fewer available methods?\" To be honest, tuples are not used as often as lists in programming, but are used when immutability is necessary. If in your program you are passing around an object and need to make sure it does not get changed, then a tuple becomes your solution. It provides a convenient source of data integrity.\n",
    "      \n",
    "#                                        range -> Immutable\n",
    "\n",
    "    - store continiuous values and can use indexing or slicing\n",
    "    - form 1: \n",
    "            r = range(end)\n",
    "         strores 0 to end-1 in r \n",
    "     ex : -\n",
    "```python\n",
    ">>> r = range(10)\n",
    "     >>> r\n",
    "     range(0, 10)\n",
    "     >>> print(r)\n",
    "     range(0, 10)\n",
    "```\n",
    "    - form 2:\n",
    "        range(start,end,step=1)\n",
    "            \n",
    "    - inValid : r[3] = 5\n",
    "\n",
    "#                               set -> Mutable but indexing is not allowed\n",
    "\n",
    "    - same as list(growable or shrinkable, heterogenious are allowed) . \n",
    "    - but does not maintain order and do not store sorted elements like c++ because internally there is no bst. \n",
    "    - but like in c++ ,set does not store duplicates.\n",
    "\n",
    "    - use {} to define set Note --> use s = set() to define empty set (not s ={} because this declares empty dictionary).\n",
    "\n",
    "    - indexing is not allowed, slicing operator is also not valid(beacuse it is not ordered sequence) .\n",
    "\n",
    "        s = {10,20,30,'shaurya',True} type(l) #<class 'set'>\n",
    "        s={} type(l) #<class 'dict'>\n",
    "\n",
    "    Valid:\n",
    "\n",
    "     s.add(45)\n",
    "     s.add('asds')\n",
    "     s.add(False)\n",
    "     s.remove(10)  #remove first appearence of 10 starting from start.\n",
    "   \n",
    "    Indexing is not allowed\n",
    "    -----------------\n",
    "    Not-Valid:\n",
    "        t[1] ='sha' #TypeError: 'tuple' object does not support item assignment\n",
    "        ss[0]\n",
    "        s[:4]\n",
    "        s*2\n",
    "\n",
    "#                        frozenset -> Immutable and indexing is not allowed\n",
    "    - same as set but immutable , no duplicates , no pre-determined order, growable, no indexing, no slicing, not sorted\n",
    "\n",
    "        s = {2,3,5,8} \n",
    "        s = frozenset(s) \n",
    "        s = frozenset({8, 2, 3, 5})\n",
    "        type(s) \n",
    "        <class 'frozenset'>\n",
    "\n",
    "#                                         dict -> dictionary(Mutable)\n",
    "\n",
    "    - key-value pairs \n",
    "        - roolno--> name rank -> university\n",
    "\n",
    "    - if(key is same of two pairs then second will replace first) => duplicate keys are not allowed.\n",
    "\n",
    "    - use {} like set to represent dict.\n",
    "\n",
    "    - d={100:'shaurya' , 200:'priyansh', 300:'Kajal'} \n",
    "        - d[100] = 'mukesh' #will replace 'shaurya' \n",
    "        - mukesh d[400] = 'mamta' # will insert (400 , mamta) as a pair ; like in c++ (remember!).\n",
    "\n",
    "    - empty dictionary is declared as d = {} d={} type(d) <class 'dict'>\n",
    "    \n",
    "#                                               Constants in Python \n",
    "\n",
    "    There is noway to represent constant in python ; it is the programmer responsibilty to take care of it. but use capslock while using constant so to maintain globality across globe.\n",
    "\n",
    "##  Escape Character\n",
    "\n",
    "    same as that in c++"
   ]
  },
  {
   "cell_type": "code",
   "execution_count": null,
   "metadata": {},
   "outputs": [],
   "source": []
  }
 ],
 "metadata": {
  "kernelspec": {
   "display_name": "Python 3",
   "language": "python",
   "name": "python3"
  },
  "language_info": {
   "codemirror_mode": {
    "name": "ipython",
    "version": 3
   },
   "file_extension": ".py",
   "mimetype": "text/x-python",
   "name": "python",
   "nbconvert_exporter": "python",
   "pygments_lexer": "ipython3",
   "version": "3.7.1"
  }
 },
 "nbformat": 4,
 "nbformat_minor": 2
}
